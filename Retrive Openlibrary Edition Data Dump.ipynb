{
 "cells": [
  {
   "cell_type": "code",
   "id": "initial_id",
   "metadata": {
    "collapsed": true
   },
   "source": [
    "import tqdm\n",
    "\n",
    "file_path = \"ol_dump_editions_2024-12-19.txt\"  # Update with actual file path\n",
    "\n",
    "# Estimate total rows for progress tracking\n",
    "print(\"Estimating total rows...\")\n",
    "with open(file_path, \"r\", encoding=\"utf-8\") as f:\n",
    "    total_rows = sum(1 for _ in f)\n",
    "\n",
    "print(f\"Total estimated rows: {total_rows:,}\")\n"
   ],
   "outputs": [],
   "execution_count": null
  },
  {
   "metadata": {
    "ExecuteTime": {
     "end_time": "2025-02-24T16:17:19.338476Z",
     "start_time": "2025-02-24T16:17:18.226547Z"
    }
   },
   "cell_type": "code",
   "source": [
    "import duckdb\n",
    "import json\n",
    "import pandas as pd\n",
    "\n",
    "# Path to your large Open Library dump file\n",
    "file_path = \"ol_dump_2025-01-08.txt\"  # Update with actual path\n",
    "# select rows with type /type/edition\n",
    "\n",
    "# Connect to DuckDB in memory\n",
    "conn = duckdb.connect()\n",
    "\n",
    "# Extract a 10-row sample\n",
    "sample_query = f\"\"\"\n",
    "SELECT * FROM read_csv_auto('{file_path}', delim='\\t', header=False, columns={{\n",
    "    'type': 'TEXT', 'book_id': 'TEXT', 'revision': 'INTEGER', 'timestamp': 'TEXT', 'json_data': 'TEXT'\n",
    "}})\n",
    "WHERE type = '/type/edition'\n",
    "LIMIT 10\n",
    "\"\"\"\n",
    "\n",
    "# Fetch the sample data\n",
    "sample_df = conn.execute(sample_query).fetchdf()\n"
   ],
   "id": "44c252a2af2e9599",
   "outputs": [],
   "execution_count": 28
  },
  {
   "metadata": {
    "ExecuteTime": {
     "end_time": "2025-02-24T16:17:20.716980Z",
     "start_time": "2025-02-24T16:17:20.674929Z"
    }
   },
   "cell_type": "code",
   "source": "sample_df",
   "id": "94212daad876fc57",
   "outputs": [
    {
     "data": {
      "text/plain": [
       "            type             book_id  revision                   timestamp  \\\n",
       "0  /type/edition  /books/OL10000299M         3  2011-04-27T14:29:38.147197   \n",
       "1  /type/edition  /books/OL10000402M         3  2011-04-27T11:28:52.494785   \n",
       "2  /type/edition  /books/OL10000661M         3  2011-04-25T22:07:29.549200   \n",
       "3  /type/edition  /books/OL10000852M         3  2011-04-27T04:54:31.855299   \n",
       "4  /type/edition  /books/OL10001003M         3  2011-06-08T04:28:03.025393   \n",
       "5  /type/edition  /books/OL10001092M         3  2011-04-28T09:07:33.035640   \n",
       "6  /type/edition  /books/OL10001125M         3  2011-04-26T15:08:38.906519   \n",
       "7  /type/edition  /books/OL10001268M         3  2011-04-26T18:02:19.907101   \n",
       "8  /type/edition  /books/OL10001455M         3  2022-07-17T23:09:07.154959   \n",
       "9  /type/edition  /books/OL10001465M         3  2022-07-17T22:01:18.764450   \n",
       "\n",
       "                                           json_data  \n",
       "0  {\"publishers\": [\"Stationery Office Books\"], \"p...  \n",
       "1  {\"publishers\": [\"Stationery Office Books\"], \"p...  \n",
       "2  {\"publishers\": [\"Stationery Office Books\"], \"p...  \n",
       "3  {\"publishers\": [\"Stationery Office Books\"], \"p...  \n",
       "4  {\"publishers\": [\"Stationery Office Books\"], \"p...  \n",
       "5  {\"publishers\": [\"Stationery Office Books\"], \"p...  \n",
       "6  {\"publishers\": [\"Stationery Office Books\"], \"p...  \n",
       "7  {\"publishers\": [\"Stationery Office Books\"], \"p...  \n",
       "8  {\"publishers\": [\"Stationery Office\"], \"languag...  \n",
       "9  {\"publishers\": [\"Stationery Office\"], \"languag...  "
      ],
      "text/html": [
       "<div>\n",
       "<style scoped>\n",
       "    .dataframe tbody tr th:only-of-type {\n",
       "        vertical-align: middle;\n",
       "    }\n",
       "\n",
       "    .dataframe tbody tr th {\n",
       "        vertical-align: top;\n",
       "    }\n",
       "\n",
       "    .dataframe thead th {\n",
       "        text-align: right;\n",
       "    }\n",
       "</style>\n",
       "<table border=\"1\" class=\"dataframe\">\n",
       "  <thead>\n",
       "    <tr style=\"text-align: right;\">\n",
       "      <th></th>\n",
       "      <th>type</th>\n",
       "      <th>book_id</th>\n",
       "      <th>revision</th>\n",
       "      <th>timestamp</th>\n",
       "      <th>json_data</th>\n",
       "    </tr>\n",
       "  </thead>\n",
       "  <tbody>\n",
       "    <tr>\n",
       "      <th>0</th>\n",
       "      <td>/type/edition</td>\n",
       "      <td>/books/OL10000299M</td>\n",
       "      <td>3</td>\n",
       "      <td>2011-04-27T14:29:38.147197</td>\n",
       "      <td>{\"publishers\": [\"Stationery Office Books\"], \"p...</td>\n",
       "    </tr>\n",
       "    <tr>\n",
       "      <th>1</th>\n",
       "      <td>/type/edition</td>\n",
       "      <td>/books/OL10000402M</td>\n",
       "      <td>3</td>\n",
       "      <td>2011-04-27T11:28:52.494785</td>\n",
       "      <td>{\"publishers\": [\"Stationery Office Books\"], \"p...</td>\n",
       "    </tr>\n",
       "    <tr>\n",
       "      <th>2</th>\n",
       "      <td>/type/edition</td>\n",
       "      <td>/books/OL10000661M</td>\n",
       "      <td>3</td>\n",
       "      <td>2011-04-25T22:07:29.549200</td>\n",
       "      <td>{\"publishers\": [\"Stationery Office Books\"], \"p...</td>\n",
       "    </tr>\n",
       "    <tr>\n",
       "      <th>3</th>\n",
       "      <td>/type/edition</td>\n",
       "      <td>/books/OL10000852M</td>\n",
       "      <td>3</td>\n",
       "      <td>2011-04-27T04:54:31.855299</td>\n",
       "      <td>{\"publishers\": [\"Stationery Office Books\"], \"p...</td>\n",
       "    </tr>\n",
       "    <tr>\n",
       "      <th>4</th>\n",
       "      <td>/type/edition</td>\n",
       "      <td>/books/OL10001003M</td>\n",
       "      <td>3</td>\n",
       "      <td>2011-06-08T04:28:03.025393</td>\n",
       "      <td>{\"publishers\": [\"Stationery Office Books\"], \"p...</td>\n",
       "    </tr>\n",
       "    <tr>\n",
       "      <th>5</th>\n",
       "      <td>/type/edition</td>\n",
       "      <td>/books/OL10001092M</td>\n",
       "      <td>3</td>\n",
       "      <td>2011-04-28T09:07:33.035640</td>\n",
       "      <td>{\"publishers\": [\"Stationery Office Books\"], \"p...</td>\n",
       "    </tr>\n",
       "    <tr>\n",
       "      <th>6</th>\n",
       "      <td>/type/edition</td>\n",
       "      <td>/books/OL10001125M</td>\n",
       "      <td>3</td>\n",
       "      <td>2011-04-26T15:08:38.906519</td>\n",
       "      <td>{\"publishers\": [\"Stationery Office Books\"], \"p...</td>\n",
       "    </tr>\n",
       "    <tr>\n",
       "      <th>7</th>\n",
       "      <td>/type/edition</td>\n",
       "      <td>/books/OL10001268M</td>\n",
       "      <td>3</td>\n",
       "      <td>2011-04-26T18:02:19.907101</td>\n",
       "      <td>{\"publishers\": [\"Stationery Office Books\"], \"p...</td>\n",
       "    </tr>\n",
       "    <tr>\n",
       "      <th>8</th>\n",
       "      <td>/type/edition</td>\n",
       "      <td>/books/OL10001455M</td>\n",
       "      <td>3</td>\n",
       "      <td>2022-07-17T23:09:07.154959</td>\n",
       "      <td>{\"publishers\": [\"Stationery Office\"], \"languag...</td>\n",
       "    </tr>\n",
       "    <tr>\n",
       "      <th>9</th>\n",
       "      <td>/type/edition</td>\n",
       "      <td>/books/OL10001465M</td>\n",
       "      <td>3</td>\n",
       "      <td>2022-07-17T22:01:18.764450</td>\n",
       "      <td>{\"publishers\": [\"Stationery Office\"], \"languag...</td>\n",
       "    </tr>\n",
       "  </tbody>\n",
       "</table>\n",
       "</div>"
      ]
     },
     "execution_count": 29,
     "metadata": {},
     "output_type": "execute_result"
    }
   ],
   "execution_count": 29
  },
  {
   "metadata": {},
   "cell_type": "code",
   "source": [
    "sample_df[\"json_data\"] = sample_df[\"json_data\"].apply(lambda x: json.loads(x) if isinstance(x, str) else {})\n",
    "\n",
    "# Normalize the JSON into a structured format\n",
    "normalized_df = pd.json_normalize(sample_df[\"json_data\"])\n",
    "\n",
    "# Merge the normalized JSON with the original DataFrame (excluding raw JSON column)\n",
    "final_df = pd.concat([sample_df.drop(columns=[\"json_data\"]), normalized_df], axis=1)\n",
    "\n",
    "# Display the structured DataFrame\n",
    "final_df"
   ],
   "id": "eba3c8703e8c5efe",
   "outputs": [],
   "execution_count": null
  },
  {
   "metadata": {
    "ExecuteTime": {
     "end_time": "2025-02-24T13:38:20.314228Z",
     "start_time": "2025-02-24T13:38:18.969289Z"
    }
   },
   "cell_type": "code",
   "source": [
    "import duckdb\n",
    "import json\n",
    "import pandas as pd\n",
    "from tqdm import tqdm\n",
    "import os"
   ],
   "id": "4c11e5969836a552",
   "outputs": [],
   "execution_count": 1
  },
  {
   "metadata": {
    "ExecuteTime": {
     "end_time": "2025-02-24T16:20:46.247695Z",
     "start_time": "2025-02-24T16:20:46.208551Z"
    }
   },
   "cell_type": "code",
   "source": [
    "import duckdb\n",
    "import pandas as pd\n",
    "from tqdm import tqdm\n",
    "\n",
    "file_path = \"ol_dump_2025-01-08.txt\"  # Update with actual path\n",
    "output_file = \"processed_open_library_data_dump.csv\"\n",
    "\n",
    "conn = duckdb.connect()\n",
    "\n",
    "chunk_size = 100000\n",
    "processed_rows = 0\n",
    "first_write = True\n"
   ],
   "id": "cee2977cf282d134",
   "outputs": [],
   "execution_count": 30
  },
  {
   "metadata": {
    "ExecuteTime": {
     "end_time": "2025-02-24T13:50:57.707599Z",
     "start_time": "2025-02-24T13:49:27.847580Z"
    }
   },
   "cell_type": "code",
   "source": [
    "print(\"Estimating total rows...\")\n",
    "try:\n",
    "    with open(file_path, \"r\", encoding=\"utf-8\") as f:\n",
    "        total_rows = sum(1 for _ in f)\n",
    "    print(f\"Total estimated rows: {total_rows:,}\")"
   ],
   "id": "7af266127ae1ab27",
   "outputs": [
    {
     "name": "stdout",
     "output_type": "stream",
     "text": [
      "Estimating total rows...\n",
      "Total estimated rows: 53,073,982\n"
     ]
    }
   ],
   "execution_count": 10
  },
  {
   "metadata": {
    "ExecuteTime": {
     "end_time": "2025-02-25T12:58:05.842332Z",
     "start_time": "2025-02-24T17:23:49.817319Z"
    }
   },
   "cell_type": "code",
   "source": [
    "import time  # Import the time module for sleep functionality\n",
    "\n",
    "processed_rows = 0\n",
    "sleep_time = 1  # Set the sleep time in seconds (adjust as needed)\n",
    "\n",
    "while True:\n",
    "    query = f\"\"\"\n",
    "    SELECT\n",
    "        book_id, revision, timestamp, json_data\n",
    "    FROM read_csv_auto('{file_path}',\n",
    "        delim='\\t',\n",
    "        header=False,\n",
    "        max_line_size=10000000,  -- Increase the limit to just above the largest line size\n",
    "        columns={{\n",
    "            'type': 'TEXT',\n",
    "            'book_id': 'TEXT',\n",
    "            'revision': 'BIGINT',  -- Use BIGINT to match sniffed type\n",
    "            'timestamp': 'TIMESTAMP',  -- Use TIMESTAMP to match sniffed type\n",
    "            'json_data': 'TEXT'\n",
    "        }}\n",
    "    )\n",
    "    WHERE type = '/type/edition'\n",
    "    LIMIT {chunk_size} OFFSET {processed_rows}\n",
    "    \"\"\"\n",
    "\n",
    "    try:\n",
    "        chunk_df = conn.execute(query).fetchdf()\n",
    "    except duckdb.BinderException as e:\n",
    "        print(f\"Query execution failed: {e}\")\n",
    "        break\n",
    "\n",
    "    if chunk_df.empty:\n",
    "        break\n",
    "\n",
    "    if first_write:\n",
    "        chunk_df.to_csv(output_file, index=False, mode=\"w\")  # Write with headers\n",
    "        first_write = False\n",
    "    else:\n",
    "        chunk_df.to_csv(output_file, index=False, mode=\"a\", header=False)  # Append without headers\n",
    "\n",
    "    rows_processed = len(chunk_df)\n",
    "    del chunk_df\n",
    "\n",
    "    processed_rows += rows_processed\n",
    "\n",
    "    print(f\"Processed {processed_rows} rows\", end=\"\\r\")  # 'end=\"\\r\"' ensures it overwrites the previous line\n",
    "\n",
    "    time.sleep(sleep_time)\n",
    "\n",
    "print(f\"Processing complete! Data saved to: {output_file}\")"
   ],
   "id": "bab859f1c075bf08",
   "outputs": [
    {
     "name": "stdout",
     "output_type": "stream",
     "text": [
      "Processed 400000 rows\r"
     ]
    },
    {
     "data": {
      "text/plain": [
       "FloatProgress(value=0.0, layout=Layout(width='auto'), style=ProgressStyle(bar_color='black'))"
      ],
      "application/vnd.jupyter.widget-view+json": {
       "version_major": 2,
       "version_minor": 0,
       "model_id": "00ea053f53154db0896137fb28caf183"
      }
     },
     "metadata": {},
     "output_type": "display_data"
    },
    {
     "name": "stdout",
     "output_type": "stream",
     "text": [
      "Processed 500000 rows\r"
     ]
    },
    {
     "data": {
      "text/plain": [
       "FloatProgress(value=0.0, layout=Layout(width='auto'), style=ProgressStyle(bar_color='black'))"
      ],
      "application/vnd.jupyter.widget-view+json": {
       "version_major": 2,
       "version_minor": 0,
       "model_id": "da9da416d8c043c4853071e9ba4f0c1a"
      }
     },
     "metadata": {},
     "output_type": "display_data"
    },
    {
     "name": "stdout",
     "output_type": "stream",
     "text": [
      "Processed 600000 rows\r"
     ]
    },
    {
     "data": {
      "text/plain": [
       "FloatProgress(value=0.0, layout=Layout(width='auto'), style=ProgressStyle(bar_color='black'))"
      ],
      "application/vnd.jupyter.widget-view+json": {
       "version_major": 2,
       "version_minor": 0,
       "model_id": "b99954563c4542d78ec53547a9006688"
      }
     },
     "metadata": {},
     "output_type": "display_data"
    },
    {
     "name": "stdout",
     "output_type": "stream",
     "text": [
      "Processed 700000 rows\r"
     ]
    },
    {
     "data": {
      "text/plain": [
       "FloatProgress(value=0.0, layout=Layout(width='auto'), style=ProgressStyle(bar_color='black'))"
      ],
      "application/vnd.jupyter.widget-view+json": {
       "version_major": 2,
       "version_minor": 0,
       "model_id": "61917aaa2a984ff39fc86ba5b27efad5"
      }
     },
     "metadata": {},
     "output_type": "display_data"
    },
    {
     "name": "stdout",
     "output_type": "stream",
     "text": [
      "Processed 800000 rows\r"
     ]
    },
    {
     "data": {
      "text/plain": [
       "FloatProgress(value=0.0, layout=Layout(width='auto'), style=ProgressStyle(bar_color='black'))"
      ],
      "application/vnd.jupyter.widget-view+json": {
       "version_major": 2,
       "version_minor": 0,
       "model_id": "468aade82c094c50b1db9dbb2b90926c"
      }
     },
     "metadata": {},
     "output_type": "display_data"
    },
    {
     "name": "stdout",
     "output_type": "stream",
     "text": [
      "Processed 900000 rows\r"
     ]
    },
    {
     "data": {
      "text/plain": [
       "FloatProgress(value=0.0, layout=Layout(width='auto'), style=ProgressStyle(bar_color='black'))"
      ],
      "application/vnd.jupyter.widget-view+json": {
       "version_major": 2,
       "version_minor": 0,
       "model_id": "435ecf7ebb524fdb9e999ffb15960947"
      }
     },
     "metadata": {},
     "output_type": "display_data"
    },
    {
     "name": "stdout",
     "output_type": "stream",
     "text": [
      "Processed 1000000 rows\r"
     ]
    },
    {
     "data": {
      "text/plain": [
       "FloatProgress(value=0.0, layout=Layout(width='auto'), style=ProgressStyle(bar_color='black'))"
      ],
      "application/vnd.jupyter.widget-view+json": {
       "version_major": 2,
       "version_minor": 0,
       "model_id": "eeb73d2acdfd430d85af3e274f4e9312"
      }
     },
     "metadata": {},
     "output_type": "display_data"
    },
    {
     "name": "stdout",
     "output_type": "stream",
     "text": [
      "Processed 1100000 rows\r"
     ]
    },
    {
     "data": {
      "text/plain": [
       "FloatProgress(value=0.0, layout=Layout(width='auto'), style=ProgressStyle(bar_color='black'))"
      ],
      "application/vnd.jupyter.widget-view+json": {
       "version_major": 2,
       "version_minor": 0,
       "model_id": "de8e3631c76f48d59eb1a68db3e12061"
      }
     },
     "metadata": {},
     "output_type": "display_data"
    },
    {
     "name": "stdout",
     "output_type": "stream",
     "text": [
      "Processed 1200000 rows\r"
     ]
    },
    {
     "data": {
      "text/plain": [
       "FloatProgress(value=0.0, layout=Layout(width='auto'), style=ProgressStyle(bar_color='black'))"
      ],
      "application/vnd.jupyter.widget-view+json": {
       "version_major": 2,
       "version_minor": 0,
       "model_id": "2bec76e61c2b4731aa0641b9bb356b99"
      }
     },
     "metadata": {},
     "output_type": "display_data"
    },
    {
     "name": "stdout",
     "output_type": "stream",
     "text": [
      "Processed 1300000 rows\r"
     ]
    },
    {
     "data": {
      "text/plain": [
       "FloatProgress(value=0.0, layout=Layout(width='auto'), style=ProgressStyle(bar_color='black'))"
      ],
      "application/vnd.jupyter.widget-view+json": {
       "version_major": 2,
       "version_minor": 0,
       "model_id": "7bea2045c9cc4a73926b9a20f6956463"
      }
     },
     "metadata": {},
     "output_type": "display_data"
    },
    {
     "name": "stdout",
     "output_type": "stream",
     "text": [
      "Processed 1400000 rows\r"
     ]
    },
    {
     "data": {
      "text/plain": [
       "FloatProgress(value=0.0, layout=Layout(width='auto'), style=ProgressStyle(bar_color='black'))"
      ],
      "application/vnd.jupyter.widget-view+json": {
       "version_major": 2,
       "version_minor": 0,
       "model_id": "85f914e71f5d4aacabd6f26fc7130f7a"
      }
     },
     "metadata": {},
     "output_type": "display_data"
    },
    {
     "name": "stdout",
     "output_type": "stream",
     "text": [
      "Processed 1500000 rows\r"
     ]
    },
    {
     "data": {
      "text/plain": [
       "FloatProgress(value=0.0, layout=Layout(width='auto'), style=ProgressStyle(bar_color='black'))"
      ],
      "application/vnd.jupyter.widget-view+json": {
       "version_major": 2,
       "version_minor": 0,
       "model_id": "d5643d06fb1b49449b4921ac1686661f"
      }
     },
     "metadata": {},
     "output_type": "display_data"
    },
    {
     "name": "stdout",
     "output_type": "stream",
     "text": [
      "Processed 1600000 rows\r"
     ]
    },
    {
     "data": {
      "text/plain": [
       "FloatProgress(value=0.0, layout=Layout(width='auto'), style=ProgressStyle(bar_color='black'))"
      ],
      "application/vnd.jupyter.widget-view+json": {
       "version_major": 2,
       "version_minor": 0,
       "model_id": "43b71db8151b4b3a8811869ab2159350"
      }
     },
     "metadata": {},
     "output_type": "display_data"
    },
    {
     "name": "stdout",
     "output_type": "stream",
     "text": [
      "Processed 1700000 rows\r"
     ]
    },
    {
     "data": {
      "text/plain": [
       "FloatProgress(value=0.0, layout=Layout(width='auto'), style=ProgressStyle(bar_color='black'))"
      ],
      "application/vnd.jupyter.widget-view+json": {
       "version_major": 2,
       "version_minor": 0,
       "model_id": "7f5e67686fe24e43a8f09fd9eddf5302"
      }
     },
     "metadata": {},
     "output_type": "display_data"
    },
    {
     "name": "stdout",
     "output_type": "stream",
     "text": [
      "Processed 1800000 rows\r"
     ]
    },
    {
     "data": {
      "text/plain": [
       "FloatProgress(value=0.0, layout=Layout(width='auto'), style=ProgressStyle(bar_color='black'))"
      ],
      "application/vnd.jupyter.widget-view+json": {
       "version_major": 2,
       "version_minor": 0,
       "model_id": "b1ecd45bf61c42bf977d87cb5d0f90ce"
      }
     },
     "metadata": {},
     "output_type": "display_data"
    },
    {
     "name": "stdout",
     "output_type": "stream",
     "text": [
      "Processed 1900000 rows\r"
     ]
    },
    {
     "data": {
      "text/plain": [
       "FloatProgress(value=0.0, layout=Layout(width='auto'), style=ProgressStyle(bar_color='black'))"
      ],
      "application/vnd.jupyter.widget-view+json": {
       "version_major": 2,
       "version_minor": 0,
       "model_id": "1a04d0c49ab244e7a4d50c4a097ae097"
      }
     },
     "metadata": {},
     "output_type": "display_data"
    },
    {
     "name": "stdout",
     "output_type": "stream",
     "text": [
      "Processed 2000000 rows\r"
     ]
    },
    {
     "data": {
      "text/plain": [
       "FloatProgress(value=0.0, layout=Layout(width='auto'), style=ProgressStyle(bar_color='black'))"
      ],
      "application/vnd.jupyter.widget-view+json": {
       "version_major": 2,
       "version_minor": 0,
       "model_id": "9dd020052b5e45589ceffbdc79adfedc"
      }
     },
     "metadata": {},
     "output_type": "display_data"
    },
    {
     "name": "stdout",
     "output_type": "stream",
     "text": [
      "Processed 2100000 rows\r"
     ]
    },
    {
     "data": {
      "text/plain": [
       "FloatProgress(value=0.0, layout=Layout(width='auto'), style=ProgressStyle(bar_color='black'))"
      ],
      "application/vnd.jupyter.widget-view+json": {
       "version_major": 2,
       "version_minor": 0,
       "model_id": "e054f75f451d40c8bc52ae4a5fef44b4"
      }
     },
     "metadata": {},
     "output_type": "display_data"
    },
    {
     "name": "stdout",
     "output_type": "stream",
     "text": [
      "Processed 2200000 rows\r"
     ]
    },
    {
     "data": {
      "text/plain": [
       "FloatProgress(value=0.0, layout=Layout(width='auto'), style=ProgressStyle(bar_color='black'))"
      ],
      "application/vnd.jupyter.widget-view+json": {
       "version_major": 2,
       "version_minor": 0,
       "model_id": "2031a49196994ed7a3bc9c5d9baa35ce"
      }
     },
     "metadata": {},
     "output_type": "display_data"
    },
    {
     "name": "stdout",
     "output_type": "stream",
     "text": [
      "Processed 2300000 rows\r"
     ]
    },
    {
     "data": {
      "text/plain": [
       "FloatProgress(value=0.0, layout=Layout(width='auto'), style=ProgressStyle(bar_color='black'))"
      ],
      "application/vnd.jupyter.widget-view+json": {
       "version_major": 2,
       "version_minor": 0,
       "model_id": "be81d682abb84d1fbde3ac5d6ffcdd11"
      }
     },
     "metadata": {},
     "output_type": "display_data"
    },
    {
     "name": "stdout",
     "output_type": "stream",
     "text": [
      "Processed 2400000 rows\r"
     ]
    },
    {
     "data": {
      "text/plain": [
       "FloatProgress(value=0.0, layout=Layout(width='auto'), style=ProgressStyle(bar_color='black'))"
      ],
      "application/vnd.jupyter.widget-view+json": {
       "version_major": 2,
       "version_minor": 0,
       "model_id": "2abfeb4f026a4bab92a962261e8fcc2a"
      }
     },
     "metadata": {},
     "output_type": "display_data"
    },
    {
     "name": "stdout",
     "output_type": "stream",
     "text": [
      "Processed 2500000 rows\r"
     ]
    },
    {
     "data": {
      "text/plain": [
       "FloatProgress(value=0.0, layout=Layout(width='auto'), style=ProgressStyle(bar_color='black'))"
      ],
      "application/vnd.jupyter.widget-view+json": {
       "version_major": 2,
       "version_minor": 0,
       "model_id": "19636bf23f0f4cf9b917a344ff2a51ec"
      }
     },
     "metadata": {},
     "output_type": "display_data"
    },
    {
     "name": "stdout",
     "output_type": "stream",
     "text": [
      "Processed 2600000 rows\r"
     ]
    },
    {
     "data": {
      "text/plain": [
       "FloatProgress(value=0.0, layout=Layout(width='auto'), style=ProgressStyle(bar_color='black'))"
      ],
      "application/vnd.jupyter.widget-view+json": {
       "version_major": 2,
       "version_minor": 0,
       "model_id": "a3377c6c96d84bf9a5ee78bfc9c6e0b4"
      }
     },
     "metadata": {},
     "output_type": "display_data"
    },
    {
     "name": "stdout",
     "output_type": "stream",
     "text": [
      "Processed 2700000 rows\r"
     ]
    },
    {
     "data": {
      "text/plain": [
       "FloatProgress(value=0.0, layout=Layout(width='auto'), style=ProgressStyle(bar_color='black'))"
      ],
      "application/vnd.jupyter.widget-view+json": {
       "version_major": 2,
       "version_minor": 0,
       "model_id": "9dca80e8aeb04bf3808e131b879e934c"
      }
     },
     "metadata": {},
     "output_type": "display_data"
    },
    {
     "name": "stdout",
     "output_type": "stream",
     "text": [
      "Processed 2800000 rows\r"
     ]
    },
    {
     "data": {
      "text/plain": [
       "FloatProgress(value=0.0, layout=Layout(width='auto'), style=ProgressStyle(bar_color='black'))"
      ],
      "application/vnd.jupyter.widget-view+json": {
       "version_major": 2,
       "version_minor": 0,
       "model_id": "2346760a00844c95a4c112fdc2edcf4b"
      }
     },
     "metadata": {},
     "output_type": "display_data"
    },
    {
     "name": "stdout",
     "output_type": "stream",
     "text": [
      "Processed 2900000 rows\r"
     ]
    },
    {
     "data": {
      "text/plain": [
       "FloatProgress(value=0.0, layout=Layout(width='auto'), style=ProgressStyle(bar_color='black'))"
      ],
      "application/vnd.jupyter.widget-view+json": {
       "version_major": 2,
       "version_minor": 0,
       "model_id": "a13397928dd5414a99047449f8c1fabb"
      }
     },
     "metadata": {},
     "output_type": "display_data"
    },
    {
     "name": "stdout",
     "output_type": "stream",
     "text": [
      "Processed 3000000 rows\r"
     ]
    },
    {
     "data": {
      "text/plain": [
       "FloatProgress(value=0.0, layout=Layout(width='auto'), style=ProgressStyle(bar_color='black'))"
      ],
      "application/vnd.jupyter.widget-view+json": {
       "version_major": 2,
       "version_minor": 0,
       "model_id": "5659298eb03c414799ac0b70ab068467"
      }
     },
     "metadata": {},
     "output_type": "display_data"
    },
    {
     "name": "stdout",
     "output_type": "stream",
     "text": [
      "Processed 3100000 rows\r"
     ]
    },
    {
     "data": {
      "text/plain": [
       "FloatProgress(value=0.0, layout=Layout(width='auto'), style=ProgressStyle(bar_color='black'))"
      ],
      "application/vnd.jupyter.widget-view+json": {
       "version_major": 2,
       "version_minor": 0,
       "model_id": "5ba69782ff554bd1ba0906371b0b3389"
      }
     },
     "metadata": {},
     "output_type": "display_data"
    },
    {
     "name": "stdout",
     "output_type": "stream",
     "text": [
      "Processed 3200000 rows\r"
     ]
    },
    {
     "data": {
      "text/plain": [
       "FloatProgress(value=0.0, layout=Layout(width='auto'), style=ProgressStyle(bar_color='black'))"
      ],
      "application/vnd.jupyter.widget-view+json": {
       "version_major": 2,
       "version_minor": 0,
       "model_id": "66b0dc7cd814484e9d4471dfb27a3136"
      }
     },
     "metadata": {},
     "output_type": "display_data"
    },
    {
     "name": "stdout",
     "output_type": "stream",
     "text": [
      "Processed 3300000 rows\r"
     ]
    },
    {
     "data": {
      "text/plain": [
       "FloatProgress(value=0.0, layout=Layout(width='auto'), style=ProgressStyle(bar_color='black'))"
      ],
      "application/vnd.jupyter.widget-view+json": {
       "version_major": 2,
       "version_minor": 0,
       "model_id": "16214fceffc04ade89d1d15d38c522f4"
      }
     },
     "metadata": {},
     "output_type": "display_data"
    },
    {
     "name": "stdout",
     "output_type": "stream",
     "text": [
      "Processed 3400000 rows\r"
     ]
    },
    {
     "data": {
      "text/plain": [
       "FloatProgress(value=0.0, layout=Layout(width='auto'), style=ProgressStyle(bar_color='black'))"
      ],
      "application/vnd.jupyter.widget-view+json": {
       "version_major": 2,
       "version_minor": 0,
       "model_id": "8ff941a6d5cf4a6aa48c7d03ba707bb6"
      }
     },
     "metadata": {},
     "output_type": "display_data"
    },
    {
     "name": "stdout",
     "output_type": "stream",
     "text": [
      "Processed 3500000 rows\r"
     ]
    },
    {
     "data": {
      "text/plain": [
       "FloatProgress(value=0.0, layout=Layout(width='auto'), style=ProgressStyle(bar_color='black'))"
      ],
      "application/vnd.jupyter.widget-view+json": {
       "version_major": 2,
       "version_minor": 0,
       "model_id": "3d04c3ef2f074ad79d288fc5c390aab8"
      }
     },
     "metadata": {},
     "output_type": "display_data"
    },
    {
     "name": "stdout",
     "output_type": "stream",
     "text": [
      "Processed 3600000 rows\r"
     ]
    },
    {
     "data": {
      "text/plain": [
       "FloatProgress(value=0.0, layout=Layout(width='auto'), style=ProgressStyle(bar_color='black'))"
      ],
      "application/vnd.jupyter.widget-view+json": {
       "version_major": 2,
       "version_minor": 0,
       "model_id": "ff3b8f98251440fc989efc615c33fa5a"
      }
     },
     "metadata": {},
     "output_type": "display_data"
    },
    {
     "name": "stdout",
     "output_type": "stream",
     "text": [
      "Processed 3700000 rows\r"
     ]
    },
    {
     "data": {
      "text/plain": [
       "FloatProgress(value=0.0, layout=Layout(width='auto'), style=ProgressStyle(bar_color='black'))"
      ],
      "application/vnd.jupyter.widget-view+json": {
       "version_major": 2,
       "version_minor": 0,
       "model_id": "8c89d3aea33345ecb076c03957e5deef"
      }
     },
     "metadata": {},
     "output_type": "display_data"
    },
    {
     "name": "stdout",
     "output_type": "stream",
     "text": [
      "Processed 3800000 rows\r"
     ]
    },
    {
     "data": {
      "text/plain": [
       "FloatProgress(value=0.0, layout=Layout(width='auto'), style=ProgressStyle(bar_color='black'))"
      ],
      "application/vnd.jupyter.widget-view+json": {
       "version_major": 2,
       "version_minor": 0,
       "model_id": "a598df1613724a07af6165e2c86e6a21"
      }
     },
     "metadata": {},
     "output_type": "display_data"
    },
    {
     "name": "stdout",
     "output_type": "stream",
     "text": [
      "Processed 3900000 rows\r"
     ]
    },
    {
     "data": {
      "text/plain": [
       "FloatProgress(value=0.0, layout=Layout(width='auto'), style=ProgressStyle(bar_color='black'))"
      ],
      "application/vnd.jupyter.widget-view+json": {
       "version_major": 2,
       "version_minor": 0,
       "model_id": "65a83dc1cdb1409e8c9a02a3cb0c1e0d"
      }
     },
     "metadata": {},
     "output_type": "display_data"
    },
    {
     "name": "stdout",
     "output_type": "stream",
     "text": [
      "Processed 4000000 rows\r"
     ]
    },
    {
     "data": {
      "text/plain": [
       "FloatProgress(value=0.0, layout=Layout(width='auto'), style=ProgressStyle(bar_color='black'))"
      ],
      "application/vnd.jupyter.widget-view+json": {
       "version_major": 2,
       "version_minor": 0,
       "model_id": "e21bff28ebca42e9ace19aa6346bdae4"
      }
     },
     "metadata": {},
     "output_type": "display_data"
    },
    {
     "name": "stdout",
     "output_type": "stream",
     "text": [
      "Processed 4100000 rows\r"
     ]
    },
    {
     "data": {
      "text/plain": [
       "FloatProgress(value=0.0, layout=Layout(width='auto'), style=ProgressStyle(bar_color='black'))"
      ],
      "application/vnd.jupyter.widget-view+json": {
       "version_major": 2,
       "version_minor": 0,
       "model_id": "5c03cd6476404296a123dbb96071f458"
      }
     },
     "metadata": {},
     "output_type": "display_data"
    },
    {
     "name": "stdout",
     "output_type": "stream",
     "text": [
      "Processed 4200000 rows\r"
     ]
    },
    {
     "data": {
      "text/plain": [
       "FloatProgress(value=0.0, layout=Layout(width='auto'), style=ProgressStyle(bar_color='black'))"
      ],
      "application/vnd.jupyter.widget-view+json": {
       "version_major": 2,
       "version_minor": 0,
       "model_id": "68687d8319a24c33b9f7766860b8230c"
      }
     },
     "metadata": {},
     "output_type": "display_data"
    },
    {
     "name": "stdout",
     "output_type": "stream",
     "text": [
      "Processed 4300000 rows\r"
     ]
    },
    {
     "data": {
      "text/plain": [
       "FloatProgress(value=0.0, layout=Layout(width='auto'), style=ProgressStyle(bar_color='black'))"
      ],
      "application/vnd.jupyter.widget-view+json": {
       "version_major": 2,
       "version_minor": 0,
       "model_id": "791d84292ec7428c953fdf56640edb5f"
      }
     },
     "metadata": {},
     "output_type": "display_data"
    },
    {
     "name": "stdout",
     "output_type": "stream",
     "text": [
      "Processed 4400000 rows\r"
     ]
    },
    {
     "data": {
      "text/plain": [
       "FloatProgress(value=0.0, layout=Layout(width='auto'), style=ProgressStyle(bar_color='black'))"
      ],
      "application/vnd.jupyter.widget-view+json": {
       "version_major": 2,
       "version_minor": 0,
       "model_id": "55ee0c96067d4c78ae6f8bb6991096db"
      }
     },
     "metadata": {},
     "output_type": "display_data"
    },
    {
     "name": "stdout",
     "output_type": "stream",
     "text": [
      "Processed 4500000 rows\r"
     ]
    },
    {
     "data": {
      "text/plain": [
       "FloatProgress(value=0.0, layout=Layout(width='auto'), style=ProgressStyle(bar_color='black'))"
      ],
      "application/vnd.jupyter.widget-view+json": {
       "version_major": 2,
       "version_minor": 0,
       "model_id": "ed16083fb1194b36a987a99c2b6b88d3"
      }
     },
     "metadata": {},
     "output_type": "display_data"
    },
    {
     "name": "stdout",
     "output_type": "stream",
     "text": [
      "Processed 4600000 rows\r"
     ]
    },
    {
     "data": {
      "text/plain": [
       "FloatProgress(value=0.0, layout=Layout(width='auto'), style=ProgressStyle(bar_color='black'))"
      ],
      "application/vnd.jupyter.widget-view+json": {
       "version_major": 2,
       "version_minor": 0,
       "model_id": "d0c3cc2e53084c6d9a82cdf45fbcb1d6"
      }
     },
     "metadata": {},
     "output_type": "display_data"
    },
    {
     "name": "stdout",
     "output_type": "stream",
     "text": [
      "Processed 4700000 rows\r"
     ]
    },
    {
     "data": {
      "text/plain": [
       "FloatProgress(value=0.0, layout=Layout(width='auto'), style=ProgressStyle(bar_color='black'))"
      ],
      "application/vnd.jupyter.widget-view+json": {
       "version_major": 2,
       "version_minor": 0,
       "model_id": "67ef123a3dd4422db3d94c5283f7c7c5"
      }
     },
     "metadata": {},
     "output_type": "display_data"
    },
    {
     "name": "stdout",
     "output_type": "stream",
     "text": [
      "Processed 4800000 rows\r"
     ]
    },
    {
     "data": {
      "text/plain": [
       "FloatProgress(value=0.0, layout=Layout(width='auto'), style=ProgressStyle(bar_color='black'))"
      ],
      "application/vnd.jupyter.widget-view+json": {
       "version_major": 2,
       "version_minor": 0,
       "model_id": "7141713f054b46ca956cc71ddffc2352"
      }
     },
     "metadata": {},
     "output_type": "display_data"
    },
    {
     "name": "stdout",
     "output_type": "stream",
     "text": [
      "Processed 4900000 rows\r"
     ]
    },
    {
     "data": {
      "text/plain": [
       "FloatProgress(value=0.0, layout=Layout(width='auto'), style=ProgressStyle(bar_color='black'))"
      ],
      "application/vnd.jupyter.widget-view+json": {
       "version_major": 2,
       "version_minor": 0,
       "model_id": "e33f0462900546d28b5d5992331ef58e"
      }
     },
     "metadata": {},
     "output_type": "display_data"
    },
    {
     "name": "stdout",
     "output_type": "stream",
     "text": [
      "Processed 5000000 rows\r"
     ]
    },
    {
     "data": {
      "text/plain": [
       "FloatProgress(value=0.0, layout=Layout(width='auto'), style=ProgressStyle(bar_color='black'))"
      ],
      "application/vnd.jupyter.widget-view+json": {
       "version_major": 2,
       "version_minor": 0,
       "model_id": "408eef51d68847c1985dcedd3d2f6f18"
      }
     },
     "metadata": {},
     "output_type": "display_data"
    },
    {
     "name": "stdout",
     "output_type": "stream",
     "text": [
      "Processed 5100000 rows\r"
     ]
    },
    {
     "data": {
      "text/plain": [
       "FloatProgress(value=0.0, layout=Layout(width='auto'), style=ProgressStyle(bar_color='black'))"
      ],
      "application/vnd.jupyter.widget-view+json": {
       "version_major": 2,
       "version_minor": 0,
       "model_id": "e925527f5199414793c9f3bc38b2b450"
      }
     },
     "metadata": {},
     "output_type": "display_data"
    },
    {
     "name": "stdout",
     "output_type": "stream",
     "text": [
      "Processed 5200000 rows\r"
     ]
    },
    {
     "data": {
      "text/plain": [
       "FloatProgress(value=0.0, layout=Layout(width='auto'), style=ProgressStyle(bar_color='black'))"
      ],
      "application/vnd.jupyter.widget-view+json": {
       "version_major": 2,
       "version_minor": 0,
       "model_id": "cbec07f531264f2b9d33cd5f72b9d44b"
      }
     },
     "metadata": {},
     "output_type": "display_data"
    },
    {
     "name": "stdout",
     "output_type": "stream",
     "text": [
      "Processed 5300000 rows\r"
     ]
    },
    {
     "data": {
      "text/plain": [
       "FloatProgress(value=0.0, layout=Layout(width='auto'), style=ProgressStyle(bar_color='black'))"
      ],
      "application/vnd.jupyter.widget-view+json": {
       "version_major": 2,
       "version_minor": 0,
       "model_id": "1c003cd67fb943d9b3280d48a27f951c"
      }
     },
     "metadata": {},
     "output_type": "display_data"
    },
    {
     "name": "stdout",
     "output_type": "stream",
     "text": [
      "Processed 5400000 rows\r"
     ]
    },
    {
     "data": {
      "text/plain": [
       "FloatProgress(value=0.0, layout=Layout(width='auto'), style=ProgressStyle(bar_color='black'))"
      ],
      "application/vnd.jupyter.widget-view+json": {
       "version_major": 2,
       "version_minor": 0,
       "model_id": "0b84c3c0dd544cbd868d48c8083cc6a3"
      }
     },
     "metadata": {},
     "output_type": "display_data"
    },
    {
     "name": "stdout",
     "output_type": "stream",
     "text": [
      "Processed 5500000 rows\r"
     ]
    },
    {
     "data": {
      "text/plain": [
       "FloatProgress(value=0.0, layout=Layout(width='auto'), style=ProgressStyle(bar_color='black'))"
      ],
      "application/vnd.jupyter.widget-view+json": {
       "version_major": 2,
       "version_minor": 0,
       "model_id": "da27d23cb81942c1b551ca4a90b33454"
      }
     },
     "metadata": {},
     "output_type": "display_data"
    },
    {
     "name": "stdout",
     "output_type": "stream",
     "text": [
      "Processed 5600000 rows\r"
     ]
    },
    {
     "data": {
      "text/plain": [
       "FloatProgress(value=0.0, layout=Layout(width='auto'), style=ProgressStyle(bar_color='black'))"
      ],
      "application/vnd.jupyter.widget-view+json": {
       "version_major": 2,
       "version_minor": 0,
       "model_id": "a8bfec54c76848a9abffba2af4484485"
      }
     },
     "metadata": {},
     "output_type": "display_data"
    },
    {
     "name": "stdout",
     "output_type": "stream",
     "text": [
      "Processed 5700000 rows\r"
     ]
    },
    {
     "data": {
      "text/plain": [
       "FloatProgress(value=0.0, layout=Layout(width='auto'), style=ProgressStyle(bar_color='black'))"
      ],
      "application/vnd.jupyter.widget-view+json": {
       "version_major": 2,
       "version_minor": 0,
       "model_id": "9d9d9369e73147f1840fbc08c11414c8"
      }
     },
     "metadata": {},
     "output_type": "display_data"
    },
    {
     "name": "stdout",
     "output_type": "stream",
     "text": [
      "Processed 5800000 rows\r"
     ]
    },
    {
     "data": {
      "text/plain": [
       "FloatProgress(value=0.0, layout=Layout(width='auto'), style=ProgressStyle(bar_color='black'))"
      ],
      "application/vnd.jupyter.widget-view+json": {
       "version_major": 2,
       "version_minor": 0,
       "model_id": "072ed8dc6ebe4f46920d7b2d38c1d6af"
      }
     },
     "metadata": {},
     "output_type": "display_data"
    },
    {
     "name": "stdout",
     "output_type": "stream",
     "text": [
      "Processed 5900000 rows\r"
     ]
    },
    {
     "data": {
      "text/plain": [
       "FloatProgress(value=0.0, layout=Layout(width='auto'), style=ProgressStyle(bar_color='black'))"
      ],
      "application/vnd.jupyter.widget-view+json": {
       "version_major": 2,
       "version_minor": 0,
       "model_id": "04835e41f1f14b1281cd33f0c317ca92"
      }
     },
     "metadata": {},
     "output_type": "display_data"
    },
    {
     "name": "stdout",
     "output_type": "stream",
     "text": [
      "Processed 6000000 rows\r"
     ]
    },
    {
     "data": {
      "text/plain": [
       "FloatProgress(value=0.0, layout=Layout(width='auto'), style=ProgressStyle(bar_color='black'))"
      ],
      "application/vnd.jupyter.widget-view+json": {
       "version_major": 2,
       "version_minor": 0,
       "model_id": "27056335bdde4885b596b1b252b00b7f"
      }
     },
     "metadata": {},
     "output_type": "display_data"
    },
    {
     "name": "stdout",
     "output_type": "stream",
     "text": [
      "Processed 6100000 rows\r"
     ]
    },
    {
     "data": {
      "text/plain": [
       "FloatProgress(value=0.0, layout=Layout(width='auto'), style=ProgressStyle(bar_color='black'))"
      ],
      "application/vnd.jupyter.widget-view+json": {
       "version_major": 2,
       "version_minor": 0,
       "model_id": "6cac28e466f840679584c9ba12f92431"
      }
     },
     "metadata": {},
     "output_type": "display_data"
    },
    {
     "name": "stdout",
     "output_type": "stream",
     "text": [
      "Processed 6200000 rows\r"
     ]
    },
    {
     "data": {
      "text/plain": [
       "FloatProgress(value=0.0, layout=Layout(width='auto'), style=ProgressStyle(bar_color='black'))"
      ],
      "application/vnd.jupyter.widget-view+json": {
       "version_major": 2,
       "version_minor": 0,
       "model_id": "bb5faf550e3a4188b1f423d3edbfa768"
      }
     },
     "metadata": {},
     "output_type": "display_data"
    },
    {
     "name": "stdout",
     "output_type": "stream",
     "text": [
      "Processed 6300000 rows\r"
     ]
    },
    {
     "data": {
      "text/plain": [
       "FloatProgress(value=0.0, layout=Layout(width='auto'), style=ProgressStyle(bar_color='black'))"
      ],
      "application/vnd.jupyter.widget-view+json": {
       "version_major": 2,
       "version_minor": 0,
       "model_id": "06ed0dbe22054d86977dae816dcee986"
      }
     },
     "metadata": {},
     "output_type": "display_data"
    },
    {
     "name": "stdout",
     "output_type": "stream",
     "text": [
      "Processed 6400000 rows\r"
     ]
    },
    {
     "data": {
      "text/plain": [
       "FloatProgress(value=0.0, layout=Layout(width='auto'), style=ProgressStyle(bar_color='black'))"
      ],
      "application/vnd.jupyter.widget-view+json": {
       "version_major": 2,
       "version_minor": 0,
       "model_id": "7dd295c1ec4849f3bebb323dcbd25796"
      }
     },
     "metadata": {},
     "output_type": "display_data"
    },
    {
     "name": "stdout",
     "output_type": "stream",
     "text": [
      "Processed 6500000 rows\r"
     ]
    },
    {
     "data": {
      "text/plain": [
       "FloatProgress(value=0.0, layout=Layout(width='auto'), style=ProgressStyle(bar_color='black'))"
      ],
      "application/vnd.jupyter.widget-view+json": {
       "version_major": 2,
       "version_minor": 0,
       "model_id": "98c12e11a5ec4ffab6ad126f55521b0a"
      }
     },
     "metadata": {},
     "output_type": "display_data"
    },
    {
     "name": "stdout",
     "output_type": "stream",
     "text": [
      "Processed 6600000 rows\r"
     ]
    },
    {
     "data": {
      "text/plain": [
       "FloatProgress(value=0.0, layout=Layout(width='auto'), style=ProgressStyle(bar_color='black'))"
      ],
      "application/vnd.jupyter.widget-view+json": {
       "version_major": 2,
       "version_minor": 0,
       "model_id": "7cd94f5338df472481458765b40ea598"
      }
     },
     "metadata": {},
     "output_type": "display_data"
    },
    {
     "name": "stdout",
     "output_type": "stream",
     "text": [
      "Processed 6700000 rows\r"
     ]
    },
    {
     "data": {
      "text/plain": [
       "FloatProgress(value=0.0, layout=Layout(width='auto'), style=ProgressStyle(bar_color='black'))"
      ],
      "application/vnd.jupyter.widget-view+json": {
       "version_major": 2,
       "version_minor": 0,
       "model_id": "a017972d9c4645b59e574b2798b8bddb"
      }
     },
     "metadata": {},
     "output_type": "display_data"
    },
    {
     "name": "stdout",
     "output_type": "stream",
     "text": [
      "Processed 6800000 rows\r"
     ]
    },
    {
     "data": {
      "text/plain": [
       "FloatProgress(value=0.0, layout=Layout(width='auto'), style=ProgressStyle(bar_color='black'))"
      ],
      "application/vnd.jupyter.widget-view+json": {
       "version_major": 2,
       "version_minor": 0,
       "model_id": "f01267cecff04d00be69a0a971358231"
      }
     },
     "metadata": {},
     "output_type": "display_data"
    },
    {
     "name": "stdout",
     "output_type": "stream",
     "text": [
      "Processed 6900000 rows\r"
     ]
    },
    {
     "data": {
      "text/plain": [
       "FloatProgress(value=0.0, layout=Layout(width='auto'), style=ProgressStyle(bar_color='black'))"
      ],
      "application/vnd.jupyter.widget-view+json": {
       "version_major": 2,
       "version_minor": 0,
       "model_id": "237ccf9470064775a7d08dec30dcd5f9"
      }
     },
     "metadata": {},
     "output_type": "display_data"
    },
    {
     "name": "stdout",
     "output_type": "stream",
     "text": [
      "Processed 7000000 rows\r"
     ]
    },
    {
     "data": {
      "text/plain": [
       "FloatProgress(value=0.0, layout=Layout(width='auto'), style=ProgressStyle(bar_color='black'))"
      ],
      "application/vnd.jupyter.widget-view+json": {
       "version_major": 2,
       "version_minor": 0,
       "model_id": "61d2bb2abb514f42990911be4cdba352"
      }
     },
     "metadata": {},
     "output_type": "display_data"
    },
    {
     "name": "stdout",
     "output_type": "stream",
     "text": [
      "Processed 7100000 rows\r"
     ]
    },
    {
     "data": {
      "text/plain": [
       "FloatProgress(value=0.0, layout=Layout(width='auto'), style=ProgressStyle(bar_color='black'))"
      ],
      "application/vnd.jupyter.widget-view+json": {
       "version_major": 2,
       "version_minor": 0,
       "model_id": "aee9828d973a462b937621d8dea28958"
      }
     },
     "metadata": {},
     "output_type": "display_data"
    },
    {
     "name": "stdout",
     "output_type": "stream",
     "text": [
      "Processed 7200000 rows\r"
     ]
    },
    {
     "data": {
      "text/plain": [
       "FloatProgress(value=0.0, layout=Layout(width='auto'), style=ProgressStyle(bar_color='black'))"
      ],
      "application/vnd.jupyter.widget-view+json": {
       "version_major": 2,
       "version_minor": 0,
       "model_id": "06eae704759f4840940f1394e332b04a"
      }
     },
     "metadata": {},
     "output_type": "display_data"
    },
    {
     "name": "stdout",
     "output_type": "stream",
     "text": [
      "Processed 7300000 rows\r"
     ]
    },
    {
     "data": {
      "text/plain": [
       "FloatProgress(value=0.0, layout=Layout(width='auto'), style=ProgressStyle(bar_color='black'))"
      ],
      "application/vnd.jupyter.widget-view+json": {
       "version_major": 2,
       "version_minor": 0,
       "model_id": "b04f4ec9acb94482b3a77d34a8355293"
      }
     },
     "metadata": {},
     "output_type": "display_data"
    },
    {
     "name": "stdout",
     "output_type": "stream",
     "text": [
      "Processed 7400000 rows\r"
     ]
    },
    {
     "data": {
      "text/plain": [
       "FloatProgress(value=0.0, layout=Layout(width='auto'), style=ProgressStyle(bar_color='black'))"
      ],
      "application/vnd.jupyter.widget-view+json": {
       "version_major": 2,
       "version_minor": 0,
       "model_id": "f6e3d68eef434f45967b0159d0c86dd4"
      }
     },
     "metadata": {},
     "output_type": "display_data"
    },
    {
     "name": "stdout",
     "output_type": "stream",
     "text": [
      "Processed 7500000 rows\r"
     ]
    },
    {
     "data": {
      "text/plain": [
       "FloatProgress(value=0.0, layout=Layout(width='auto'), style=ProgressStyle(bar_color='black'))"
      ],
      "application/vnd.jupyter.widget-view+json": {
       "version_major": 2,
       "version_minor": 0,
       "model_id": "191ed439d8964364a266f39bf4d5a08c"
      }
     },
     "metadata": {},
     "output_type": "display_data"
    },
    {
     "name": "stdout",
     "output_type": "stream",
     "text": [
      "Processed 7600000 rows\r"
     ]
    },
    {
     "data": {
      "text/plain": [
       "FloatProgress(value=0.0, layout=Layout(width='auto'), style=ProgressStyle(bar_color='black'))"
      ],
      "application/vnd.jupyter.widget-view+json": {
       "version_major": 2,
       "version_minor": 0,
       "model_id": "098cd3985788460eae3948521f5d2549"
      }
     },
     "metadata": {},
     "output_type": "display_data"
    },
    {
     "name": "stdout",
     "output_type": "stream",
     "text": [
      "Processed 7700000 rows\r"
     ]
    },
    {
     "data": {
      "text/plain": [
       "FloatProgress(value=0.0, layout=Layout(width='auto'), style=ProgressStyle(bar_color='black'))"
      ],
      "application/vnd.jupyter.widget-view+json": {
       "version_major": 2,
       "version_minor": 0,
       "model_id": "0d33df19bad84118ab625563533120ed"
      }
     },
     "metadata": {},
     "output_type": "display_data"
    },
    {
     "name": "stdout",
     "output_type": "stream",
     "text": [
      "Processed 7800000 rows\r"
     ]
    },
    {
     "data": {
      "text/plain": [
       "FloatProgress(value=0.0, layout=Layout(width='auto'), style=ProgressStyle(bar_color='black'))"
      ],
      "application/vnd.jupyter.widget-view+json": {
       "version_major": 2,
       "version_minor": 0,
       "model_id": "26c99b1146e846299d737b7efbc01fa3"
      }
     },
     "metadata": {},
     "output_type": "display_data"
    },
    {
     "name": "stdout",
     "output_type": "stream",
     "text": [
      "Processed 7900000 rows\r"
     ]
    },
    {
     "data": {
      "text/plain": [
       "FloatProgress(value=0.0, layout=Layout(width='auto'), style=ProgressStyle(bar_color='black'))"
      ],
      "application/vnd.jupyter.widget-view+json": {
       "version_major": 2,
       "version_minor": 0,
       "model_id": "8c806e4a1ed24968ac1c65c866c9b66b"
      }
     },
     "metadata": {},
     "output_type": "display_data"
    },
    {
     "name": "stdout",
     "output_type": "stream",
     "text": [
      "Processed 8000000 rows\r"
     ]
    },
    {
     "data": {
      "text/plain": [
       "FloatProgress(value=0.0, layout=Layout(width='auto'), style=ProgressStyle(bar_color='black'))"
      ],
      "application/vnd.jupyter.widget-view+json": {
       "version_major": 2,
       "version_minor": 0,
       "model_id": "2366f764a56142149c22b72550a634cc"
      }
     },
     "metadata": {},
     "output_type": "display_data"
    },
    {
     "name": "stdout",
     "output_type": "stream",
     "text": [
      "Processed 8100000 rows\r"
     ]
    },
    {
     "data": {
      "text/plain": [
       "FloatProgress(value=0.0, layout=Layout(width='auto'), style=ProgressStyle(bar_color='black'))"
      ],
      "application/vnd.jupyter.widget-view+json": {
       "version_major": 2,
       "version_minor": 0,
       "model_id": "926eeecea0ae4037a2434c54507602ed"
      }
     },
     "metadata": {},
     "output_type": "display_data"
    },
    {
     "name": "stdout",
     "output_type": "stream",
     "text": [
      "Processed 8200000 rows\r"
     ]
    },
    {
     "data": {
      "text/plain": [
       "FloatProgress(value=0.0, layout=Layout(width='auto'), style=ProgressStyle(bar_color='black'))"
      ],
      "application/vnd.jupyter.widget-view+json": {
       "version_major": 2,
       "version_minor": 0,
       "model_id": "7a070e39f1b44fb9a5f0e08da1d95ae1"
      }
     },
     "metadata": {},
     "output_type": "display_data"
    },
    {
     "name": "stdout",
     "output_type": "stream",
     "text": [
      "Processed 8300000 rows\r"
     ]
    },
    {
     "data": {
      "text/plain": [
       "FloatProgress(value=0.0, layout=Layout(width='auto'), style=ProgressStyle(bar_color='black'))"
      ],
      "application/vnd.jupyter.widget-view+json": {
       "version_major": 2,
       "version_minor": 0,
       "model_id": "fa36fd1b6ba346819b616db01996e611"
      }
     },
     "metadata": {},
     "output_type": "display_data"
    },
    {
     "name": "stdout",
     "output_type": "stream",
     "text": [
      "Processed 8400000 rows\r"
     ]
    },
    {
     "data": {
      "text/plain": [
       "FloatProgress(value=0.0, layout=Layout(width='auto'), style=ProgressStyle(bar_color='black'))"
      ],
      "application/vnd.jupyter.widget-view+json": {
       "version_major": 2,
       "version_minor": 0,
       "model_id": "5f612f3414be487d90960cbe8906e51f"
      }
     },
     "metadata": {},
     "output_type": "display_data"
    },
    {
     "name": "stdout",
     "output_type": "stream",
     "text": [
      "Processed 8500000 rows\r"
     ]
    },
    {
     "data": {
      "text/plain": [
       "FloatProgress(value=0.0, layout=Layout(width='auto'), style=ProgressStyle(bar_color='black'))"
      ],
      "application/vnd.jupyter.widget-view+json": {
       "version_major": 2,
       "version_minor": 0,
       "model_id": "87173c34cfdc4e1480020cb01221cd28"
      }
     },
     "metadata": {},
     "output_type": "display_data"
    },
    {
     "name": "stdout",
     "output_type": "stream",
     "text": [
      "Processed 8600000 rows\r"
     ]
    },
    {
     "data": {
      "text/plain": [
       "FloatProgress(value=0.0, layout=Layout(width='auto'), style=ProgressStyle(bar_color='black'))"
      ],
      "application/vnd.jupyter.widget-view+json": {
       "version_major": 2,
       "version_minor": 0,
       "model_id": "8286117583ca40b284b0d6f11175efdb"
      }
     },
     "metadata": {},
     "output_type": "display_data"
    },
    {
     "name": "stdout",
     "output_type": "stream",
     "text": [
      "Processed 8700000 rows\r"
     ]
    },
    {
     "data": {
      "text/plain": [
       "FloatProgress(value=0.0, layout=Layout(width='auto'), style=ProgressStyle(bar_color='black'))"
      ],
      "application/vnd.jupyter.widget-view+json": {
       "version_major": 2,
       "version_minor": 0,
       "model_id": "f311f227012646529cc270b36ee593bf"
      }
     },
     "metadata": {},
     "output_type": "display_data"
    },
    {
     "name": "stdout",
     "output_type": "stream",
     "text": [
      "Processed 8800000 rows\r"
     ]
    },
    {
     "data": {
      "text/plain": [
       "FloatProgress(value=0.0, layout=Layout(width='auto'), style=ProgressStyle(bar_color='black'))"
      ],
      "application/vnd.jupyter.widget-view+json": {
       "version_major": 2,
       "version_minor": 0,
       "model_id": "b9875f7968ac41d1953fbe6171636d20"
      }
     },
     "metadata": {},
     "output_type": "display_data"
    },
    {
     "name": "stdout",
     "output_type": "stream",
     "text": [
      "Processed 8900000 rows\r"
     ]
    },
    {
     "data": {
      "text/plain": [
       "FloatProgress(value=0.0, layout=Layout(width='auto'), style=ProgressStyle(bar_color='black'))"
      ],
      "application/vnd.jupyter.widget-view+json": {
       "version_major": 2,
       "version_minor": 0,
       "model_id": "2ea93493033846bb836dfd4e338a92f0"
      }
     },
     "metadata": {},
     "output_type": "display_data"
    },
    {
     "name": "stdout",
     "output_type": "stream",
     "text": [
      "Processed 9000000 rows\r"
     ]
    },
    {
     "data": {
      "text/plain": [
       "FloatProgress(value=0.0, layout=Layout(width='auto'), style=ProgressStyle(bar_color='black'))"
      ],
      "application/vnd.jupyter.widget-view+json": {
       "version_major": 2,
       "version_minor": 0,
       "model_id": "ed86bc1f62374f5a94167ef370a80ffa"
      }
     },
     "metadata": {},
     "output_type": "display_data"
    },
    {
     "name": "stdout",
     "output_type": "stream",
     "text": [
      "Processed 9100000 rows\r"
     ]
    },
    {
     "data": {
      "text/plain": [
       "FloatProgress(value=0.0, layout=Layout(width='auto'), style=ProgressStyle(bar_color='black'))"
      ],
      "application/vnd.jupyter.widget-view+json": {
       "version_major": 2,
       "version_minor": 0,
       "model_id": "38e3c73c44db47309f5ddde006fbcaae"
      }
     },
     "metadata": {},
     "output_type": "display_data"
    },
    {
     "name": "stdout",
     "output_type": "stream",
     "text": [
      "Processed 9200000 rows\r"
     ]
    },
    {
     "data": {
      "text/plain": [
       "FloatProgress(value=0.0, layout=Layout(width='auto'), style=ProgressStyle(bar_color='black'))"
      ],
      "application/vnd.jupyter.widget-view+json": {
       "version_major": 2,
       "version_minor": 0,
       "model_id": "254a362a3e8d4fe99f70548ac9031fb9"
      }
     },
     "metadata": {},
     "output_type": "display_data"
    },
    {
     "name": "stdout",
     "output_type": "stream",
     "text": [
      "Processed 9300000 rows\r"
     ]
    },
    {
     "data": {
      "text/plain": [
       "FloatProgress(value=0.0, layout=Layout(width='auto'), style=ProgressStyle(bar_color='black'))"
      ],
      "application/vnd.jupyter.widget-view+json": {
       "version_major": 2,
       "version_minor": 0,
       "model_id": "3dbbaebf18f044b089044d7ad0953ea5"
      }
     },
     "metadata": {},
     "output_type": "display_data"
    },
    {
     "name": "stdout",
     "output_type": "stream",
     "text": [
      "Processed 9400000 rows\r"
     ]
    },
    {
     "data": {
      "text/plain": [
       "FloatProgress(value=0.0, layout=Layout(width='auto'), style=ProgressStyle(bar_color='black'))"
      ],
      "application/vnd.jupyter.widget-view+json": {
       "version_major": 2,
       "version_minor": 0,
       "model_id": "924790eaecb94ce0887c823220716689"
      }
     },
     "metadata": {},
     "output_type": "display_data"
    },
    {
     "name": "stdout",
     "output_type": "stream",
     "text": [
      "Processed 9500000 rows\r"
     ]
    },
    {
     "data": {
      "text/plain": [
       "FloatProgress(value=0.0, layout=Layout(width='auto'), style=ProgressStyle(bar_color='black'))"
      ],
      "application/vnd.jupyter.widget-view+json": {
       "version_major": 2,
       "version_minor": 0,
       "model_id": "77dea0dcdd0248319de9a23eb3e56c1d"
      }
     },
     "metadata": {},
     "output_type": "display_data"
    },
    {
     "name": "stdout",
     "output_type": "stream",
     "text": [
      "Processed 9600000 rows\r"
     ]
    },
    {
     "data": {
      "text/plain": [
       "FloatProgress(value=0.0, layout=Layout(width='auto'), style=ProgressStyle(bar_color='black'))"
      ],
      "application/vnd.jupyter.widget-view+json": {
       "version_major": 2,
       "version_minor": 0,
       "model_id": "f3ae16724ad04b61b9ee9a39f505a1ee"
      }
     },
     "metadata": {},
     "output_type": "display_data"
    },
    {
     "name": "stdout",
     "output_type": "stream",
     "text": [
      "Processed 9700000 rows\r"
     ]
    },
    {
     "data": {
      "text/plain": [
       "FloatProgress(value=0.0, layout=Layout(width='auto'), style=ProgressStyle(bar_color='black'))"
      ],
      "application/vnd.jupyter.widget-view+json": {
       "version_major": 2,
       "version_minor": 0,
       "model_id": "20849f04afbb4a49ab579e3f281a8691"
      }
     },
     "metadata": {},
     "output_type": "display_data"
    },
    {
     "name": "stdout",
     "output_type": "stream",
     "text": [
      "Processed 9800000 rows\r"
     ]
    },
    {
     "data": {
      "text/plain": [
       "FloatProgress(value=0.0, layout=Layout(width='auto'), style=ProgressStyle(bar_color='black'))"
      ],
      "application/vnd.jupyter.widget-view+json": {
       "version_major": 2,
       "version_minor": 0,
       "model_id": "aab1e444083d4b509f4be5c3bc89d2e5"
      }
     },
     "metadata": {},
     "output_type": "display_data"
    },
    {
     "name": "stdout",
     "output_type": "stream",
     "text": [
      "Processed 9900000 rows\r"
     ]
    },
    {
     "data": {
      "text/plain": [
       "FloatProgress(value=0.0, layout=Layout(width='auto'), style=ProgressStyle(bar_color='black'))"
      ],
      "application/vnd.jupyter.widget-view+json": {
       "version_major": 2,
       "version_minor": 0,
       "model_id": "0f75712dda8b4cf5825aecf19376d8b5"
      }
     },
     "metadata": {},
     "output_type": "display_data"
    },
    {
     "name": "stdout",
     "output_type": "stream",
     "text": [
      "Processed 10000000 rows\r"
     ]
    },
    {
     "data": {
      "text/plain": [
       "FloatProgress(value=0.0, layout=Layout(width='auto'), style=ProgressStyle(bar_color='black'))"
      ],
      "application/vnd.jupyter.widget-view+json": {
       "version_major": 2,
       "version_minor": 0,
       "model_id": "7e123aa137b549039012982dab532158"
      }
     },
     "metadata": {},
     "output_type": "display_data"
    },
    {
     "name": "stdout",
     "output_type": "stream",
     "text": [
      "Processed 10100000 rows\r"
     ]
    },
    {
     "data": {
      "text/plain": [
       "FloatProgress(value=0.0, layout=Layout(width='auto'), style=ProgressStyle(bar_color='black'))"
      ],
      "application/vnd.jupyter.widget-view+json": {
       "version_major": 2,
       "version_minor": 0,
       "model_id": "48f19c6f359e4543ba379072175851d1"
      }
     },
     "metadata": {},
     "output_type": "display_data"
    },
    {
     "name": "stdout",
     "output_type": "stream",
     "text": [
      "Processed 10200000 rows\r"
     ]
    },
    {
     "data": {
      "text/plain": [
       "FloatProgress(value=0.0, layout=Layout(width='auto'), style=ProgressStyle(bar_color='black'))"
      ],
      "application/vnd.jupyter.widget-view+json": {
       "version_major": 2,
       "version_minor": 0,
       "model_id": "88469e9d0df54e469c2d6f8f7f36a507"
      }
     },
     "metadata": {},
     "output_type": "display_data"
    },
    {
     "name": "stdout",
     "output_type": "stream",
     "text": [
      "Processed 10300000 rows\r"
     ]
    },
    {
     "data": {
      "text/plain": [
       "FloatProgress(value=0.0, layout=Layout(width='auto'), style=ProgressStyle(bar_color='black'))"
      ],
      "application/vnd.jupyter.widget-view+json": {
       "version_major": 2,
       "version_minor": 0,
       "model_id": "9b5e63fa63c9461d8e7a8588d24f8c0e"
      }
     },
     "metadata": {},
     "output_type": "display_data"
    },
    {
     "name": "stdout",
     "output_type": "stream",
     "text": [
      "Processed 10400000 rows\r"
     ]
    },
    {
     "data": {
      "text/plain": [
       "FloatProgress(value=0.0, layout=Layout(width='auto'), style=ProgressStyle(bar_color='black'))"
      ],
      "application/vnd.jupyter.widget-view+json": {
       "version_major": 2,
       "version_minor": 0,
       "model_id": "b35245bfc4ee43d9a394849056b26b53"
      }
     },
     "metadata": {},
     "output_type": "display_data"
    },
    {
     "name": "stdout",
     "output_type": "stream",
     "text": [
      "Processed 10500000 rows\r"
     ]
    },
    {
     "data": {
      "text/plain": [
       "FloatProgress(value=0.0, layout=Layout(width='auto'), style=ProgressStyle(bar_color='black'))"
      ],
      "application/vnd.jupyter.widget-view+json": {
       "version_major": 2,
       "version_minor": 0,
       "model_id": "4e7efdaf7ca440928f269517ec2a23ae"
      }
     },
     "metadata": {},
     "output_type": "display_data"
    },
    {
     "name": "stdout",
     "output_type": "stream",
     "text": [
      "Processed 10600000 rows\r"
     ]
    },
    {
     "data": {
      "text/plain": [
       "FloatProgress(value=0.0, layout=Layout(width='auto'), style=ProgressStyle(bar_color='black'))"
      ],
      "application/vnd.jupyter.widget-view+json": {
       "version_major": 2,
       "version_minor": 0,
       "model_id": "28b9e2bcd3bc48b680efe23ed89fe3f7"
      }
     },
     "metadata": {},
     "output_type": "display_data"
    },
    {
     "name": "stdout",
     "output_type": "stream",
     "text": [
      "Processed 10700000 rows\r"
     ]
    },
    {
     "data": {
      "text/plain": [
       "FloatProgress(value=0.0, layout=Layout(width='auto'), style=ProgressStyle(bar_color='black'))"
      ],
      "application/vnd.jupyter.widget-view+json": {
       "version_major": 2,
       "version_minor": 0,
       "model_id": "a3c28179ea204ea68b8794c6c223830f"
      }
     },
     "metadata": {},
     "output_type": "display_data"
    },
    {
     "name": "stdout",
     "output_type": "stream",
     "text": [
      "Processed 10800000 rows\r"
     ]
    },
    {
     "data": {
      "text/plain": [
       "FloatProgress(value=0.0, layout=Layout(width='auto'), style=ProgressStyle(bar_color='black'))"
      ],
      "application/vnd.jupyter.widget-view+json": {
       "version_major": 2,
       "version_minor": 0,
       "model_id": "ebfdf3b135934bd19c907293b0c04bed"
      }
     },
     "metadata": {},
     "output_type": "display_data"
    },
    {
     "name": "stdout",
     "output_type": "stream",
     "text": [
      "Processed 10900000 rows\r"
     ]
    },
    {
     "data": {
      "text/plain": [
       "FloatProgress(value=0.0, layout=Layout(width='auto'), style=ProgressStyle(bar_color='black'))"
      ],
      "application/vnd.jupyter.widget-view+json": {
       "version_major": 2,
       "version_minor": 0,
       "model_id": "86d4aeccba694ba9bbfa76eb0e7e6dfe"
      }
     },
     "metadata": {},
     "output_type": "display_data"
    },
    {
     "name": "stdout",
     "output_type": "stream",
     "text": [
      "Processed 11000000 rows\r"
     ]
    },
    {
     "data": {
      "text/plain": [
       "FloatProgress(value=0.0, layout=Layout(width='auto'), style=ProgressStyle(bar_color='black'))"
      ],
      "application/vnd.jupyter.widget-view+json": {
       "version_major": 2,
       "version_minor": 0,
       "model_id": "dde0085d3c0b4096a6608981b346114b"
      }
     },
     "metadata": {},
     "output_type": "display_data"
    },
    {
     "name": "stdout",
     "output_type": "stream",
     "text": [
      "Processed 11100000 rows\r"
     ]
    },
    {
     "data": {
      "text/plain": [
       "FloatProgress(value=0.0, layout=Layout(width='auto'), style=ProgressStyle(bar_color='black'))"
      ],
      "application/vnd.jupyter.widget-view+json": {
       "version_major": 2,
       "version_minor": 0,
       "model_id": "d3d918cee47d43e9b082b5d2f3534092"
      }
     },
     "metadata": {},
     "output_type": "display_data"
    },
    {
     "name": "stdout",
     "output_type": "stream",
     "text": [
      "Processed 11200000 rows\r"
     ]
    },
    {
     "data": {
      "text/plain": [
       "FloatProgress(value=0.0, layout=Layout(width='auto'), style=ProgressStyle(bar_color='black'))"
      ],
      "application/vnd.jupyter.widget-view+json": {
       "version_major": 2,
       "version_minor": 0,
       "model_id": "4ccfc371578c46bd8390534d0d0d20fb"
      }
     },
     "metadata": {},
     "output_type": "display_data"
    },
    {
     "name": "stdout",
     "output_type": "stream",
     "text": [
      "Processed 11300000 rows\r"
     ]
    },
    {
     "data": {
      "text/plain": [
       "FloatProgress(value=0.0, layout=Layout(width='auto'), style=ProgressStyle(bar_color='black'))"
      ],
      "application/vnd.jupyter.widget-view+json": {
       "version_major": 2,
       "version_minor": 0,
       "model_id": "b46e189c157e403c881335296842ed89"
      }
     },
     "metadata": {},
     "output_type": "display_data"
    },
    {
     "name": "stdout",
     "output_type": "stream",
     "text": [
      "Processed 11400000 rows\r"
     ]
    },
    {
     "data": {
      "text/plain": [
       "FloatProgress(value=0.0, layout=Layout(width='auto'), style=ProgressStyle(bar_color='black'))"
      ],
      "application/vnd.jupyter.widget-view+json": {
       "version_major": 2,
       "version_minor": 0,
       "model_id": "8a0daa44381d41f093317dfe1f2fb9d4"
      }
     },
     "metadata": {},
     "output_type": "display_data"
    },
    {
     "name": "stdout",
     "output_type": "stream",
     "text": [
      "Processed 11500000 rows\r"
     ]
    },
    {
     "data": {
      "text/plain": [
       "FloatProgress(value=0.0, layout=Layout(width='auto'), style=ProgressStyle(bar_color='black'))"
      ],
      "application/vnd.jupyter.widget-view+json": {
       "version_major": 2,
       "version_minor": 0,
       "model_id": "c0a1e4b606a74a22a593f231d1bc8a27"
      }
     },
     "metadata": {},
     "output_type": "display_data"
    },
    {
     "name": "stdout",
     "output_type": "stream",
     "text": [
      "Processed 11600000 rows\r"
     ]
    },
    {
     "data": {
      "text/plain": [
       "FloatProgress(value=0.0, layout=Layout(width='auto'), style=ProgressStyle(bar_color='black'))"
      ],
      "application/vnd.jupyter.widget-view+json": {
       "version_major": 2,
       "version_minor": 0,
       "model_id": "736110a3c938468faac084519e095878"
      }
     },
     "metadata": {},
     "output_type": "display_data"
    },
    {
     "name": "stdout",
     "output_type": "stream",
     "text": [
      "Processed 11700000 rows\r"
     ]
    },
    {
     "data": {
      "text/plain": [
       "FloatProgress(value=0.0, layout=Layout(width='auto'), style=ProgressStyle(bar_color='black'))"
      ],
      "application/vnd.jupyter.widget-view+json": {
       "version_major": 2,
       "version_minor": 0,
       "model_id": "bd0432ff8c2a41d29048e16804d04c7a"
      }
     },
     "metadata": {},
     "output_type": "display_data"
    },
    {
     "name": "stdout",
     "output_type": "stream",
     "text": [
      "Processed 11800000 rows\r"
     ]
    },
    {
     "data": {
      "text/plain": [
       "FloatProgress(value=0.0, layout=Layout(width='auto'), style=ProgressStyle(bar_color='black'))"
      ],
      "application/vnd.jupyter.widget-view+json": {
       "version_major": 2,
       "version_minor": 0,
       "model_id": "11742fb45b014744ae085a1964a88ec2"
      }
     },
     "metadata": {},
     "output_type": "display_data"
    },
    {
     "name": "stdout",
     "output_type": "stream",
     "text": [
      "Processed 11900000 rows\r"
     ]
    },
    {
     "data": {
      "text/plain": [
       "FloatProgress(value=0.0, layout=Layout(width='auto'), style=ProgressStyle(bar_color='black'))"
      ],
      "application/vnd.jupyter.widget-view+json": {
       "version_major": 2,
       "version_minor": 0,
       "model_id": "d5f80315396449e6825f7cfba212d8ca"
      }
     },
     "metadata": {},
     "output_type": "display_data"
    },
    {
     "name": "stdout",
     "output_type": "stream",
     "text": [
      "Processed 12000000 rows\r"
     ]
    },
    {
     "data": {
      "text/plain": [
       "FloatProgress(value=0.0, layout=Layout(width='auto'), style=ProgressStyle(bar_color='black'))"
      ],
      "application/vnd.jupyter.widget-view+json": {
       "version_major": 2,
       "version_minor": 0,
       "model_id": "bb3526c76b664338918b3700b288bbee"
      }
     },
     "metadata": {},
     "output_type": "display_data"
    },
    {
     "name": "stdout",
     "output_type": "stream",
     "text": [
      "Processed 12100000 rows\r"
     ]
    },
    {
     "data": {
      "text/plain": [
       "FloatProgress(value=0.0, layout=Layout(width='auto'), style=ProgressStyle(bar_color='black'))"
      ],
      "application/vnd.jupyter.widget-view+json": {
       "version_major": 2,
       "version_minor": 0,
       "model_id": "609a7df199f343e5a07b918956b5b483"
      }
     },
     "metadata": {},
     "output_type": "display_data"
    },
    {
     "name": "stdout",
     "output_type": "stream",
     "text": [
      "Processed 12200000 rows\r"
     ]
    },
    {
     "data": {
      "text/plain": [
       "FloatProgress(value=0.0, layout=Layout(width='auto'), style=ProgressStyle(bar_color='black'))"
      ],
      "application/vnd.jupyter.widget-view+json": {
       "version_major": 2,
       "version_minor": 0,
       "model_id": "da54ea65a65240ac883306d3365a6e34"
      }
     },
     "metadata": {},
     "output_type": "display_data"
    },
    {
     "name": "stdout",
     "output_type": "stream",
     "text": [
      "Processed 12300000 rows\r"
     ]
    },
    {
     "data": {
      "text/plain": [
       "FloatProgress(value=0.0, layout=Layout(width='auto'), style=ProgressStyle(bar_color='black'))"
      ],
      "application/vnd.jupyter.widget-view+json": {
       "version_major": 2,
       "version_minor": 0,
       "model_id": "4758e56e4c774d4e8d57be4590a0aad9"
      }
     },
     "metadata": {},
     "output_type": "display_data"
    },
    {
     "name": "stdout",
     "output_type": "stream",
     "text": [
      "Processed 12400000 rows\r"
     ]
    },
    {
     "data": {
      "text/plain": [
       "FloatProgress(value=0.0, layout=Layout(width='auto'), style=ProgressStyle(bar_color='black'))"
      ],
      "application/vnd.jupyter.widget-view+json": {
       "version_major": 2,
       "version_minor": 0,
       "model_id": "288d2e5fc2134b8a9d58847c030b6b82"
      }
     },
     "metadata": {},
     "output_type": "display_data"
    },
    {
     "name": "stdout",
     "output_type": "stream",
     "text": [
      "Processed 12500000 rows\r"
     ]
    },
    {
     "data": {
      "text/plain": [
       "FloatProgress(value=0.0, layout=Layout(width='auto'), style=ProgressStyle(bar_color='black'))"
      ],
      "application/vnd.jupyter.widget-view+json": {
       "version_major": 2,
       "version_minor": 0,
       "model_id": "cdf11c79104e440db566fea8c66e7f4c"
      }
     },
     "metadata": {},
     "output_type": "display_data"
    },
    {
     "name": "stdout",
     "output_type": "stream",
     "text": [
      "Processed 12600000 rows\r"
     ]
    },
    {
     "data": {
      "text/plain": [
       "FloatProgress(value=0.0, layout=Layout(width='auto'), style=ProgressStyle(bar_color='black'))"
      ],
      "application/vnd.jupyter.widget-view+json": {
       "version_major": 2,
       "version_minor": 0,
       "model_id": "f5d09d6e1aae4145995c51ba180e298c"
      }
     },
     "metadata": {},
     "output_type": "display_data"
    },
    {
     "name": "stdout",
     "output_type": "stream",
     "text": [
      "Processed 12700000 rows\r"
     ]
    },
    {
     "data": {
      "text/plain": [
       "FloatProgress(value=0.0, layout=Layout(width='auto'), style=ProgressStyle(bar_color='black'))"
      ],
      "application/vnd.jupyter.widget-view+json": {
       "version_major": 2,
       "version_minor": 0,
       "model_id": "60fe288022ff45c892140a373bdcd11f"
      }
     },
     "metadata": {},
     "output_type": "display_data"
    },
    {
     "name": "stdout",
     "output_type": "stream",
     "text": [
      "Processed 12800000 rows\r"
     ]
    },
    {
     "data": {
      "text/plain": [
       "FloatProgress(value=0.0, layout=Layout(width='auto'), style=ProgressStyle(bar_color='black'))"
      ],
      "application/vnd.jupyter.widget-view+json": {
       "version_major": 2,
       "version_minor": 0,
       "model_id": "1f9bf98cdf4040a2b907a437127f9114"
      }
     },
     "metadata": {},
     "output_type": "display_data"
    },
    {
     "name": "stdout",
     "output_type": "stream",
     "text": [
      "Processed 12900000 rows\r"
     ]
    },
    {
     "data": {
      "text/plain": [
       "FloatProgress(value=0.0, layout=Layout(width='auto'), style=ProgressStyle(bar_color='black'))"
      ],
      "application/vnd.jupyter.widget-view+json": {
       "version_major": 2,
       "version_minor": 0,
       "model_id": "433e77a3a6244cf0816122d472d44565"
      }
     },
     "metadata": {},
     "output_type": "display_data"
    },
    {
     "name": "stdout",
     "output_type": "stream",
     "text": [
      "Processed 13000000 rows\r"
     ]
    },
    {
     "data": {
      "text/plain": [
       "FloatProgress(value=0.0, layout=Layout(width='auto'), style=ProgressStyle(bar_color='black'))"
      ],
      "application/vnd.jupyter.widget-view+json": {
       "version_major": 2,
       "version_minor": 0,
       "model_id": "1d20cf87092f4aa88722286438f2014c"
      }
     },
     "metadata": {},
     "output_type": "display_data"
    },
    {
     "name": "stdout",
     "output_type": "stream",
     "text": [
      "Processed 13100000 rows\r"
     ]
    },
    {
     "data": {
      "text/plain": [
       "FloatProgress(value=0.0, layout=Layout(width='auto'), style=ProgressStyle(bar_color='black'))"
      ],
      "application/vnd.jupyter.widget-view+json": {
       "version_major": 2,
       "version_minor": 0,
       "model_id": "8c3fb928069540a7bf5ee586aab8d49c"
      }
     },
     "metadata": {},
     "output_type": "display_data"
    },
    {
     "name": "stdout",
     "output_type": "stream",
     "text": [
      "Processed 13200000 rows\r"
     ]
    },
    {
     "data": {
      "text/plain": [
       "FloatProgress(value=0.0, layout=Layout(width='auto'), style=ProgressStyle(bar_color='black'))"
      ],
      "application/vnd.jupyter.widget-view+json": {
       "version_major": 2,
       "version_minor": 0,
       "model_id": "f0c6fd093f2246a28eff68604b9b597a"
      }
     },
     "metadata": {},
     "output_type": "display_data"
    },
    {
     "name": "stdout",
     "output_type": "stream",
     "text": [
      "Processed 13300000 rows\r"
     ]
    },
    {
     "data": {
      "text/plain": [
       "FloatProgress(value=0.0, layout=Layout(width='auto'), style=ProgressStyle(bar_color='black'))"
      ],
      "application/vnd.jupyter.widget-view+json": {
       "version_major": 2,
       "version_minor": 0,
       "model_id": "faf897adef5d4f3ea1362e0af32891aa"
      }
     },
     "metadata": {},
     "output_type": "display_data"
    },
    {
     "name": "stdout",
     "output_type": "stream",
     "text": [
      "Processed 13400000 rows\r"
     ]
    },
    {
     "data": {
      "text/plain": [
       "FloatProgress(value=0.0, layout=Layout(width='auto'), style=ProgressStyle(bar_color='black'))"
      ],
      "application/vnd.jupyter.widget-view+json": {
       "version_major": 2,
       "version_minor": 0,
       "model_id": "d16c9fd8e04e43deab4834fd507192c2"
      }
     },
     "metadata": {},
     "output_type": "display_data"
    },
    {
     "name": "stdout",
     "output_type": "stream",
     "text": [
      "Processed 13500000 rows\r"
     ]
    },
    {
     "data": {
      "text/plain": [
       "FloatProgress(value=0.0, layout=Layout(width='auto'), style=ProgressStyle(bar_color='black'))"
      ],
      "application/vnd.jupyter.widget-view+json": {
       "version_major": 2,
       "version_minor": 0,
       "model_id": "c5a850e24871474fa9034d7a6a886ea0"
      }
     },
     "metadata": {},
     "output_type": "display_data"
    },
    {
     "name": "stdout",
     "output_type": "stream",
     "text": [
      "Processed 13600000 rows\r"
     ]
    },
    {
     "data": {
      "text/plain": [
       "FloatProgress(value=0.0, layout=Layout(width='auto'), style=ProgressStyle(bar_color='black'))"
      ],
      "application/vnd.jupyter.widget-view+json": {
       "version_major": 2,
       "version_minor": 0,
       "model_id": "fe40393704ba44fbb92f7fe9f77c31db"
      }
     },
     "metadata": {},
     "output_type": "display_data"
    },
    {
     "name": "stdout",
     "output_type": "stream",
     "text": [
      "Processed 13700000 rows\r"
     ]
    },
    {
     "data": {
      "text/plain": [
       "FloatProgress(value=0.0, layout=Layout(width='auto'), style=ProgressStyle(bar_color='black'))"
      ],
      "application/vnd.jupyter.widget-view+json": {
       "version_major": 2,
       "version_minor": 0,
       "model_id": "3d7ef2ab941d4cd28fe5c9826c5ad5e9"
      }
     },
     "metadata": {},
     "output_type": "display_data"
    },
    {
     "name": "stdout",
     "output_type": "stream",
     "text": [
      "Processed 13800000 rows\r"
     ]
    },
    {
     "data": {
      "text/plain": [
       "FloatProgress(value=0.0, layout=Layout(width='auto'), style=ProgressStyle(bar_color='black'))"
      ],
      "application/vnd.jupyter.widget-view+json": {
       "version_major": 2,
       "version_minor": 0,
       "model_id": "e45d15d6786442eb9177c08841f8a030"
      }
     },
     "metadata": {},
     "output_type": "display_data"
    },
    {
     "name": "stdout",
     "output_type": "stream",
     "text": [
      "Processed 13900000 rows\r"
     ]
    },
    {
     "data": {
      "text/plain": [
       "FloatProgress(value=0.0, layout=Layout(width='auto'), style=ProgressStyle(bar_color='black'))"
      ],
      "application/vnd.jupyter.widget-view+json": {
       "version_major": 2,
       "version_minor": 0,
       "model_id": "4afda844330546f49bc1833b51e1c7a8"
      }
     },
     "metadata": {},
     "output_type": "display_data"
    },
    {
     "name": "stdout",
     "output_type": "stream",
     "text": [
      "Processed 14000000 rows\r"
     ]
    },
    {
     "data": {
      "text/plain": [
       "FloatProgress(value=0.0, layout=Layout(width='auto'), style=ProgressStyle(bar_color='black'))"
      ],
      "application/vnd.jupyter.widget-view+json": {
       "version_major": 2,
       "version_minor": 0,
       "model_id": "8cf86ad1bacd47dda798b9649c37156b"
      }
     },
     "metadata": {},
     "output_type": "display_data"
    },
    {
     "name": "stdout",
     "output_type": "stream",
     "text": [
      "Processed 14100000 rows\r"
     ]
    },
    {
     "data": {
      "text/plain": [
       "FloatProgress(value=0.0, layout=Layout(width='auto'), style=ProgressStyle(bar_color='black'))"
      ],
      "application/vnd.jupyter.widget-view+json": {
       "version_major": 2,
       "version_minor": 0,
       "model_id": "e0b6c89f302f42b1a7295ab69d0eef0f"
      }
     },
     "metadata": {},
     "output_type": "display_data"
    },
    {
     "name": "stdout",
     "output_type": "stream",
     "text": [
      "Processed 14200000 rows\r"
     ]
    },
    {
     "data": {
      "text/plain": [
       "FloatProgress(value=0.0, layout=Layout(width='auto'), style=ProgressStyle(bar_color='black'))"
      ],
      "application/vnd.jupyter.widget-view+json": {
       "version_major": 2,
       "version_minor": 0,
       "model_id": "9695c99c3dac4cfcb33c1ef3c30b0ccb"
      }
     },
     "metadata": {},
     "output_type": "display_data"
    },
    {
     "name": "stdout",
     "output_type": "stream",
     "text": [
      "Processed 14300000 rows\r"
     ]
    },
    {
     "data": {
      "text/plain": [
       "FloatProgress(value=0.0, layout=Layout(width='auto'), style=ProgressStyle(bar_color='black'))"
      ],
      "application/vnd.jupyter.widget-view+json": {
       "version_major": 2,
       "version_minor": 0,
       "model_id": "80f7065061b4484d91c4e8c5b6097358"
      }
     },
     "metadata": {},
     "output_type": "display_data"
    },
    {
     "name": "stdout",
     "output_type": "stream",
     "text": [
      "Processed 14400000 rows\r"
     ]
    },
    {
     "data": {
      "text/plain": [
       "FloatProgress(value=0.0, layout=Layout(width='auto'), style=ProgressStyle(bar_color='black'))"
      ],
      "application/vnd.jupyter.widget-view+json": {
       "version_major": 2,
       "version_minor": 0,
       "model_id": "239658877d07485aaf9639157b4daa91"
      }
     },
     "metadata": {},
     "output_type": "display_data"
    },
    {
     "name": "stdout",
     "output_type": "stream",
     "text": [
      "Processed 14500000 rows\r"
     ]
    },
    {
     "data": {
      "text/plain": [
       "FloatProgress(value=0.0, layout=Layout(width='auto'), style=ProgressStyle(bar_color='black'))"
      ],
      "application/vnd.jupyter.widget-view+json": {
       "version_major": 2,
       "version_minor": 0,
       "model_id": "2ebc8966fc6c4cf5a41843ff792e771c"
      }
     },
     "metadata": {},
     "output_type": "display_data"
    },
    {
     "name": "stdout",
     "output_type": "stream",
     "text": [
      "Processed 14600000 rows\r"
     ]
    },
    {
     "data": {
      "text/plain": [
       "FloatProgress(value=0.0, layout=Layout(width='auto'), style=ProgressStyle(bar_color='black'))"
      ],
      "application/vnd.jupyter.widget-view+json": {
       "version_major": 2,
       "version_minor": 0,
       "model_id": "4f71fa682b7a4889b71ada3b4e8250ec"
      }
     },
     "metadata": {},
     "output_type": "display_data"
    },
    {
     "name": "stdout",
     "output_type": "stream",
     "text": [
      "Processed 14700000 rows\r"
     ]
    },
    {
     "data": {
      "text/plain": [
       "FloatProgress(value=0.0, layout=Layout(width='auto'), style=ProgressStyle(bar_color='black'))"
      ],
      "application/vnd.jupyter.widget-view+json": {
       "version_major": 2,
       "version_minor": 0,
       "model_id": "9ca31b88296f43fc9923bb01ecca057a"
      }
     },
     "metadata": {},
     "output_type": "display_data"
    },
    {
     "name": "stdout",
     "output_type": "stream",
     "text": [
      "Processed 14800000 rows\r"
     ]
    },
    {
     "data": {
      "text/plain": [
       "FloatProgress(value=0.0, layout=Layout(width='auto'), style=ProgressStyle(bar_color='black'))"
      ],
      "application/vnd.jupyter.widget-view+json": {
       "version_major": 2,
       "version_minor": 0,
       "model_id": "2eae3928807b4e61bdf940ab5fe1081b"
      }
     },
     "metadata": {},
     "output_type": "display_data"
    },
    {
     "name": "stdout",
     "output_type": "stream",
     "text": [
      "Processed 14900000 rows\r"
     ]
    },
    {
     "data": {
      "text/plain": [
       "FloatProgress(value=0.0, layout=Layout(width='auto'), style=ProgressStyle(bar_color='black'))"
      ],
      "application/vnd.jupyter.widget-view+json": {
       "version_major": 2,
       "version_minor": 0,
       "model_id": "3ca3dc96d4d54a2ba424eea07493de6a"
      }
     },
     "metadata": {},
     "output_type": "display_data"
    },
    {
     "name": "stdout",
     "output_type": "stream",
     "text": [
      "Processed 15000000 rows\r"
     ]
    },
    {
     "data": {
      "text/plain": [
       "FloatProgress(value=0.0, layout=Layout(width='auto'), style=ProgressStyle(bar_color='black'))"
      ],
      "application/vnd.jupyter.widget-view+json": {
       "version_major": 2,
       "version_minor": 0,
       "model_id": "41d8d489b9f34e41bab54e9bb7629048"
      }
     },
     "metadata": {},
     "output_type": "display_data"
    },
    {
     "name": "stdout",
     "output_type": "stream",
     "text": [
      "Processed 15100000 rows\r"
     ]
    },
    {
     "data": {
      "text/plain": [
       "FloatProgress(value=0.0, layout=Layout(width='auto'), style=ProgressStyle(bar_color='black'))"
      ],
      "application/vnd.jupyter.widget-view+json": {
       "version_major": 2,
       "version_minor": 0,
       "model_id": "fb2ab8e1972b445192cebe1ae56c0a73"
      }
     },
     "metadata": {},
     "output_type": "display_data"
    },
    {
     "name": "stdout",
     "output_type": "stream",
     "text": [
      "Processed 15200000 rows\r"
     ]
    },
    {
     "data": {
      "text/plain": [
       "FloatProgress(value=0.0, layout=Layout(width='auto'), style=ProgressStyle(bar_color='black'))"
      ],
      "application/vnd.jupyter.widget-view+json": {
       "version_major": 2,
       "version_minor": 0,
       "model_id": "b5ebaf2f40884303b283b27159b6a7ae"
      }
     },
     "metadata": {},
     "output_type": "display_data"
    },
    {
     "name": "stdout",
     "output_type": "stream",
     "text": [
      "Processed 15300000 rows\r"
     ]
    },
    {
     "data": {
      "text/plain": [
       "FloatProgress(value=0.0, layout=Layout(width='auto'), style=ProgressStyle(bar_color='black'))"
      ],
      "application/vnd.jupyter.widget-view+json": {
       "version_major": 2,
       "version_minor": 0,
       "model_id": "658f15beecd041418482e706b5ab56d1"
      }
     },
     "metadata": {},
     "output_type": "display_data"
    },
    {
     "name": "stdout",
     "output_type": "stream",
     "text": [
      "Processed 15400000 rows\r"
     ]
    },
    {
     "data": {
      "text/plain": [
       "FloatProgress(value=0.0, layout=Layout(width='auto'), style=ProgressStyle(bar_color='black'))"
      ],
      "application/vnd.jupyter.widget-view+json": {
       "version_major": 2,
       "version_minor": 0,
       "model_id": "5e0875ee4372407b996b9b3e3e1cdd3c"
      }
     },
     "metadata": {},
     "output_type": "display_data"
    },
    {
     "name": "stdout",
     "output_type": "stream",
     "text": [
      "Processed 15500000 rows\r"
     ]
    },
    {
     "data": {
      "text/plain": [
       "FloatProgress(value=0.0, layout=Layout(width='auto'), style=ProgressStyle(bar_color='black'))"
      ],
      "application/vnd.jupyter.widget-view+json": {
       "version_major": 2,
       "version_minor": 0,
       "model_id": "6b4fc6a0d9f747da8ec1ced4cd573c65"
      }
     },
     "metadata": {},
     "output_type": "display_data"
    },
    {
     "name": "stdout",
     "output_type": "stream",
     "text": [
      "Processed 15600000 rows\r"
     ]
    },
    {
     "data": {
      "text/plain": [
       "FloatProgress(value=0.0, layout=Layout(width='auto'), style=ProgressStyle(bar_color='black'))"
      ],
      "application/vnd.jupyter.widget-view+json": {
       "version_major": 2,
       "version_minor": 0,
       "model_id": "76a984ff24234334ac70f13dd68bd30b"
      }
     },
     "metadata": {},
     "output_type": "display_data"
    },
    {
     "name": "stdout",
     "output_type": "stream",
     "text": [
      "Processed 15700000 rows\r"
     ]
    },
    {
     "data": {
      "text/plain": [
       "FloatProgress(value=0.0, layout=Layout(width='auto'), style=ProgressStyle(bar_color='black'))"
      ],
      "application/vnd.jupyter.widget-view+json": {
       "version_major": 2,
       "version_minor": 0,
       "model_id": "2abd8124e8764c04a40e5e90463e77a7"
      }
     },
     "metadata": {},
     "output_type": "display_data"
    },
    {
     "name": "stdout",
     "output_type": "stream",
     "text": [
      "Processed 15800000 rows\r"
     ]
    },
    {
     "data": {
      "text/plain": [
       "FloatProgress(value=0.0, layout=Layout(width='auto'), style=ProgressStyle(bar_color='black'))"
      ],
      "application/vnd.jupyter.widget-view+json": {
       "version_major": 2,
       "version_minor": 0,
       "model_id": "67da244389294e66b581446ee6f0bd5c"
      }
     },
     "metadata": {},
     "output_type": "display_data"
    },
    {
     "name": "stdout",
     "output_type": "stream",
     "text": [
      "Processed 15900000 rows\r"
     ]
    },
    {
     "data": {
      "text/plain": [
       "FloatProgress(value=0.0, layout=Layout(width='auto'), style=ProgressStyle(bar_color='black'))"
      ],
      "application/vnd.jupyter.widget-view+json": {
       "version_major": 2,
       "version_minor": 0,
       "model_id": "82d4a4158ae640feb665e49915ae8ef8"
      }
     },
     "metadata": {},
     "output_type": "display_data"
    },
    {
     "name": "stdout",
     "output_type": "stream",
     "text": [
      "Processed 16000000 rows\r"
     ]
    },
    {
     "data": {
      "text/plain": [
       "FloatProgress(value=0.0, layout=Layout(width='auto'), style=ProgressStyle(bar_color='black'))"
      ],
      "application/vnd.jupyter.widget-view+json": {
       "version_major": 2,
       "version_minor": 0,
       "model_id": "1617e1a24c6545c6af41aa0ca9415cb8"
      }
     },
     "metadata": {},
     "output_type": "display_data"
    },
    {
     "name": "stdout",
     "output_type": "stream",
     "text": [
      "Processed 16100000 rows\r"
     ]
    },
    {
     "data": {
      "text/plain": [
       "FloatProgress(value=0.0, layout=Layout(width='auto'), style=ProgressStyle(bar_color='black'))"
      ],
      "application/vnd.jupyter.widget-view+json": {
       "version_major": 2,
       "version_minor": 0,
       "model_id": "56f73d39c72943389226bf447629bb56"
      }
     },
     "metadata": {},
     "output_type": "display_data"
    },
    {
     "name": "stdout",
     "output_type": "stream",
     "text": [
      "Processed 16200000 rows\r"
     ]
    },
    {
     "data": {
      "text/plain": [
       "FloatProgress(value=0.0, layout=Layout(width='auto'), style=ProgressStyle(bar_color='black'))"
      ],
      "application/vnd.jupyter.widget-view+json": {
       "version_major": 2,
       "version_minor": 0,
       "model_id": "cfd9fe29c89d413198e1ee62eb809c06"
      }
     },
     "metadata": {},
     "output_type": "display_data"
    },
    {
     "name": "stdout",
     "output_type": "stream",
     "text": [
      "Processed 16300000 rows\r"
     ]
    },
    {
     "data": {
      "text/plain": [
       "FloatProgress(value=0.0, layout=Layout(width='auto'), style=ProgressStyle(bar_color='black'))"
      ],
      "application/vnd.jupyter.widget-view+json": {
       "version_major": 2,
       "version_minor": 0,
       "model_id": "90a23179ca3d4543b8fce0b7cf015ca4"
      }
     },
     "metadata": {},
     "output_type": "display_data"
    },
    {
     "name": "stdout",
     "output_type": "stream",
     "text": [
      "Processed 16400000 rows\r"
     ]
    },
    {
     "data": {
      "text/plain": [
       "FloatProgress(value=0.0, layout=Layout(width='auto'), style=ProgressStyle(bar_color='black'))"
      ],
      "application/vnd.jupyter.widget-view+json": {
       "version_major": 2,
       "version_minor": 0,
       "model_id": "dc53a7f151dc4c4485d34603d2f6f8ff"
      }
     },
     "metadata": {},
     "output_type": "display_data"
    },
    {
     "name": "stdout",
     "output_type": "stream",
     "text": [
      "Processed 16500000 rows\r"
     ]
    },
    {
     "data": {
      "text/plain": [
       "FloatProgress(value=0.0, layout=Layout(width='auto'), style=ProgressStyle(bar_color='black'))"
      ],
      "application/vnd.jupyter.widget-view+json": {
       "version_major": 2,
       "version_minor": 0,
       "model_id": "a5bcdc4cfc9b4ebda1938f523caa555a"
      }
     },
     "metadata": {},
     "output_type": "display_data"
    },
    {
     "name": "stdout",
     "output_type": "stream",
     "text": [
      "Processed 16600000 rows\r"
     ]
    },
    {
     "data": {
      "text/plain": [
       "FloatProgress(value=0.0, layout=Layout(width='auto'), style=ProgressStyle(bar_color='black'))"
      ],
      "application/vnd.jupyter.widget-view+json": {
       "version_major": 2,
       "version_minor": 0,
       "model_id": "4181db08d42c4c758db460e1ff1f521c"
      }
     },
     "metadata": {},
     "output_type": "display_data"
    },
    {
     "name": "stdout",
     "output_type": "stream",
     "text": [
      "Processed 16700000 rows\r"
     ]
    },
    {
     "data": {
      "text/plain": [
       "FloatProgress(value=0.0, layout=Layout(width='auto'), style=ProgressStyle(bar_color='black'))"
      ],
      "application/vnd.jupyter.widget-view+json": {
       "version_major": 2,
       "version_minor": 0,
       "model_id": "a6011bacd5c642c093063fdda42b3bd0"
      }
     },
     "metadata": {},
     "output_type": "display_data"
    },
    {
     "name": "stdout",
     "output_type": "stream",
     "text": [
      "Processed 16800000 rows\r"
     ]
    },
    {
     "data": {
      "text/plain": [
       "FloatProgress(value=0.0, layout=Layout(width='auto'), style=ProgressStyle(bar_color='black'))"
      ],
      "application/vnd.jupyter.widget-view+json": {
       "version_major": 2,
       "version_minor": 0,
       "model_id": "7a1986cffb9e4e628d8ddfcb36c63a80"
      }
     },
     "metadata": {},
     "output_type": "display_data"
    },
    {
     "name": "stdout",
     "output_type": "stream",
     "text": [
      "Processed 16900000 rows\r"
     ]
    },
    {
     "data": {
      "text/plain": [
       "FloatProgress(value=0.0, layout=Layout(width='auto'), style=ProgressStyle(bar_color='black'))"
      ],
      "application/vnd.jupyter.widget-view+json": {
       "version_major": 2,
       "version_minor": 0,
       "model_id": "0d194bd1719b4d00a04bd913cbbba2d5"
      }
     },
     "metadata": {},
     "output_type": "display_data"
    },
    {
     "name": "stdout",
     "output_type": "stream",
     "text": [
      "Processed 17000000 rows\r"
     ]
    },
    {
     "data": {
      "text/plain": [
       "FloatProgress(value=0.0, layout=Layout(width='auto'), style=ProgressStyle(bar_color='black'))"
      ],
      "application/vnd.jupyter.widget-view+json": {
       "version_major": 2,
       "version_minor": 0,
       "model_id": "bed19d45122c4c9380f0a337cfd50486"
      }
     },
     "metadata": {},
     "output_type": "display_data"
    },
    {
     "name": "stdout",
     "output_type": "stream",
     "text": [
      "Processed 17100000 rows\r"
     ]
    },
    {
     "data": {
      "text/plain": [
       "FloatProgress(value=0.0, layout=Layout(width='auto'), style=ProgressStyle(bar_color='black'))"
      ],
      "application/vnd.jupyter.widget-view+json": {
       "version_major": 2,
       "version_minor": 0,
       "model_id": "d5770ff76ac24950a32c78b3052bbcee"
      }
     },
     "metadata": {},
     "output_type": "display_data"
    },
    {
     "name": "stdout",
     "output_type": "stream",
     "text": [
      "Processed 17200000 rows\r"
     ]
    },
    {
     "data": {
      "text/plain": [
       "FloatProgress(value=0.0, layout=Layout(width='auto'), style=ProgressStyle(bar_color='black'))"
      ],
      "application/vnd.jupyter.widget-view+json": {
       "version_major": 2,
       "version_minor": 0,
       "model_id": "b03f72ea34d840838d8d3f7adb386ef8"
      }
     },
     "metadata": {},
     "output_type": "display_data"
    },
    {
     "name": "stdout",
     "output_type": "stream",
     "text": [
      "Processed 17300000 rows\r"
     ]
    },
    {
     "data": {
      "text/plain": [
       "FloatProgress(value=0.0, layout=Layout(width='auto'), style=ProgressStyle(bar_color='black'))"
      ],
      "application/vnd.jupyter.widget-view+json": {
       "version_major": 2,
       "version_minor": 0,
       "model_id": "c83f96d332784e41b77d4b97d3a6bc4b"
      }
     },
     "metadata": {},
     "output_type": "display_data"
    },
    {
     "name": "stdout",
     "output_type": "stream",
     "text": [
      "Processed 17400000 rows\r"
     ]
    },
    {
     "data": {
      "text/plain": [
       "FloatProgress(value=0.0, layout=Layout(width='auto'), style=ProgressStyle(bar_color='black'))"
      ],
      "application/vnd.jupyter.widget-view+json": {
       "version_major": 2,
       "version_minor": 0,
       "model_id": "15a5deef9b254c4da8ce6d3d3e2fc869"
      }
     },
     "metadata": {},
     "output_type": "display_data"
    },
    {
     "name": "stdout",
     "output_type": "stream",
     "text": [
      "Processed 17500000 rows\r"
     ]
    },
    {
     "data": {
      "text/plain": [
       "FloatProgress(value=0.0, layout=Layout(width='auto'), style=ProgressStyle(bar_color='black'))"
      ],
      "application/vnd.jupyter.widget-view+json": {
       "version_major": 2,
       "version_minor": 0,
       "model_id": "3d8e1cb9657f4e29b4bf8522e7beac1b"
      }
     },
     "metadata": {},
     "output_type": "display_data"
    },
    {
     "name": "stdout",
     "output_type": "stream",
     "text": [
      "Processed 17600000 rows\r"
     ]
    },
    {
     "data": {
      "text/plain": [
       "FloatProgress(value=0.0, layout=Layout(width='auto'), style=ProgressStyle(bar_color='black'))"
      ],
      "application/vnd.jupyter.widget-view+json": {
       "version_major": 2,
       "version_minor": 0,
       "model_id": "c528c4b506984cec825da2782fa0b27e"
      }
     },
     "metadata": {},
     "output_type": "display_data"
    },
    {
     "name": "stdout",
     "output_type": "stream",
     "text": [
      "Processed 17700000 rows\r"
     ]
    },
    {
     "data": {
      "text/plain": [
       "FloatProgress(value=0.0, layout=Layout(width='auto'), style=ProgressStyle(bar_color='black'))"
      ],
      "application/vnd.jupyter.widget-view+json": {
       "version_major": 2,
       "version_minor": 0,
       "model_id": "6e17f6a604bb4e008b5e20826dc7d138"
      }
     },
     "metadata": {},
     "output_type": "display_data"
    },
    {
     "name": "stdout",
     "output_type": "stream",
     "text": [
      "Processed 17800000 rows\r"
     ]
    },
    {
     "data": {
      "text/plain": [
       "FloatProgress(value=0.0, layout=Layout(width='auto'), style=ProgressStyle(bar_color='black'))"
      ],
      "application/vnd.jupyter.widget-view+json": {
       "version_major": 2,
       "version_minor": 0,
       "model_id": "048b1de565e44fbfb7c8778f1660adda"
      }
     },
     "metadata": {},
     "output_type": "display_data"
    },
    {
     "name": "stdout",
     "output_type": "stream",
     "text": [
      "Processed 17900000 rows\r"
     ]
    },
    {
     "data": {
      "text/plain": [
       "FloatProgress(value=0.0, layout=Layout(width='auto'), style=ProgressStyle(bar_color='black'))"
      ],
      "application/vnd.jupyter.widget-view+json": {
       "version_major": 2,
       "version_minor": 0,
       "model_id": "841c1786b08742938097405153e2645c"
      }
     },
     "metadata": {},
     "output_type": "display_data"
    },
    {
     "name": "stdout",
     "output_type": "stream",
     "text": [
      "Processed 18000000 rows\r"
     ]
    },
    {
     "data": {
      "text/plain": [
       "FloatProgress(value=0.0, layout=Layout(width='auto'), style=ProgressStyle(bar_color='black'))"
      ],
      "application/vnd.jupyter.widget-view+json": {
       "version_major": 2,
       "version_minor": 0,
       "model_id": "8f9186a862a840f4a1aa3e8a743334dc"
      }
     },
     "metadata": {},
     "output_type": "display_data"
    },
    {
     "name": "stdout",
     "output_type": "stream",
     "text": [
      "Processed 18100000 rows\r"
     ]
    },
    {
     "data": {
      "text/plain": [
       "FloatProgress(value=0.0, layout=Layout(width='auto'), style=ProgressStyle(bar_color='black'))"
      ],
      "application/vnd.jupyter.widget-view+json": {
       "version_major": 2,
       "version_minor": 0,
       "model_id": "cdc8017ee0bc4e729e8fa2ab0a0cefb4"
      }
     },
     "metadata": {},
     "output_type": "display_data"
    },
    {
     "name": "stdout",
     "output_type": "stream",
     "text": [
      "Processed 18200000 rows\r"
     ]
    },
    {
     "data": {
      "text/plain": [
       "FloatProgress(value=0.0, layout=Layout(width='auto'), style=ProgressStyle(bar_color='black'))"
      ],
      "application/vnd.jupyter.widget-view+json": {
       "version_major": 2,
       "version_minor": 0,
       "model_id": "eba48ed9ca794ac6a59ba731b9c9dc4a"
      }
     },
     "metadata": {},
     "output_type": "display_data"
    },
    {
     "name": "stdout",
     "output_type": "stream",
     "text": [
      "Processed 18300000 rows\r"
     ]
    },
    {
     "data": {
      "text/plain": [
       "FloatProgress(value=0.0, layout=Layout(width='auto'), style=ProgressStyle(bar_color='black'))"
      ],
      "application/vnd.jupyter.widget-view+json": {
       "version_major": 2,
       "version_minor": 0,
       "model_id": "cfb67a0a04d8450b98487b0f9195f147"
      }
     },
     "metadata": {},
     "output_type": "display_data"
    },
    {
     "name": "stdout",
     "output_type": "stream",
     "text": [
      "Processed 18400000 rows\r"
     ]
    },
    {
     "data": {
      "text/plain": [
       "FloatProgress(value=0.0, layout=Layout(width='auto'), style=ProgressStyle(bar_color='black'))"
      ],
      "application/vnd.jupyter.widget-view+json": {
       "version_major": 2,
       "version_minor": 0,
       "model_id": "191c6859c2ab464d91e7970106d97b8b"
      }
     },
     "metadata": {},
     "output_type": "display_data"
    },
    {
     "name": "stdout",
     "output_type": "stream",
     "text": [
      "Processed 18500000 rows\r"
     ]
    },
    {
     "data": {
      "text/plain": [
       "FloatProgress(value=0.0, layout=Layout(width='auto'), style=ProgressStyle(bar_color='black'))"
      ],
      "application/vnd.jupyter.widget-view+json": {
       "version_major": 2,
       "version_minor": 0,
       "model_id": "7bbac148290d46649d4b63f763bc60c7"
      }
     },
     "metadata": {},
     "output_type": "display_data"
    },
    {
     "name": "stdout",
     "output_type": "stream",
     "text": [
      "Processed 18600000 rows\r"
     ]
    },
    {
     "data": {
      "text/plain": [
       "FloatProgress(value=0.0, layout=Layout(width='auto'), style=ProgressStyle(bar_color='black'))"
      ],
      "application/vnd.jupyter.widget-view+json": {
       "version_major": 2,
       "version_minor": 0,
       "model_id": "b5382aa4f3d141b292a3ea1b03da6c23"
      }
     },
     "metadata": {},
     "output_type": "display_data"
    },
    {
     "name": "stdout",
     "output_type": "stream",
     "text": [
      "Processed 18700000 rows\r"
     ]
    },
    {
     "data": {
      "text/plain": [
       "FloatProgress(value=0.0, layout=Layout(width='auto'), style=ProgressStyle(bar_color='black'))"
      ],
      "application/vnd.jupyter.widget-view+json": {
       "version_major": 2,
       "version_minor": 0,
       "model_id": "80839383533144b3aea2bf80cd5752d7"
      }
     },
     "metadata": {},
     "output_type": "display_data"
    },
    {
     "name": "stdout",
     "output_type": "stream",
     "text": [
      "Processed 18800000 rows\r"
     ]
    },
    {
     "data": {
      "text/plain": [
       "FloatProgress(value=0.0, layout=Layout(width='auto'), style=ProgressStyle(bar_color='black'))"
      ],
      "application/vnd.jupyter.widget-view+json": {
       "version_major": 2,
       "version_minor": 0,
       "model_id": "8890d48e014f41bd93c105ceb615c5d2"
      }
     },
     "metadata": {},
     "output_type": "display_data"
    },
    {
     "name": "stdout",
     "output_type": "stream",
     "text": [
      "Processed 18900000 rows\r"
     ]
    },
    {
     "data": {
      "text/plain": [
       "FloatProgress(value=0.0, layout=Layout(width='auto'), style=ProgressStyle(bar_color='black'))"
      ],
      "application/vnd.jupyter.widget-view+json": {
       "version_major": 2,
       "version_minor": 0,
       "model_id": "526899d985c749a79c35fdd52753db6d"
      }
     },
     "metadata": {},
     "output_type": "display_data"
    },
    {
     "name": "stdout",
     "output_type": "stream",
     "text": [
      "Processed 19000000 rows\r"
     ]
    },
    {
     "data": {
      "text/plain": [
       "FloatProgress(value=0.0, layout=Layout(width='auto'), style=ProgressStyle(bar_color='black'))"
      ],
      "application/vnd.jupyter.widget-view+json": {
       "version_major": 2,
       "version_minor": 0,
       "model_id": "84740d0066944576875e24f49529f55e"
      }
     },
     "metadata": {},
     "output_type": "display_data"
    },
    {
     "name": "stdout",
     "output_type": "stream",
     "text": [
      "Processed 19100000 rows\r"
     ]
    },
    {
     "data": {
      "text/plain": [
       "FloatProgress(value=0.0, layout=Layout(width='auto'), style=ProgressStyle(bar_color='black'))"
      ],
      "application/vnd.jupyter.widget-view+json": {
       "version_major": 2,
       "version_minor": 0,
       "model_id": "9eef9328b09b44cdbee07cfaacc09d3c"
      }
     },
     "metadata": {},
     "output_type": "display_data"
    },
    {
     "name": "stdout",
     "output_type": "stream",
     "text": [
      "Processed 19200000 rows\r"
     ]
    },
    {
     "data": {
      "text/plain": [
       "FloatProgress(value=0.0, layout=Layout(width='auto'), style=ProgressStyle(bar_color='black'))"
      ],
      "application/vnd.jupyter.widget-view+json": {
       "version_major": 2,
       "version_minor": 0,
       "model_id": "3936087ed0ed40028be7899f6b7f47d6"
      }
     },
     "metadata": {},
     "output_type": "display_data"
    },
    {
     "name": "stdout",
     "output_type": "stream",
     "text": [
      "Processed 19300000 rows\r"
     ]
    },
    {
     "data": {
      "text/plain": [
       "FloatProgress(value=0.0, layout=Layout(width='auto'), style=ProgressStyle(bar_color='black'))"
      ],
      "application/vnd.jupyter.widget-view+json": {
       "version_major": 2,
       "version_minor": 0,
       "model_id": "17f4346c63714168b6816832336291dc"
      }
     },
     "metadata": {},
     "output_type": "display_data"
    },
    {
     "name": "stdout",
     "output_type": "stream",
     "text": [
      "Processed 19400000 rows\r"
     ]
    },
    {
     "data": {
      "text/plain": [
       "FloatProgress(value=0.0, layout=Layout(width='auto'), style=ProgressStyle(bar_color='black'))"
      ],
      "application/vnd.jupyter.widget-view+json": {
       "version_major": 2,
       "version_minor": 0,
       "model_id": "48bafca3f89547a68b7ab5e408b3a824"
      }
     },
     "metadata": {},
     "output_type": "display_data"
    },
    {
     "name": "stdout",
     "output_type": "stream",
     "text": [
      "Processed 19500000 rows\r"
     ]
    },
    {
     "data": {
      "text/plain": [
       "FloatProgress(value=0.0, layout=Layout(width='auto'), style=ProgressStyle(bar_color='black'))"
      ],
      "application/vnd.jupyter.widget-view+json": {
       "version_major": 2,
       "version_minor": 0,
       "model_id": "4bc9c1a827b1432ebe593488594b302b"
      }
     },
     "metadata": {},
     "output_type": "display_data"
    },
    {
     "name": "stdout",
     "output_type": "stream",
     "text": [
      "Processed 19600000 rows\r"
     ]
    },
    {
     "data": {
      "text/plain": [
       "FloatProgress(value=0.0, layout=Layout(width='auto'), style=ProgressStyle(bar_color='black'))"
      ],
      "application/vnd.jupyter.widget-view+json": {
       "version_major": 2,
       "version_minor": 0,
       "model_id": "5665bf215ce6440c874e6d6a8d29a83c"
      }
     },
     "metadata": {},
     "output_type": "display_data"
    },
    {
     "name": "stdout",
     "output_type": "stream",
     "text": [
      "Processed 19700000 rows\r"
     ]
    },
    {
     "data": {
      "text/plain": [
       "FloatProgress(value=0.0, layout=Layout(width='auto'), style=ProgressStyle(bar_color='black'))"
      ],
      "application/vnd.jupyter.widget-view+json": {
       "version_major": 2,
       "version_minor": 0,
       "model_id": "dfd91d42443746ca8b54259f60998479"
      }
     },
     "metadata": {},
     "output_type": "display_data"
    },
    {
     "name": "stdout",
     "output_type": "stream",
     "text": [
      "Processed 19800000 rows\r"
     ]
    },
    {
     "data": {
      "text/plain": [
       "FloatProgress(value=0.0, layout=Layout(width='auto'), style=ProgressStyle(bar_color='black'))"
      ],
      "application/vnd.jupyter.widget-view+json": {
       "version_major": 2,
       "version_minor": 0,
       "model_id": "328e2ce03b2d4a86aa1b2b71bbaafa27"
      }
     },
     "metadata": {},
     "output_type": "display_data"
    },
    {
     "name": "stdout",
     "output_type": "stream",
     "text": [
      "Processed 19900000 rows\r"
     ]
    },
    {
     "data": {
      "text/plain": [
       "FloatProgress(value=0.0, layout=Layout(width='auto'), style=ProgressStyle(bar_color='black'))"
      ],
      "application/vnd.jupyter.widget-view+json": {
       "version_major": 2,
       "version_minor": 0,
       "model_id": "7c376a92f6eb43f1ba82e52e2649ddad"
      }
     },
     "metadata": {},
     "output_type": "display_data"
    },
    {
     "name": "stdout",
     "output_type": "stream",
     "text": [
      "Processed 20000000 rows\r"
     ]
    },
    {
     "data": {
      "text/plain": [
       "FloatProgress(value=0.0, layout=Layout(width='auto'), style=ProgressStyle(bar_color='black'))"
      ],
      "application/vnd.jupyter.widget-view+json": {
       "version_major": 2,
       "version_minor": 0,
       "model_id": "ce28732b652c4932b2a759ba5d544f3a"
      }
     },
     "metadata": {},
     "output_type": "display_data"
    },
    {
     "name": "stdout",
     "output_type": "stream",
     "text": [
      "Processed 20100000 rows\r"
     ]
    },
    {
     "data": {
      "text/plain": [
       "FloatProgress(value=0.0, layout=Layout(width='auto'), style=ProgressStyle(bar_color='black'))"
      ],
      "application/vnd.jupyter.widget-view+json": {
       "version_major": 2,
       "version_minor": 0,
       "model_id": "0876947da8fa4500ab8bf08eeffb5268"
      }
     },
     "metadata": {},
     "output_type": "display_data"
    },
    {
     "name": "stdout",
     "output_type": "stream",
     "text": [
      "Processed 20200000 rows\r"
     ]
    },
    {
     "data": {
      "text/plain": [
       "FloatProgress(value=0.0, layout=Layout(width='auto'), style=ProgressStyle(bar_color='black'))"
      ],
      "application/vnd.jupyter.widget-view+json": {
       "version_major": 2,
       "version_minor": 0,
       "model_id": "9e327f4bfc664f7fbc4fe7349ab52c52"
      }
     },
     "metadata": {},
     "output_type": "display_data"
    },
    {
     "name": "stdout",
     "output_type": "stream",
     "text": [
      "Processed 20300000 rows\r"
     ]
    },
    {
     "data": {
      "text/plain": [
       "FloatProgress(value=0.0, layout=Layout(width='auto'), style=ProgressStyle(bar_color='black'))"
      ],
      "application/vnd.jupyter.widget-view+json": {
       "version_major": 2,
       "version_minor": 0,
       "model_id": "d27e493d12c54dbabf3e1a62dc8b01e3"
      }
     },
     "metadata": {},
     "output_type": "display_data"
    },
    {
     "name": "stdout",
     "output_type": "stream",
     "text": [
      "Processed 20400000 rows\r"
     ]
    },
    {
     "data": {
      "text/plain": [
       "FloatProgress(value=0.0, layout=Layout(width='auto'), style=ProgressStyle(bar_color='black'))"
      ],
      "application/vnd.jupyter.widget-view+json": {
       "version_major": 2,
       "version_minor": 0,
       "model_id": "76d298313e384384bf6b81d0b4180a39"
      }
     },
     "metadata": {},
     "output_type": "display_data"
    },
    {
     "name": "stdout",
     "output_type": "stream",
     "text": [
      "Processed 20500000 rows\r"
     ]
    },
    {
     "data": {
      "text/plain": [
       "FloatProgress(value=0.0, layout=Layout(width='auto'), style=ProgressStyle(bar_color='black'))"
      ],
      "application/vnd.jupyter.widget-view+json": {
       "version_major": 2,
       "version_minor": 0,
       "model_id": "c4ddfa3171e5449f9ef2d0c55f9c0dba"
      }
     },
     "metadata": {},
     "output_type": "display_data"
    },
    {
     "name": "stdout",
     "output_type": "stream",
     "text": [
      "Processed 20600000 rows\r"
     ]
    },
    {
     "data": {
      "text/plain": [
       "FloatProgress(value=0.0, layout=Layout(width='auto'), style=ProgressStyle(bar_color='black'))"
      ],
      "application/vnd.jupyter.widget-view+json": {
       "version_major": 2,
       "version_minor": 0,
       "model_id": "98da46216ba34a6495c421d33cb7cab0"
      }
     },
     "metadata": {},
     "output_type": "display_data"
    },
    {
     "name": "stdout",
     "output_type": "stream",
     "text": [
      "Processed 20700000 rows\r"
     ]
    },
    {
     "data": {
      "text/plain": [
       "FloatProgress(value=0.0, layout=Layout(width='auto'), style=ProgressStyle(bar_color='black'))"
      ],
      "application/vnd.jupyter.widget-view+json": {
       "version_major": 2,
       "version_minor": 0,
       "model_id": "b2a643b0accc47aeafc31acea7622807"
      }
     },
     "metadata": {},
     "output_type": "display_data"
    },
    {
     "name": "stdout",
     "output_type": "stream",
     "text": [
      "Processed 20800000 rows\r"
     ]
    },
    {
     "data": {
      "text/plain": [
       "FloatProgress(value=0.0, layout=Layout(width='auto'), style=ProgressStyle(bar_color='black'))"
      ],
      "application/vnd.jupyter.widget-view+json": {
       "version_major": 2,
       "version_minor": 0,
       "model_id": "1552d0f1a53e47c3be0e2f66890062f6"
      }
     },
     "metadata": {},
     "output_type": "display_data"
    },
    {
     "name": "stdout",
     "output_type": "stream",
     "text": [
      "Processed 20900000 rows\r"
     ]
    },
    {
     "data": {
      "text/plain": [
       "FloatProgress(value=0.0, layout=Layout(width='auto'), style=ProgressStyle(bar_color='black'))"
      ],
      "application/vnd.jupyter.widget-view+json": {
       "version_major": 2,
       "version_minor": 0,
       "model_id": "b42fcf50efd549fe98078ae615e72524"
      }
     },
     "metadata": {},
     "output_type": "display_data"
    },
    {
     "name": "stdout",
     "output_type": "stream",
     "text": [
      "Processed 21000000 rows\r"
     ]
    },
    {
     "data": {
      "text/plain": [
       "FloatProgress(value=0.0, layout=Layout(width='auto'), style=ProgressStyle(bar_color='black'))"
      ],
      "application/vnd.jupyter.widget-view+json": {
       "version_major": 2,
       "version_minor": 0,
       "model_id": "9f32871f495840b993cac464cba1a534"
      }
     },
     "metadata": {},
     "output_type": "display_data"
    },
    {
     "name": "stdout",
     "output_type": "stream",
     "text": [
      "Processed 21100000 rows\r"
     ]
    },
    {
     "data": {
      "text/plain": [
       "FloatProgress(value=0.0, layout=Layout(width='auto'), style=ProgressStyle(bar_color='black'))"
      ],
      "application/vnd.jupyter.widget-view+json": {
       "version_major": 2,
       "version_minor": 0,
       "model_id": "b7e737c3362743e098b8d4d36e006f64"
      }
     },
     "metadata": {},
     "output_type": "display_data"
    },
    {
     "name": "stdout",
     "output_type": "stream",
     "text": [
      "Processed 21200000 rows\r"
     ]
    },
    {
     "data": {
      "text/plain": [
       "FloatProgress(value=0.0, layout=Layout(width='auto'), style=ProgressStyle(bar_color='black'))"
      ],
      "application/vnd.jupyter.widget-view+json": {
       "version_major": 2,
       "version_minor": 0,
       "model_id": "262fa9b7d71f48378cdf30e44f19b6af"
      }
     },
     "metadata": {},
     "output_type": "display_data"
    },
    {
     "name": "stdout",
     "output_type": "stream",
     "text": [
      "Processed 21300000 rows\r"
     ]
    },
    {
     "data": {
      "text/plain": [
       "FloatProgress(value=0.0, layout=Layout(width='auto'), style=ProgressStyle(bar_color='black'))"
      ],
      "application/vnd.jupyter.widget-view+json": {
       "version_major": 2,
       "version_minor": 0,
       "model_id": "268d33b314f14b8497c09bdc762c4cad"
      }
     },
     "metadata": {},
     "output_type": "display_data"
    },
    {
     "name": "stdout",
     "output_type": "stream",
     "text": [
      "Processed 21400000 rows\r"
     ]
    },
    {
     "data": {
      "text/plain": [
       "FloatProgress(value=0.0, layout=Layout(width='auto'), style=ProgressStyle(bar_color='black'))"
      ],
      "application/vnd.jupyter.widget-view+json": {
       "version_major": 2,
       "version_minor": 0,
       "model_id": "e2ef34a50a8d4905ad4d2ae2c41720f8"
      }
     },
     "metadata": {},
     "output_type": "display_data"
    },
    {
     "name": "stdout",
     "output_type": "stream",
     "text": [
      "Processed 21500000 rows\r"
     ]
    },
    {
     "data": {
      "text/plain": [
       "FloatProgress(value=0.0, layout=Layout(width='auto'), style=ProgressStyle(bar_color='black'))"
      ],
      "application/vnd.jupyter.widget-view+json": {
       "version_major": 2,
       "version_minor": 0,
       "model_id": "f9a7d7e6cf2c4227a7eea61acd6d68e0"
      }
     },
     "metadata": {},
     "output_type": "display_data"
    },
    {
     "name": "stdout",
     "output_type": "stream",
     "text": [
      "Processed 21600000 rows\r"
     ]
    },
    {
     "data": {
      "text/plain": [
       "FloatProgress(value=0.0, layout=Layout(width='auto'), style=ProgressStyle(bar_color='black'))"
      ],
      "application/vnd.jupyter.widget-view+json": {
       "version_major": 2,
       "version_minor": 0,
       "model_id": "8926fff3ad924b60877deaa30389f097"
      }
     },
     "metadata": {},
     "output_type": "display_data"
    },
    {
     "name": "stdout",
     "output_type": "stream",
     "text": [
      "Processed 21700000 rows\r"
     ]
    },
    {
     "data": {
      "text/plain": [
       "FloatProgress(value=0.0, layout=Layout(width='auto'), style=ProgressStyle(bar_color='black'))"
      ],
      "application/vnd.jupyter.widget-view+json": {
       "version_major": 2,
       "version_minor": 0,
       "model_id": "3d0d4cc07473445387974359b053df4d"
      }
     },
     "metadata": {},
     "output_type": "display_data"
    },
    {
     "name": "stdout",
     "output_type": "stream",
     "text": [
      "Processed 21800000 rows\r"
     ]
    },
    {
     "data": {
      "text/plain": [
       "FloatProgress(value=0.0, layout=Layout(width='auto'), style=ProgressStyle(bar_color='black'))"
      ],
      "application/vnd.jupyter.widget-view+json": {
       "version_major": 2,
       "version_minor": 0,
       "model_id": "b048311438554c11ace5318ab78838df"
      }
     },
     "metadata": {},
     "output_type": "display_data"
    },
    {
     "name": "stdout",
     "output_type": "stream",
     "text": [
      "Processed 21900000 rows\r"
     ]
    },
    {
     "data": {
      "text/plain": [
       "FloatProgress(value=0.0, layout=Layout(width='auto'), style=ProgressStyle(bar_color='black'))"
      ],
      "application/vnd.jupyter.widget-view+json": {
       "version_major": 2,
       "version_minor": 0,
       "model_id": "bdcccc32194946e097a62d1189f55eef"
      }
     },
     "metadata": {},
     "output_type": "display_data"
    },
    {
     "name": "stdout",
     "output_type": "stream",
     "text": [
      "Processed 22000000 rows\r"
     ]
    },
    {
     "data": {
      "text/plain": [
       "FloatProgress(value=0.0, layout=Layout(width='auto'), style=ProgressStyle(bar_color='black'))"
      ],
      "application/vnd.jupyter.widget-view+json": {
       "version_major": 2,
       "version_minor": 0,
       "model_id": "3065baaf1dbb446c9935d801b14029c2"
      }
     },
     "metadata": {},
     "output_type": "display_data"
    },
    {
     "name": "stdout",
     "output_type": "stream",
     "text": [
      "Processed 22100000 rows\r"
     ]
    },
    {
     "data": {
      "text/plain": [
       "FloatProgress(value=0.0, layout=Layout(width='auto'), style=ProgressStyle(bar_color='black'))"
      ],
      "application/vnd.jupyter.widget-view+json": {
       "version_major": 2,
       "version_minor": 0,
       "model_id": "28e9cc5254a140478c64cdb1d5872907"
      }
     },
     "metadata": {},
     "output_type": "display_data"
    },
    {
     "name": "stdout",
     "output_type": "stream",
     "text": [
      "Processed 22200000 rows\r"
     ]
    },
    {
     "data": {
      "text/plain": [
       "FloatProgress(value=0.0, layout=Layout(width='auto'), style=ProgressStyle(bar_color='black'))"
      ],
      "application/vnd.jupyter.widget-view+json": {
       "version_major": 2,
       "version_minor": 0,
       "model_id": "3697f40a5eba4a94ad913fa95bd3e861"
      }
     },
     "metadata": {},
     "output_type": "display_data"
    },
    {
     "name": "stdout",
     "output_type": "stream",
     "text": [
      "Processed 22300000 rows\r"
     ]
    },
    {
     "data": {
      "text/plain": [
       "FloatProgress(value=0.0, layout=Layout(width='auto'), style=ProgressStyle(bar_color='black'))"
      ],
      "application/vnd.jupyter.widget-view+json": {
       "version_major": 2,
       "version_minor": 0,
       "model_id": "24d39cade28f4f28acadcecebedc0442"
      }
     },
     "metadata": {},
     "output_type": "display_data"
    },
    {
     "name": "stdout",
     "output_type": "stream",
     "text": [
      "Processed 22400000 rows\r"
     ]
    },
    {
     "data": {
      "text/plain": [
       "FloatProgress(value=0.0, layout=Layout(width='auto'), style=ProgressStyle(bar_color='black'))"
      ],
      "application/vnd.jupyter.widget-view+json": {
       "version_major": 2,
       "version_minor": 0,
       "model_id": "53ee8ead2ae945e5bf429251e0db9e78"
      }
     },
     "metadata": {},
     "output_type": "display_data"
    },
    {
     "name": "stdout",
     "output_type": "stream",
     "text": [
      "Processed 22500000 rows\r"
     ]
    },
    {
     "data": {
      "text/plain": [
       "FloatProgress(value=0.0, layout=Layout(width='auto'), style=ProgressStyle(bar_color='black'))"
      ],
      "application/vnd.jupyter.widget-view+json": {
       "version_major": 2,
       "version_minor": 0,
       "model_id": "93be4f4de05f4c32b4e73e8fa79c134d"
      }
     },
     "metadata": {},
     "output_type": "display_data"
    },
    {
     "name": "stdout",
     "output_type": "stream",
     "text": [
      "Processed 22600000 rows\r"
     ]
    },
    {
     "data": {
      "text/plain": [
       "FloatProgress(value=0.0, layout=Layout(width='auto'), style=ProgressStyle(bar_color='black'))"
      ],
      "application/vnd.jupyter.widget-view+json": {
       "version_major": 2,
       "version_minor": 0,
       "model_id": "8a4b7e188a534322a814005341ed9f3c"
      }
     },
     "metadata": {},
     "output_type": "display_data"
    },
    {
     "name": "stdout",
     "output_type": "stream",
     "text": [
      "Processed 22700000 rows\r"
     ]
    },
    {
     "data": {
      "text/plain": [
       "FloatProgress(value=0.0, layout=Layout(width='auto'), style=ProgressStyle(bar_color='black'))"
      ],
      "application/vnd.jupyter.widget-view+json": {
       "version_major": 2,
       "version_minor": 0,
       "model_id": "e7da6c9c3001473aa3db3d2e9bcae185"
      }
     },
     "metadata": {},
     "output_type": "display_data"
    },
    {
     "name": "stdout",
     "output_type": "stream",
     "text": [
      "Processed 22800000 rows\r"
     ]
    },
    {
     "data": {
      "text/plain": [
       "FloatProgress(value=0.0, layout=Layout(width='auto'), style=ProgressStyle(bar_color='black'))"
      ],
      "application/vnd.jupyter.widget-view+json": {
       "version_major": 2,
       "version_minor": 0,
       "model_id": "733849c66e734fe9bc6c08c5e284d030"
      }
     },
     "metadata": {},
     "output_type": "display_data"
    },
    {
     "name": "stdout",
     "output_type": "stream",
     "text": [
      "Processed 22900000 rows\r"
     ]
    },
    {
     "data": {
      "text/plain": [
       "FloatProgress(value=0.0, layout=Layout(width='auto'), style=ProgressStyle(bar_color='black'))"
      ],
      "application/vnd.jupyter.widget-view+json": {
       "version_major": 2,
       "version_minor": 0,
       "model_id": "c68d541462834222af20e781a50bb7e1"
      }
     },
     "metadata": {},
     "output_type": "display_data"
    },
    {
     "name": "stdout",
     "output_type": "stream",
     "text": [
      "Processed 23000000 rows\r"
     ]
    },
    {
     "data": {
      "text/plain": [
       "FloatProgress(value=0.0, layout=Layout(width='auto'), style=ProgressStyle(bar_color='black'))"
      ],
      "application/vnd.jupyter.widget-view+json": {
       "version_major": 2,
       "version_minor": 0,
       "model_id": "1c3ca59691e24f408aab3e8f02b42c44"
      }
     },
     "metadata": {},
     "output_type": "display_data"
    },
    {
     "name": "stdout",
     "output_type": "stream",
     "text": [
      "Processed 23100000 rows\r"
     ]
    },
    {
     "data": {
      "text/plain": [
       "FloatProgress(value=0.0, layout=Layout(width='auto'), style=ProgressStyle(bar_color='black'))"
      ],
      "application/vnd.jupyter.widget-view+json": {
       "version_major": 2,
       "version_minor": 0,
       "model_id": "04333f85f08242c3b1cd734c2a0e1bb0"
      }
     },
     "metadata": {},
     "output_type": "display_data"
    },
    {
     "name": "stdout",
     "output_type": "stream",
     "text": [
      "Processed 23200000 rows\r"
     ]
    },
    {
     "data": {
      "text/plain": [
       "FloatProgress(value=0.0, layout=Layout(width='auto'), style=ProgressStyle(bar_color='black'))"
      ],
      "application/vnd.jupyter.widget-view+json": {
       "version_major": 2,
       "version_minor": 0,
       "model_id": "97f72c2227b040e6b5d6ef82010ee36b"
      }
     },
     "metadata": {},
     "output_type": "display_data"
    },
    {
     "name": "stdout",
     "output_type": "stream",
     "text": [
      "Processed 23300000 rows\r"
     ]
    },
    {
     "data": {
      "text/plain": [
       "FloatProgress(value=0.0, layout=Layout(width='auto'), style=ProgressStyle(bar_color='black'))"
      ],
      "application/vnd.jupyter.widget-view+json": {
       "version_major": 2,
       "version_minor": 0,
       "model_id": "1dc862feb88b4b2a80c5f144d8f9f711"
      }
     },
     "metadata": {},
     "output_type": "display_data"
    },
    {
     "name": "stdout",
     "output_type": "stream",
     "text": [
      "Processed 23400000 rows\r"
     ]
    },
    {
     "data": {
      "text/plain": [
       "FloatProgress(value=0.0, layout=Layout(width='auto'), style=ProgressStyle(bar_color='black'))"
      ],
      "application/vnd.jupyter.widget-view+json": {
       "version_major": 2,
       "version_minor": 0,
       "model_id": "cf34dc21ed3e4d4fbdcf64856ae19495"
      }
     },
     "metadata": {},
     "output_type": "display_data"
    },
    {
     "name": "stdout",
     "output_type": "stream",
     "text": [
      "Processed 23500000 rows\r"
     ]
    },
    {
     "data": {
      "text/plain": [
       "FloatProgress(value=0.0, layout=Layout(width='auto'), style=ProgressStyle(bar_color='black'))"
      ],
      "application/vnd.jupyter.widget-view+json": {
       "version_major": 2,
       "version_minor": 0,
       "model_id": "55d3fbb3c0c64827843c188d305119b0"
      }
     },
     "metadata": {},
     "output_type": "display_data"
    },
    {
     "name": "stdout",
     "output_type": "stream",
     "text": [
      "Processed 23600000 rows\r"
     ]
    },
    {
     "data": {
      "text/plain": [
       "FloatProgress(value=0.0, layout=Layout(width='auto'), style=ProgressStyle(bar_color='black'))"
      ],
      "application/vnd.jupyter.widget-view+json": {
       "version_major": 2,
       "version_minor": 0,
       "model_id": "c52337baa3af4f81a2306c7b62773849"
      }
     },
     "metadata": {},
     "output_type": "display_data"
    },
    {
     "name": "stdout",
     "output_type": "stream",
     "text": [
      "Processed 23700000 rows\r"
     ]
    },
    {
     "data": {
      "text/plain": [
       "FloatProgress(value=0.0, layout=Layout(width='auto'), style=ProgressStyle(bar_color='black'))"
      ],
      "application/vnd.jupyter.widget-view+json": {
       "version_major": 2,
       "version_minor": 0,
       "model_id": "c2ac3258fd0b448e94e318ebbad0b643"
      }
     },
     "metadata": {},
     "output_type": "display_data"
    },
    {
     "name": "stdout",
     "output_type": "stream",
     "text": [
      "Processed 23800000 rows\r"
     ]
    },
    {
     "data": {
      "text/plain": [
       "FloatProgress(value=0.0, layout=Layout(width='auto'), style=ProgressStyle(bar_color='black'))"
      ],
      "application/vnd.jupyter.widget-view+json": {
       "version_major": 2,
       "version_minor": 0,
       "model_id": "863c78ea89ba4f39ad4689f9329cecbe"
      }
     },
     "metadata": {},
     "output_type": "display_data"
    },
    {
     "name": "stdout",
     "output_type": "stream",
     "text": [
      "Processed 23900000 rows\r"
     ]
    },
    {
     "data": {
      "text/plain": [
       "FloatProgress(value=0.0, layout=Layout(width='auto'), style=ProgressStyle(bar_color='black'))"
      ],
      "application/vnd.jupyter.widget-view+json": {
       "version_major": 2,
       "version_minor": 0,
       "model_id": "797316864918413cb16a3deee81b9a0d"
      }
     },
     "metadata": {},
     "output_type": "display_data"
    },
    {
     "name": "stdout",
     "output_type": "stream",
     "text": [
      "Processed 24000000 rows\r"
     ]
    },
    {
     "data": {
      "text/plain": [
       "FloatProgress(value=0.0, layout=Layout(width='auto'), style=ProgressStyle(bar_color='black'))"
      ],
      "application/vnd.jupyter.widget-view+json": {
       "version_major": 2,
       "version_minor": 0,
       "model_id": "4f5649f0de654ef78f50ede11e13a07f"
      }
     },
     "metadata": {},
     "output_type": "display_data"
    },
    {
     "name": "stdout",
     "output_type": "stream",
     "text": [
      "Processed 24100000 rows\r"
     ]
    },
    {
     "data": {
      "text/plain": [
       "FloatProgress(value=0.0, layout=Layout(width='auto'), style=ProgressStyle(bar_color='black'))"
      ],
      "application/vnd.jupyter.widget-view+json": {
       "version_major": 2,
       "version_minor": 0,
       "model_id": "f3b80bb3141a4860af390e4378be35b7"
      }
     },
     "metadata": {},
     "output_type": "display_data"
    },
    {
     "name": "stdout",
     "output_type": "stream",
     "text": [
      "Processed 24200000 rows\r"
     ]
    },
    {
     "data": {
      "text/plain": [
       "FloatProgress(value=0.0, layout=Layout(width='auto'), style=ProgressStyle(bar_color='black'))"
      ],
      "application/vnd.jupyter.widget-view+json": {
       "version_major": 2,
       "version_minor": 0,
       "model_id": "68dd518c68974de3afb49512a29ca9b2"
      }
     },
     "metadata": {},
     "output_type": "display_data"
    },
    {
     "name": "stdout",
     "output_type": "stream",
     "text": [
      "Processed 24300000 rows\r"
     ]
    },
    {
     "data": {
      "text/plain": [
       "FloatProgress(value=0.0, layout=Layout(width='auto'), style=ProgressStyle(bar_color='black'))"
      ],
      "application/vnd.jupyter.widget-view+json": {
       "version_major": 2,
       "version_minor": 0,
       "model_id": "fe6ddd8dfadb4b16b47b7c7ceb166225"
      }
     },
     "metadata": {},
     "output_type": "display_data"
    },
    {
     "name": "stdout",
     "output_type": "stream",
     "text": [
      "Processed 24400000 rows\r"
     ]
    },
    {
     "data": {
      "text/plain": [
       "FloatProgress(value=0.0, layout=Layout(width='auto'), style=ProgressStyle(bar_color='black'))"
      ],
      "application/vnd.jupyter.widget-view+json": {
       "version_major": 2,
       "version_minor": 0,
       "model_id": "d6c642bbb9e24bbcb5dd779ac2f72e47"
      }
     },
     "metadata": {},
     "output_type": "display_data"
    },
    {
     "name": "stdout",
     "output_type": "stream",
     "text": [
      "Processed 24500000 rows\r"
     ]
    },
    {
     "data": {
      "text/plain": [
       "FloatProgress(value=0.0, layout=Layout(width='auto'), style=ProgressStyle(bar_color='black'))"
      ],
      "application/vnd.jupyter.widget-view+json": {
       "version_major": 2,
       "version_minor": 0,
       "model_id": "e380e128b7c14029b0559cd38503166d"
      }
     },
     "metadata": {},
     "output_type": "display_data"
    },
    {
     "name": "stdout",
     "output_type": "stream",
     "text": [
      "Processed 24600000 rows\r"
     ]
    },
    {
     "data": {
      "text/plain": [
       "FloatProgress(value=0.0, layout=Layout(width='auto'), style=ProgressStyle(bar_color='black'))"
      ],
      "application/vnd.jupyter.widget-view+json": {
       "version_major": 2,
       "version_minor": 0,
       "model_id": "1a965eac88154d69a7cbab7192754a64"
      }
     },
     "metadata": {},
     "output_type": "display_data"
    },
    {
     "name": "stdout",
     "output_type": "stream",
     "text": [
      "Processed 24700000 rows\r"
     ]
    },
    {
     "data": {
      "text/plain": [
       "FloatProgress(value=0.0, layout=Layout(width='auto'), style=ProgressStyle(bar_color='black'))"
      ],
      "application/vnd.jupyter.widget-view+json": {
       "version_major": 2,
       "version_minor": 0,
       "model_id": "5c29f8aa144c46bdbc4ef8fb636ecf66"
      }
     },
     "metadata": {},
     "output_type": "display_data"
    },
    {
     "name": "stdout",
     "output_type": "stream",
     "text": [
      "Processed 24800000 rows\r"
     ]
    },
    {
     "data": {
      "text/plain": [
       "FloatProgress(value=0.0, layout=Layout(width='auto'), style=ProgressStyle(bar_color='black'))"
      ],
      "application/vnd.jupyter.widget-view+json": {
       "version_major": 2,
       "version_minor": 0,
       "model_id": "06a50a9f4cc94ddf910cab531ba3675c"
      }
     },
     "metadata": {},
     "output_type": "display_data"
    },
    {
     "name": "stdout",
     "output_type": "stream",
     "text": [
      "Processed 24900000 rows\r"
     ]
    },
    {
     "data": {
      "text/plain": [
       "FloatProgress(value=0.0, layout=Layout(width='auto'), style=ProgressStyle(bar_color='black'))"
      ],
      "application/vnd.jupyter.widget-view+json": {
       "version_major": 2,
       "version_minor": 0,
       "model_id": "81f6c1035fbf42fd87c2b88855310980"
      }
     },
     "metadata": {},
     "output_type": "display_data"
    },
    {
     "name": "stdout",
     "output_type": "stream",
     "text": [
      "Processed 25000000 rows\r"
     ]
    },
    {
     "data": {
      "text/plain": [
       "FloatProgress(value=0.0, layout=Layout(width='auto'), style=ProgressStyle(bar_color='black'))"
      ],
      "application/vnd.jupyter.widget-view+json": {
       "version_major": 2,
       "version_minor": 0,
       "model_id": "5cae0f87def24f3aa10b0fa9c3a5a1a8"
      }
     },
     "metadata": {},
     "output_type": "display_data"
    },
    {
     "name": "stdout",
     "output_type": "stream",
     "text": [
      "Processed 25100000 rows\r"
     ]
    },
    {
     "data": {
      "text/plain": [
       "FloatProgress(value=0.0, layout=Layout(width='auto'), style=ProgressStyle(bar_color='black'))"
      ],
      "application/vnd.jupyter.widget-view+json": {
       "version_major": 2,
       "version_minor": 0,
       "model_id": "b54bc5411a264a5ca1d7b05bb3ab4402"
      }
     },
     "metadata": {},
     "output_type": "display_data"
    },
    {
     "name": "stdout",
     "output_type": "stream",
     "text": [
      "Processed 25200000 rows\r"
     ]
    },
    {
     "data": {
      "text/plain": [
       "FloatProgress(value=0.0, layout=Layout(width='auto'), style=ProgressStyle(bar_color='black'))"
      ],
      "application/vnd.jupyter.widget-view+json": {
       "version_major": 2,
       "version_minor": 0,
       "model_id": "0fa00c399700419686f63f30d29a7102"
      }
     },
     "metadata": {},
     "output_type": "display_data"
    },
    {
     "name": "stdout",
     "output_type": "stream",
     "text": [
      "Processed 25300000 rows\r"
     ]
    },
    {
     "data": {
      "text/plain": [
       "FloatProgress(value=0.0, layout=Layout(width='auto'), style=ProgressStyle(bar_color='black'))"
      ],
      "application/vnd.jupyter.widget-view+json": {
       "version_major": 2,
       "version_minor": 0,
       "model_id": "cbf3af3972b9468994b17ad70c3d645b"
      }
     },
     "metadata": {},
     "output_type": "display_data"
    },
    {
     "name": "stdout",
     "output_type": "stream",
     "text": [
      "Processed 25400000 rows\r"
     ]
    },
    {
     "data": {
      "text/plain": [
       "FloatProgress(value=0.0, layout=Layout(width='auto'), style=ProgressStyle(bar_color='black'))"
      ],
      "application/vnd.jupyter.widget-view+json": {
       "version_major": 2,
       "version_minor": 0,
       "model_id": "3a7948061b9d4940bf1ea1a229d99e96"
      }
     },
     "metadata": {},
     "output_type": "display_data"
    },
    {
     "name": "stdout",
     "output_type": "stream",
     "text": [
      "Processed 25500000 rows\r"
     ]
    },
    {
     "data": {
      "text/plain": [
       "FloatProgress(value=0.0, layout=Layout(width='auto'), style=ProgressStyle(bar_color='black'))"
      ],
      "application/vnd.jupyter.widget-view+json": {
       "version_major": 2,
       "version_minor": 0,
       "model_id": "2bfc211d591846bdafb56a163238cc0c"
      }
     },
     "metadata": {},
     "output_type": "display_data"
    },
    {
     "name": "stdout",
     "output_type": "stream",
     "text": [
      "Processed 25600000 rows\r"
     ]
    },
    {
     "data": {
      "text/plain": [
       "FloatProgress(value=0.0, layout=Layout(width='auto'), style=ProgressStyle(bar_color='black'))"
      ],
      "application/vnd.jupyter.widget-view+json": {
       "version_major": 2,
       "version_minor": 0,
       "model_id": "93cdad98b2414b919fad841a4ddfbb29"
      }
     },
     "metadata": {},
     "output_type": "display_data"
    },
    {
     "name": "stdout",
     "output_type": "stream",
     "text": [
      "Processed 25700000 rows\r"
     ]
    },
    {
     "data": {
      "text/plain": [
       "FloatProgress(value=0.0, layout=Layout(width='auto'), style=ProgressStyle(bar_color='black'))"
      ],
      "application/vnd.jupyter.widget-view+json": {
       "version_major": 2,
       "version_minor": 0,
       "model_id": "924ff331b8054ab6acac12c88641a19d"
      }
     },
     "metadata": {},
     "output_type": "display_data"
    },
    {
     "name": "stdout",
     "output_type": "stream",
     "text": [
      "Processed 25800000 rows\r"
     ]
    },
    {
     "data": {
      "text/plain": [
       "FloatProgress(value=0.0, layout=Layout(width='auto'), style=ProgressStyle(bar_color='black'))"
      ],
      "application/vnd.jupyter.widget-view+json": {
       "version_major": 2,
       "version_minor": 0,
       "model_id": "f23fac31ee9f4c338c72c9857814ad12"
      }
     },
     "metadata": {},
     "output_type": "display_data"
    },
    {
     "name": "stdout",
     "output_type": "stream",
     "text": [
      "Processed 25900000 rows\r"
     ]
    },
    {
     "data": {
      "text/plain": [
       "FloatProgress(value=0.0, layout=Layout(width='auto'), style=ProgressStyle(bar_color='black'))"
      ],
      "application/vnd.jupyter.widget-view+json": {
       "version_major": 2,
       "version_minor": 0,
       "model_id": "dc057fe6fc5244c18350898c35b84df4"
      }
     },
     "metadata": {},
     "output_type": "display_data"
    },
    {
     "name": "stdout",
     "output_type": "stream",
     "text": [
      "Processed 26000000 rows\r"
     ]
    },
    {
     "data": {
      "text/plain": [
       "FloatProgress(value=0.0, layout=Layout(width='auto'), style=ProgressStyle(bar_color='black'))"
      ],
      "application/vnd.jupyter.widget-view+json": {
       "version_major": 2,
       "version_minor": 0,
       "model_id": "1b083d12631443e18978849fa53b91bb"
      }
     },
     "metadata": {},
     "output_type": "display_data"
    },
    {
     "name": "stdout",
     "output_type": "stream",
     "text": [
      "Processed 26100000 rows\r"
     ]
    },
    {
     "data": {
      "text/plain": [
       "FloatProgress(value=0.0, layout=Layout(width='auto'), style=ProgressStyle(bar_color='black'))"
      ],
      "application/vnd.jupyter.widget-view+json": {
       "version_major": 2,
       "version_minor": 0,
       "model_id": "21f3db1adeea40f7ba5278ec1f48323d"
      }
     },
     "metadata": {},
     "output_type": "display_data"
    },
    {
     "name": "stdout",
     "output_type": "stream",
     "text": [
      "Processed 26200000 rows\r"
     ]
    },
    {
     "data": {
      "text/plain": [
       "FloatProgress(value=0.0, layout=Layout(width='auto'), style=ProgressStyle(bar_color='black'))"
      ],
      "application/vnd.jupyter.widget-view+json": {
       "version_major": 2,
       "version_minor": 0,
       "model_id": "e185c3d119b04e05ae39c7d0f41c54ae"
      }
     },
     "metadata": {},
     "output_type": "display_data"
    },
    {
     "name": "stdout",
     "output_type": "stream",
     "text": [
      "Processed 26300000 rows\r"
     ]
    },
    {
     "data": {
      "text/plain": [
       "FloatProgress(value=0.0, layout=Layout(width='auto'), style=ProgressStyle(bar_color='black'))"
      ],
      "application/vnd.jupyter.widget-view+json": {
       "version_major": 2,
       "version_minor": 0,
       "model_id": "74c6b12e7212439fb750b67826a27096"
      }
     },
     "metadata": {},
     "output_type": "display_data"
    },
    {
     "name": "stdout",
     "output_type": "stream",
     "text": [
      "Processed 26400000 rows\r"
     ]
    },
    {
     "data": {
      "text/plain": [
       "FloatProgress(value=0.0, layout=Layout(width='auto'), style=ProgressStyle(bar_color='black'))"
      ],
      "application/vnd.jupyter.widget-view+json": {
       "version_major": 2,
       "version_minor": 0,
       "model_id": "81dd7ba41fd14dbe923e2fdb72eba577"
      }
     },
     "metadata": {},
     "output_type": "display_data"
    },
    {
     "name": "stdout",
     "output_type": "stream",
     "text": [
      "Processed 26500000 rows\r"
     ]
    },
    {
     "data": {
      "text/plain": [
       "FloatProgress(value=0.0, layout=Layout(width='auto'), style=ProgressStyle(bar_color='black'))"
      ],
      "application/vnd.jupyter.widget-view+json": {
       "version_major": 2,
       "version_minor": 0,
       "model_id": "a8d6847a4773483d9d74ad1921b61d80"
      }
     },
     "metadata": {},
     "output_type": "display_data"
    },
    {
     "name": "stdout",
     "output_type": "stream",
     "text": [
      "Processed 26600000 rows\r"
     ]
    },
    {
     "data": {
      "text/plain": [
       "FloatProgress(value=0.0, layout=Layout(width='auto'), style=ProgressStyle(bar_color='black'))"
      ],
      "application/vnd.jupyter.widget-view+json": {
       "version_major": 2,
       "version_minor": 0,
       "model_id": "687a2b233fe440c393652aa790450f60"
      }
     },
     "metadata": {},
     "output_type": "display_data"
    },
    {
     "name": "stdout",
     "output_type": "stream",
     "text": [
      "Processed 26700000 rows\r"
     ]
    },
    {
     "data": {
      "text/plain": [
       "FloatProgress(value=0.0, layout=Layout(width='auto'), style=ProgressStyle(bar_color='black'))"
      ],
      "application/vnd.jupyter.widget-view+json": {
       "version_major": 2,
       "version_minor": 0,
       "model_id": "37d8b6d37f18417d8501230c119130ad"
      }
     },
     "metadata": {},
     "output_type": "display_data"
    },
    {
     "name": "stdout",
     "output_type": "stream",
     "text": [
      "Processed 26800000 rows\r"
     ]
    },
    {
     "data": {
      "text/plain": [
       "FloatProgress(value=0.0, layout=Layout(width='auto'), style=ProgressStyle(bar_color='black'))"
      ],
      "application/vnd.jupyter.widget-view+json": {
       "version_major": 2,
       "version_minor": 0,
       "model_id": "8e69aac24c6044ceb153d5d7004285c6"
      }
     },
     "metadata": {},
     "output_type": "display_data"
    },
    {
     "name": "stdout",
     "output_type": "stream",
     "text": [
      "Processed 26900000 rows\r"
     ]
    },
    {
     "data": {
      "text/plain": [
       "FloatProgress(value=0.0, layout=Layout(width='auto'), style=ProgressStyle(bar_color='black'))"
      ],
      "application/vnd.jupyter.widget-view+json": {
       "version_major": 2,
       "version_minor": 0,
       "model_id": "4353624a74c64a39b115846bb3b81bbb"
      }
     },
     "metadata": {},
     "output_type": "display_data"
    },
    {
     "name": "stdout",
     "output_type": "stream",
     "text": [
      "Processed 27000000 rows\r"
     ]
    },
    {
     "data": {
      "text/plain": [
       "FloatProgress(value=0.0, layout=Layout(width='auto'), style=ProgressStyle(bar_color='black'))"
      ],
      "application/vnd.jupyter.widget-view+json": {
       "version_major": 2,
       "version_minor": 0,
       "model_id": "c4fdcf6b1188490c94952c1ebfef256e"
      }
     },
     "metadata": {},
     "output_type": "display_data"
    },
    {
     "name": "stdout",
     "output_type": "stream",
     "text": [
      "Processed 27100000 rows\r"
     ]
    },
    {
     "data": {
      "text/plain": [
       "FloatProgress(value=0.0, layout=Layout(width='auto'), style=ProgressStyle(bar_color='black'))"
      ],
      "application/vnd.jupyter.widget-view+json": {
       "version_major": 2,
       "version_minor": 0,
       "model_id": "e1f480329eff43f3be977734ec18d05f"
      }
     },
     "metadata": {},
     "output_type": "display_data"
    },
    {
     "name": "stdout",
     "output_type": "stream",
     "text": [
      "Processed 27200000 rows\r"
     ]
    },
    {
     "data": {
      "text/plain": [
       "FloatProgress(value=0.0, layout=Layout(width='auto'), style=ProgressStyle(bar_color='black'))"
      ],
      "application/vnd.jupyter.widget-view+json": {
       "version_major": 2,
       "version_minor": 0,
       "model_id": "ed1f0689fd2a4065a4499f646a41a8af"
      }
     },
     "metadata": {},
     "output_type": "display_data"
    },
    {
     "name": "stdout",
     "output_type": "stream",
     "text": [
      "Processed 27300000 rows\r"
     ]
    },
    {
     "data": {
      "text/plain": [
       "FloatProgress(value=0.0, layout=Layout(width='auto'), style=ProgressStyle(bar_color='black'))"
      ],
      "application/vnd.jupyter.widget-view+json": {
       "version_major": 2,
       "version_minor": 0,
       "model_id": "9f579a15408147e8a503dff454578bb3"
      }
     },
     "metadata": {},
     "output_type": "display_data"
    },
    {
     "name": "stdout",
     "output_type": "stream",
     "text": [
      "Processed 27400000 rows\r"
     ]
    },
    {
     "data": {
      "text/plain": [
       "FloatProgress(value=0.0, layout=Layout(width='auto'), style=ProgressStyle(bar_color='black'))"
      ],
      "application/vnd.jupyter.widget-view+json": {
       "version_major": 2,
       "version_minor": 0,
       "model_id": "4dd3c88933d1462db169cc1b8b2e6c9b"
      }
     },
     "metadata": {},
     "output_type": "display_data"
    },
    {
     "name": "stdout",
     "output_type": "stream",
     "text": [
      "Processed 27500000 rows\r"
     ]
    },
    {
     "data": {
      "text/plain": [
       "FloatProgress(value=0.0, layout=Layout(width='auto'), style=ProgressStyle(bar_color='black'))"
      ],
      "application/vnd.jupyter.widget-view+json": {
       "version_major": 2,
       "version_minor": 0,
       "model_id": "6bf0f1a3554b46a0b6b24833548b9f38"
      }
     },
     "metadata": {},
     "output_type": "display_data"
    },
    {
     "name": "stdout",
     "output_type": "stream",
     "text": [
      "Processed 27600000 rows\r"
     ]
    },
    {
     "data": {
      "text/plain": [
       "FloatProgress(value=0.0, layout=Layout(width='auto'), style=ProgressStyle(bar_color='black'))"
      ],
      "application/vnd.jupyter.widget-view+json": {
       "version_major": 2,
       "version_minor": 0,
       "model_id": "622bb0a6930e4e0ca0cf7a9c7d32da9f"
      }
     },
     "metadata": {},
     "output_type": "display_data"
    },
    {
     "name": "stdout",
     "output_type": "stream",
     "text": [
      "Processed 27700000 rows\r"
     ]
    },
    {
     "data": {
      "text/plain": [
       "FloatProgress(value=0.0, layout=Layout(width='auto'), style=ProgressStyle(bar_color='black'))"
      ],
      "application/vnd.jupyter.widget-view+json": {
       "version_major": 2,
       "version_minor": 0,
       "model_id": "b9dd8c379f8f489aa9cb82bc872d3d3a"
      }
     },
     "metadata": {},
     "output_type": "display_data"
    },
    {
     "name": "stdout",
     "output_type": "stream",
     "text": [
      "Processed 27800000 rows\r"
     ]
    },
    {
     "data": {
      "text/plain": [
       "FloatProgress(value=0.0, layout=Layout(width='auto'), style=ProgressStyle(bar_color='black'))"
      ],
      "application/vnd.jupyter.widget-view+json": {
       "version_major": 2,
       "version_minor": 0,
       "model_id": "9041f8ce543f48209ae9d24fe57f6220"
      }
     },
     "metadata": {},
     "output_type": "display_data"
    },
    {
     "name": "stdout",
     "output_type": "stream",
     "text": [
      "Processed 27900000 rows\r"
     ]
    },
    {
     "data": {
      "text/plain": [
       "FloatProgress(value=0.0, layout=Layout(width='auto'), style=ProgressStyle(bar_color='black'))"
      ],
      "application/vnd.jupyter.widget-view+json": {
       "version_major": 2,
       "version_minor": 0,
       "model_id": "c1cd3e284a434be78dc1c3584b9a44f2"
      }
     },
     "metadata": {},
     "output_type": "display_data"
    },
    {
     "name": "stdout",
     "output_type": "stream",
     "text": [
      "Processed 28000000 rows\r"
     ]
    },
    {
     "data": {
      "text/plain": [
       "FloatProgress(value=0.0, layout=Layout(width='auto'), style=ProgressStyle(bar_color='black'))"
      ],
      "application/vnd.jupyter.widget-view+json": {
       "version_major": 2,
       "version_minor": 0,
       "model_id": "d8c554b2d66643549ca534939f80fc2d"
      }
     },
     "metadata": {},
     "output_type": "display_data"
    },
    {
     "name": "stdout",
     "output_type": "stream",
     "text": [
      "Processed 28100000 rows\r"
     ]
    },
    {
     "data": {
      "text/plain": [
       "FloatProgress(value=0.0, layout=Layout(width='auto'), style=ProgressStyle(bar_color='black'))"
      ],
      "application/vnd.jupyter.widget-view+json": {
       "version_major": 2,
       "version_minor": 0,
       "model_id": "2af3c95270ce47e09f01e6e8cde3f0af"
      }
     },
     "metadata": {},
     "output_type": "display_data"
    },
    {
     "name": "stdout",
     "output_type": "stream",
     "text": [
      "Processed 28200000 rows\r"
     ]
    },
    {
     "data": {
      "text/plain": [
       "FloatProgress(value=0.0, layout=Layout(width='auto'), style=ProgressStyle(bar_color='black'))"
      ],
      "application/vnd.jupyter.widget-view+json": {
       "version_major": 2,
       "version_minor": 0,
       "model_id": "f27352a4d02648c0b505d7fbb434be68"
      }
     },
     "metadata": {},
     "output_type": "display_data"
    },
    {
     "name": "stdout",
     "output_type": "stream",
     "text": [
      "Processed 28300000 rows\r"
     ]
    },
    {
     "data": {
      "text/plain": [
       "FloatProgress(value=0.0, layout=Layout(width='auto'), style=ProgressStyle(bar_color='black'))"
      ],
      "application/vnd.jupyter.widget-view+json": {
       "version_major": 2,
       "version_minor": 0,
       "model_id": "61addc03e621405496168b5bd6e69c65"
      }
     },
     "metadata": {},
     "output_type": "display_data"
    },
    {
     "name": "stdout",
     "output_type": "stream",
     "text": [
      "Processed 28400000 rows\r"
     ]
    },
    {
     "data": {
      "text/plain": [
       "FloatProgress(value=0.0, layout=Layout(width='auto'), style=ProgressStyle(bar_color='black'))"
      ],
      "application/vnd.jupyter.widget-view+json": {
       "version_major": 2,
       "version_minor": 0,
       "model_id": "51e9b533338a400a9812a5a0a528b7ac"
      }
     },
     "metadata": {},
     "output_type": "display_data"
    },
    {
     "name": "stdout",
     "output_type": "stream",
     "text": [
      "Processed 28500000 rows\r"
     ]
    },
    {
     "data": {
      "text/plain": [
       "FloatProgress(value=0.0, layout=Layout(width='auto'), style=ProgressStyle(bar_color='black'))"
      ],
      "application/vnd.jupyter.widget-view+json": {
       "version_major": 2,
       "version_minor": 0,
       "model_id": "bb03a2281fec4f58a523ee31a107064b"
      }
     },
     "metadata": {},
     "output_type": "display_data"
    },
    {
     "name": "stdout",
     "output_type": "stream",
     "text": [
      "Processed 28600000 rows\r"
     ]
    },
    {
     "data": {
      "text/plain": [
       "FloatProgress(value=0.0, layout=Layout(width='auto'), style=ProgressStyle(bar_color='black'))"
      ],
      "application/vnd.jupyter.widget-view+json": {
       "version_major": 2,
       "version_minor": 0,
       "model_id": "3b1bcb99cd1e4e8bb11e84d28a4485d6"
      }
     },
     "metadata": {},
     "output_type": "display_data"
    },
    {
     "name": "stdout",
     "output_type": "stream",
     "text": [
      "Processed 28700000 rows\r"
     ]
    },
    {
     "data": {
      "text/plain": [
       "FloatProgress(value=0.0, layout=Layout(width='auto'), style=ProgressStyle(bar_color='black'))"
      ],
      "application/vnd.jupyter.widget-view+json": {
       "version_major": 2,
       "version_minor": 0,
       "model_id": "f81d25ed30ef4010bc572e69b7581d65"
      }
     },
     "metadata": {},
     "output_type": "display_data"
    },
    {
     "name": "stdout",
     "output_type": "stream",
     "text": [
      "Processed 28800000 rows\r"
     ]
    },
    {
     "data": {
      "text/plain": [
       "FloatProgress(value=0.0, layout=Layout(width='auto'), style=ProgressStyle(bar_color='black'))"
      ],
      "application/vnd.jupyter.widget-view+json": {
       "version_major": 2,
       "version_minor": 0,
       "model_id": "8a71adea460947f48c5304122f3f02cd"
      }
     },
     "metadata": {},
     "output_type": "display_data"
    },
    {
     "name": "stdout",
     "output_type": "stream",
     "text": [
      "Processed 28900000 rows\r"
     ]
    },
    {
     "data": {
      "text/plain": [
       "FloatProgress(value=0.0, layout=Layout(width='auto'), style=ProgressStyle(bar_color='black'))"
      ],
      "application/vnd.jupyter.widget-view+json": {
       "version_major": 2,
       "version_minor": 0,
       "model_id": "f6137becf72b499b80a0f02a1ec98224"
      }
     },
     "metadata": {},
     "output_type": "display_data"
    },
    {
     "name": "stdout",
     "output_type": "stream",
     "text": [
      "Processed 29000000 rows\r"
     ]
    },
    {
     "data": {
      "text/plain": [
       "FloatProgress(value=0.0, layout=Layout(width='auto'), style=ProgressStyle(bar_color='black'))"
      ],
      "application/vnd.jupyter.widget-view+json": {
       "version_major": 2,
       "version_minor": 0,
       "model_id": "ce86460cc2074e62b304a2321bfbf41a"
      }
     },
     "metadata": {},
     "output_type": "display_data"
    },
    {
     "name": "stdout",
     "output_type": "stream",
     "text": [
      "Processed 29100000 rows\r"
     ]
    },
    {
     "data": {
      "text/plain": [
       "FloatProgress(value=0.0, layout=Layout(width='auto'), style=ProgressStyle(bar_color='black'))"
      ],
      "application/vnd.jupyter.widget-view+json": {
       "version_major": 2,
       "version_minor": 0,
       "model_id": "5fa387fa796e442fb2f8b0fedf949e3b"
      }
     },
     "metadata": {},
     "output_type": "display_data"
    },
    {
     "name": "stdout",
     "output_type": "stream",
     "text": [
      "Processed 29200000 rows\r"
     ]
    },
    {
     "data": {
      "text/plain": [
       "FloatProgress(value=0.0, layout=Layout(width='auto'), style=ProgressStyle(bar_color='black'))"
      ],
      "application/vnd.jupyter.widget-view+json": {
       "version_major": 2,
       "version_minor": 0,
       "model_id": "ce1b7f3767034547964c455988dfe194"
      }
     },
     "metadata": {},
     "output_type": "display_data"
    },
    {
     "name": "stdout",
     "output_type": "stream",
     "text": [
      "Processed 29300000 rows\r"
     ]
    },
    {
     "data": {
      "text/plain": [
       "FloatProgress(value=0.0, layout=Layout(width='auto'), style=ProgressStyle(bar_color='black'))"
      ],
      "application/vnd.jupyter.widget-view+json": {
       "version_major": 2,
       "version_minor": 0,
       "model_id": "235eadc94a5a45fc885434f7a3fb8773"
      }
     },
     "metadata": {},
     "output_type": "display_data"
    },
    {
     "name": "stdout",
     "output_type": "stream",
     "text": [
      "Processed 29400000 rows\r"
     ]
    },
    {
     "data": {
      "text/plain": [
       "FloatProgress(value=0.0, layout=Layout(width='auto'), style=ProgressStyle(bar_color='black'))"
      ],
      "application/vnd.jupyter.widget-view+json": {
       "version_major": 2,
       "version_minor": 0,
       "model_id": "360781840fc04263bc90b8036fffadbf"
      }
     },
     "metadata": {},
     "output_type": "display_data"
    },
    {
     "name": "stdout",
     "output_type": "stream",
     "text": [
      "Processed 29500000 rows\r"
     ]
    },
    {
     "data": {
      "text/plain": [
       "FloatProgress(value=0.0, layout=Layout(width='auto'), style=ProgressStyle(bar_color='black'))"
      ],
      "application/vnd.jupyter.widget-view+json": {
       "version_major": 2,
       "version_minor": 0,
       "model_id": "fbca243a37ac4faca6beb25556e6c7d2"
      }
     },
     "metadata": {},
     "output_type": "display_data"
    },
    {
     "name": "stdout",
     "output_type": "stream",
     "text": [
      "Processed 29600000 rows\r"
     ]
    },
    {
     "data": {
      "text/plain": [
       "FloatProgress(value=0.0, layout=Layout(width='auto'), style=ProgressStyle(bar_color='black'))"
      ],
      "application/vnd.jupyter.widget-view+json": {
       "version_major": 2,
       "version_minor": 0,
       "model_id": "36fc16ec6fc44631aeb96c303f989be4"
      }
     },
     "metadata": {},
     "output_type": "display_data"
    },
    {
     "name": "stdout",
     "output_type": "stream",
     "text": [
      "Processed 29700000 rows\r"
     ]
    },
    {
     "data": {
      "text/plain": [
       "FloatProgress(value=0.0, layout=Layout(width='auto'), style=ProgressStyle(bar_color='black'))"
      ],
      "application/vnd.jupyter.widget-view+json": {
       "version_major": 2,
       "version_minor": 0,
       "model_id": "d61c701e30934414a6784c6670f0dc5a"
      }
     },
     "metadata": {},
     "output_type": "display_data"
    },
    {
     "name": "stdout",
     "output_type": "stream",
     "text": [
      "Processed 29800000 rows\r"
     ]
    },
    {
     "data": {
      "text/plain": [
       "FloatProgress(value=0.0, layout=Layout(width='auto'), style=ProgressStyle(bar_color='black'))"
      ],
      "application/vnd.jupyter.widget-view+json": {
       "version_major": 2,
       "version_minor": 0,
       "model_id": "c38657acd97e45999e0f2b6bcd2ccaba"
      }
     },
     "metadata": {},
     "output_type": "display_data"
    },
    {
     "name": "stdout",
     "output_type": "stream",
     "text": [
      "Processed 29900000 rows\r"
     ]
    },
    {
     "data": {
      "text/plain": [
       "FloatProgress(value=0.0, layout=Layout(width='auto'), style=ProgressStyle(bar_color='black'))"
      ],
      "application/vnd.jupyter.widget-view+json": {
       "version_major": 2,
       "version_minor": 0,
       "model_id": "cddd35a5810f45d89f3a9db76bee7658"
      }
     },
     "metadata": {},
     "output_type": "display_data"
    },
    {
     "name": "stdout",
     "output_type": "stream",
     "text": [
      "Processed 30000000 rows\r"
     ]
    },
    {
     "data": {
      "text/plain": [
       "FloatProgress(value=0.0, layout=Layout(width='auto'), style=ProgressStyle(bar_color='black'))"
      ],
      "application/vnd.jupyter.widget-view+json": {
       "version_major": 2,
       "version_minor": 0,
       "model_id": "5952941892f044278fa8e6145776e061"
      }
     },
     "metadata": {},
     "output_type": "display_data"
    },
    {
     "name": "stdout",
     "output_type": "stream",
     "text": [
      "Processed 30100000 rows\r"
     ]
    },
    {
     "data": {
      "text/plain": [
       "FloatProgress(value=0.0, layout=Layout(width='auto'), style=ProgressStyle(bar_color='black'))"
      ],
      "application/vnd.jupyter.widget-view+json": {
       "version_major": 2,
       "version_minor": 0,
       "model_id": "91955d59926c4fa1896a39f57155bfad"
      }
     },
     "metadata": {},
     "output_type": "display_data"
    },
    {
     "name": "stdout",
     "output_type": "stream",
     "text": [
      "Processed 30200000 rows\r"
     ]
    },
    {
     "data": {
      "text/plain": [
       "FloatProgress(value=0.0, layout=Layout(width='auto'), style=ProgressStyle(bar_color='black'))"
      ],
      "application/vnd.jupyter.widget-view+json": {
       "version_major": 2,
       "version_minor": 0,
       "model_id": "4dd4f7d7501d4885953ab17d6ecbf044"
      }
     },
     "metadata": {},
     "output_type": "display_data"
    },
    {
     "name": "stdout",
     "output_type": "stream",
     "text": [
      "Processed 30300000 rows\r"
     ]
    },
    {
     "data": {
      "text/plain": [
       "FloatProgress(value=0.0, layout=Layout(width='auto'), style=ProgressStyle(bar_color='black'))"
      ],
      "application/vnd.jupyter.widget-view+json": {
       "version_major": 2,
       "version_minor": 0,
       "model_id": "cd18cda128f844e991566ee199ded53d"
      }
     },
     "metadata": {},
     "output_type": "display_data"
    },
    {
     "name": "stdout",
     "output_type": "stream",
     "text": [
      "Processed 30400000 rows\r"
     ]
    },
    {
     "data": {
      "text/plain": [
       "FloatProgress(value=0.0, layout=Layout(width='auto'), style=ProgressStyle(bar_color='black'))"
      ],
      "application/vnd.jupyter.widget-view+json": {
       "version_major": 2,
       "version_minor": 0,
       "model_id": "b807b1b828b342e78dcfba18d999df38"
      }
     },
     "metadata": {},
     "output_type": "display_data"
    },
    {
     "name": "stdout",
     "output_type": "stream",
     "text": [
      "Processed 30500000 rows\r"
     ]
    },
    {
     "data": {
      "text/plain": [
       "FloatProgress(value=0.0, layout=Layout(width='auto'), style=ProgressStyle(bar_color='black'))"
      ],
      "application/vnd.jupyter.widget-view+json": {
       "version_major": 2,
       "version_minor": 0,
       "model_id": "4d1d026be71c4ca69164c2e4e9568c3e"
      }
     },
     "metadata": {},
     "output_type": "display_data"
    },
    {
     "name": "stdout",
     "output_type": "stream",
     "text": [
      "Processed 30600000 rows\r"
     ]
    },
    {
     "data": {
      "text/plain": [
       "FloatProgress(value=0.0, layout=Layout(width='auto'), style=ProgressStyle(bar_color='black'))"
      ],
      "application/vnd.jupyter.widget-view+json": {
       "version_major": 2,
       "version_minor": 0,
       "model_id": "346c50c812ed452c92fc9417ebb44c5c"
      }
     },
     "metadata": {},
     "output_type": "display_data"
    },
    {
     "name": "stdout",
     "output_type": "stream",
     "text": [
      "Processed 30700000 rows\r"
     ]
    },
    {
     "data": {
      "text/plain": [
       "FloatProgress(value=0.0, layout=Layout(width='auto'), style=ProgressStyle(bar_color='black'))"
      ],
      "application/vnd.jupyter.widget-view+json": {
       "version_major": 2,
       "version_minor": 0,
       "model_id": "74afc27bd4d647258a8a2b1954f10db0"
      }
     },
     "metadata": {},
     "output_type": "display_data"
    },
    {
     "name": "stdout",
     "output_type": "stream",
     "text": [
      "Processed 30800000 rows\r"
     ]
    },
    {
     "data": {
      "text/plain": [
       "FloatProgress(value=0.0, layout=Layout(width='auto'), style=ProgressStyle(bar_color='black'))"
      ],
      "application/vnd.jupyter.widget-view+json": {
       "version_major": 2,
       "version_minor": 0,
       "model_id": "418198b13c9d4004b4a2f3d09a61a192"
      }
     },
     "metadata": {},
     "output_type": "display_data"
    },
    {
     "name": "stdout",
     "output_type": "stream",
     "text": [
      "Processed 30900000 rows\r"
     ]
    },
    {
     "data": {
      "text/plain": [
       "FloatProgress(value=0.0, layout=Layout(width='auto'), style=ProgressStyle(bar_color='black'))"
      ],
      "application/vnd.jupyter.widget-view+json": {
       "version_major": 2,
       "version_minor": 0,
       "model_id": "255e4405a23a48019a237cadb592be7b"
      }
     },
     "metadata": {},
     "output_type": "display_data"
    },
    {
     "name": "stdout",
     "output_type": "stream",
     "text": [
      "Processed 31000000 rows\r"
     ]
    },
    {
     "data": {
      "text/plain": [
       "FloatProgress(value=0.0, layout=Layout(width='auto'), style=ProgressStyle(bar_color='black'))"
      ],
      "application/vnd.jupyter.widget-view+json": {
       "version_major": 2,
       "version_minor": 0,
       "model_id": "7a90bfc1d5824403ab817bc556cc8f93"
      }
     },
     "metadata": {},
     "output_type": "display_data"
    },
    {
     "name": "stdout",
     "output_type": "stream",
     "text": [
      "Processed 31100000 rows\r"
     ]
    },
    {
     "data": {
      "text/plain": [
       "FloatProgress(value=0.0, layout=Layout(width='auto'), style=ProgressStyle(bar_color='black'))"
      ],
      "application/vnd.jupyter.widget-view+json": {
       "version_major": 2,
       "version_minor": 0,
       "model_id": "14b0e6b8134943548d36da03ad6decd2"
      }
     },
     "metadata": {},
     "output_type": "display_data"
    },
    {
     "name": "stdout",
     "output_type": "stream",
     "text": [
      "Processed 31200000 rows\r"
     ]
    },
    {
     "data": {
      "text/plain": [
       "FloatProgress(value=0.0, layout=Layout(width='auto'), style=ProgressStyle(bar_color='black'))"
      ],
      "application/vnd.jupyter.widget-view+json": {
       "version_major": 2,
       "version_minor": 0,
       "model_id": "9360a274e99f47d2af3c5b9b3151c567"
      }
     },
     "metadata": {},
     "output_type": "display_data"
    },
    {
     "name": "stdout",
     "output_type": "stream",
     "text": [
      "Processed 31300000 rows\r"
     ]
    },
    {
     "data": {
      "text/plain": [
       "FloatProgress(value=0.0, layout=Layout(width='auto'), style=ProgressStyle(bar_color='black'))"
      ],
      "application/vnd.jupyter.widget-view+json": {
       "version_major": 2,
       "version_minor": 0,
       "model_id": "6b068f51d0584a3fbfe28d64b22028c1"
      }
     },
     "metadata": {},
     "output_type": "display_data"
    },
    {
     "name": "stdout",
     "output_type": "stream",
     "text": [
      "Processed 31400000 rows\r"
     ]
    },
    {
     "data": {
      "text/plain": [
       "FloatProgress(value=0.0, layout=Layout(width='auto'), style=ProgressStyle(bar_color='black'))"
      ],
      "application/vnd.jupyter.widget-view+json": {
       "version_major": 2,
       "version_minor": 0,
       "model_id": "61a253b9c59942fb901a064952752a27"
      }
     },
     "metadata": {},
     "output_type": "display_data"
    },
    {
     "name": "stdout",
     "output_type": "stream",
     "text": [
      "Processed 31500000 rows\r"
     ]
    },
    {
     "data": {
      "text/plain": [
       "FloatProgress(value=0.0, layout=Layout(width='auto'), style=ProgressStyle(bar_color='black'))"
      ],
      "application/vnd.jupyter.widget-view+json": {
       "version_major": 2,
       "version_minor": 0,
       "model_id": "daeb1d5db01848c7b4ada5400ff14440"
      }
     },
     "metadata": {},
     "output_type": "display_data"
    },
    {
     "name": "stdout",
     "output_type": "stream",
     "text": [
      "Processed 31600000 rows\r"
     ]
    },
    {
     "data": {
      "text/plain": [
       "FloatProgress(value=0.0, layout=Layout(width='auto'), style=ProgressStyle(bar_color='black'))"
      ],
      "application/vnd.jupyter.widget-view+json": {
       "version_major": 2,
       "version_minor": 0,
       "model_id": "2a7a5db7683041c3831d29a7533278a9"
      }
     },
     "metadata": {},
     "output_type": "display_data"
    },
    {
     "name": "stdout",
     "output_type": "stream",
     "text": [
      "Processed 31700000 rows\r"
     ]
    },
    {
     "data": {
      "text/plain": [
       "FloatProgress(value=0.0, layout=Layout(width='auto'), style=ProgressStyle(bar_color='black'))"
      ],
      "application/vnd.jupyter.widget-view+json": {
       "version_major": 2,
       "version_minor": 0,
       "model_id": "4ae292bf64fa449b87c72d469af327fb"
      }
     },
     "metadata": {},
     "output_type": "display_data"
    },
    {
     "name": "stdout",
     "output_type": "stream",
     "text": [
      "Processed 31800000 rows\r"
     ]
    },
    {
     "data": {
      "text/plain": [
       "FloatProgress(value=0.0, layout=Layout(width='auto'), style=ProgressStyle(bar_color='black'))"
      ],
      "application/vnd.jupyter.widget-view+json": {
       "version_major": 2,
       "version_minor": 0,
       "model_id": "f584bafd6ef147468d03e645746dd976"
      }
     },
     "metadata": {},
     "output_type": "display_data"
    },
    {
     "name": "stdout",
     "output_type": "stream",
     "text": [
      "Processed 31900000 rows\r"
     ]
    },
    {
     "data": {
      "text/plain": [
       "FloatProgress(value=0.0, layout=Layout(width='auto'), style=ProgressStyle(bar_color='black'))"
      ],
      "application/vnd.jupyter.widget-view+json": {
       "version_major": 2,
       "version_minor": 0,
       "model_id": "c5ccaa27d0a44d4bb6e77f177841569f"
      }
     },
     "metadata": {},
     "output_type": "display_data"
    },
    {
     "name": "stdout",
     "output_type": "stream",
     "text": [
      "Processed 32000000 rows\r"
     ]
    },
    {
     "data": {
      "text/plain": [
       "FloatProgress(value=0.0, layout=Layout(width='auto'), style=ProgressStyle(bar_color='black'))"
      ],
      "application/vnd.jupyter.widget-view+json": {
       "version_major": 2,
       "version_minor": 0,
       "model_id": "eca7bd23cbf142cdba33338bdb2ba4c7"
      }
     },
     "metadata": {},
     "output_type": "display_data"
    },
    {
     "name": "stdout",
     "output_type": "stream",
     "text": [
      "Processed 32100000 rows\r"
     ]
    },
    {
     "data": {
      "text/plain": [
       "FloatProgress(value=0.0, layout=Layout(width='auto'), style=ProgressStyle(bar_color='black'))"
      ],
      "application/vnd.jupyter.widget-view+json": {
       "version_major": 2,
       "version_minor": 0,
       "model_id": "2ed82884f7ac4af19849da2e3825cd2b"
      }
     },
     "metadata": {},
     "output_type": "display_data"
    },
    {
     "name": "stdout",
     "output_type": "stream",
     "text": [
      "Processed 32200000 rows\r"
     ]
    },
    {
     "data": {
      "text/plain": [
       "FloatProgress(value=0.0, layout=Layout(width='auto'), style=ProgressStyle(bar_color='black'))"
      ],
      "application/vnd.jupyter.widget-view+json": {
       "version_major": 2,
       "version_minor": 0,
       "model_id": "83a0cabe8c074251893693ed96663f5b"
      }
     },
     "metadata": {},
     "output_type": "display_data"
    },
    {
     "name": "stdout",
     "output_type": "stream",
     "text": [
      "Processed 32300000 rows\r"
     ]
    },
    {
     "data": {
      "text/plain": [
       "FloatProgress(value=0.0, layout=Layout(width='auto'), style=ProgressStyle(bar_color='black'))"
      ],
      "application/vnd.jupyter.widget-view+json": {
       "version_major": 2,
       "version_minor": 0,
       "model_id": "54ae1cc4cef1408d98328835870cc1e4"
      }
     },
     "metadata": {},
     "output_type": "display_data"
    },
    {
     "name": "stdout",
     "output_type": "stream",
     "text": [
      "Processed 32400000 rows\r"
     ]
    },
    {
     "data": {
      "text/plain": [
       "FloatProgress(value=0.0, layout=Layout(width='auto'), style=ProgressStyle(bar_color='black'))"
      ],
      "application/vnd.jupyter.widget-view+json": {
       "version_major": 2,
       "version_minor": 0,
       "model_id": "764276dda9ac48a4b6b786477b208a38"
      }
     },
     "metadata": {},
     "output_type": "display_data"
    },
    {
     "name": "stdout",
     "output_type": "stream",
     "text": [
      "Processed 32500000 rows\r"
     ]
    },
    {
     "data": {
      "text/plain": [
       "FloatProgress(value=0.0, layout=Layout(width='auto'), style=ProgressStyle(bar_color='black'))"
      ],
      "application/vnd.jupyter.widget-view+json": {
       "version_major": 2,
       "version_minor": 0,
       "model_id": "9190e86368a24f48a47de81599a3da09"
      }
     },
     "metadata": {},
     "output_type": "display_data"
    },
    {
     "name": "stdout",
     "output_type": "stream",
     "text": [
      "Processed 32600000 rows\r"
     ]
    },
    {
     "data": {
      "text/plain": [
       "FloatProgress(value=0.0, layout=Layout(width='auto'), style=ProgressStyle(bar_color='black'))"
      ],
      "application/vnd.jupyter.widget-view+json": {
       "version_major": 2,
       "version_minor": 0,
       "model_id": "c64a6918e831486d99ddc477fbbfe4df"
      }
     },
     "metadata": {},
     "output_type": "display_data"
    },
    {
     "name": "stdout",
     "output_type": "stream",
     "text": [
      "Processed 32700000 rows\r"
     ]
    },
    {
     "data": {
      "text/plain": [
       "FloatProgress(value=0.0, layout=Layout(width='auto'), style=ProgressStyle(bar_color='black'))"
      ],
      "application/vnd.jupyter.widget-view+json": {
       "version_major": 2,
       "version_minor": 0,
       "model_id": "afa78fb1529b45c08acbbcf6fc61749b"
      }
     },
     "metadata": {},
     "output_type": "display_data"
    },
    {
     "name": "stdout",
     "output_type": "stream",
     "text": [
      "Processed 32800000 rows\r"
     ]
    },
    {
     "data": {
      "text/plain": [
       "FloatProgress(value=0.0, layout=Layout(width='auto'), style=ProgressStyle(bar_color='black'))"
      ],
      "application/vnd.jupyter.widget-view+json": {
       "version_major": 2,
       "version_minor": 0,
       "model_id": "ea16be48eb78423dbe40ed70f6931e3d"
      }
     },
     "metadata": {},
     "output_type": "display_data"
    },
    {
     "name": "stdout",
     "output_type": "stream",
     "text": [
      "Processed 32900000 rows\r"
     ]
    },
    {
     "data": {
      "text/plain": [
       "FloatProgress(value=0.0, layout=Layout(width='auto'), style=ProgressStyle(bar_color='black'))"
      ],
      "application/vnd.jupyter.widget-view+json": {
       "version_major": 2,
       "version_minor": 0,
       "model_id": "da13130b66224f84b9a815f4fa4df58d"
      }
     },
     "metadata": {},
     "output_type": "display_data"
    },
    {
     "name": "stdout",
     "output_type": "stream",
     "text": [
      "Processed 33000000 rows\r"
     ]
    },
    {
     "data": {
      "text/plain": [
       "FloatProgress(value=0.0, layout=Layout(width='auto'), style=ProgressStyle(bar_color='black'))"
      ],
      "application/vnd.jupyter.widget-view+json": {
       "version_major": 2,
       "version_minor": 0,
       "model_id": "45e4135ab0624d82afca568f498904b0"
      }
     },
     "metadata": {},
     "output_type": "display_data"
    },
    {
     "name": "stdout",
     "output_type": "stream",
     "text": [
      "Processed 33100000 rows\r"
     ]
    },
    {
     "data": {
      "text/plain": [
       "FloatProgress(value=0.0, layout=Layout(width='auto'), style=ProgressStyle(bar_color='black'))"
      ],
      "application/vnd.jupyter.widget-view+json": {
       "version_major": 2,
       "version_minor": 0,
       "model_id": "c8a4a6dc654b4197852d9788277a39d7"
      }
     },
     "metadata": {},
     "output_type": "display_data"
    },
    {
     "name": "stdout",
     "output_type": "stream",
     "text": [
      "Processed 33200000 rows\r"
     ]
    },
    {
     "data": {
      "text/plain": [
       "FloatProgress(value=0.0, layout=Layout(width='auto'), style=ProgressStyle(bar_color='black'))"
      ],
      "application/vnd.jupyter.widget-view+json": {
       "version_major": 2,
       "version_minor": 0,
       "model_id": "c791bde8cd0949dbb60813c8427dcf90"
      }
     },
     "metadata": {},
     "output_type": "display_data"
    },
    {
     "name": "stdout",
     "output_type": "stream",
     "text": [
      "Processed 33300000 rows\r"
     ]
    },
    {
     "data": {
      "text/plain": [
       "FloatProgress(value=0.0, layout=Layout(width='auto'), style=ProgressStyle(bar_color='black'))"
      ],
      "application/vnd.jupyter.widget-view+json": {
       "version_major": 2,
       "version_minor": 0,
       "model_id": "1f58f4806338476ba10415994a616e47"
      }
     },
     "metadata": {},
     "output_type": "display_data"
    },
    {
     "name": "stdout",
     "output_type": "stream",
     "text": [
      "Processed 33400000 rows\r"
     ]
    },
    {
     "data": {
      "text/plain": [
       "FloatProgress(value=0.0, layout=Layout(width='auto'), style=ProgressStyle(bar_color='black'))"
      ],
      "application/vnd.jupyter.widget-view+json": {
       "version_major": 2,
       "version_minor": 0,
       "model_id": "b986c0dba78a481f834ef1b491297734"
      }
     },
     "metadata": {},
     "output_type": "display_data"
    },
    {
     "name": "stdout",
     "output_type": "stream",
     "text": [
      "Processed 33500000 rows\r"
     ]
    },
    {
     "data": {
      "text/plain": [
       "FloatProgress(value=0.0, layout=Layout(width='auto'), style=ProgressStyle(bar_color='black'))"
      ],
      "application/vnd.jupyter.widget-view+json": {
       "version_major": 2,
       "version_minor": 0,
       "model_id": "bf4bd076c14049248b4edd468aec9fcb"
      }
     },
     "metadata": {},
     "output_type": "display_data"
    },
    {
     "name": "stdout",
     "output_type": "stream",
     "text": [
      "Processed 33600000 rows\r"
     ]
    },
    {
     "data": {
      "text/plain": [
       "FloatProgress(value=0.0, layout=Layout(width='auto'), style=ProgressStyle(bar_color='black'))"
      ],
      "application/vnd.jupyter.widget-view+json": {
       "version_major": 2,
       "version_minor": 0,
       "model_id": "4168a1de4e204fd9a2b235f358cd6011"
      }
     },
     "metadata": {},
     "output_type": "display_data"
    },
    {
     "name": "stdout",
     "output_type": "stream",
     "text": [
      "Processed 33700000 rows\r"
     ]
    },
    {
     "data": {
      "text/plain": [
       "FloatProgress(value=0.0, layout=Layout(width='auto'), style=ProgressStyle(bar_color='black'))"
      ],
      "application/vnd.jupyter.widget-view+json": {
       "version_major": 2,
       "version_minor": 0,
       "model_id": "4367c4c9def942aeb8157348ae1abb14"
      }
     },
     "metadata": {},
     "output_type": "display_data"
    },
    {
     "name": "stdout",
     "output_type": "stream",
     "text": [
      "Processed 33800000 rows\r"
     ]
    },
    {
     "data": {
      "text/plain": [
       "FloatProgress(value=0.0, layout=Layout(width='auto'), style=ProgressStyle(bar_color='black'))"
      ],
      "application/vnd.jupyter.widget-view+json": {
       "version_major": 2,
       "version_minor": 0,
       "model_id": "10fbf838422740d59b965dcf51eec38b"
      }
     },
     "metadata": {},
     "output_type": "display_data"
    },
    {
     "name": "stdout",
     "output_type": "stream",
     "text": [
      "Processed 33900000 rows\r"
     ]
    },
    {
     "data": {
      "text/plain": [
       "FloatProgress(value=0.0, layout=Layout(width='auto'), style=ProgressStyle(bar_color='black'))"
      ],
      "application/vnd.jupyter.widget-view+json": {
       "version_major": 2,
       "version_minor": 0,
       "model_id": "679f27e5597b4fce837171883854bd1c"
      }
     },
     "metadata": {},
     "output_type": "display_data"
    },
    {
     "name": "stdout",
     "output_type": "stream",
     "text": [
      "Processed 34000000 rows\r"
     ]
    },
    {
     "data": {
      "text/plain": [
       "FloatProgress(value=0.0, layout=Layout(width='auto'), style=ProgressStyle(bar_color='black'))"
      ],
      "application/vnd.jupyter.widget-view+json": {
       "version_major": 2,
       "version_minor": 0,
       "model_id": "4f7fdeed721246f98b06913005511b7d"
      }
     },
     "metadata": {},
     "output_type": "display_data"
    },
    {
     "name": "stdout",
     "output_type": "stream",
     "text": [
      "Processed 34100000 rows\r"
     ]
    },
    {
     "data": {
      "text/plain": [
       "FloatProgress(value=0.0, layout=Layout(width='auto'), style=ProgressStyle(bar_color='black'))"
      ],
      "application/vnd.jupyter.widget-view+json": {
       "version_major": 2,
       "version_minor": 0,
       "model_id": "caf34a8c5f7049198a6722f2debda3bf"
      }
     },
     "metadata": {},
     "output_type": "display_data"
    },
    {
     "name": "stdout",
     "output_type": "stream",
     "text": [
      "Processed 34200000 rows\r"
     ]
    },
    {
     "data": {
      "text/plain": [
       "FloatProgress(value=0.0, layout=Layout(width='auto'), style=ProgressStyle(bar_color='black'))"
      ],
      "application/vnd.jupyter.widget-view+json": {
       "version_major": 2,
       "version_minor": 0,
       "model_id": "f19dc423265e4f3abfe0c46c4a2aa50d"
      }
     },
     "metadata": {},
     "output_type": "display_data"
    },
    {
     "name": "stdout",
     "output_type": "stream",
     "text": [
      "Processed 34300000 rows\r"
     ]
    },
    {
     "data": {
      "text/plain": [
       "FloatProgress(value=0.0, layout=Layout(width='auto'), style=ProgressStyle(bar_color='black'))"
      ],
      "application/vnd.jupyter.widget-view+json": {
       "version_major": 2,
       "version_minor": 0,
       "model_id": "635d77efbb4f4e3e8885f4992834da43"
      }
     },
     "metadata": {},
     "output_type": "display_data"
    },
    {
     "name": "stdout",
     "output_type": "stream",
     "text": [
      "Processed 34400000 rows\r"
     ]
    },
    {
     "data": {
      "text/plain": [
       "FloatProgress(value=0.0, layout=Layout(width='auto'), style=ProgressStyle(bar_color='black'))"
      ],
      "application/vnd.jupyter.widget-view+json": {
       "version_major": 2,
       "version_minor": 0,
       "model_id": "5e7ca6b0d1e64d37aec006211d273628"
      }
     },
     "metadata": {},
     "output_type": "display_data"
    },
    {
     "name": "stdout",
     "output_type": "stream",
     "text": [
      "Processed 34500000 rows\r"
     ]
    },
    {
     "data": {
      "text/plain": [
       "FloatProgress(value=0.0, layout=Layout(width='auto'), style=ProgressStyle(bar_color='black'))"
      ],
      "application/vnd.jupyter.widget-view+json": {
       "version_major": 2,
       "version_minor": 0,
       "model_id": "ab00a6c5476f4ed6bcc3ad3de086f575"
      }
     },
     "metadata": {},
     "output_type": "display_data"
    },
    {
     "name": "stdout",
     "output_type": "stream",
     "text": [
      "Processed 34600000 rows\r"
     ]
    },
    {
     "data": {
      "text/plain": [
       "FloatProgress(value=0.0, layout=Layout(width='auto'), style=ProgressStyle(bar_color='black'))"
      ],
      "application/vnd.jupyter.widget-view+json": {
       "version_major": 2,
       "version_minor": 0,
       "model_id": "8bd5933e838641278ebad40692cfd28a"
      }
     },
     "metadata": {},
     "output_type": "display_data"
    },
    {
     "name": "stdout",
     "output_type": "stream",
     "text": [
      "Processed 34700000 rows\r"
     ]
    },
    {
     "data": {
      "text/plain": [
       "FloatProgress(value=0.0, layout=Layout(width='auto'), style=ProgressStyle(bar_color='black'))"
      ],
      "application/vnd.jupyter.widget-view+json": {
       "version_major": 2,
       "version_minor": 0,
       "model_id": "af93f3d362434e878ba7bd7edaffae78"
      }
     },
     "metadata": {},
     "output_type": "display_data"
    },
    {
     "name": "stdout",
     "output_type": "stream",
     "text": [
      "Processed 34800000 rows\r"
     ]
    },
    {
     "data": {
      "text/plain": [
       "FloatProgress(value=0.0, layout=Layout(width='auto'), style=ProgressStyle(bar_color='black'))"
      ],
      "application/vnd.jupyter.widget-view+json": {
       "version_major": 2,
       "version_minor": 0,
       "model_id": "a5a949b5e0354c199f9bc42c36c1f85d"
      }
     },
     "metadata": {},
     "output_type": "display_data"
    },
    {
     "name": "stdout",
     "output_type": "stream",
     "text": [
      "Processed 34900000 rows\r"
     ]
    },
    {
     "data": {
      "text/plain": [
       "FloatProgress(value=0.0, layout=Layout(width='auto'), style=ProgressStyle(bar_color='black'))"
      ],
      "application/vnd.jupyter.widget-view+json": {
       "version_major": 2,
       "version_minor": 0,
       "model_id": "ecc9031d739a46058d9c59be6239d67a"
      }
     },
     "metadata": {},
     "output_type": "display_data"
    },
    {
     "name": "stdout",
     "output_type": "stream",
     "text": [
      "Processed 35000000 rows\r"
     ]
    },
    {
     "data": {
      "text/plain": [
       "FloatProgress(value=0.0, layout=Layout(width='auto'), style=ProgressStyle(bar_color='black'))"
      ],
      "application/vnd.jupyter.widget-view+json": {
       "version_major": 2,
       "version_minor": 0,
       "model_id": "b7085a10dd784c97a6568871e4189b32"
      }
     },
     "metadata": {},
     "output_type": "display_data"
    },
    {
     "name": "stdout",
     "output_type": "stream",
     "text": [
      "Processed 35100000 rows\r"
     ]
    },
    {
     "data": {
      "text/plain": [
       "FloatProgress(value=0.0, layout=Layout(width='auto'), style=ProgressStyle(bar_color='black'))"
      ],
      "application/vnd.jupyter.widget-view+json": {
       "version_major": 2,
       "version_minor": 0,
       "model_id": "546ae5d03dda48b18f0522d959d089fa"
      }
     },
     "metadata": {},
     "output_type": "display_data"
    },
    {
     "name": "stdout",
     "output_type": "stream",
     "text": [
      "Processed 35200000 rows\r"
     ]
    },
    {
     "data": {
      "text/plain": [
       "FloatProgress(value=0.0, layout=Layout(width='auto'), style=ProgressStyle(bar_color='black'))"
      ],
      "application/vnd.jupyter.widget-view+json": {
       "version_major": 2,
       "version_minor": 0,
       "model_id": "a49c8c0562b744039e7475642934d740"
      }
     },
     "metadata": {},
     "output_type": "display_data"
    },
    {
     "name": "stdout",
     "output_type": "stream",
     "text": [
      "Processed 35300000 rows\r"
     ]
    },
    {
     "data": {
      "text/plain": [
       "FloatProgress(value=0.0, layout=Layout(width='auto'), style=ProgressStyle(bar_color='black'))"
      ],
      "application/vnd.jupyter.widget-view+json": {
       "version_major": 2,
       "version_minor": 0,
       "model_id": "4bbbb5d8f20b4e5dbac129d86a3fda4b"
      }
     },
     "metadata": {},
     "output_type": "display_data"
    },
    {
     "name": "stdout",
     "output_type": "stream",
     "text": [
      "Processed 35400000 rows\r"
     ]
    },
    {
     "data": {
      "text/plain": [
       "FloatProgress(value=0.0, layout=Layout(width='auto'), style=ProgressStyle(bar_color='black'))"
      ],
      "application/vnd.jupyter.widget-view+json": {
       "version_major": 2,
       "version_minor": 0,
       "model_id": "1d6da0f5403741cfb053c2b033e664bc"
      }
     },
     "metadata": {},
     "output_type": "display_data"
    },
    {
     "name": "stdout",
     "output_type": "stream",
     "text": [
      "Processed 35500000 rows\r"
     ]
    },
    {
     "data": {
      "text/plain": [
       "FloatProgress(value=0.0, layout=Layout(width='auto'), style=ProgressStyle(bar_color='black'))"
      ],
      "application/vnd.jupyter.widget-view+json": {
       "version_major": 2,
       "version_minor": 0,
       "model_id": "826124a20c1b479eba3302f8af5974b3"
      }
     },
     "metadata": {},
     "output_type": "display_data"
    },
    {
     "name": "stdout",
     "output_type": "stream",
     "text": [
      "Processed 35600000 rows\r"
     ]
    },
    {
     "data": {
      "text/plain": [
       "FloatProgress(value=0.0, layout=Layout(width='auto'), style=ProgressStyle(bar_color='black'))"
      ],
      "application/vnd.jupyter.widget-view+json": {
       "version_major": 2,
       "version_minor": 0,
       "model_id": "9114bf846cb84a9186b47939699249cf"
      }
     },
     "metadata": {},
     "output_type": "display_data"
    },
    {
     "name": "stdout",
     "output_type": "stream",
     "text": [
      "Processed 35700000 rows\r"
     ]
    },
    {
     "data": {
      "text/plain": [
       "FloatProgress(value=0.0, layout=Layout(width='auto'), style=ProgressStyle(bar_color='black'))"
      ],
      "application/vnd.jupyter.widget-view+json": {
       "version_major": 2,
       "version_minor": 0,
       "model_id": "20b5fc00fd6f400eaec1c0fbf3b2ffdb"
      }
     },
     "metadata": {},
     "output_type": "display_data"
    },
    {
     "name": "stdout",
     "output_type": "stream",
     "text": [
      "Processed 35800000 rows\r"
     ]
    },
    {
     "data": {
      "text/plain": [
       "FloatProgress(value=0.0, layout=Layout(width='auto'), style=ProgressStyle(bar_color='black'))"
      ],
      "application/vnd.jupyter.widget-view+json": {
       "version_major": 2,
       "version_minor": 0,
       "model_id": "90700e90cddd4a22a1092a1e8e2d6fdb"
      }
     },
     "metadata": {},
     "output_type": "display_data"
    },
    {
     "name": "stdout",
     "output_type": "stream",
     "text": [
      "Processed 35900000 rows\r"
     ]
    },
    {
     "data": {
      "text/plain": [
       "FloatProgress(value=0.0, layout=Layout(width='auto'), style=ProgressStyle(bar_color='black'))"
      ],
      "application/vnd.jupyter.widget-view+json": {
       "version_major": 2,
       "version_minor": 0,
       "model_id": "4aafccf023c64d88bb961ca0eaf312f4"
      }
     },
     "metadata": {},
     "output_type": "display_data"
    },
    {
     "name": "stdout",
     "output_type": "stream",
     "text": [
      "Processed 36000000 rows\r"
     ]
    },
    {
     "data": {
      "text/plain": [
       "FloatProgress(value=0.0, layout=Layout(width='auto'), style=ProgressStyle(bar_color='black'))"
      ],
      "application/vnd.jupyter.widget-view+json": {
       "version_major": 2,
       "version_minor": 0,
       "model_id": "b47eaf0b098142ccbf8ecab33bca53ae"
      }
     },
     "metadata": {},
     "output_type": "display_data"
    },
    {
     "name": "stdout",
     "output_type": "stream",
     "text": [
      "Processed 36100000 rows\r"
     ]
    },
    {
     "data": {
      "text/plain": [
       "FloatProgress(value=0.0, layout=Layout(width='auto'), style=ProgressStyle(bar_color='black'))"
      ],
      "application/vnd.jupyter.widget-view+json": {
       "version_major": 2,
       "version_minor": 0,
       "model_id": "7a05cbb81ab24a05b64baae0bc814f52"
      }
     },
     "metadata": {},
     "output_type": "display_data"
    },
    {
     "name": "stdout",
     "output_type": "stream",
     "text": [
      "Processed 36200000 rows\r"
     ]
    },
    {
     "data": {
      "text/plain": [
       "FloatProgress(value=0.0, layout=Layout(width='auto'), style=ProgressStyle(bar_color='black'))"
      ],
      "application/vnd.jupyter.widget-view+json": {
       "version_major": 2,
       "version_minor": 0,
       "model_id": "4c0aaaf19b7143f692909b09b67f4423"
      }
     },
     "metadata": {},
     "output_type": "display_data"
    },
    {
     "name": "stdout",
     "output_type": "stream",
     "text": [
      "Processed 36300000 rows\r"
     ]
    },
    {
     "data": {
      "text/plain": [
       "FloatProgress(value=0.0, layout=Layout(width='auto'), style=ProgressStyle(bar_color='black'))"
      ],
      "application/vnd.jupyter.widget-view+json": {
       "version_major": 2,
       "version_minor": 0,
       "model_id": "0b86a75cce9e4a3489c39ebed0808d7f"
      }
     },
     "metadata": {},
     "output_type": "display_data"
    },
    {
     "name": "stdout",
     "output_type": "stream",
     "text": [
      "Processed 36400000 rows\r"
     ]
    },
    {
     "data": {
      "text/plain": [
       "FloatProgress(value=0.0, layout=Layout(width='auto'), style=ProgressStyle(bar_color='black'))"
      ],
      "application/vnd.jupyter.widget-view+json": {
       "version_major": 2,
       "version_minor": 0,
       "model_id": "593f68eb3baf4c5c98dcf53891a8253a"
      }
     },
     "metadata": {},
     "output_type": "display_data"
    },
    {
     "name": "stdout",
     "output_type": "stream",
     "text": [
      "Processed 36500000 rows\r"
     ]
    },
    {
     "data": {
      "text/plain": [
       "FloatProgress(value=0.0, layout=Layout(width='auto'), style=ProgressStyle(bar_color='black'))"
      ],
      "application/vnd.jupyter.widget-view+json": {
       "version_major": 2,
       "version_minor": 0,
       "model_id": "bcae2ffcb29243b688c7688ed7f60e0c"
      }
     },
     "metadata": {},
     "output_type": "display_data"
    },
    {
     "name": "stdout",
     "output_type": "stream",
     "text": [
      "Processed 36600000 rows\r"
     ]
    },
    {
     "data": {
      "text/plain": [
       "FloatProgress(value=0.0, layout=Layout(width='auto'), style=ProgressStyle(bar_color='black'))"
      ],
      "application/vnd.jupyter.widget-view+json": {
       "version_major": 2,
       "version_minor": 0,
       "model_id": "75d107e0540f4b7a8391996f96a3568d"
      }
     },
     "metadata": {},
     "output_type": "display_data"
    },
    {
     "name": "stdout",
     "output_type": "stream",
     "text": [
      "Processed 36700000 rows\r"
     ]
    },
    {
     "data": {
      "text/plain": [
       "FloatProgress(value=0.0, layout=Layout(width='auto'), style=ProgressStyle(bar_color='black'))"
      ],
      "application/vnd.jupyter.widget-view+json": {
       "version_major": 2,
       "version_minor": 0,
       "model_id": "fc776764144445248fb9b23db0c1927f"
      }
     },
     "metadata": {},
     "output_type": "display_data"
    },
    {
     "name": "stdout",
     "output_type": "stream",
     "text": [
      "Processed 36800000 rows\r"
     ]
    },
    {
     "data": {
      "text/plain": [
       "FloatProgress(value=0.0, layout=Layout(width='auto'), style=ProgressStyle(bar_color='black'))"
      ],
      "application/vnd.jupyter.widget-view+json": {
       "version_major": 2,
       "version_minor": 0,
       "model_id": "b16fe8fb130044a8af5decba1cf5fb78"
      }
     },
     "metadata": {},
     "output_type": "display_data"
    },
    {
     "name": "stdout",
     "output_type": "stream",
     "text": [
      "Processed 36900000 rows\r"
     ]
    },
    {
     "data": {
      "text/plain": [
       "FloatProgress(value=0.0, layout=Layout(width='auto'), style=ProgressStyle(bar_color='black'))"
      ],
      "application/vnd.jupyter.widget-view+json": {
       "version_major": 2,
       "version_minor": 0,
       "model_id": "f11a5ba60c1d4e60acbb50a615861fc2"
      }
     },
     "metadata": {},
     "output_type": "display_data"
    },
    {
     "name": "stdout",
     "output_type": "stream",
     "text": [
      "Processed 37000000 rows\r"
     ]
    },
    {
     "data": {
      "text/plain": [
       "FloatProgress(value=0.0, layout=Layout(width='auto'), style=ProgressStyle(bar_color='black'))"
      ],
      "application/vnd.jupyter.widget-view+json": {
       "version_major": 2,
       "version_minor": 0,
       "model_id": "0883dde277f7466f93f86de016eeef8e"
      }
     },
     "metadata": {},
     "output_type": "display_data"
    },
    {
     "name": "stdout",
     "output_type": "stream",
     "text": [
      "Processed 37100000 rows\r"
     ]
    },
    {
     "data": {
      "text/plain": [
       "FloatProgress(value=0.0, layout=Layout(width='auto'), style=ProgressStyle(bar_color='black'))"
      ],
      "application/vnd.jupyter.widget-view+json": {
       "version_major": 2,
       "version_minor": 0,
       "model_id": "db840bef28864b4a9305122a2bc13f4b"
      }
     },
     "metadata": {},
     "output_type": "display_data"
    },
    {
     "name": "stdout",
     "output_type": "stream",
     "text": [
      "Processed 37200000 rows\r"
     ]
    },
    {
     "data": {
      "text/plain": [
       "FloatProgress(value=0.0, layout=Layout(width='auto'), style=ProgressStyle(bar_color='black'))"
      ],
      "application/vnd.jupyter.widget-view+json": {
       "version_major": 2,
       "version_minor": 0,
       "model_id": "882a6434126d4f5b822c783407ff2292"
      }
     },
     "metadata": {},
     "output_type": "display_data"
    },
    {
     "name": "stdout",
     "output_type": "stream",
     "text": [
      "Processed 37300000 rows\r"
     ]
    },
    {
     "data": {
      "text/plain": [
       "FloatProgress(value=0.0, layout=Layout(width='auto'), style=ProgressStyle(bar_color='black'))"
      ],
      "application/vnd.jupyter.widget-view+json": {
       "version_major": 2,
       "version_minor": 0,
       "model_id": "a01c5f2ae5e9480992d0874defa2a784"
      }
     },
     "metadata": {},
     "output_type": "display_data"
    },
    {
     "name": "stdout",
     "output_type": "stream",
     "text": [
      "Processed 37400000 rows\r"
     ]
    },
    {
     "data": {
      "text/plain": [
       "FloatProgress(value=0.0, layout=Layout(width='auto'), style=ProgressStyle(bar_color='black'))"
      ],
      "application/vnd.jupyter.widget-view+json": {
       "version_major": 2,
       "version_minor": 0,
       "model_id": "2039e627b1054b8396f3ed56cb0541a7"
      }
     },
     "metadata": {},
     "output_type": "display_data"
    },
    {
     "name": "stdout",
     "output_type": "stream",
     "text": [
      "Processed 37500000 rows\r"
     ]
    },
    {
     "data": {
      "text/plain": [
       "FloatProgress(value=0.0, layout=Layout(width='auto'), style=ProgressStyle(bar_color='black'))"
      ],
      "application/vnd.jupyter.widget-view+json": {
       "version_major": 2,
       "version_minor": 0,
       "model_id": "0d5a30bcd16b4279a96ffc4c8046f52f"
      }
     },
     "metadata": {},
     "output_type": "display_data"
    },
    {
     "name": "stdout",
     "output_type": "stream",
     "text": [
      "Processed 37600000 rows\r"
     ]
    },
    {
     "data": {
      "text/plain": [
       "FloatProgress(value=0.0, layout=Layout(width='auto'), style=ProgressStyle(bar_color='black'))"
      ],
      "application/vnd.jupyter.widget-view+json": {
       "version_major": 2,
       "version_minor": 0,
       "model_id": "e4bc09339ebe45158f6e19984e32937d"
      }
     },
     "metadata": {},
     "output_type": "display_data"
    },
    {
     "name": "stdout",
     "output_type": "stream",
     "text": [
      "Processed 37700000 rows\r"
     ]
    },
    {
     "data": {
      "text/plain": [
       "FloatProgress(value=0.0, layout=Layout(width='auto'), style=ProgressStyle(bar_color='black'))"
      ],
      "application/vnd.jupyter.widget-view+json": {
       "version_major": 2,
       "version_minor": 0,
       "model_id": "47bec1485a7d4b238d881eee485b09f5"
      }
     },
     "metadata": {},
     "output_type": "display_data"
    },
    {
     "name": "stdout",
     "output_type": "stream",
     "text": [
      "Processed 37800000 rows\r"
     ]
    },
    {
     "data": {
      "text/plain": [
       "FloatProgress(value=0.0, layout=Layout(width='auto'), style=ProgressStyle(bar_color='black'))"
      ],
      "application/vnd.jupyter.widget-view+json": {
       "version_major": 2,
       "version_minor": 0,
       "model_id": "550022e8bac74762974b7f5da68e761a"
      }
     },
     "metadata": {},
     "output_type": "display_data"
    },
    {
     "name": "stdout",
     "output_type": "stream",
     "text": [
      "Processed 37900000 rows\r"
     ]
    },
    {
     "data": {
      "text/plain": [
       "FloatProgress(value=0.0, layout=Layout(width='auto'), style=ProgressStyle(bar_color='black'))"
      ],
      "application/vnd.jupyter.widget-view+json": {
       "version_major": 2,
       "version_minor": 0,
       "model_id": "37b16a7db1f64eeca4c655c5bad9a822"
      }
     },
     "metadata": {},
     "output_type": "display_data"
    },
    {
     "name": "stdout",
     "output_type": "stream",
     "text": [
      "Processed 38000000 rows\r"
     ]
    },
    {
     "data": {
      "text/plain": [
       "FloatProgress(value=0.0, layout=Layout(width='auto'), style=ProgressStyle(bar_color='black'))"
      ],
      "application/vnd.jupyter.widget-view+json": {
       "version_major": 2,
       "version_minor": 0,
       "model_id": "49a30130478a4a1f8b28ee297b6a8180"
      }
     },
     "metadata": {},
     "output_type": "display_data"
    },
    {
     "name": "stdout",
     "output_type": "stream",
     "text": [
      "Processed 38100000 rows\r"
     ]
    },
    {
     "data": {
      "text/plain": [
       "FloatProgress(value=0.0, layout=Layout(width='auto'), style=ProgressStyle(bar_color='black'))"
      ],
      "application/vnd.jupyter.widget-view+json": {
       "version_major": 2,
       "version_minor": 0,
       "model_id": "918b18bde483433abd9ca1816d2b5c46"
      }
     },
     "metadata": {},
     "output_type": "display_data"
    },
    {
     "name": "stdout",
     "output_type": "stream",
     "text": [
      "Processed 38200000 rows\r"
     ]
    },
    {
     "data": {
      "text/plain": [
       "FloatProgress(value=0.0, layout=Layout(width='auto'), style=ProgressStyle(bar_color='black'))"
      ],
      "application/vnd.jupyter.widget-view+json": {
       "version_major": 2,
       "version_minor": 0,
       "model_id": "bf20f18cded94ae8b5daa5977bda9f03"
      }
     },
     "metadata": {},
     "output_type": "display_data"
    },
    {
     "name": "stdout",
     "output_type": "stream",
     "text": [
      "Processed 38300000 rows\r"
     ]
    },
    {
     "data": {
      "text/plain": [
       "FloatProgress(value=0.0, layout=Layout(width='auto'), style=ProgressStyle(bar_color='black'))"
      ],
      "application/vnd.jupyter.widget-view+json": {
       "version_major": 2,
       "version_minor": 0,
       "model_id": "0f7495d5f1144ed0992e5c291cdbca77"
      }
     },
     "metadata": {},
     "output_type": "display_data"
    },
    {
     "name": "stdout",
     "output_type": "stream",
     "text": [
      "Processed 38400000 rows\r"
     ]
    },
    {
     "data": {
      "text/plain": [
       "FloatProgress(value=0.0, layout=Layout(width='auto'), style=ProgressStyle(bar_color='black'))"
      ],
      "application/vnd.jupyter.widget-view+json": {
       "version_major": 2,
       "version_minor": 0,
       "model_id": "1227a4ae9ae6447d82d3bd256a558b25"
      }
     },
     "metadata": {},
     "output_type": "display_data"
    },
    {
     "name": "stdout",
     "output_type": "stream",
     "text": [
      "Processed 38500000 rows\r"
     ]
    },
    {
     "data": {
      "text/plain": [
       "FloatProgress(value=0.0, layout=Layout(width='auto'), style=ProgressStyle(bar_color='black'))"
      ],
      "application/vnd.jupyter.widget-view+json": {
       "version_major": 2,
       "version_minor": 0,
       "model_id": "9a1282dedb8140dcbc7a266d1aed1582"
      }
     },
     "metadata": {},
     "output_type": "display_data"
    },
    {
     "name": "stdout",
     "output_type": "stream",
     "text": [
      "Processed 38600000 rows\r"
     ]
    },
    {
     "data": {
      "text/plain": [
       "FloatProgress(value=0.0, layout=Layout(width='auto'), style=ProgressStyle(bar_color='black'))"
      ],
      "application/vnd.jupyter.widget-view+json": {
       "version_major": 2,
       "version_minor": 0,
       "model_id": "d8f4d6318a01443d80b5e57e5632d48f"
      }
     },
     "metadata": {},
     "output_type": "display_data"
    },
    {
     "name": "stdout",
     "output_type": "stream",
     "text": [
      "Processed 38700000 rows\r"
     ]
    },
    {
     "data": {
      "text/plain": [
       "FloatProgress(value=0.0, layout=Layout(width='auto'), style=ProgressStyle(bar_color='black'))"
      ],
      "application/vnd.jupyter.widget-view+json": {
       "version_major": 2,
       "version_minor": 0,
       "model_id": "a2a6cf5951664407b87de7ac29f6a80a"
      }
     },
     "metadata": {},
     "output_type": "display_data"
    },
    {
     "name": "stdout",
     "output_type": "stream",
     "text": [
      "Processed 38800000 rows\r"
     ]
    },
    {
     "data": {
      "text/plain": [
       "FloatProgress(value=0.0, layout=Layout(width='auto'), style=ProgressStyle(bar_color='black'))"
      ],
      "application/vnd.jupyter.widget-view+json": {
       "version_major": 2,
       "version_minor": 0,
       "model_id": "45c23d2960e94d8fbe889112f8bea4ab"
      }
     },
     "metadata": {},
     "output_type": "display_data"
    },
    {
     "name": "stdout",
     "output_type": "stream",
     "text": [
      "Processed 38900000 rows\r"
     ]
    },
    {
     "data": {
      "text/plain": [
       "FloatProgress(value=0.0, layout=Layout(width='auto'), style=ProgressStyle(bar_color='black'))"
      ],
      "application/vnd.jupyter.widget-view+json": {
       "version_major": 2,
       "version_minor": 0,
       "model_id": "536ee984871b4c9da6612b77c44c48c2"
      }
     },
     "metadata": {},
     "output_type": "display_data"
    },
    {
     "name": "stdout",
     "output_type": "stream",
     "text": [
      "Processed 39000000 rows\r"
     ]
    },
    {
     "data": {
      "text/plain": [
       "FloatProgress(value=0.0, layout=Layout(width='auto'), style=ProgressStyle(bar_color='black'))"
      ],
      "application/vnd.jupyter.widget-view+json": {
       "version_major": 2,
       "version_minor": 0,
       "model_id": "9d4384c6f15a454ab257a4863e97af7a"
      }
     },
     "metadata": {},
     "output_type": "display_data"
    },
    {
     "name": "stdout",
     "output_type": "stream",
     "text": [
      "Processed 39100000 rows\r"
     ]
    },
    {
     "data": {
      "text/plain": [
       "FloatProgress(value=0.0, layout=Layout(width='auto'), style=ProgressStyle(bar_color='black'))"
      ],
      "application/vnd.jupyter.widget-view+json": {
       "version_major": 2,
       "version_minor": 0,
       "model_id": "6947db78492f48ab9f63e47be6d7d91d"
      }
     },
     "metadata": {},
     "output_type": "display_data"
    },
    {
     "name": "stdout",
     "output_type": "stream",
     "text": [
      "Processed 39200000 rows\r"
     ]
    },
    {
     "data": {
      "text/plain": [
       "FloatProgress(value=0.0, layout=Layout(width='auto'), style=ProgressStyle(bar_color='black'))"
      ],
      "application/vnd.jupyter.widget-view+json": {
       "version_major": 2,
       "version_minor": 0,
       "model_id": "4ffdc12860594070a7f20c64b13a2f56"
      }
     },
     "metadata": {},
     "output_type": "display_data"
    },
    {
     "name": "stdout",
     "output_type": "stream",
     "text": [
      "Processed 39300000 rows\r"
     ]
    },
    {
     "data": {
      "text/plain": [
       "FloatProgress(value=0.0, layout=Layout(width='auto'), style=ProgressStyle(bar_color='black'))"
      ],
      "application/vnd.jupyter.widget-view+json": {
       "version_major": 2,
       "version_minor": 0,
       "model_id": "c82b9c5f34294c4e863b80282a0a4e12"
      }
     },
     "metadata": {},
     "output_type": "display_data"
    },
    {
     "name": "stdout",
     "output_type": "stream",
     "text": [
      "Processed 39400000 rows\r"
     ]
    },
    {
     "data": {
      "text/plain": [
       "FloatProgress(value=0.0, layout=Layout(width='auto'), style=ProgressStyle(bar_color='black'))"
      ],
      "application/vnd.jupyter.widget-view+json": {
       "version_major": 2,
       "version_minor": 0,
       "model_id": "0eca86de3bce4e3ca9a4f42381040e31"
      }
     },
     "metadata": {},
     "output_type": "display_data"
    },
    {
     "name": "stdout",
     "output_type": "stream",
     "text": [
      "Processed 39500000 rows\r"
     ]
    },
    {
     "data": {
      "text/plain": [
       "FloatProgress(value=0.0, layout=Layout(width='auto'), style=ProgressStyle(bar_color='black'))"
      ],
      "application/vnd.jupyter.widget-view+json": {
       "version_major": 2,
       "version_minor": 0,
       "model_id": "fac73cfb29ac4ce994a4c16a4d0952ea"
      }
     },
     "metadata": {},
     "output_type": "display_data"
    },
    {
     "name": "stdout",
     "output_type": "stream",
     "text": [
      "Processed 39600000 rows\r"
     ]
    },
    {
     "data": {
      "text/plain": [
       "FloatProgress(value=0.0, layout=Layout(width='auto'), style=ProgressStyle(bar_color='black'))"
      ],
      "application/vnd.jupyter.widget-view+json": {
       "version_major": 2,
       "version_minor": 0,
       "model_id": "0d052426bef74a6c805eda81b92d671a"
      }
     },
     "metadata": {},
     "output_type": "display_data"
    },
    {
     "name": "stdout",
     "output_type": "stream",
     "text": [
      "Processed 39700000 rows\r"
     ]
    },
    {
     "data": {
      "text/plain": [
       "FloatProgress(value=0.0, layout=Layout(width='auto'), style=ProgressStyle(bar_color='black'))"
      ],
      "application/vnd.jupyter.widget-view+json": {
       "version_major": 2,
       "version_minor": 0,
       "model_id": "f5a92163c8094e37b03ce6b3c7f0862e"
      }
     },
     "metadata": {},
     "output_type": "display_data"
    },
    {
     "name": "stdout",
     "output_type": "stream",
     "text": [
      "Processed 39800000 rows\r"
     ]
    },
    {
     "data": {
      "text/plain": [
       "FloatProgress(value=0.0, layout=Layout(width='auto'), style=ProgressStyle(bar_color='black'))"
      ],
      "application/vnd.jupyter.widget-view+json": {
       "version_major": 2,
       "version_minor": 0,
       "model_id": "4523fefcccbd47b587ade2ad028a87e3"
      }
     },
     "metadata": {},
     "output_type": "display_data"
    },
    {
     "name": "stdout",
     "output_type": "stream",
     "text": [
      "Processed 39900000 rows\r"
     ]
    },
    {
     "data": {
      "text/plain": [
       "FloatProgress(value=0.0, layout=Layout(width='auto'), style=ProgressStyle(bar_color='black'))"
      ],
      "application/vnd.jupyter.widget-view+json": {
       "version_major": 2,
       "version_minor": 0,
       "model_id": "d83f994be76a4d49832696a2aa4c4753"
      }
     },
     "metadata": {},
     "output_type": "display_data"
    },
    {
     "name": "stdout",
     "output_type": "stream",
     "text": [
      "Processed 40000000 rows\r"
     ]
    },
    {
     "data": {
      "text/plain": [
       "FloatProgress(value=0.0, layout=Layout(width='auto'), style=ProgressStyle(bar_color='black'))"
      ],
      "application/vnd.jupyter.widget-view+json": {
       "version_major": 2,
       "version_minor": 0,
       "model_id": "f1af18d91dfd453aa8d57f3387ced7d4"
      }
     },
     "metadata": {},
     "output_type": "display_data"
    },
    {
     "name": "stdout",
     "output_type": "stream",
     "text": [
      "Processed 40100000 rows\r"
     ]
    },
    {
     "data": {
      "text/plain": [
       "FloatProgress(value=0.0, layout=Layout(width='auto'), style=ProgressStyle(bar_color='black'))"
      ],
      "application/vnd.jupyter.widget-view+json": {
       "version_major": 2,
       "version_minor": 0,
       "model_id": "8ff8bdcd2af04ca68121aecc7b2fbf28"
      }
     },
     "metadata": {},
     "output_type": "display_data"
    },
    {
     "name": "stdout",
     "output_type": "stream",
     "text": [
      "Processed 40200000 rows\r"
     ]
    },
    {
     "data": {
      "text/plain": [
       "FloatProgress(value=0.0, layout=Layout(width='auto'), style=ProgressStyle(bar_color='black'))"
      ],
      "application/vnd.jupyter.widget-view+json": {
       "version_major": 2,
       "version_minor": 0,
       "model_id": "a04a4ee46f9b4568ad4e8450e65b6ea9"
      }
     },
     "metadata": {},
     "output_type": "display_data"
    },
    {
     "name": "stdout",
     "output_type": "stream",
     "text": [
      "Processed 40300000 rows\r"
     ]
    },
    {
     "data": {
      "text/plain": [
       "FloatProgress(value=0.0, layout=Layout(width='auto'), style=ProgressStyle(bar_color='black'))"
      ],
      "application/vnd.jupyter.widget-view+json": {
       "version_major": 2,
       "version_minor": 0,
       "model_id": "7b77439565ac46afa0017d773a50c060"
      }
     },
     "metadata": {},
     "output_type": "display_data"
    },
    {
     "name": "stdout",
     "output_type": "stream",
     "text": [
      "Processed 40400000 rows\r"
     ]
    },
    {
     "data": {
      "text/plain": [
       "FloatProgress(value=0.0, layout=Layout(width='auto'), style=ProgressStyle(bar_color='black'))"
      ],
      "application/vnd.jupyter.widget-view+json": {
       "version_major": 2,
       "version_minor": 0,
       "model_id": "96c647e6efa64ff9aef131eca998e2b0"
      }
     },
     "metadata": {},
     "output_type": "display_data"
    },
    {
     "name": "stdout",
     "output_type": "stream",
     "text": [
      "Processed 40500000 rows\r"
     ]
    },
    {
     "data": {
      "text/plain": [
       "FloatProgress(value=0.0, layout=Layout(width='auto'), style=ProgressStyle(bar_color='black'))"
      ],
      "application/vnd.jupyter.widget-view+json": {
       "version_major": 2,
       "version_minor": 0,
       "model_id": "6803174a1aab456982442a200e9c43f4"
      }
     },
     "metadata": {},
     "output_type": "display_data"
    },
    {
     "name": "stdout",
     "output_type": "stream",
     "text": [
      "Processed 40600000 rows\r"
     ]
    },
    {
     "data": {
      "text/plain": [
       "FloatProgress(value=0.0, layout=Layout(width='auto'), style=ProgressStyle(bar_color='black'))"
      ],
      "application/vnd.jupyter.widget-view+json": {
       "version_major": 2,
       "version_minor": 0,
       "model_id": "eab8d27ac37e44a9a12b0ae42d17bd3b"
      }
     },
     "metadata": {},
     "output_type": "display_data"
    },
    {
     "name": "stdout",
     "output_type": "stream",
     "text": [
      "Processed 40700000 rows\r"
     ]
    },
    {
     "data": {
      "text/plain": [
       "FloatProgress(value=0.0, layout=Layout(width='auto'), style=ProgressStyle(bar_color='black'))"
      ],
      "application/vnd.jupyter.widget-view+json": {
       "version_major": 2,
       "version_minor": 0,
       "model_id": "7dde36dc365a4706844efc3c6fa824ae"
      }
     },
     "metadata": {},
     "output_type": "display_data"
    },
    {
     "name": "stdout",
     "output_type": "stream",
     "text": [
      "Processed 40800000 rows\r"
     ]
    },
    {
     "data": {
      "text/plain": [
       "FloatProgress(value=0.0, layout=Layout(width='auto'), style=ProgressStyle(bar_color='black'))"
      ],
      "application/vnd.jupyter.widget-view+json": {
       "version_major": 2,
       "version_minor": 0,
       "model_id": "c7da599e416140c4906e175183a6e735"
      }
     },
     "metadata": {},
     "output_type": "display_data"
    },
    {
     "name": "stdout",
     "output_type": "stream",
     "text": [
      "Processed 40900000 rows\r"
     ]
    },
    {
     "data": {
      "text/plain": [
       "FloatProgress(value=0.0, layout=Layout(width='auto'), style=ProgressStyle(bar_color='black'))"
      ],
      "application/vnd.jupyter.widget-view+json": {
       "version_major": 2,
       "version_minor": 0,
       "model_id": "a262b416be094a84af3df514989725ee"
      }
     },
     "metadata": {},
     "output_type": "display_data"
    },
    {
     "name": "stdout",
     "output_type": "stream",
     "text": [
      "Processed 41000000 rows\r"
     ]
    },
    {
     "data": {
      "text/plain": [
       "FloatProgress(value=0.0, layout=Layout(width='auto'), style=ProgressStyle(bar_color='black'))"
      ],
      "application/vnd.jupyter.widget-view+json": {
       "version_major": 2,
       "version_minor": 0,
       "model_id": "4bdf2715a9a54a67a14bf55f0c259c2e"
      }
     },
     "metadata": {},
     "output_type": "display_data"
    },
    {
     "name": "stdout",
     "output_type": "stream",
     "text": [
      "Processed 41100000 rows\r"
     ]
    },
    {
     "data": {
      "text/plain": [
       "FloatProgress(value=0.0, layout=Layout(width='auto'), style=ProgressStyle(bar_color='black'))"
      ],
      "application/vnd.jupyter.widget-view+json": {
       "version_major": 2,
       "version_minor": 0,
       "model_id": "bd9f6ef7528548fcac56c959866cad77"
      }
     },
     "metadata": {},
     "output_type": "display_data"
    },
    {
     "name": "stdout",
     "output_type": "stream",
     "text": [
      "Processed 41200000 rows\r"
     ]
    },
    {
     "data": {
      "text/plain": [
       "FloatProgress(value=0.0, layout=Layout(width='auto'), style=ProgressStyle(bar_color='black'))"
      ],
      "application/vnd.jupyter.widget-view+json": {
       "version_major": 2,
       "version_minor": 0,
       "model_id": "bddf16c20269484a832d8e9d12e4d9f7"
      }
     },
     "metadata": {},
     "output_type": "display_data"
    },
    {
     "name": "stdout",
     "output_type": "stream",
     "text": [
      "Processed 41300000 rows\r"
     ]
    },
    {
     "data": {
      "text/plain": [
       "FloatProgress(value=0.0, layout=Layout(width='auto'), style=ProgressStyle(bar_color='black'))"
      ],
      "application/vnd.jupyter.widget-view+json": {
       "version_major": 2,
       "version_minor": 0,
       "model_id": "6e6b474b763c438689e67cc0905bdbb7"
      }
     },
     "metadata": {},
     "output_type": "display_data"
    },
    {
     "name": "stdout",
     "output_type": "stream",
     "text": [
      "Processed 41400000 rows\r"
     ]
    },
    {
     "data": {
      "text/plain": [
       "FloatProgress(value=0.0, layout=Layout(width='auto'), style=ProgressStyle(bar_color='black'))"
      ],
      "application/vnd.jupyter.widget-view+json": {
       "version_major": 2,
       "version_minor": 0,
       "model_id": "69a4234c2832435b8a71388ea4185e5c"
      }
     },
     "metadata": {},
     "output_type": "display_data"
    },
    {
     "name": "stdout",
     "output_type": "stream",
     "text": [
      "Processed 41500000 rows\r"
     ]
    },
    {
     "data": {
      "text/plain": [
       "FloatProgress(value=0.0, layout=Layout(width='auto'), style=ProgressStyle(bar_color='black'))"
      ],
      "application/vnd.jupyter.widget-view+json": {
       "version_major": 2,
       "version_minor": 0,
       "model_id": "8e94df9dbb374f8e95091f05047e6d6a"
      }
     },
     "metadata": {},
     "output_type": "display_data"
    },
    {
     "name": "stdout",
     "output_type": "stream",
     "text": [
      "Processed 41600000 rows\r"
     ]
    },
    {
     "data": {
      "text/plain": [
       "FloatProgress(value=0.0, layout=Layout(width='auto'), style=ProgressStyle(bar_color='black'))"
      ],
      "application/vnd.jupyter.widget-view+json": {
       "version_major": 2,
       "version_minor": 0,
       "model_id": "e0fc1184fd9c4989ad55314511b86918"
      }
     },
     "metadata": {},
     "output_type": "display_data"
    },
    {
     "name": "stdout",
     "output_type": "stream",
     "text": [
      "Processed 41700000 rows\r"
     ]
    },
    {
     "data": {
      "text/plain": [
       "FloatProgress(value=0.0, layout=Layout(width='auto'), style=ProgressStyle(bar_color='black'))"
      ],
      "application/vnd.jupyter.widget-view+json": {
       "version_major": 2,
       "version_minor": 0,
       "model_id": "1ac80134cc084c818035f7d4717bd253"
      }
     },
     "metadata": {},
     "output_type": "display_data"
    },
    {
     "name": "stdout",
     "output_type": "stream",
     "text": [
      "Processed 41800000 rows\r"
     ]
    },
    {
     "data": {
      "text/plain": [
       "FloatProgress(value=0.0, layout=Layout(width='auto'), style=ProgressStyle(bar_color='black'))"
      ],
      "application/vnd.jupyter.widget-view+json": {
       "version_major": 2,
       "version_minor": 0,
       "model_id": "bca9fad4415b4faab6322dea924f84eb"
      }
     },
     "metadata": {},
     "output_type": "display_data"
    },
    {
     "name": "stdout",
     "output_type": "stream",
     "text": [
      "Processed 41900000 rows\r"
     ]
    },
    {
     "data": {
      "text/plain": [
       "FloatProgress(value=0.0, layout=Layout(width='auto'), style=ProgressStyle(bar_color='black'))"
      ],
      "application/vnd.jupyter.widget-view+json": {
       "version_major": 2,
       "version_minor": 0,
       "model_id": "1c9f45dfd93f4f1d8f35136cb91c5395"
      }
     },
     "metadata": {},
     "output_type": "display_data"
    },
    {
     "name": "stdout",
     "output_type": "stream",
     "text": [
      "Processed 42000000 rows\r"
     ]
    },
    {
     "data": {
      "text/plain": [
       "FloatProgress(value=0.0, layout=Layout(width='auto'), style=ProgressStyle(bar_color='black'))"
      ],
      "application/vnd.jupyter.widget-view+json": {
       "version_major": 2,
       "version_minor": 0,
       "model_id": "a5192a53290a4f5b9eb2ed3253e0493d"
      }
     },
     "metadata": {},
     "output_type": "display_data"
    },
    {
     "name": "stdout",
     "output_type": "stream",
     "text": [
      "Processed 42100000 rows\r"
     ]
    },
    {
     "data": {
      "text/plain": [
       "FloatProgress(value=0.0, layout=Layout(width='auto'), style=ProgressStyle(bar_color='black'))"
      ],
      "application/vnd.jupyter.widget-view+json": {
       "version_major": 2,
       "version_minor": 0,
       "model_id": "bf47d9b4f30749af85b4bb50946633f2"
      }
     },
     "metadata": {},
     "output_type": "display_data"
    },
    {
     "name": "stdout",
     "output_type": "stream",
     "text": [
      "Processed 42200000 rows\r"
     ]
    },
    {
     "data": {
      "text/plain": [
       "FloatProgress(value=0.0, layout=Layout(width='auto'), style=ProgressStyle(bar_color='black'))"
      ],
      "application/vnd.jupyter.widget-view+json": {
       "version_major": 2,
       "version_minor": 0,
       "model_id": "7e8f702120b64fb0a0ce50abbf58f882"
      }
     },
     "metadata": {},
     "output_type": "display_data"
    },
    {
     "name": "stdout",
     "output_type": "stream",
     "text": [
      "Processed 42300000 rows\r"
     ]
    },
    {
     "data": {
      "text/plain": [
       "FloatProgress(value=0.0, layout=Layout(width='auto'), style=ProgressStyle(bar_color='black'))"
      ],
      "application/vnd.jupyter.widget-view+json": {
       "version_major": 2,
       "version_minor": 0,
       "model_id": "1e149e44666e44aebe3b7196736eb359"
      }
     },
     "metadata": {},
     "output_type": "display_data"
    },
    {
     "name": "stdout",
     "output_type": "stream",
     "text": [
      "Processed 42400000 rows\r"
     ]
    },
    {
     "data": {
      "text/plain": [
       "FloatProgress(value=0.0, layout=Layout(width='auto'), style=ProgressStyle(bar_color='black'))"
      ],
      "application/vnd.jupyter.widget-view+json": {
       "version_major": 2,
       "version_minor": 0,
       "model_id": "6d87265170cc47fc8482b48fe1bf59c7"
      }
     },
     "metadata": {},
     "output_type": "display_data"
    },
    {
     "name": "stdout",
     "output_type": "stream",
     "text": [
      "Processed 42500000 rows\r"
     ]
    },
    {
     "data": {
      "text/plain": [
       "FloatProgress(value=0.0, layout=Layout(width='auto'), style=ProgressStyle(bar_color='black'))"
      ],
      "application/vnd.jupyter.widget-view+json": {
       "version_major": 2,
       "version_minor": 0,
       "model_id": "aee70ebbb2dd45f0ba87a3370db026fd"
      }
     },
     "metadata": {},
     "output_type": "display_data"
    },
    {
     "name": "stdout",
     "output_type": "stream",
     "text": [
      "Processed 42600000 rows\r"
     ]
    },
    {
     "data": {
      "text/plain": [
       "FloatProgress(value=0.0, layout=Layout(width='auto'), style=ProgressStyle(bar_color='black'))"
      ],
      "application/vnd.jupyter.widget-view+json": {
       "version_major": 2,
       "version_minor": 0,
       "model_id": "53cb38765acb47e89e0c395155374db6"
      }
     },
     "metadata": {},
     "output_type": "display_data"
    },
    {
     "name": "stdout",
     "output_type": "stream",
     "text": [
      "Processed 42700000 rows\r"
     ]
    },
    {
     "data": {
      "text/plain": [
       "FloatProgress(value=0.0, layout=Layout(width='auto'), style=ProgressStyle(bar_color='black'))"
      ],
      "application/vnd.jupyter.widget-view+json": {
       "version_major": 2,
       "version_minor": 0,
       "model_id": "83018b995f3c45efaf92a73f308016f4"
      }
     },
     "metadata": {},
     "output_type": "display_data"
    },
    {
     "name": "stdout",
     "output_type": "stream",
     "text": [
      "Processed 42800000 rows\r"
     ]
    },
    {
     "data": {
      "text/plain": [
       "FloatProgress(value=0.0, layout=Layout(width='auto'), style=ProgressStyle(bar_color='black'))"
      ],
      "application/vnd.jupyter.widget-view+json": {
       "version_major": 2,
       "version_minor": 0,
       "model_id": "bddc58da5a4d4e4782079e41a84fad66"
      }
     },
     "metadata": {},
     "output_type": "display_data"
    },
    {
     "name": "stdout",
     "output_type": "stream",
     "text": [
      "Processed 42900000 rows\r"
     ]
    },
    {
     "data": {
      "text/plain": [
       "FloatProgress(value=0.0, layout=Layout(width='auto'), style=ProgressStyle(bar_color='black'))"
      ],
      "application/vnd.jupyter.widget-view+json": {
       "version_major": 2,
       "version_minor": 0,
       "model_id": "17b88bbd8bf043e9a515f88c6e13efc1"
      }
     },
     "metadata": {},
     "output_type": "display_data"
    },
    {
     "name": "stdout",
     "output_type": "stream",
     "text": [
      "Processed 43000000 rows\r"
     ]
    },
    {
     "data": {
      "text/plain": [
       "FloatProgress(value=0.0, layout=Layout(width='auto'), style=ProgressStyle(bar_color='black'))"
      ],
      "application/vnd.jupyter.widget-view+json": {
       "version_major": 2,
       "version_minor": 0,
       "model_id": "412aafc9d9dd445185626bdf1c4870d4"
      }
     },
     "metadata": {},
     "output_type": "display_data"
    },
    {
     "name": "stdout",
     "output_type": "stream",
     "text": [
      "Processed 43100000 rows\r"
     ]
    },
    {
     "data": {
      "text/plain": [
       "FloatProgress(value=0.0, layout=Layout(width='auto'), style=ProgressStyle(bar_color='black'))"
      ],
      "application/vnd.jupyter.widget-view+json": {
       "version_major": 2,
       "version_minor": 0,
       "model_id": "f34daff2dfdd460f8f373020c64b6a37"
      }
     },
     "metadata": {},
     "output_type": "display_data"
    },
    {
     "name": "stdout",
     "output_type": "stream",
     "text": [
      "Processed 43200000 rows\r"
     ]
    },
    {
     "data": {
      "text/plain": [
       "FloatProgress(value=0.0, layout=Layout(width='auto'), style=ProgressStyle(bar_color='black'))"
      ],
      "application/vnd.jupyter.widget-view+json": {
       "version_major": 2,
       "version_minor": 0,
       "model_id": "b6351e5a0fe047038821040d8acd365c"
      }
     },
     "metadata": {},
     "output_type": "display_data"
    },
    {
     "name": "stdout",
     "output_type": "stream",
     "text": [
      "Processed 43300000 rows\r"
     ]
    },
    {
     "data": {
      "text/plain": [
       "FloatProgress(value=0.0, layout=Layout(width='auto'), style=ProgressStyle(bar_color='black'))"
      ],
      "application/vnd.jupyter.widget-view+json": {
       "version_major": 2,
       "version_minor": 0,
       "model_id": "eb3d09e1886141e3b8865ec224dbcfd1"
      }
     },
     "metadata": {},
     "output_type": "display_data"
    },
    {
     "name": "stdout",
     "output_type": "stream",
     "text": [
      "Processed 43400000 rows\r"
     ]
    },
    {
     "data": {
      "text/plain": [
       "FloatProgress(value=0.0, layout=Layout(width='auto'), style=ProgressStyle(bar_color='black'))"
      ],
      "application/vnd.jupyter.widget-view+json": {
       "version_major": 2,
       "version_minor": 0,
       "model_id": "caf312cf5c6e4a1faee0779a3d2a45f5"
      }
     },
     "metadata": {},
     "output_type": "display_data"
    },
    {
     "name": "stdout",
     "output_type": "stream",
     "text": [
      "Processed 43500000 rows\r"
     ]
    },
    {
     "data": {
      "text/plain": [
       "FloatProgress(value=0.0, layout=Layout(width='auto'), style=ProgressStyle(bar_color='black'))"
      ],
      "application/vnd.jupyter.widget-view+json": {
       "version_major": 2,
       "version_minor": 0,
       "model_id": "eabf6a29d1eb426184a88de74e3b6b2d"
      }
     },
     "metadata": {},
     "output_type": "display_data"
    },
    {
     "name": "stdout",
     "output_type": "stream",
     "text": [
      "Processed 43600000 rows\r"
     ]
    },
    {
     "data": {
      "text/plain": [
       "FloatProgress(value=0.0, layout=Layout(width='auto'), style=ProgressStyle(bar_color='black'))"
      ],
      "application/vnd.jupyter.widget-view+json": {
       "version_major": 2,
       "version_minor": 0,
       "model_id": "b2eb41d528d34291960b3fdbbbf572f9"
      }
     },
     "metadata": {},
     "output_type": "display_data"
    },
    {
     "name": "stdout",
     "output_type": "stream",
     "text": [
      "Processed 43700000 rows\r"
     ]
    },
    {
     "data": {
      "text/plain": [
       "FloatProgress(value=0.0, layout=Layout(width='auto'), style=ProgressStyle(bar_color='black'))"
      ],
      "application/vnd.jupyter.widget-view+json": {
       "version_major": 2,
       "version_minor": 0,
       "model_id": "b0494032f7944e979bcbd01ef0e19440"
      }
     },
     "metadata": {},
     "output_type": "display_data"
    },
    {
     "name": "stdout",
     "output_type": "stream",
     "text": [
      "Processed 43800000 rows\r"
     ]
    },
    {
     "data": {
      "text/plain": [
       "FloatProgress(value=0.0, layout=Layout(width='auto'), style=ProgressStyle(bar_color='black'))"
      ],
      "application/vnd.jupyter.widget-view+json": {
       "version_major": 2,
       "version_minor": 0,
       "model_id": "d51f2932e3414387818862cf3fab1861"
      }
     },
     "metadata": {},
     "output_type": "display_data"
    },
    {
     "name": "stdout",
     "output_type": "stream",
     "text": [
      "Processed 43900000 rows\r"
     ]
    },
    {
     "data": {
      "text/plain": [
       "FloatProgress(value=0.0, layout=Layout(width='auto'), style=ProgressStyle(bar_color='black'))"
      ],
      "application/vnd.jupyter.widget-view+json": {
       "version_major": 2,
       "version_minor": 0,
       "model_id": "667c109208e84e6eb201c5a800b35b3c"
      }
     },
     "metadata": {},
     "output_type": "display_data"
    },
    {
     "name": "stdout",
     "output_type": "stream",
     "text": [
      "Processed 44000000 rows\r"
     ]
    },
    {
     "data": {
      "text/plain": [
       "FloatProgress(value=0.0, layout=Layout(width='auto'), style=ProgressStyle(bar_color='black'))"
      ],
      "application/vnd.jupyter.widget-view+json": {
       "version_major": 2,
       "version_minor": 0,
       "model_id": "7385ab1922bc460d870a4835060380b2"
      }
     },
     "metadata": {},
     "output_type": "display_data"
    },
    {
     "name": "stdout",
     "output_type": "stream",
     "text": [
      "Processed 44100000 rows\r"
     ]
    },
    {
     "data": {
      "text/plain": [
       "FloatProgress(value=0.0, layout=Layout(width='auto'), style=ProgressStyle(bar_color='black'))"
      ],
      "application/vnd.jupyter.widget-view+json": {
       "version_major": 2,
       "version_minor": 0,
       "model_id": "8a1a6421cb5d4a979fe4592236b95190"
      }
     },
     "metadata": {},
     "output_type": "display_data"
    },
    {
     "name": "stdout",
     "output_type": "stream",
     "text": [
      "Processed 44200000 rows\r"
     ]
    },
    {
     "data": {
      "text/plain": [
       "FloatProgress(value=0.0, layout=Layout(width='auto'), style=ProgressStyle(bar_color='black'))"
      ],
      "application/vnd.jupyter.widget-view+json": {
       "version_major": 2,
       "version_minor": 0,
       "model_id": "1def6becd75b4b2c8bb7bba5f4cab01a"
      }
     },
     "metadata": {},
     "output_type": "display_data"
    },
    {
     "name": "stdout",
     "output_type": "stream",
     "text": [
      "Processed 44300000 rows\r"
     ]
    },
    {
     "data": {
      "text/plain": [
       "FloatProgress(value=0.0, layout=Layout(width='auto'), style=ProgressStyle(bar_color='black'))"
      ],
      "application/vnd.jupyter.widget-view+json": {
       "version_major": 2,
       "version_minor": 0,
       "model_id": "a5fff559398148e0a242ccc096d715d0"
      }
     },
     "metadata": {},
     "output_type": "display_data"
    },
    {
     "name": "stdout",
     "output_type": "stream",
     "text": [
      "Processed 44400000 rows\r"
     ]
    },
    {
     "data": {
      "text/plain": [
       "FloatProgress(value=0.0, layout=Layout(width='auto'), style=ProgressStyle(bar_color='black'))"
      ],
      "application/vnd.jupyter.widget-view+json": {
       "version_major": 2,
       "version_minor": 0,
       "model_id": "75673908038d49d9a382fbff7f0bab59"
      }
     },
     "metadata": {},
     "output_type": "display_data"
    },
    {
     "name": "stdout",
     "output_type": "stream",
     "text": [
      "Processed 44500000 rows\r"
     ]
    },
    {
     "data": {
      "text/plain": [
       "FloatProgress(value=0.0, layout=Layout(width='auto'), style=ProgressStyle(bar_color='black'))"
      ],
      "application/vnd.jupyter.widget-view+json": {
       "version_major": 2,
       "version_minor": 0,
       "model_id": "b441fe5c79c749bab5180cfbceb9b6c3"
      }
     },
     "metadata": {},
     "output_type": "display_data"
    },
    {
     "name": "stdout",
     "output_type": "stream",
     "text": [
      "Processed 44600000 rows\r"
     ]
    },
    {
     "data": {
      "text/plain": [
       "FloatProgress(value=0.0, layout=Layout(width='auto'), style=ProgressStyle(bar_color='black'))"
      ],
      "application/vnd.jupyter.widget-view+json": {
       "version_major": 2,
       "version_minor": 0,
       "model_id": "fc0f892ed1834151a6e0f6a4155236f8"
      }
     },
     "metadata": {},
     "output_type": "display_data"
    },
    {
     "name": "stdout",
     "output_type": "stream",
     "text": [
      "Processed 44700000 rows\r"
     ]
    },
    {
     "data": {
      "text/plain": [
       "FloatProgress(value=0.0, layout=Layout(width='auto'), style=ProgressStyle(bar_color='black'))"
      ],
      "application/vnd.jupyter.widget-view+json": {
       "version_major": 2,
       "version_minor": 0,
       "model_id": "d8728b18a68847a7958035cbcfe40b0e"
      }
     },
     "metadata": {},
     "output_type": "display_data"
    },
    {
     "name": "stdout",
     "output_type": "stream",
     "text": [
      "Processed 44800000 rows\r"
     ]
    },
    {
     "data": {
      "text/plain": [
       "FloatProgress(value=0.0, layout=Layout(width='auto'), style=ProgressStyle(bar_color='black'))"
      ],
      "application/vnd.jupyter.widget-view+json": {
       "version_major": 2,
       "version_minor": 0,
       "model_id": "39130a108c1742b68ef164efc3bc2cb2"
      }
     },
     "metadata": {},
     "output_type": "display_data"
    },
    {
     "name": "stdout",
     "output_type": "stream",
     "text": [
      "Processed 44900000 rows\r"
     ]
    },
    {
     "data": {
      "text/plain": [
       "FloatProgress(value=0.0, layout=Layout(width='auto'), style=ProgressStyle(bar_color='black'))"
      ],
      "application/vnd.jupyter.widget-view+json": {
       "version_major": 2,
       "version_minor": 0,
       "model_id": "36e172cbdc5a4e918fe046e9a7a9a402"
      }
     },
     "metadata": {},
     "output_type": "display_data"
    },
    {
     "name": "stdout",
     "output_type": "stream",
     "text": [
      "Processed 45000000 rows\r"
     ]
    },
    {
     "data": {
      "text/plain": [
       "FloatProgress(value=0.0, layout=Layout(width='auto'), style=ProgressStyle(bar_color='black'))"
      ],
      "application/vnd.jupyter.widget-view+json": {
       "version_major": 2,
       "version_minor": 0,
       "model_id": "fadb1581056240d6a58355be2949872d"
      }
     },
     "metadata": {},
     "output_type": "display_data"
    },
    {
     "name": "stdout",
     "output_type": "stream",
     "text": [
      "Processed 45100000 rows\r"
     ]
    },
    {
     "data": {
      "text/plain": [
       "FloatProgress(value=0.0, layout=Layout(width='auto'), style=ProgressStyle(bar_color='black'))"
      ],
      "application/vnd.jupyter.widget-view+json": {
       "version_major": 2,
       "version_minor": 0,
       "model_id": "ee013baee16e4d0c987a940b67156cfe"
      }
     },
     "metadata": {},
     "output_type": "display_data"
    },
    {
     "name": "stdout",
     "output_type": "stream",
     "text": [
      "Processed 45200000 rows\r"
     ]
    },
    {
     "data": {
      "text/plain": [
       "FloatProgress(value=0.0, layout=Layout(width='auto'), style=ProgressStyle(bar_color='black'))"
      ],
      "application/vnd.jupyter.widget-view+json": {
       "version_major": 2,
       "version_minor": 0,
       "model_id": "59373cd020794caf93c94e11a245bee8"
      }
     },
     "metadata": {},
     "output_type": "display_data"
    },
    {
     "name": "stdout",
     "output_type": "stream",
     "text": [
      "Processed 45300000 rows\r"
     ]
    },
    {
     "data": {
      "text/plain": [
       "FloatProgress(value=0.0, layout=Layout(width='auto'), style=ProgressStyle(bar_color='black'))"
      ],
      "application/vnd.jupyter.widget-view+json": {
       "version_major": 2,
       "version_minor": 0,
       "model_id": "aa15ea4175054ff3b1cbdfc090003a77"
      }
     },
     "metadata": {},
     "output_type": "display_data"
    },
    {
     "name": "stdout",
     "output_type": "stream",
     "text": [
      "Processed 45400000 rows\r"
     ]
    },
    {
     "data": {
      "text/plain": [
       "FloatProgress(value=0.0, layout=Layout(width='auto'), style=ProgressStyle(bar_color='black'))"
      ],
      "application/vnd.jupyter.widget-view+json": {
       "version_major": 2,
       "version_minor": 0,
       "model_id": "f094e30402f74ae0b735035f48aea12a"
      }
     },
     "metadata": {},
     "output_type": "display_data"
    },
    {
     "name": "stdout",
     "output_type": "stream",
     "text": [
      "Processed 45500000 rows\r"
     ]
    },
    {
     "data": {
      "text/plain": [
       "FloatProgress(value=0.0, layout=Layout(width='auto'), style=ProgressStyle(bar_color='black'))"
      ],
      "application/vnd.jupyter.widget-view+json": {
       "version_major": 2,
       "version_minor": 0,
       "model_id": "88bf72e10d804d92beeedada8460ae0a"
      }
     },
     "metadata": {},
     "output_type": "display_data"
    },
    {
     "name": "stdout",
     "output_type": "stream",
     "text": [
      "Processed 45600000 rows\r"
     ]
    },
    {
     "data": {
      "text/plain": [
       "FloatProgress(value=0.0, layout=Layout(width='auto'), style=ProgressStyle(bar_color='black'))"
      ],
      "application/vnd.jupyter.widget-view+json": {
       "version_major": 2,
       "version_minor": 0,
       "model_id": "f246ff9235df48619fda70f436373403"
      }
     },
     "metadata": {},
     "output_type": "display_data"
    },
    {
     "name": "stdout",
     "output_type": "stream",
     "text": [
      "Processed 45700000 rows\r"
     ]
    },
    {
     "data": {
      "text/plain": [
       "FloatProgress(value=0.0, layout=Layout(width='auto'), style=ProgressStyle(bar_color='black'))"
      ],
      "application/vnd.jupyter.widget-view+json": {
       "version_major": 2,
       "version_minor": 0,
       "model_id": "2735b4898beb4c87916fa0bba14dc5fe"
      }
     },
     "metadata": {},
     "output_type": "display_data"
    },
    {
     "name": "stdout",
     "output_type": "stream",
     "text": [
      "Processed 45800000 rows\r"
     ]
    },
    {
     "data": {
      "text/plain": [
       "FloatProgress(value=0.0, layout=Layout(width='auto'), style=ProgressStyle(bar_color='black'))"
      ],
      "application/vnd.jupyter.widget-view+json": {
       "version_major": 2,
       "version_minor": 0,
       "model_id": "a8e190bf5e6f4081ba2960478d4c0ad1"
      }
     },
     "metadata": {},
     "output_type": "display_data"
    },
    {
     "name": "stdout",
     "output_type": "stream",
     "text": [
      "Processed 45900000 rows\r"
     ]
    },
    {
     "data": {
      "text/plain": [
       "FloatProgress(value=0.0, layout=Layout(width='auto'), style=ProgressStyle(bar_color='black'))"
      ],
      "application/vnd.jupyter.widget-view+json": {
       "version_major": 2,
       "version_minor": 0,
       "model_id": "fade6f7797f54a6595140ca2af6e0d01"
      }
     },
     "metadata": {},
     "output_type": "display_data"
    },
    {
     "name": "stdout",
     "output_type": "stream",
     "text": [
      "Processed 46000000 rows\r"
     ]
    },
    {
     "data": {
      "text/plain": [
       "FloatProgress(value=0.0, layout=Layout(width='auto'), style=ProgressStyle(bar_color='black'))"
      ],
      "application/vnd.jupyter.widget-view+json": {
       "version_major": 2,
       "version_minor": 0,
       "model_id": "9c806531e41a4df9880c23db8b936c21"
      }
     },
     "metadata": {},
     "output_type": "display_data"
    },
    {
     "name": "stdout",
     "output_type": "stream",
     "text": [
      "Processed 46100000 rows\r"
     ]
    },
    {
     "data": {
      "text/plain": [
       "FloatProgress(value=0.0, layout=Layout(width='auto'), style=ProgressStyle(bar_color='black'))"
      ],
      "application/vnd.jupyter.widget-view+json": {
       "version_major": 2,
       "version_minor": 0,
       "model_id": "6b143438f5ba4ad29ce1ddd1f3bfdede"
      }
     },
     "metadata": {},
     "output_type": "display_data"
    },
    {
     "name": "stdout",
     "output_type": "stream",
     "text": [
      "Processed 46200000 rows\r"
     ]
    },
    {
     "data": {
      "text/plain": [
       "FloatProgress(value=0.0, layout=Layout(width='auto'), style=ProgressStyle(bar_color='black'))"
      ],
      "application/vnd.jupyter.widget-view+json": {
       "version_major": 2,
       "version_minor": 0,
       "model_id": "32f6ebfbb6484c61b2a9eac04bafda28"
      }
     },
     "metadata": {},
     "output_type": "display_data"
    },
    {
     "name": "stdout",
     "output_type": "stream",
     "text": [
      "Processed 46300000 rows\r"
     ]
    },
    {
     "data": {
      "text/plain": [
       "FloatProgress(value=0.0, layout=Layout(width='auto'), style=ProgressStyle(bar_color='black'))"
      ],
      "application/vnd.jupyter.widget-view+json": {
       "version_major": 2,
       "version_minor": 0,
       "model_id": "f4b0cf75f2e1462c8ee1a49d4f3038a6"
      }
     },
     "metadata": {},
     "output_type": "display_data"
    },
    {
     "name": "stdout",
     "output_type": "stream",
     "text": [
      "Processed 46400000 rows\r"
     ]
    },
    {
     "data": {
      "text/plain": [
       "FloatProgress(value=0.0, layout=Layout(width='auto'), style=ProgressStyle(bar_color='black'))"
      ],
      "application/vnd.jupyter.widget-view+json": {
       "version_major": 2,
       "version_minor": 0,
       "model_id": "399abf3d2ac0468fb67b6b61f300d1ac"
      }
     },
     "metadata": {},
     "output_type": "display_data"
    },
    {
     "name": "stdout",
     "output_type": "stream",
     "text": [
      "Processed 46500000 rows\r"
     ]
    },
    {
     "data": {
      "text/plain": [
       "FloatProgress(value=0.0, layout=Layout(width='auto'), style=ProgressStyle(bar_color='black'))"
      ],
      "application/vnd.jupyter.widget-view+json": {
       "version_major": 2,
       "version_minor": 0,
       "model_id": "911d20d629124b5899d6ef03314e845b"
      }
     },
     "metadata": {},
     "output_type": "display_data"
    },
    {
     "name": "stdout",
     "output_type": "stream",
     "text": [
      "Processed 46600000 rows\r"
     ]
    },
    {
     "data": {
      "text/plain": [
       "FloatProgress(value=0.0, layout=Layout(width='auto'), style=ProgressStyle(bar_color='black'))"
      ],
      "application/vnd.jupyter.widget-view+json": {
       "version_major": 2,
       "version_minor": 0,
       "model_id": "4e99969f98e44ee5b633c19427cd1046"
      }
     },
     "metadata": {},
     "output_type": "display_data"
    },
    {
     "name": "stdout",
     "output_type": "stream",
     "text": [
      "Processed 46700000 rows\r"
     ]
    },
    {
     "data": {
      "text/plain": [
       "FloatProgress(value=0.0, layout=Layout(width='auto'), style=ProgressStyle(bar_color='black'))"
      ],
      "application/vnd.jupyter.widget-view+json": {
       "version_major": 2,
       "version_minor": 0,
       "model_id": "6e2207544c824606b5341c1b28b9a26c"
      }
     },
     "metadata": {},
     "output_type": "display_data"
    },
    {
     "name": "stdout",
     "output_type": "stream",
     "text": [
      "Processed 46800000 rows\r"
     ]
    },
    {
     "data": {
      "text/plain": [
       "FloatProgress(value=0.0, layout=Layout(width='auto'), style=ProgressStyle(bar_color='black'))"
      ],
      "application/vnd.jupyter.widget-view+json": {
       "version_major": 2,
       "version_minor": 0,
       "model_id": "9dc2da3df20a4e7e87bc73781cdef62c"
      }
     },
     "metadata": {},
     "output_type": "display_data"
    },
    {
     "name": "stdout",
     "output_type": "stream",
     "text": [
      "Processed 46900000 rows\r"
     ]
    },
    {
     "data": {
      "text/plain": [
       "FloatProgress(value=0.0, layout=Layout(width='auto'), style=ProgressStyle(bar_color='black'))"
      ],
      "application/vnd.jupyter.widget-view+json": {
       "version_major": 2,
       "version_minor": 0,
       "model_id": "84c8fdd171074a45979f915c925210fb"
      }
     },
     "metadata": {},
     "output_type": "display_data"
    },
    {
     "name": "stdout",
     "output_type": "stream",
     "text": [
      "Processed 47000000 rows\r"
     ]
    },
    {
     "data": {
      "text/plain": [
       "FloatProgress(value=0.0, layout=Layout(width='auto'), style=ProgressStyle(bar_color='black'))"
      ],
      "application/vnd.jupyter.widget-view+json": {
       "version_major": 2,
       "version_minor": 0,
       "model_id": "8b8bf6c071944b0a8061919be54cdf42"
      }
     },
     "metadata": {},
     "output_type": "display_data"
    },
    {
     "name": "stdout",
     "output_type": "stream",
     "text": [
      "Processed 47100000 rows\r"
     ]
    },
    {
     "data": {
      "text/plain": [
       "FloatProgress(value=0.0, layout=Layout(width='auto'), style=ProgressStyle(bar_color='black'))"
      ],
      "application/vnd.jupyter.widget-view+json": {
       "version_major": 2,
       "version_minor": 0,
       "model_id": "81502fce83584603bfde871fada18946"
      }
     },
     "metadata": {},
     "output_type": "display_data"
    },
    {
     "name": "stdout",
     "output_type": "stream",
     "text": [
      "Processed 47200000 rows\r"
     ]
    },
    {
     "data": {
      "text/plain": [
       "FloatProgress(value=0.0, layout=Layout(width='auto'), style=ProgressStyle(bar_color='black'))"
      ],
      "application/vnd.jupyter.widget-view+json": {
       "version_major": 2,
       "version_minor": 0,
       "model_id": "37683f08c0a549989833f02bc5707d57"
      }
     },
     "metadata": {},
     "output_type": "display_data"
    },
    {
     "name": "stdout",
     "output_type": "stream",
     "text": [
      "Processed 47300000 rows\r"
     ]
    },
    {
     "data": {
      "text/plain": [
       "FloatProgress(value=0.0, layout=Layout(width='auto'), style=ProgressStyle(bar_color='black'))"
      ],
      "application/vnd.jupyter.widget-view+json": {
       "version_major": 2,
       "version_minor": 0,
       "model_id": "0d790120bcad48f78436c8c26463faae"
      }
     },
     "metadata": {},
     "output_type": "display_data"
    },
    {
     "name": "stdout",
     "output_type": "stream",
     "text": [
      "Processed 47400000 rows\r"
     ]
    },
    {
     "data": {
      "text/plain": [
       "FloatProgress(value=0.0, layout=Layout(width='auto'), style=ProgressStyle(bar_color='black'))"
      ],
      "application/vnd.jupyter.widget-view+json": {
       "version_major": 2,
       "version_minor": 0,
       "model_id": "3f189ca1ea934e8ab0b480989c221759"
      }
     },
     "metadata": {},
     "output_type": "display_data"
    },
    {
     "name": "stdout",
     "output_type": "stream",
     "text": [
      "Processed 47500000 rows\r"
     ]
    },
    {
     "data": {
      "text/plain": [
       "FloatProgress(value=0.0, layout=Layout(width='auto'), style=ProgressStyle(bar_color='black'))"
      ],
      "application/vnd.jupyter.widget-view+json": {
       "version_major": 2,
       "version_minor": 0,
       "model_id": "7eebb1e1218d460d93711dc6529c8255"
      }
     },
     "metadata": {},
     "output_type": "display_data"
    },
    {
     "name": "stdout",
     "output_type": "stream",
     "text": [
      "Processed 47600000 rows\r"
     ]
    },
    {
     "data": {
      "text/plain": [
       "FloatProgress(value=0.0, layout=Layout(width='auto'), style=ProgressStyle(bar_color='black'))"
      ],
      "application/vnd.jupyter.widget-view+json": {
       "version_major": 2,
       "version_minor": 0,
       "model_id": "e3cc985067734a0fbb87a19e04787794"
      }
     },
     "metadata": {},
     "output_type": "display_data"
    },
    {
     "name": "stdout",
     "output_type": "stream",
     "text": [
      "Processed 47700000 rows\r"
     ]
    },
    {
     "data": {
      "text/plain": [
       "FloatProgress(value=0.0, layout=Layout(width='auto'), style=ProgressStyle(bar_color='black'))"
      ],
      "application/vnd.jupyter.widget-view+json": {
       "version_major": 2,
       "version_minor": 0,
       "model_id": "dab0d471d7634ec49126f62a78cdbcfd"
      }
     },
     "metadata": {},
     "output_type": "display_data"
    },
    {
     "name": "stdout",
     "output_type": "stream",
     "text": [
      "Processed 47800000 rows\r"
     ]
    },
    {
     "data": {
      "text/plain": [
       "FloatProgress(value=0.0, layout=Layout(width='auto'), style=ProgressStyle(bar_color='black'))"
      ],
      "application/vnd.jupyter.widget-view+json": {
       "version_major": 2,
       "version_minor": 0,
       "model_id": "11cffb39918d4a35bbe40101a19aa1cc"
      }
     },
     "metadata": {},
     "output_type": "display_data"
    },
    {
     "name": "stdout",
     "output_type": "stream",
     "text": [
      "Processed 47900000 rows\r"
     ]
    },
    {
     "data": {
      "text/plain": [
       "FloatProgress(value=0.0, layout=Layout(width='auto'), style=ProgressStyle(bar_color='black'))"
      ],
      "application/vnd.jupyter.widget-view+json": {
       "version_major": 2,
       "version_minor": 0,
       "model_id": "ef3899f945324529b464463a7ff3bd38"
      }
     },
     "metadata": {},
     "output_type": "display_data"
    },
    {
     "name": "stdout",
     "output_type": "stream",
     "text": [
      "Processed 48000000 rows\r"
     ]
    },
    {
     "data": {
      "text/plain": [
       "FloatProgress(value=0.0, layout=Layout(width='auto'), style=ProgressStyle(bar_color='black'))"
      ],
      "application/vnd.jupyter.widget-view+json": {
       "version_major": 2,
       "version_minor": 0,
       "model_id": "603d647506174874b8c042890f87c403"
      }
     },
     "metadata": {},
     "output_type": "display_data"
    },
    {
     "name": "stdout",
     "output_type": "stream",
     "text": [
      "Processed 48100000 rows\r"
     ]
    },
    {
     "data": {
      "text/plain": [
       "FloatProgress(value=0.0, layout=Layout(width='auto'), style=ProgressStyle(bar_color='black'))"
      ],
      "application/vnd.jupyter.widget-view+json": {
       "version_major": 2,
       "version_minor": 0,
       "model_id": "e30e538788834f758cd27aef84d78f25"
      }
     },
     "metadata": {},
     "output_type": "display_data"
    },
    {
     "name": "stdout",
     "output_type": "stream",
     "text": [
      "Processed 48200000 rows\r"
     ]
    },
    {
     "data": {
      "text/plain": [
       "FloatProgress(value=0.0, layout=Layout(width='auto'), style=ProgressStyle(bar_color='black'))"
      ],
      "application/vnd.jupyter.widget-view+json": {
       "version_major": 2,
       "version_minor": 0,
       "model_id": "4abc832deea749afb70207c46d33fb46"
      }
     },
     "metadata": {},
     "output_type": "display_data"
    },
    {
     "name": "stdout",
     "output_type": "stream",
     "text": [
      "Processed 48300000 rows\r"
     ]
    },
    {
     "data": {
      "text/plain": [
       "FloatProgress(value=0.0, layout=Layout(width='auto'), style=ProgressStyle(bar_color='black'))"
      ],
      "application/vnd.jupyter.widget-view+json": {
       "version_major": 2,
       "version_minor": 0,
       "model_id": "61e2c51e908844ff9e93f5892ed2267e"
      }
     },
     "metadata": {},
     "output_type": "display_data"
    },
    {
     "name": "stdout",
     "output_type": "stream",
     "text": [
      "Processed 48400000 rows\r"
     ]
    },
    {
     "data": {
      "text/plain": [
       "FloatProgress(value=0.0, layout=Layout(width='auto'), style=ProgressStyle(bar_color='black'))"
      ],
      "application/vnd.jupyter.widget-view+json": {
       "version_major": 2,
       "version_minor": 0,
       "model_id": "da886018215c4ad2b1170bc3f11bd4d6"
      }
     },
     "metadata": {},
     "output_type": "display_data"
    },
    {
     "name": "stdout",
     "output_type": "stream",
     "text": [
      "Processed 48500000 rows\r"
     ]
    },
    {
     "data": {
      "text/plain": [
       "FloatProgress(value=0.0, layout=Layout(width='auto'), style=ProgressStyle(bar_color='black'))"
      ],
      "application/vnd.jupyter.widget-view+json": {
       "version_major": 2,
       "version_minor": 0,
       "model_id": "5da8beb7532640fc9c5278b61626182a"
      }
     },
     "metadata": {},
     "output_type": "display_data"
    },
    {
     "name": "stdout",
     "output_type": "stream",
     "text": [
      "Processed 48600000 rows\r"
     ]
    },
    {
     "data": {
      "text/plain": [
       "FloatProgress(value=0.0, layout=Layout(width='auto'), style=ProgressStyle(bar_color='black'))"
      ],
      "application/vnd.jupyter.widget-view+json": {
       "version_major": 2,
       "version_minor": 0,
       "model_id": "2d806dbb9a2e450198cbb36d54040daa"
      }
     },
     "metadata": {},
     "output_type": "display_data"
    },
    {
     "name": "stdout",
     "output_type": "stream",
     "text": [
      "Processed 48700000 rows\r"
     ]
    },
    {
     "data": {
      "text/plain": [
       "FloatProgress(value=0.0, layout=Layout(width='auto'), style=ProgressStyle(bar_color='black'))"
      ],
      "application/vnd.jupyter.widget-view+json": {
       "version_major": 2,
       "version_minor": 0,
       "model_id": "c5c18de99d624928b5a73c771e811315"
      }
     },
     "metadata": {},
     "output_type": "display_data"
    },
    {
     "name": "stdout",
     "output_type": "stream",
     "text": [
      "Processed 48800000 rows\r"
     ]
    },
    {
     "data": {
      "text/plain": [
       "FloatProgress(value=0.0, layout=Layout(width='auto'), style=ProgressStyle(bar_color='black'))"
      ],
      "application/vnd.jupyter.widget-view+json": {
       "version_major": 2,
       "version_minor": 0,
       "model_id": "ee78b3d5f1984c789d1048cf4744daf2"
      }
     },
     "metadata": {},
     "output_type": "display_data"
    },
    {
     "name": "stdout",
     "output_type": "stream",
     "text": [
      "Processed 48900000 rows\r"
     ]
    },
    {
     "data": {
      "text/plain": [
       "FloatProgress(value=0.0, layout=Layout(width='auto'), style=ProgressStyle(bar_color='black'))"
      ],
      "application/vnd.jupyter.widget-view+json": {
       "version_major": 2,
       "version_minor": 0,
       "model_id": "c09007e8a7bb4c02abb99ff17ce2732f"
      }
     },
     "metadata": {},
     "output_type": "display_data"
    },
    {
     "name": "stdout",
     "output_type": "stream",
     "text": [
      "Processed 49000000 rows\r"
     ]
    },
    {
     "data": {
      "text/plain": [
       "FloatProgress(value=0.0, layout=Layout(width='auto'), style=ProgressStyle(bar_color='black'))"
      ],
      "application/vnd.jupyter.widget-view+json": {
       "version_major": 2,
       "version_minor": 0,
       "model_id": "15873eebdcff4086807013613ae11e1c"
      }
     },
     "metadata": {},
     "output_type": "display_data"
    },
    {
     "name": "stdout",
     "output_type": "stream",
     "text": [
      "Processed 49100000 rows\r"
     ]
    },
    {
     "data": {
      "text/plain": [
       "FloatProgress(value=0.0, layout=Layout(width='auto'), style=ProgressStyle(bar_color='black'))"
      ],
      "application/vnd.jupyter.widget-view+json": {
       "version_major": 2,
       "version_minor": 0,
       "model_id": "2a573e01d1fe42139c0ca4b95c3e9ac9"
      }
     },
     "metadata": {},
     "output_type": "display_data"
    },
    {
     "name": "stdout",
     "output_type": "stream",
     "text": [
      "Processed 49200000 rows\r"
     ]
    },
    {
     "data": {
      "text/plain": [
       "FloatProgress(value=0.0, layout=Layout(width='auto'), style=ProgressStyle(bar_color='black'))"
      ],
      "application/vnd.jupyter.widget-view+json": {
       "version_major": 2,
       "version_minor": 0,
       "model_id": "bd955698ba2444459ccd51cf08d459b5"
      }
     },
     "metadata": {},
     "output_type": "display_data"
    },
    {
     "name": "stdout",
     "output_type": "stream",
     "text": [
      "Processed 49300000 rows\r"
     ]
    },
    {
     "data": {
      "text/plain": [
       "FloatProgress(value=0.0, layout=Layout(width='auto'), style=ProgressStyle(bar_color='black'))"
      ],
      "application/vnd.jupyter.widget-view+json": {
       "version_major": 2,
       "version_minor": 0,
       "model_id": "67fb8d6156744e0daaff69608fe5a2cd"
      }
     },
     "metadata": {},
     "output_type": "display_data"
    },
    {
     "name": "stdout",
     "output_type": "stream",
     "text": [
      "Processed 49400000 rows\r"
     ]
    },
    {
     "data": {
      "text/plain": [
       "FloatProgress(value=0.0, layout=Layout(width='auto'), style=ProgressStyle(bar_color='black'))"
      ],
      "application/vnd.jupyter.widget-view+json": {
       "version_major": 2,
       "version_minor": 0,
       "model_id": "921b379723f747e381ffcd3f718be8b9"
      }
     },
     "metadata": {},
     "output_type": "display_data"
    },
    {
     "name": "stdout",
     "output_type": "stream",
     "text": [
      "Processed 49500000 rows\r"
     ]
    },
    {
     "data": {
      "text/plain": [
       "FloatProgress(value=0.0, layout=Layout(width='auto'), style=ProgressStyle(bar_color='black'))"
      ],
      "application/vnd.jupyter.widget-view+json": {
       "version_major": 2,
       "version_minor": 0,
       "model_id": "068ebe2ffea14b9caae7b45fcdcd9f97"
      }
     },
     "metadata": {},
     "output_type": "display_data"
    },
    {
     "name": "stdout",
     "output_type": "stream",
     "text": [
      "Processed 49600000 rows\r"
     ]
    },
    {
     "data": {
      "text/plain": [
       "FloatProgress(value=0.0, layout=Layout(width='auto'), style=ProgressStyle(bar_color='black'))"
      ],
      "application/vnd.jupyter.widget-view+json": {
       "version_major": 2,
       "version_minor": 0,
       "model_id": "3125ff57019843fd9a6ec62b7e781bc2"
      }
     },
     "metadata": {},
     "output_type": "display_data"
    },
    {
     "name": "stdout",
     "output_type": "stream",
     "text": [
      "Processed 49700000 rows\r"
     ]
    },
    {
     "data": {
      "text/plain": [
       "FloatProgress(value=0.0, layout=Layout(width='auto'), style=ProgressStyle(bar_color='black'))"
      ],
      "application/vnd.jupyter.widget-view+json": {
       "version_major": 2,
       "version_minor": 0,
       "model_id": "3f48c0b684324683b6ee8b1b89040184"
      }
     },
     "metadata": {},
     "output_type": "display_data"
    },
    {
     "name": "stdout",
     "output_type": "stream",
     "text": [
      "Processed 49800000 rows\r"
     ]
    },
    {
     "data": {
      "text/plain": [
       "FloatProgress(value=0.0, layout=Layout(width='auto'), style=ProgressStyle(bar_color='black'))"
      ],
      "application/vnd.jupyter.widget-view+json": {
       "version_major": 2,
       "version_minor": 0,
       "model_id": "e13a2a236c124c009faea1d64b4d2f52"
      }
     },
     "metadata": {},
     "output_type": "display_data"
    },
    {
     "name": "stdout",
     "output_type": "stream",
     "text": [
      "Processed 49900000 rows\r"
     ]
    },
    {
     "data": {
      "text/plain": [
       "FloatProgress(value=0.0, layout=Layout(width='auto'), style=ProgressStyle(bar_color='black'))"
      ],
      "application/vnd.jupyter.widget-view+json": {
       "version_major": 2,
       "version_minor": 0,
       "model_id": "0fd3d4daa7ea4202bb86860b5a583b8c"
      }
     },
     "metadata": {},
     "output_type": "display_data"
    },
    {
     "name": "stdout",
     "output_type": "stream",
     "text": [
      "Processed 50000000 rows\r"
     ]
    },
    {
     "data": {
      "text/plain": [
       "FloatProgress(value=0.0, layout=Layout(width='auto'), style=ProgressStyle(bar_color='black'))"
      ],
      "application/vnd.jupyter.widget-view+json": {
       "version_major": 2,
       "version_minor": 0,
       "model_id": "bcbe30e4dfb14742864ff537b41bbc98"
      }
     },
     "metadata": {},
     "output_type": "display_data"
    },
    {
     "name": "stdout",
     "output_type": "stream",
     "text": [
      "Processed 50100000 rows\r"
     ]
    },
    {
     "data": {
      "text/plain": [
       "FloatProgress(value=0.0, layout=Layout(width='auto'), style=ProgressStyle(bar_color='black'))"
      ],
      "application/vnd.jupyter.widget-view+json": {
       "version_major": 2,
       "version_minor": 0,
       "model_id": "8ed2bb3ed7b843be9736fbadd851ea32"
      }
     },
     "metadata": {},
     "output_type": "display_data"
    },
    {
     "name": "stdout",
     "output_type": "stream",
     "text": [
      "Processed 50200000 rows\r"
     ]
    },
    {
     "data": {
      "text/plain": [
       "FloatProgress(value=0.0, layout=Layout(width='auto'), style=ProgressStyle(bar_color='black'))"
      ],
      "application/vnd.jupyter.widget-view+json": {
       "version_major": 2,
       "version_minor": 0,
       "model_id": "7d2330014be7484d875f14c093c092b0"
      }
     },
     "metadata": {},
     "output_type": "display_data"
    },
    {
     "name": "stdout",
     "output_type": "stream",
     "text": [
      "Processed 50300000 rows\r"
     ]
    },
    {
     "data": {
      "text/plain": [
       "FloatProgress(value=0.0, layout=Layout(width='auto'), style=ProgressStyle(bar_color='black'))"
      ],
      "application/vnd.jupyter.widget-view+json": {
       "version_major": 2,
       "version_minor": 0,
       "model_id": "3f692a37d600421b89b781668c7306ac"
      }
     },
     "metadata": {},
     "output_type": "display_data"
    },
    {
     "name": "stdout",
     "output_type": "stream",
     "text": [
      "Processed 50400000 rows\r"
     ]
    },
    {
     "data": {
      "text/plain": [
       "FloatProgress(value=0.0, layout=Layout(width='auto'), style=ProgressStyle(bar_color='black'))"
      ],
      "application/vnd.jupyter.widget-view+json": {
       "version_major": 2,
       "version_minor": 0,
       "model_id": "2e4673d6d261469b891557258358ed0c"
      }
     },
     "metadata": {},
     "output_type": "display_data"
    },
    {
     "name": "stdout",
     "output_type": "stream",
     "text": [
      "Processed 50500000 rows\r"
     ]
    },
    {
     "data": {
      "text/plain": [
       "FloatProgress(value=0.0, layout=Layout(width='auto'), style=ProgressStyle(bar_color='black'))"
      ],
      "application/vnd.jupyter.widget-view+json": {
       "version_major": 2,
       "version_minor": 0,
       "model_id": "218c8fac4f734bd186882d77fe071afe"
      }
     },
     "metadata": {},
     "output_type": "display_data"
    },
    {
     "name": "stdout",
     "output_type": "stream",
     "text": [
      "Processed 50600000 rows\r"
     ]
    },
    {
     "data": {
      "text/plain": [
       "FloatProgress(value=0.0, layout=Layout(width='auto'), style=ProgressStyle(bar_color='black'))"
      ],
      "application/vnd.jupyter.widget-view+json": {
       "version_major": 2,
       "version_minor": 0,
       "model_id": "196c3a6a284f433dbffd2746414fef41"
      }
     },
     "metadata": {},
     "output_type": "display_data"
    },
    {
     "name": "stdout",
     "output_type": "stream",
     "text": [
      "Processed 50700000 rows\r"
     ]
    },
    {
     "data": {
      "text/plain": [
       "FloatProgress(value=0.0, layout=Layout(width='auto'), style=ProgressStyle(bar_color='black'))"
      ],
      "application/vnd.jupyter.widget-view+json": {
       "version_major": 2,
       "version_minor": 0,
       "model_id": "603debff561e4c6caa1b9cca1f8a953a"
      }
     },
     "metadata": {},
     "output_type": "display_data"
    },
    {
     "name": "stdout",
     "output_type": "stream",
     "text": [
      "Processed 50800000 rows\r"
     ]
    },
    {
     "data": {
      "text/plain": [
       "FloatProgress(value=0.0, layout=Layout(width='auto'), style=ProgressStyle(bar_color='black'))"
      ],
      "application/vnd.jupyter.widget-view+json": {
       "version_major": 2,
       "version_minor": 0,
       "model_id": "cb1b880508074c9fbd93ca45e52e2cdb"
      }
     },
     "metadata": {},
     "output_type": "display_data"
    },
    {
     "name": "stdout",
     "output_type": "stream",
     "text": [
      "Processed 50900000 rows\r"
     ]
    },
    {
     "data": {
      "text/plain": [
       "FloatProgress(value=0.0, layout=Layout(width='auto'), style=ProgressStyle(bar_color='black'))"
      ],
      "application/vnd.jupyter.widget-view+json": {
       "version_major": 2,
       "version_minor": 0,
       "model_id": "3d89a8244a314743a5369380d5254e65"
      }
     },
     "metadata": {},
     "output_type": "display_data"
    },
    {
     "name": "stdout",
     "output_type": "stream",
     "text": [
      "Processed 51000000 rows\r"
     ]
    },
    {
     "data": {
      "text/plain": [
       "FloatProgress(value=0.0, layout=Layout(width='auto'), style=ProgressStyle(bar_color='black'))"
      ],
      "application/vnd.jupyter.widget-view+json": {
       "version_major": 2,
       "version_minor": 0,
       "model_id": "1f516453cc8c4b4ca245594237b6a043"
      }
     },
     "metadata": {},
     "output_type": "display_data"
    },
    {
     "name": "stdout",
     "output_type": "stream",
     "text": [
      "Processed 51100000 rows\r"
     ]
    },
    {
     "data": {
      "text/plain": [
       "FloatProgress(value=0.0, layout=Layout(width='auto'), style=ProgressStyle(bar_color='black'))"
      ],
      "application/vnd.jupyter.widget-view+json": {
       "version_major": 2,
       "version_minor": 0,
       "model_id": "ea4b9cec966940b682bb479fe1deeef6"
      }
     },
     "metadata": {},
     "output_type": "display_data"
    },
    {
     "name": "stdout",
     "output_type": "stream",
     "text": [
      "Processed 51200000 rows\r"
     ]
    },
    {
     "data": {
      "text/plain": [
       "FloatProgress(value=0.0, layout=Layout(width='auto'), style=ProgressStyle(bar_color='black'))"
      ],
      "application/vnd.jupyter.widget-view+json": {
       "version_major": 2,
       "version_minor": 0,
       "model_id": "05829b3011734523b79d4132ebd27920"
      }
     },
     "metadata": {},
     "output_type": "display_data"
    },
    {
     "name": "stdout",
     "output_type": "stream",
     "text": [
      "Processed 51300000 rows\r"
     ]
    },
    {
     "data": {
      "text/plain": [
       "FloatProgress(value=0.0, layout=Layout(width='auto'), style=ProgressStyle(bar_color='black'))"
      ],
      "application/vnd.jupyter.widget-view+json": {
       "version_major": 2,
       "version_minor": 0,
       "model_id": "0842a1c9ca584bcb9c366723274957e6"
      }
     },
     "metadata": {},
     "output_type": "display_data"
    },
    {
     "name": "stdout",
     "output_type": "stream",
     "text": [
      "Processed 51400000 rows\r"
     ]
    },
    {
     "data": {
      "text/plain": [
       "FloatProgress(value=0.0, layout=Layout(width='auto'), style=ProgressStyle(bar_color='black'))"
      ],
      "application/vnd.jupyter.widget-view+json": {
       "version_major": 2,
       "version_minor": 0,
       "model_id": "2af3d2e99ee3480399df7caa3a1ae4aa"
      }
     },
     "metadata": {},
     "output_type": "display_data"
    },
    {
     "name": "stdout",
     "output_type": "stream",
     "text": [
      "Processed 51500000 rows\r"
     ]
    },
    {
     "data": {
      "text/plain": [
       "FloatProgress(value=0.0, layout=Layout(width='auto'), style=ProgressStyle(bar_color='black'))"
      ],
      "application/vnd.jupyter.widget-view+json": {
       "version_major": 2,
       "version_minor": 0,
       "model_id": "1733ed44f9e340149a750b6c8ebc0070"
      }
     },
     "metadata": {},
     "output_type": "display_data"
    },
    {
     "name": "stdout",
     "output_type": "stream",
     "text": [
      "Processed 51600000 rows\r"
     ]
    },
    {
     "data": {
      "text/plain": [
       "FloatProgress(value=0.0, layout=Layout(width='auto'), style=ProgressStyle(bar_color='black'))"
      ],
      "application/vnd.jupyter.widget-view+json": {
       "version_major": 2,
       "version_minor": 0,
       "model_id": "d6d20e43132444f58f83acda1a918077"
      }
     },
     "metadata": {},
     "output_type": "display_data"
    },
    {
     "name": "stdout",
     "output_type": "stream",
     "text": [
      "Processed 51700000 rows\r"
     ]
    },
    {
     "data": {
      "text/plain": [
       "FloatProgress(value=0.0, layout=Layout(width='auto'), style=ProgressStyle(bar_color='black'))"
      ],
      "application/vnd.jupyter.widget-view+json": {
       "version_major": 2,
       "version_minor": 0,
       "model_id": "ea9ee9c3576f44e79dd77b59ebc51b07"
      }
     },
     "metadata": {},
     "output_type": "display_data"
    },
    {
     "name": "stdout",
     "output_type": "stream",
     "text": [
      "Processed 51800000 rows\r"
     ]
    },
    {
     "data": {
      "text/plain": [
       "FloatProgress(value=0.0, layout=Layout(width='auto'), style=ProgressStyle(bar_color='black'))"
      ],
      "application/vnd.jupyter.widget-view+json": {
       "version_major": 2,
       "version_minor": 0,
       "model_id": "20676b9801f74313a7379f53d649fdd3"
      }
     },
     "metadata": {},
     "output_type": "display_data"
    },
    {
     "name": "stdout",
     "output_type": "stream",
     "text": [
      "Processed 51900000 rows\r"
     ]
    },
    {
     "data": {
      "text/plain": [
       "FloatProgress(value=0.0, layout=Layout(width='auto'), style=ProgressStyle(bar_color='black'))"
      ],
      "application/vnd.jupyter.widget-view+json": {
       "version_major": 2,
       "version_minor": 0,
       "model_id": "f005ef37368a4fc28d2288f29bcc1ad6"
      }
     },
     "metadata": {},
     "output_type": "display_data"
    },
    {
     "name": "stdout",
     "output_type": "stream",
     "text": [
      "Processed 52000000 rows\r"
     ]
    },
    {
     "data": {
      "text/plain": [
       "FloatProgress(value=0.0, layout=Layout(width='auto'), style=ProgressStyle(bar_color='black'))"
      ],
      "application/vnd.jupyter.widget-view+json": {
       "version_major": 2,
       "version_minor": 0,
       "model_id": "22e5b45e5d824037a41d586e4ebad4dd"
      }
     },
     "metadata": {},
     "output_type": "display_data"
    },
    {
     "name": "stdout",
     "output_type": "stream",
     "text": [
      "Processed 52100000 rows\r"
     ]
    },
    {
     "data": {
      "text/plain": [
       "FloatProgress(value=0.0, layout=Layout(width='auto'), style=ProgressStyle(bar_color='black'))"
      ],
      "application/vnd.jupyter.widget-view+json": {
       "version_major": 2,
       "version_minor": 0,
       "model_id": "2fee1efc0a554009905529668c564b46"
      }
     },
     "metadata": {},
     "output_type": "display_data"
    },
    {
     "name": "stdout",
     "output_type": "stream",
     "text": [
      "Processed 52200000 rows\r"
     ]
    },
    {
     "data": {
      "text/plain": [
       "FloatProgress(value=0.0, layout=Layout(width='auto'), style=ProgressStyle(bar_color='black'))"
      ],
      "application/vnd.jupyter.widget-view+json": {
       "version_major": 2,
       "version_minor": 0,
       "model_id": "d4152c51069447a09c971ea73c5d1166"
      }
     },
     "metadata": {},
     "output_type": "display_data"
    },
    {
     "name": "stdout",
     "output_type": "stream",
     "text": [
      "Processed 52300000 rows\r"
     ]
    },
    {
     "data": {
      "text/plain": [
       "FloatProgress(value=0.0, layout=Layout(width='auto'), style=ProgressStyle(bar_color='black'))"
      ],
      "application/vnd.jupyter.widget-view+json": {
       "version_major": 2,
       "version_minor": 0,
       "model_id": "64f4b053e83e440f886a2132ceb91f9d"
      }
     },
     "metadata": {},
     "output_type": "display_data"
    },
    {
     "name": "stdout",
     "output_type": "stream",
     "text": [
      "Processed 52400000 rows\r"
     ]
    },
    {
     "data": {
      "text/plain": [
       "FloatProgress(value=0.0, layout=Layout(width='auto'), style=ProgressStyle(bar_color='black'))"
      ],
      "application/vnd.jupyter.widget-view+json": {
       "version_major": 2,
       "version_minor": 0,
       "model_id": "90a3ec7c9087479c949a40dc8e0c48e0"
      }
     },
     "metadata": {},
     "output_type": "display_data"
    },
    {
     "name": "stdout",
     "output_type": "stream",
     "text": [
      "Processed 52500000 rows\r"
     ]
    },
    {
     "data": {
      "text/plain": [
       "FloatProgress(value=0.0, layout=Layout(width='auto'), style=ProgressStyle(bar_color='black'))"
      ],
      "application/vnd.jupyter.widget-view+json": {
       "version_major": 2,
       "version_minor": 0,
       "model_id": "7e1407c7f6614b8288847429309d5d37"
      }
     },
     "metadata": {},
     "output_type": "display_data"
    },
    {
     "name": "stdout",
     "output_type": "stream",
     "text": [
      "Processed 52600000 rows\r"
     ]
    },
    {
     "data": {
      "text/plain": [
       "FloatProgress(value=0.0, layout=Layout(width='auto'), style=ProgressStyle(bar_color='black'))"
      ],
      "application/vnd.jupyter.widget-view+json": {
       "version_major": 2,
       "version_minor": 0,
       "model_id": "12fad98b5b664323aa55992983cc228a"
      }
     },
     "metadata": {},
     "output_type": "display_data"
    },
    {
     "name": "stdout",
     "output_type": "stream",
     "text": [
      "Processed 52700000 rows\r"
     ]
    },
    {
     "data": {
      "text/plain": [
       "FloatProgress(value=0.0, layout=Layout(width='auto'), style=ProgressStyle(bar_color='black'))"
      ],
      "application/vnd.jupyter.widget-view+json": {
       "version_major": 2,
       "version_minor": 0,
       "model_id": "5ebd27f9aa98479c89b776541248c494"
      }
     },
     "metadata": {},
     "output_type": "display_data"
    },
    {
     "name": "stdout",
     "output_type": "stream",
     "text": [
      "Processed 52800000 rows\r"
     ]
    },
    {
     "data": {
      "text/plain": [
       "FloatProgress(value=0.0, layout=Layout(width='auto'), style=ProgressStyle(bar_color='black'))"
      ],
      "application/vnd.jupyter.widget-view+json": {
       "version_major": 2,
       "version_minor": 0,
       "model_id": "d71d73c8c5d846ce9031fba5c19b9ef7"
      }
     },
     "metadata": {},
     "output_type": "display_data"
    },
    {
     "name": "stdout",
     "output_type": "stream",
     "text": [
      "Processed 52900000 rows\r"
     ]
    },
    {
     "data": {
      "text/plain": [
       "FloatProgress(value=0.0, layout=Layout(width='auto'), style=ProgressStyle(bar_color='black'))"
      ],
      "application/vnd.jupyter.widget-view+json": {
       "version_major": 2,
       "version_minor": 0,
       "model_id": "d29144a059a84556800ed1d6a7af30a1"
      }
     },
     "metadata": {},
     "output_type": "display_data"
    },
    {
     "name": "stdout",
     "output_type": "stream",
     "text": [
      "Processed 53000000 rows\r"
     ]
    },
    {
     "data": {
      "text/plain": [
       "FloatProgress(value=0.0, layout=Layout(width='auto'), style=ProgressStyle(bar_color='black'))"
      ],
      "application/vnd.jupyter.widget-view+json": {
       "version_major": 2,
       "version_minor": 0,
       "model_id": "f044ab588f874e7f8cf4750a210d3745"
      }
     },
     "metadata": {},
     "output_type": "display_data"
    },
    {
     "name": "stdout",
     "output_type": "stream",
     "text": [
      "Processed 53100000 rows\r"
     ]
    },
    {
     "data": {
      "text/plain": [
       "FloatProgress(value=0.0, layout=Layout(width='auto'), style=ProgressStyle(bar_color='black'))"
      ],
      "application/vnd.jupyter.widget-view+json": {
       "version_major": 2,
       "version_minor": 0,
       "model_id": "dd2d0d5cd5284c389c68b823e260e549"
      }
     },
     "metadata": {},
     "output_type": "display_data"
    },
    {
     "name": "stdout",
     "output_type": "stream",
     "text": [
      "Processed 53148103 rows\r"
     ]
    },
    {
     "data": {
      "text/plain": [
       "FloatProgress(value=0.0, layout=Layout(width='auto'), style=ProgressStyle(bar_color='black'))"
      ],
      "application/vnd.jupyter.widget-view+json": {
       "version_major": 2,
       "version_minor": 0,
       "model_id": "4f8f4ec31ca74c53bed81bf95a905eb7"
      }
     },
     "metadata": {},
     "output_type": "display_data"
    },
    {
     "name": "stdout",
     "output_type": "stream",
     "text": [
      "Processing complete! Data saved to: processed_open_library_data_dump.csv\n"
     ]
    }
   ],
   "execution_count": 33
  },
  {
   "metadata": {},
   "cell_type": "markdown",
   "source": "Try to process the 10000 rows of the data to check the conponents of the data",
   "id": "6ac8d2378dc922fa"
  },
  {
   "metadata": {
    "ExecuteTime": {
     "end_time": "2025-02-25T14:39:56.781612Z",
     "start_time": "2025-02-25T14:39:55.688856Z"
    }
   },
   "cell_type": "code",
   "source": [
    "import pandas as pd\n",
    "import json\n",
    "\n",
    "output_file = \"processed_open_library_data_dump.csv\"\n",
    "column_names = [\"book_id\", \"revision\", \"timestamp\", \"json_data\"]\n",
    "\n",
    "sample_df = pd.read_csv(output_file, nrows=100000, names=column_names, header=None)\n"
   ],
   "id": "74db25856aca769a",
   "outputs": [],
   "execution_count": 90
  },
  {
   "metadata": {
    "ExecuteTime": {
     "end_time": "2025-02-25T14:39:58.348881Z",
     "start_time": "2025-02-25T14:39:58.338539Z"
    }
   },
   "cell_type": "code",
   "source": "sample_df",
   "id": "929f2d3d699791a5",
   "outputs": [
    {
     "data": {
      "text/plain": [
       "                  book_id  revision                   timestamp  \\\n",
       "0      /books/OL10000299M         3  2011-04-27 14:29:38.147197   \n",
       "1      /books/OL10000402M         3  2011-04-27 11:28:52.494785   \n",
       "2      /books/OL10000661M         3  2011-04-25 22:07:29.549200   \n",
       "3      /books/OL10000852M         3  2011-04-27 04:54:31.855299   \n",
       "4      /books/OL10001003M         3  2011-06-08 04:28:03.025393   \n",
       "...                   ...       ...                         ...   \n",
       "99995  /books/OL35738257M         2  2023-02-01 15:25:47.290397   \n",
       "99996    /books/OL357382M         7  2024-07-15 01:39:27.737325   \n",
       "99997  /books/OL35738372M         6  2023-02-28 18:40:28.640066   \n",
       "99998  /books/OL35738535M         1  2021-12-24 06:04:15.305092   \n",
       "99999  /books/OL35738578M         3  2023-04-21 07:24:21.527786   \n",
       "\n",
       "                                               json_data  \n",
       "0      {\"publishers\": [\"Stationery Office Books\"], \"p...  \n",
       "1      {\"publishers\": [\"Stationery Office Books\"], \"p...  \n",
       "2      {\"publishers\": [\"Stationery Office Books\"], \"p...  \n",
       "3      {\"publishers\": [\"Stationery Office Books\"], \"p...  \n",
       "4      {\"publishers\": [\"Stationery Office Books\"], \"p...  \n",
       "...                                                  ...  \n",
       "99995  {\"type\": {\"key\": \"/type/edition\"}, \"publish_da...  \n",
       "99996  {\"publishers\": [\"St. Martin's Press\"], \"identi...  \n",
       "99997  {\"notes\": {\"type\": \"/type/text\", \"value\": \"\\\"P...  \n",
       "99998  {\"type\": {\"key\": \"/type/edition\"}, \"publish_da...  \n",
       "99999  {\"notes\": {\"type\": \"/type/text\", \"value\": \"Inc...  \n",
       "\n",
       "[100000 rows x 4 columns]"
      ],
      "text/html": [
       "<div>\n",
       "<style scoped>\n",
       "    .dataframe tbody tr th:only-of-type {\n",
       "        vertical-align: middle;\n",
       "    }\n",
       "\n",
       "    .dataframe tbody tr th {\n",
       "        vertical-align: top;\n",
       "    }\n",
       "\n",
       "    .dataframe thead th {\n",
       "        text-align: right;\n",
       "    }\n",
       "</style>\n",
       "<table border=\"1\" class=\"dataframe\">\n",
       "  <thead>\n",
       "    <tr style=\"text-align: right;\">\n",
       "      <th></th>\n",
       "      <th>book_id</th>\n",
       "      <th>revision</th>\n",
       "      <th>timestamp</th>\n",
       "      <th>json_data</th>\n",
       "    </tr>\n",
       "  </thead>\n",
       "  <tbody>\n",
       "    <tr>\n",
       "      <th>0</th>\n",
       "      <td>/books/OL10000299M</td>\n",
       "      <td>3</td>\n",
       "      <td>2011-04-27 14:29:38.147197</td>\n",
       "      <td>{\"publishers\": [\"Stationery Office Books\"], \"p...</td>\n",
       "    </tr>\n",
       "    <tr>\n",
       "      <th>1</th>\n",
       "      <td>/books/OL10000402M</td>\n",
       "      <td>3</td>\n",
       "      <td>2011-04-27 11:28:52.494785</td>\n",
       "      <td>{\"publishers\": [\"Stationery Office Books\"], \"p...</td>\n",
       "    </tr>\n",
       "    <tr>\n",
       "      <th>2</th>\n",
       "      <td>/books/OL10000661M</td>\n",
       "      <td>3</td>\n",
       "      <td>2011-04-25 22:07:29.549200</td>\n",
       "      <td>{\"publishers\": [\"Stationery Office Books\"], \"p...</td>\n",
       "    </tr>\n",
       "    <tr>\n",
       "      <th>3</th>\n",
       "      <td>/books/OL10000852M</td>\n",
       "      <td>3</td>\n",
       "      <td>2011-04-27 04:54:31.855299</td>\n",
       "      <td>{\"publishers\": [\"Stationery Office Books\"], \"p...</td>\n",
       "    </tr>\n",
       "    <tr>\n",
       "      <th>4</th>\n",
       "      <td>/books/OL10001003M</td>\n",
       "      <td>3</td>\n",
       "      <td>2011-06-08 04:28:03.025393</td>\n",
       "      <td>{\"publishers\": [\"Stationery Office Books\"], \"p...</td>\n",
       "    </tr>\n",
       "    <tr>\n",
       "      <th>...</th>\n",
       "      <td>...</td>\n",
       "      <td>...</td>\n",
       "      <td>...</td>\n",
       "      <td>...</td>\n",
       "    </tr>\n",
       "    <tr>\n",
       "      <th>99995</th>\n",
       "      <td>/books/OL35738257M</td>\n",
       "      <td>2</td>\n",
       "      <td>2023-02-01 15:25:47.290397</td>\n",
       "      <td>{\"type\": {\"key\": \"/type/edition\"}, \"publish_da...</td>\n",
       "    </tr>\n",
       "    <tr>\n",
       "      <th>99996</th>\n",
       "      <td>/books/OL357382M</td>\n",
       "      <td>7</td>\n",
       "      <td>2024-07-15 01:39:27.737325</td>\n",
       "      <td>{\"publishers\": [\"St. Martin's Press\"], \"identi...</td>\n",
       "    </tr>\n",
       "    <tr>\n",
       "      <th>99997</th>\n",
       "      <td>/books/OL35738372M</td>\n",
       "      <td>6</td>\n",
       "      <td>2023-02-28 18:40:28.640066</td>\n",
       "      <td>{\"notes\": {\"type\": \"/type/text\", \"value\": \"\\\"P...</td>\n",
       "    </tr>\n",
       "    <tr>\n",
       "      <th>99998</th>\n",
       "      <td>/books/OL35738535M</td>\n",
       "      <td>1</td>\n",
       "      <td>2021-12-24 06:04:15.305092</td>\n",
       "      <td>{\"type\": {\"key\": \"/type/edition\"}, \"publish_da...</td>\n",
       "    </tr>\n",
       "    <tr>\n",
       "      <th>99999</th>\n",
       "      <td>/books/OL35738578M</td>\n",
       "      <td>3</td>\n",
       "      <td>2023-04-21 07:24:21.527786</td>\n",
       "      <td>{\"notes\": {\"type\": \"/type/text\", \"value\": \"Inc...</td>\n",
       "    </tr>\n",
       "  </tbody>\n",
       "</table>\n",
       "<p>100000 rows × 4 columns</p>\n",
       "</div>"
      ]
     },
     "execution_count": 91,
     "metadata": {},
     "output_type": "execute_result"
    }
   ],
   "execution_count": 91
  },
  {
   "metadata": {
    "ExecuteTime": {
     "end_time": "2025-02-25T14:40:06.243111Z",
     "start_time": "2025-02-25T14:39:59.444604Z"
    }
   },
   "cell_type": "code",
   "source": [
    "\n",
    "sample_df[\"json_data\"] = sample_df[\"json_data\"].apply(lambda x: json.loads(x) if isinstance(x, str) else {})\n",
    "\n",
    "normalized_df = pd.json_normalize(sample_df[\"json_data\"])\n",
    "\n",
    "final_df = pd.concat([sample_df.drop(columns=[\"json_data\"]), normalized_df], axis=1)\n"
   ],
   "id": "e96b8424539200fd",
   "outputs": [],
   "execution_count": 92
  },
  {
   "metadata": {
    "ExecuteTime": {
     "end_time": "2025-02-25T14:40:06.486369Z",
     "start_time": "2025-02-25T14:40:06.253836Z"
    }
   },
   "cell_type": "code",
   "source": [
    " # read the processed data\n",
    "final_df"
   ],
   "id": "bf2a96aa1da2d962",
   "outputs": [
    {
     "data": {
      "text/plain": [
       "                  book_id  revision                   timestamp  \\\n",
       "0      /books/OL10000299M         3  2011-04-27 14:29:38.147197   \n",
       "1      /books/OL10000402M         3  2011-04-27 11:28:52.494785   \n",
       "2      /books/OL10000661M         3  2011-04-25 22:07:29.549200   \n",
       "3      /books/OL10000852M         3  2011-04-27 04:54:31.855299   \n",
       "4      /books/OL10001003M         3  2011-06-08 04:28:03.025393   \n",
       "...                   ...       ...                         ...   \n",
       "99995  /books/OL35738257M         2  2023-02-01 15:25:47.290397   \n",
       "99996    /books/OL357382M         7  2024-07-15 01:39:27.737325   \n",
       "99997  /books/OL35738372M         6  2023-02-28 18:40:28.640066   \n",
       "99998  /books/OL35738535M         1  2021-12-24 06:04:15.305092   \n",
       "99999  /books/OL35738578M         3  2023-04-21 07:24:21.527786   \n",
       "\n",
       "                                        publishers physical_format  \\\n",
       "0                        [Stationery Office Books]       Paperback   \n",
       "1                        [Stationery Office Books]       Paperback   \n",
       "2                        [Stationery Office Books]       Paperback   \n",
       "3                        [Stationery Office Books]       Paperback   \n",
       "4                        [Stationery Office Books]       Paperback   \n",
       "...                                            ...             ...   \n",
       "99995  [Chang jiang shao nian er tong chu ban she]             NaN   \n",
       "99996                         [St. Martin's Press]             NaN   \n",
       "99997        [DK Publishing, DK Eyewitness Travel]             NaN   \n",
       "99998         [Bei fang fu nü er tong chu ban she]             NaN   \n",
       "99999       [Zhongguo shi dai jing ji chu ban she]             NaN   \n",
       "\n",
       "                                    title  number_of_pages          isbn_13  \\\n",
       "0                Human Rights Bill [H.L.]             22.0  [9780108360688]   \n",
       "1       Northern Ireland (Sentences) Bill              4.0  [9780108361821]   \n",
       "2                    Bank of England Bill              8.0  [9780108365706]   \n",
       "3      Regional Development Agencies Bill              2.0  [9780108367625]   \n",
       "4                   Northern Ireland Bill             12.0  [9780108369155]   \n",
       "...                                   ...              ...              ...   \n",
       "99995                          Kuang shen              NaN  [9787556006380]   \n",
       "99996          World orders in the making            276.0              NaN   \n",
       "99997                      Top 10 Orlando            160.0  [9781465402776]   \n",
       "99998            Yong you jiu shi xing fu              NaN  [9787538588248]   \n",
       "99999   Fu bian han shu, Ji fen bian huan            279.0  [9787801698964]   \n",
       "\n",
       "            isbn_10      publish_date  ... identifiers.freebase  \\\n",
       "0      [0108360687]  December 3, 1997  ...                  NaN   \n",
       "1      [0108361829]     July 17, 1998  ...                  NaN   \n",
       "2      [0108365700]     March 6, 1998  ...                  NaN   \n",
       "3      [0108367622]     June 17, 1998  ...                  NaN   \n",
       "4      [0108369153]  October 21, 1998  ...                  NaN   \n",
       "...             ...               ...  ...                  ...   \n",
       "99995  [7556006387]              2014  ...                  NaN   \n",
       "99996  [0312215487]              1998  ...                  NaN   \n",
       "99997  [1465402772]              2014  ...                  NaN   \n",
       "99998  [7538588248]              2015  ...                  NaN   \n",
       "99999  [7801698967]              2006  ...                  NaN   \n",
       "\n",
       "      identifiers.bayerische_staatsbibliothek  \\\n",
       "0                                         NaN   \n",
       "1                                         NaN   \n",
       "2                                         NaN   \n",
       "3                                         NaN   \n",
       "4                                         NaN   \n",
       "...                                       ...   \n",
       "99995                                     NaN   \n",
       "99996                                     NaN   \n",
       "99997                                     NaN   \n",
       "99998                                     NaN   \n",
       "99999                                     NaN   \n",
       "\n",
       "       identifiers.british_national_bibliography identifiers.amazon.ca_asin  \\\n",
       "0                                            NaN                        NaN   \n",
       "1                                            NaN                        NaN   \n",
       "2                                            NaN                        NaN   \n",
       "3                                            NaN                        NaN   \n",
       "4                                            NaN                        NaN   \n",
       "...                                          ...                        ...   \n",
       "99995                                        NaN                        NaN   \n",
       "99996                                        NaN                        NaN   \n",
       "99997                                        NaN                        NaN   \n",
       "99998                                        NaN                        NaN   \n",
       "99999                                        NaN                        NaN   \n",
       "\n",
       "      identifiers.zdb-id  identifiers.librivox  \\\n",
       "0                    NaN                   NaN   \n",
       "1                    NaN                   NaN   \n",
       "2                    NaN                   NaN   \n",
       "3                    NaN                   NaN   \n",
       "4                    NaN                   NaN   \n",
       "...                  ...                   ...   \n",
       "99995                NaN                   NaN   \n",
       "99996                NaN                   NaN   \n",
       "99997                NaN                   NaN   \n",
       "99998                NaN                   NaN   \n",
       "99999                NaN                   NaN   \n",
       "\n",
       "      identifiers.bibliothèque_nationale_de_france  \\\n",
       "0                                              NaN   \n",
       "1                                              NaN   \n",
       "2                                              NaN   \n",
       "3                                              NaN   \n",
       "4                                              NaN   \n",
       "...                                            ...   \n",
       "99995                                          NaN   \n",
       "99996                                          NaN   \n",
       "99997                                          NaN   \n",
       "99998                                          NaN   \n",
       "99999                                          NaN   \n",
       "\n",
       "      identifiers.project_gutenberg identifiers.scribd identifiers.isfdb  \n",
       "0                               NaN                NaN               NaN  \n",
       "1                               NaN                NaN               NaN  \n",
       "2                               NaN                NaN               NaN  \n",
       "3                               NaN                NaN               NaN  \n",
       "4                               NaN                NaN               NaN  \n",
       "...                             ...                ...               ...  \n",
       "99995                           NaN                NaN               NaN  \n",
       "99996                           NaN                NaN               NaN  \n",
       "99997                           NaN                NaN               NaN  \n",
       "99998                           NaN                NaN               NaN  \n",
       "99999                           NaN                NaN               NaN  \n",
       "\n",
       "[100000 rows x 120 columns]"
      ],
      "text/html": [
       "<div>\n",
       "<style scoped>\n",
       "    .dataframe tbody tr th:only-of-type {\n",
       "        vertical-align: middle;\n",
       "    }\n",
       "\n",
       "    .dataframe tbody tr th {\n",
       "        vertical-align: top;\n",
       "    }\n",
       "\n",
       "    .dataframe thead th {\n",
       "        text-align: right;\n",
       "    }\n",
       "</style>\n",
       "<table border=\"1\" class=\"dataframe\">\n",
       "  <thead>\n",
       "    <tr style=\"text-align: right;\">\n",
       "      <th></th>\n",
       "      <th>book_id</th>\n",
       "      <th>revision</th>\n",
       "      <th>timestamp</th>\n",
       "      <th>publishers</th>\n",
       "      <th>physical_format</th>\n",
       "      <th>title</th>\n",
       "      <th>number_of_pages</th>\n",
       "      <th>isbn_13</th>\n",
       "      <th>isbn_10</th>\n",
       "      <th>publish_date</th>\n",
       "      <th>...</th>\n",
       "      <th>identifiers.freebase</th>\n",
       "      <th>identifiers.bayerische_staatsbibliothek</th>\n",
       "      <th>identifiers.british_national_bibliography</th>\n",
       "      <th>identifiers.amazon.ca_asin</th>\n",
       "      <th>identifiers.zdb-id</th>\n",
       "      <th>identifiers.librivox</th>\n",
       "      <th>identifiers.bibliothèque_nationale_de_france</th>\n",
       "      <th>identifiers.project_gutenberg</th>\n",
       "      <th>identifiers.scribd</th>\n",
       "      <th>identifiers.isfdb</th>\n",
       "    </tr>\n",
       "  </thead>\n",
       "  <tbody>\n",
       "    <tr>\n",
       "      <th>0</th>\n",
       "      <td>/books/OL10000299M</td>\n",
       "      <td>3</td>\n",
       "      <td>2011-04-27 14:29:38.147197</td>\n",
       "      <td>[Stationery Office Books]</td>\n",
       "      <td>Paperback</td>\n",
       "      <td>Human Rights Bill [H.L.]</td>\n",
       "      <td>22.0</td>\n",
       "      <td>[9780108360688]</td>\n",
       "      <td>[0108360687]</td>\n",
       "      <td>December 3, 1997</td>\n",
       "      <td>...</td>\n",
       "      <td>NaN</td>\n",
       "      <td>NaN</td>\n",
       "      <td>NaN</td>\n",
       "      <td>NaN</td>\n",
       "      <td>NaN</td>\n",
       "      <td>NaN</td>\n",
       "      <td>NaN</td>\n",
       "      <td>NaN</td>\n",
       "      <td>NaN</td>\n",
       "      <td>NaN</td>\n",
       "    </tr>\n",
       "    <tr>\n",
       "      <th>1</th>\n",
       "      <td>/books/OL10000402M</td>\n",
       "      <td>3</td>\n",
       "      <td>2011-04-27 11:28:52.494785</td>\n",
       "      <td>[Stationery Office Books]</td>\n",
       "      <td>Paperback</td>\n",
       "      <td>Northern Ireland (Sentences) Bill</td>\n",
       "      <td>4.0</td>\n",
       "      <td>[9780108361821]</td>\n",
       "      <td>[0108361829]</td>\n",
       "      <td>July 17, 1998</td>\n",
       "      <td>...</td>\n",
       "      <td>NaN</td>\n",
       "      <td>NaN</td>\n",
       "      <td>NaN</td>\n",
       "      <td>NaN</td>\n",
       "      <td>NaN</td>\n",
       "      <td>NaN</td>\n",
       "      <td>NaN</td>\n",
       "      <td>NaN</td>\n",
       "      <td>NaN</td>\n",
       "      <td>NaN</td>\n",
       "    </tr>\n",
       "    <tr>\n",
       "      <th>2</th>\n",
       "      <td>/books/OL10000661M</td>\n",
       "      <td>3</td>\n",
       "      <td>2011-04-25 22:07:29.549200</td>\n",
       "      <td>[Stationery Office Books]</td>\n",
       "      <td>Paperback</td>\n",
       "      <td>Bank of England Bill</td>\n",
       "      <td>8.0</td>\n",
       "      <td>[9780108365706]</td>\n",
       "      <td>[0108365700]</td>\n",
       "      <td>March 6, 1998</td>\n",
       "      <td>...</td>\n",
       "      <td>NaN</td>\n",
       "      <td>NaN</td>\n",
       "      <td>NaN</td>\n",
       "      <td>NaN</td>\n",
       "      <td>NaN</td>\n",
       "      <td>NaN</td>\n",
       "      <td>NaN</td>\n",
       "      <td>NaN</td>\n",
       "      <td>NaN</td>\n",
       "      <td>NaN</td>\n",
       "    </tr>\n",
       "    <tr>\n",
       "      <th>3</th>\n",
       "      <td>/books/OL10000852M</td>\n",
       "      <td>3</td>\n",
       "      <td>2011-04-27 04:54:31.855299</td>\n",
       "      <td>[Stationery Office Books]</td>\n",
       "      <td>Paperback</td>\n",
       "      <td>Regional Development Agencies Bill</td>\n",
       "      <td>2.0</td>\n",
       "      <td>[9780108367625]</td>\n",
       "      <td>[0108367622]</td>\n",
       "      <td>June 17, 1998</td>\n",
       "      <td>...</td>\n",
       "      <td>NaN</td>\n",
       "      <td>NaN</td>\n",
       "      <td>NaN</td>\n",
       "      <td>NaN</td>\n",
       "      <td>NaN</td>\n",
       "      <td>NaN</td>\n",
       "      <td>NaN</td>\n",
       "      <td>NaN</td>\n",
       "      <td>NaN</td>\n",
       "      <td>NaN</td>\n",
       "    </tr>\n",
       "    <tr>\n",
       "      <th>4</th>\n",
       "      <td>/books/OL10001003M</td>\n",
       "      <td>3</td>\n",
       "      <td>2011-06-08 04:28:03.025393</td>\n",
       "      <td>[Stationery Office Books]</td>\n",
       "      <td>Paperback</td>\n",
       "      <td>Northern Ireland Bill</td>\n",
       "      <td>12.0</td>\n",
       "      <td>[9780108369155]</td>\n",
       "      <td>[0108369153]</td>\n",
       "      <td>October 21, 1998</td>\n",
       "      <td>...</td>\n",
       "      <td>NaN</td>\n",
       "      <td>NaN</td>\n",
       "      <td>NaN</td>\n",
       "      <td>NaN</td>\n",
       "      <td>NaN</td>\n",
       "      <td>NaN</td>\n",
       "      <td>NaN</td>\n",
       "      <td>NaN</td>\n",
       "      <td>NaN</td>\n",
       "      <td>NaN</td>\n",
       "    </tr>\n",
       "    <tr>\n",
       "      <th>...</th>\n",
       "      <td>...</td>\n",
       "      <td>...</td>\n",
       "      <td>...</td>\n",
       "      <td>...</td>\n",
       "      <td>...</td>\n",
       "      <td>...</td>\n",
       "      <td>...</td>\n",
       "      <td>...</td>\n",
       "      <td>...</td>\n",
       "      <td>...</td>\n",
       "      <td>...</td>\n",
       "      <td>...</td>\n",
       "      <td>...</td>\n",
       "      <td>...</td>\n",
       "      <td>...</td>\n",
       "      <td>...</td>\n",
       "      <td>...</td>\n",
       "      <td>...</td>\n",
       "      <td>...</td>\n",
       "      <td>...</td>\n",
       "      <td>...</td>\n",
       "    </tr>\n",
       "    <tr>\n",
       "      <th>99995</th>\n",
       "      <td>/books/OL35738257M</td>\n",
       "      <td>2</td>\n",
       "      <td>2023-02-01 15:25:47.290397</td>\n",
       "      <td>[Chang jiang shao nian er tong chu ban she]</td>\n",
       "      <td>NaN</td>\n",
       "      <td>Kuang shen</td>\n",
       "      <td>NaN</td>\n",
       "      <td>[9787556006380]</td>\n",
       "      <td>[7556006387]</td>\n",
       "      <td>2014</td>\n",
       "      <td>...</td>\n",
       "      <td>NaN</td>\n",
       "      <td>NaN</td>\n",
       "      <td>NaN</td>\n",
       "      <td>NaN</td>\n",
       "      <td>NaN</td>\n",
       "      <td>NaN</td>\n",
       "      <td>NaN</td>\n",
       "      <td>NaN</td>\n",
       "      <td>NaN</td>\n",
       "      <td>NaN</td>\n",
       "    </tr>\n",
       "    <tr>\n",
       "      <th>99996</th>\n",
       "      <td>/books/OL357382M</td>\n",
       "      <td>7</td>\n",
       "      <td>2024-07-15 01:39:27.737325</td>\n",
       "      <td>[St. Martin's Press]</td>\n",
       "      <td>NaN</td>\n",
       "      <td>World orders in the making</td>\n",
       "      <td>276.0</td>\n",
       "      <td>NaN</td>\n",
       "      <td>[0312215487]</td>\n",
       "      <td>1998</td>\n",
       "      <td>...</td>\n",
       "      <td>NaN</td>\n",
       "      <td>NaN</td>\n",
       "      <td>NaN</td>\n",
       "      <td>NaN</td>\n",
       "      <td>NaN</td>\n",
       "      <td>NaN</td>\n",
       "      <td>NaN</td>\n",
       "      <td>NaN</td>\n",
       "      <td>NaN</td>\n",
       "      <td>NaN</td>\n",
       "    </tr>\n",
       "    <tr>\n",
       "      <th>99997</th>\n",
       "      <td>/books/OL35738372M</td>\n",
       "      <td>6</td>\n",
       "      <td>2023-02-28 18:40:28.640066</td>\n",
       "      <td>[DK Publishing, DK Eyewitness Travel]</td>\n",
       "      <td>NaN</td>\n",
       "      <td>Top 10 Orlando</td>\n",
       "      <td>160.0</td>\n",
       "      <td>[9781465402776]</td>\n",
       "      <td>[1465402772]</td>\n",
       "      <td>2014</td>\n",
       "      <td>...</td>\n",
       "      <td>NaN</td>\n",
       "      <td>NaN</td>\n",
       "      <td>NaN</td>\n",
       "      <td>NaN</td>\n",
       "      <td>NaN</td>\n",
       "      <td>NaN</td>\n",
       "      <td>NaN</td>\n",
       "      <td>NaN</td>\n",
       "      <td>NaN</td>\n",
       "      <td>NaN</td>\n",
       "    </tr>\n",
       "    <tr>\n",
       "      <th>99998</th>\n",
       "      <td>/books/OL35738535M</td>\n",
       "      <td>1</td>\n",
       "      <td>2021-12-24 06:04:15.305092</td>\n",
       "      <td>[Bei fang fu nü er tong chu ban she]</td>\n",
       "      <td>NaN</td>\n",
       "      <td>Yong you jiu shi xing fu</td>\n",
       "      <td>NaN</td>\n",
       "      <td>[9787538588248]</td>\n",
       "      <td>[7538588248]</td>\n",
       "      <td>2015</td>\n",
       "      <td>...</td>\n",
       "      <td>NaN</td>\n",
       "      <td>NaN</td>\n",
       "      <td>NaN</td>\n",
       "      <td>NaN</td>\n",
       "      <td>NaN</td>\n",
       "      <td>NaN</td>\n",
       "      <td>NaN</td>\n",
       "      <td>NaN</td>\n",
       "      <td>NaN</td>\n",
       "      <td>NaN</td>\n",
       "    </tr>\n",
       "    <tr>\n",
       "      <th>99999</th>\n",
       "      <td>/books/OL35738578M</td>\n",
       "      <td>3</td>\n",
       "      <td>2023-04-21 07:24:21.527786</td>\n",
       "      <td>[Zhongguo shi dai jing ji chu ban she]</td>\n",
       "      <td>NaN</td>\n",
       "      <td>Fu bian han shu, Ji fen bian huan</td>\n",
       "      <td>279.0</td>\n",
       "      <td>[9787801698964]</td>\n",
       "      <td>[7801698967]</td>\n",
       "      <td>2006</td>\n",
       "      <td>...</td>\n",
       "      <td>NaN</td>\n",
       "      <td>NaN</td>\n",
       "      <td>NaN</td>\n",
       "      <td>NaN</td>\n",
       "      <td>NaN</td>\n",
       "      <td>NaN</td>\n",
       "      <td>NaN</td>\n",
       "      <td>NaN</td>\n",
       "      <td>NaN</td>\n",
       "      <td>NaN</td>\n",
       "    </tr>\n",
       "  </tbody>\n",
       "</table>\n",
       "<p>100000 rows × 120 columns</p>\n",
       "</div>"
      ]
     },
     "execution_count": 93,
     "metadata": {},
     "output_type": "execute_result"
    }
   ],
   "execution_count": 93
  },
  {
   "metadata": {},
   "cell_type": "markdown",
   "source": "There are still many dictionaries in the data, so we need to normalize the data again",
   "id": "52b258e0455b01e6"
  },
  {
   "metadata": {},
   "cell_type": "markdown",
   "source": "convert the authors, works, isbn_13, isbn_10, publishers, and similar columns into plain text (string) format, the following changes were made:",
   "id": "f7249a0dd6fc0c12"
  },
  {
   "metadata": {
    "ExecuteTime": {
     "end_time": "2025-02-25T14:40:07.031744Z",
     "start_time": "2025-02-25T14:40:06.587571Z"
    }
   },
   "cell_type": "code",
   "source": [
    "if \"isbn_13\" in final_df.columns:\n",
    "    final_df[\"isbn_13\"] = final_df[\"isbn_13\"].apply(lambda x: \", \".join(map(str, x)) if isinstance(x, list) else str(x) if pd.notna(x) else \"\")\n",
    "\n",
    "if \"isbn_10\" in final_df.columns:\n",
    "    final_df[\"isbn_10\"] = final_df[\"isbn_10\"].apply(lambda x: \", \".join(map(str, x)) if isinstance(x, list) else str(x) if pd.notna(x) else \"\")\n",
    "\n",
    "if \"publishers\" in final_df.columns:\n",
    "    final_df[\"publishers\"] = final_df[\"publishers\"].apply(lambda x: \", \".join(map(str, x)) if isinstance(x, list) else str(x) if pd.notna(x) else \"\")\n",
    "\n",
    "if \"oclc_numbers\" in final_df.columns:\n",
    "    final_df[\"oclc_numbers\"] = final_df[\"oclc_numbers\"].apply(lambda x: \", \".join(map(str, x)) if isinstance(x, list) else str(x) if pd.notna(x) else \"\")\n",
    "\n",
    "# Extract 'key' values from lists of dictionaries\n",
    "if \"authors\" in final_df.columns:\n",
    "    final_df[\"authors\"] = final_df[\"authors\"].apply(lambda x: \", \".join(d[\"key\"] for d in x if isinstance(d, dict) and \"key\" in d)\n",
    "                                                    if isinstance(x, list) else str(x) if pd.notna(x) else \"\")\n",
    "\n",
    "if \"works\" in final_df.columns:\n",
    "    final_df[\"works\"] = final_df[\"works\"].apply(lambda x: \", \".join(d[\"key\"] for d in x if isinstance(d, dict) and \"key\" in d)\n",
    "                                                if isinstance(x, list) else str(x) if pd.notna(x) else \"\")"
   ],
   "id": "54b6cb49605f9997",
   "outputs": [],
   "execution_count": 94
  },
  {
   "metadata": {
    "ExecuteTime": {
     "end_time": "2025-02-25T14:40:07.316976Z",
     "start_time": "2025-02-25T14:40:07.119434Z"
    }
   },
   "cell_type": "code",
   "source": "final_df",
   "id": "4319e35e2fe03cab",
   "outputs": [
    {
     "data": {
      "text/plain": [
       "                  book_id  revision                   timestamp  \\\n",
       "0      /books/OL10000299M         3  2011-04-27 14:29:38.147197   \n",
       "1      /books/OL10000402M         3  2011-04-27 11:28:52.494785   \n",
       "2      /books/OL10000661M         3  2011-04-25 22:07:29.549200   \n",
       "3      /books/OL10000852M         3  2011-04-27 04:54:31.855299   \n",
       "4      /books/OL10001003M         3  2011-06-08 04:28:03.025393   \n",
       "...                   ...       ...                         ...   \n",
       "99995  /books/OL35738257M         2  2023-02-01 15:25:47.290397   \n",
       "99996    /books/OL357382M         7  2024-07-15 01:39:27.737325   \n",
       "99997  /books/OL35738372M         6  2023-02-28 18:40:28.640066   \n",
       "99998  /books/OL35738535M         1  2021-12-24 06:04:15.305092   \n",
       "99999  /books/OL35738578M         3  2023-04-21 07:24:21.527786   \n",
       "\n",
       "                                      publishers physical_format  \\\n",
       "0                        Stationery Office Books       Paperback   \n",
       "1                        Stationery Office Books       Paperback   \n",
       "2                        Stationery Office Books       Paperback   \n",
       "3                        Stationery Office Books       Paperback   \n",
       "4                        Stationery Office Books       Paperback   \n",
       "...                                          ...             ...   \n",
       "99995  Chang jiang shao nian er tong chu ban she             NaN   \n",
       "99996                         St. Martin's Press             NaN   \n",
       "99997        DK Publishing, DK Eyewitness Travel             NaN   \n",
       "99998         Bei fang fu nü er tong chu ban she             NaN   \n",
       "99999       Zhongguo shi dai jing ji chu ban she             NaN   \n",
       "\n",
       "                                    title  number_of_pages        isbn_13  \\\n",
       "0                Human Rights Bill [H.L.]             22.0  9780108360688   \n",
       "1       Northern Ireland (Sentences) Bill              4.0  9780108361821   \n",
       "2                    Bank of England Bill              8.0  9780108365706   \n",
       "3      Regional Development Agencies Bill              2.0  9780108367625   \n",
       "4                   Northern Ireland Bill             12.0  9780108369155   \n",
       "...                                   ...              ...            ...   \n",
       "99995                          Kuang shen              NaN  9787556006380   \n",
       "99996          World orders in the making            276.0                  \n",
       "99997                      Top 10 Orlando            160.0  9781465402776   \n",
       "99998            Yong you jiu shi xing fu              NaN  9787538588248   \n",
       "99999   Fu bian han shu, Ji fen bian huan            279.0  9787801698964   \n",
       "\n",
       "          isbn_10      publish_date  ... identifiers.freebase  \\\n",
       "0      0108360687  December 3, 1997  ...                  NaN   \n",
       "1      0108361829     July 17, 1998  ...                  NaN   \n",
       "2      0108365700     March 6, 1998  ...                  NaN   \n",
       "3      0108367622     June 17, 1998  ...                  NaN   \n",
       "4      0108369153  October 21, 1998  ...                  NaN   \n",
       "...           ...               ...  ...                  ...   \n",
       "99995  7556006387              2014  ...                  NaN   \n",
       "99996  0312215487              1998  ...                  NaN   \n",
       "99997  1465402772              2014  ...                  NaN   \n",
       "99998  7538588248              2015  ...                  NaN   \n",
       "99999  7801698967              2006  ...                  NaN   \n",
       "\n",
       "      identifiers.bayerische_staatsbibliothek  \\\n",
       "0                                         NaN   \n",
       "1                                         NaN   \n",
       "2                                         NaN   \n",
       "3                                         NaN   \n",
       "4                                         NaN   \n",
       "...                                       ...   \n",
       "99995                                     NaN   \n",
       "99996                                     NaN   \n",
       "99997                                     NaN   \n",
       "99998                                     NaN   \n",
       "99999                                     NaN   \n",
       "\n",
       "       identifiers.british_national_bibliography identifiers.amazon.ca_asin  \\\n",
       "0                                            NaN                        NaN   \n",
       "1                                            NaN                        NaN   \n",
       "2                                            NaN                        NaN   \n",
       "3                                            NaN                        NaN   \n",
       "4                                            NaN                        NaN   \n",
       "...                                          ...                        ...   \n",
       "99995                                        NaN                        NaN   \n",
       "99996                                        NaN                        NaN   \n",
       "99997                                        NaN                        NaN   \n",
       "99998                                        NaN                        NaN   \n",
       "99999                                        NaN                        NaN   \n",
       "\n",
       "      identifiers.zdb-id  identifiers.librivox  \\\n",
       "0                    NaN                   NaN   \n",
       "1                    NaN                   NaN   \n",
       "2                    NaN                   NaN   \n",
       "3                    NaN                   NaN   \n",
       "4                    NaN                   NaN   \n",
       "...                  ...                   ...   \n",
       "99995                NaN                   NaN   \n",
       "99996                NaN                   NaN   \n",
       "99997                NaN                   NaN   \n",
       "99998                NaN                   NaN   \n",
       "99999                NaN                   NaN   \n",
       "\n",
       "      identifiers.bibliothèque_nationale_de_france  \\\n",
       "0                                              NaN   \n",
       "1                                              NaN   \n",
       "2                                              NaN   \n",
       "3                                              NaN   \n",
       "4                                              NaN   \n",
       "...                                            ...   \n",
       "99995                                          NaN   \n",
       "99996                                          NaN   \n",
       "99997                                          NaN   \n",
       "99998                                          NaN   \n",
       "99999                                          NaN   \n",
       "\n",
       "      identifiers.project_gutenberg identifiers.scribd identifiers.isfdb  \n",
       "0                               NaN                NaN               NaN  \n",
       "1                               NaN                NaN               NaN  \n",
       "2                               NaN                NaN               NaN  \n",
       "3                               NaN                NaN               NaN  \n",
       "4                               NaN                NaN               NaN  \n",
       "...                             ...                ...               ...  \n",
       "99995                           NaN                NaN               NaN  \n",
       "99996                           NaN                NaN               NaN  \n",
       "99997                           NaN                NaN               NaN  \n",
       "99998                           NaN                NaN               NaN  \n",
       "99999                           NaN                NaN               NaN  \n",
       "\n",
       "[100000 rows x 120 columns]"
      ],
      "text/html": [
       "<div>\n",
       "<style scoped>\n",
       "    .dataframe tbody tr th:only-of-type {\n",
       "        vertical-align: middle;\n",
       "    }\n",
       "\n",
       "    .dataframe tbody tr th {\n",
       "        vertical-align: top;\n",
       "    }\n",
       "\n",
       "    .dataframe thead th {\n",
       "        text-align: right;\n",
       "    }\n",
       "</style>\n",
       "<table border=\"1\" class=\"dataframe\">\n",
       "  <thead>\n",
       "    <tr style=\"text-align: right;\">\n",
       "      <th></th>\n",
       "      <th>book_id</th>\n",
       "      <th>revision</th>\n",
       "      <th>timestamp</th>\n",
       "      <th>publishers</th>\n",
       "      <th>physical_format</th>\n",
       "      <th>title</th>\n",
       "      <th>number_of_pages</th>\n",
       "      <th>isbn_13</th>\n",
       "      <th>isbn_10</th>\n",
       "      <th>publish_date</th>\n",
       "      <th>...</th>\n",
       "      <th>identifiers.freebase</th>\n",
       "      <th>identifiers.bayerische_staatsbibliothek</th>\n",
       "      <th>identifiers.british_national_bibliography</th>\n",
       "      <th>identifiers.amazon.ca_asin</th>\n",
       "      <th>identifiers.zdb-id</th>\n",
       "      <th>identifiers.librivox</th>\n",
       "      <th>identifiers.bibliothèque_nationale_de_france</th>\n",
       "      <th>identifiers.project_gutenberg</th>\n",
       "      <th>identifiers.scribd</th>\n",
       "      <th>identifiers.isfdb</th>\n",
       "    </tr>\n",
       "  </thead>\n",
       "  <tbody>\n",
       "    <tr>\n",
       "      <th>0</th>\n",
       "      <td>/books/OL10000299M</td>\n",
       "      <td>3</td>\n",
       "      <td>2011-04-27 14:29:38.147197</td>\n",
       "      <td>Stationery Office Books</td>\n",
       "      <td>Paperback</td>\n",
       "      <td>Human Rights Bill [H.L.]</td>\n",
       "      <td>22.0</td>\n",
       "      <td>9780108360688</td>\n",
       "      <td>0108360687</td>\n",
       "      <td>December 3, 1997</td>\n",
       "      <td>...</td>\n",
       "      <td>NaN</td>\n",
       "      <td>NaN</td>\n",
       "      <td>NaN</td>\n",
       "      <td>NaN</td>\n",
       "      <td>NaN</td>\n",
       "      <td>NaN</td>\n",
       "      <td>NaN</td>\n",
       "      <td>NaN</td>\n",
       "      <td>NaN</td>\n",
       "      <td>NaN</td>\n",
       "    </tr>\n",
       "    <tr>\n",
       "      <th>1</th>\n",
       "      <td>/books/OL10000402M</td>\n",
       "      <td>3</td>\n",
       "      <td>2011-04-27 11:28:52.494785</td>\n",
       "      <td>Stationery Office Books</td>\n",
       "      <td>Paperback</td>\n",
       "      <td>Northern Ireland (Sentences) Bill</td>\n",
       "      <td>4.0</td>\n",
       "      <td>9780108361821</td>\n",
       "      <td>0108361829</td>\n",
       "      <td>July 17, 1998</td>\n",
       "      <td>...</td>\n",
       "      <td>NaN</td>\n",
       "      <td>NaN</td>\n",
       "      <td>NaN</td>\n",
       "      <td>NaN</td>\n",
       "      <td>NaN</td>\n",
       "      <td>NaN</td>\n",
       "      <td>NaN</td>\n",
       "      <td>NaN</td>\n",
       "      <td>NaN</td>\n",
       "      <td>NaN</td>\n",
       "    </tr>\n",
       "    <tr>\n",
       "      <th>2</th>\n",
       "      <td>/books/OL10000661M</td>\n",
       "      <td>3</td>\n",
       "      <td>2011-04-25 22:07:29.549200</td>\n",
       "      <td>Stationery Office Books</td>\n",
       "      <td>Paperback</td>\n",
       "      <td>Bank of England Bill</td>\n",
       "      <td>8.0</td>\n",
       "      <td>9780108365706</td>\n",
       "      <td>0108365700</td>\n",
       "      <td>March 6, 1998</td>\n",
       "      <td>...</td>\n",
       "      <td>NaN</td>\n",
       "      <td>NaN</td>\n",
       "      <td>NaN</td>\n",
       "      <td>NaN</td>\n",
       "      <td>NaN</td>\n",
       "      <td>NaN</td>\n",
       "      <td>NaN</td>\n",
       "      <td>NaN</td>\n",
       "      <td>NaN</td>\n",
       "      <td>NaN</td>\n",
       "    </tr>\n",
       "    <tr>\n",
       "      <th>3</th>\n",
       "      <td>/books/OL10000852M</td>\n",
       "      <td>3</td>\n",
       "      <td>2011-04-27 04:54:31.855299</td>\n",
       "      <td>Stationery Office Books</td>\n",
       "      <td>Paperback</td>\n",
       "      <td>Regional Development Agencies Bill</td>\n",
       "      <td>2.0</td>\n",
       "      <td>9780108367625</td>\n",
       "      <td>0108367622</td>\n",
       "      <td>June 17, 1998</td>\n",
       "      <td>...</td>\n",
       "      <td>NaN</td>\n",
       "      <td>NaN</td>\n",
       "      <td>NaN</td>\n",
       "      <td>NaN</td>\n",
       "      <td>NaN</td>\n",
       "      <td>NaN</td>\n",
       "      <td>NaN</td>\n",
       "      <td>NaN</td>\n",
       "      <td>NaN</td>\n",
       "      <td>NaN</td>\n",
       "    </tr>\n",
       "    <tr>\n",
       "      <th>4</th>\n",
       "      <td>/books/OL10001003M</td>\n",
       "      <td>3</td>\n",
       "      <td>2011-06-08 04:28:03.025393</td>\n",
       "      <td>Stationery Office Books</td>\n",
       "      <td>Paperback</td>\n",
       "      <td>Northern Ireland Bill</td>\n",
       "      <td>12.0</td>\n",
       "      <td>9780108369155</td>\n",
       "      <td>0108369153</td>\n",
       "      <td>October 21, 1998</td>\n",
       "      <td>...</td>\n",
       "      <td>NaN</td>\n",
       "      <td>NaN</td>\n",
       "      <td>NaN</td>\n",
       "      <td>NaN</td>\n",
       "      <td>NaN</td>\n",
       "      <td>NaN</td>\n",
       "      <td>NaN</td>\n",
       "      <td>NaN</td>\n",
       "      <td>NaN</td>\n",
       "      <td>NaN</td>\n",
       "    </tr>\n",
       "    <tr>\n",
       "      <th>...</th>\n",
       "      <td>...</td>\n",
       "      <td>...</td>\n",
       "      <td>...</td>\n",
       "      <td>...</td>\n",
       "      <td>...</td>\n",
       "      <td>...</td>\n",
       "      <td>...</td>\n",
       "      <td>...</td>\n",
       "      <td>...</td>\n",
       "      <td>...</td>\n",
       "      <td>...</td>\n",
       "      <td>...</td>\n",
       "      <td>...</td>\n",
       "      <td>...</td>\n",
       "      <td>...</td>\n",
       "      <td>...</td>\n",
       "      <td>...</td>\n",
       "      <td>...</td>\n",
       "      <td>...</td>\n",
       "      <td>...</td>\n",
       "      <td>...</td>\n",
       "    </tr>\n",
       "    <tr>\n",
       "      <th>99995</th>\n",
       "      <td>/books/OL35738257M</td>\n",
       "      <td>2</td>\n",
       "      <td>2023-02-01 15:25:47.290397</td>\n",
       "      <td>Chang jiang shao nian er tong chu ban she</td>\n",
       "      <td>NaN</td>\n",
       "      <td>Kuang shen</td>\n",
       "      <td>NaN</td>\n",
       "      <td>9787556006380</td>\n",
       "      <td>7556006387</td>\n",
       "      <td>2014</td>\n",
       "      <td>...</td>\n",
       "      <td>NaN</td>\n",
       "      <td>NaN</td>\n",
       "      <td>NaN</td>\n",
       "      <td>NaN</td>\n",
       "      <td>NaN</td>\n",
       "      <td>NaN</td>\n",
       "      <td>NaN</td>\n",
       "      <td>NaN</td>\n",
       "      <td>NaN</td>\n",
       "      <td>NaN</td>\n",
       "    </tr>\n",
       "    <tr>\n",
       "      <th>99996</th>\n",
       "      <td>/books/OL357382M</td>\n",
       "      <td>7</td>\n",
       "      <td>2024-07-15 01:39:27.737325</td>\n",
       "      <td>St. Martin's Press</td>\n",
       "      <td>NaN</td>\n",
       "      <td>World orders in the making</td>\n",
       "      <td>276.0</td>\n",
       "      <td></td>\n",
       "      <td>0312215487</td>\n",
       "      <td>1998</td>\n",
       "      <td>...</td>\n",
       "      <td>NaN</td>\n",
       "      <td>NaN</td>\n",
       "      <td>NaN</td>\n",
       "      <td>NaN</td>\n",
       "      <td>NaN</td>\n",
       "      <td>NaN</td>\n",
       "      <td>NaN</td>\n",
       "      <td>NaN</td>\n",
       "      <td>NaN</td>\n",
       "      <td>NaN</td>\n",
       "    </tr>\n",
       "    <tr>\n",
       "      <th>99997</th>\n",
       "      <td>/books/OL35738372M</td>\n",
       "      <td>6</td>\n",
       "      <td>2023-02-28 18:40:28.640066</td>\n",
       "      <td>DK Publishing, DK Eyewitness Travel</td>\n",
       "      <td>NaN</td>\n",
       "      <td>Top 10 Orlando</td>\n",
       "      <td>160.0</td>\n",
       "      <td>9781465402776</td>\n",
       "      <td>1465402772</td>\n",
       "      <td>2014</td>\n",
       "      <td>...</td>\n",
       "      <td>NaN</td>\n",
       "      <td>NaN</td>\n",
       "      <td>NaN</td>\n",
       "      <td>NaN</td>\n",
       "      <td>NaN</td>\n",
       "      <td>NaN</td>\n",
       "      <td>NaN</td>\n",
       "      <td>NaN</td>\n",
       "      <td>NaN</td>\n",
       "      <td>NaN</td>\n",
       "    </tr>\n",
       "    <tr>\n",
       "      <th>99998</th>\n",
       "      <td>/books/OL35738535M</td>\n",
       "      <td>1</td>\n",
       "      <td>2021-12-24 06:04:15.305092</td>\n",
       "      <td>Bei fang fu nü er tong chu ban she</td>\n",
       "      <td>NaN</td>\n",
       "      <td>Yong you jiu shi xing fu</td>\n",
       "      <td>NaN</td>\n",
       "      <td>9787538588248</td>\n",
       "      <td>7538588248</td>\n",
       "      <td>2015</td>\n",
       "      <td>...</td>\n",
       "      <td>NaN</td>\n",
       "      <td>NaN</td>\n",
       "      <td>NaN</td>\n",
       "      <td>NaN</td>\n",
       "      <td>NaN</td>\n",
       "      <td>NaN</td>\n",
       "      <td>NaN</td>\n",
       "      <td>NaN</td>\n",
       "      <td>NaN</td>\n",
       "      <td>NaN</td>\n",
       "    </tr>\n",
       "    <tr>\n",
       "      <th>99999</th>\n",
       "      <td>/books/OL35738578M</td>\n",
       "      <td>3</td>\n",
       "      <td>2023-04-21 07:24:21.527786</td>\n",
       "      <td>Zhongguo shi dai jing ji chu ban she</td>\n",
       "      <td>NaN</td>\n",
       "      <td>Fu bian han shu, Ji fen bian huan</td>\n",
       "      <td>279.0</td>\n",
       "      <td>9787801698964</td>\n",
       "      <td>7801698967</td>\n",
       "      <td>2006</td>\n",
       "      <td>...</td>\n",
       "      <td>NaN</td>\n",
       "      <td>NaN</td>\n",
       "      <td>NaN</td>\n",
       "      <td>NaN</td>\n",
       "      <td>NaN</td>\n",
       "      <td>NaN</td>\n",
       "      <td>NaN</td>\n",
       "      <td>NaN</td>\n",
       "      <td>NaN</td>\n",
       "      <td>NaN</td>\n",
       "    </tr>\n",
       "  </tbody>\n",
       "</table>\n",
       "<p>100000 rows × 120 columns</p>\n",
       "</div>"
      ]
     },
     "execution_count": 95,
     "metadata": {},
     "output_type": "execute_result"
    }
   ],
   "execution_count": 95
  },
  {
   "metadata": {
    "ExecuteTime": {
     "end_time": "2025-02-25T14:40:07.408576Z",
     "start_time": "2025-02-25T14:40:07.404426Z"
    }
   },
   "cell_type": "code",
   "source": [
    "# check the columns\n",
    "final_df.columns"
   ],
   "id": "aa7b6cad24902697",
   "outputs": [
    {
     "data": {
      "text/plain": [
       "Index(['book_id', 'revision', 'timestamp', 'publishers', 'physical_format',\n",
       "       'title', 'number_of_pages', 'isbn_13', 'isbn_10', 'publish_date',\n",
       "       ...\n",
       "       'identifiers.freebase', 'identifiers.bayerische_staatsbibliothek',\n",
       "       'identifiers.british_national_bibliography',\n",
       "       'identifiers.amazon.ca_asin', 'identifiers.zdb-id',\n",
       "       'identifiers.librivox', 'identifiers.bibliothèque_nationale_de_france',\n",
       "       'identifiers.project_gutenberg', 'identifiers.scribd',\n",
       "       'identifiers.isfdb'],\n",
       "      dtype='object', length=120)"
      ]
     },
     "execution_count": 96,
     "metadata": {},
     "output_type": "execute_result"
    }
   ],
   "execution_count": 96
  },
  {
   "metadata": {
    "ExecuteTime": {
     "end_time": "2025-02-25T14:40:07.531686Z",
     "start_time": "2025-02-25T14:40:07.524444Z"
    }
   },
   "cell_type": "code",
   "source": "final_df.dtypes",
   "id": "b7ac6f2df6fe8ddb",
   "outputs": [
    {
     "data": {
      "text/plain": [
       "book_id                                         object\n",
       "revision                                         int64\n",
       "timestamp                                       object\n",
       "publishers                                      object\n",
       "physical_format                                 object\n",
       "                                                 ...  \n",
       "identifiers.librivox                            object\n",
       "identifiers.bibliothèque_nationale_de_france    object\n",
       "identifiers.project_gutenberg                   object\n",
       "identifiers.scribd                              object\n",
       "identifiers.isfdb                               object\n",
       "Length: 120, dtype: object"
      ]
     },
     "execution_count": 97,
     "metadata": {},
     "output_type": "execute_result"
    }
   ],
   "execution_count": 97
  },
  {
   "metadata": {
    "ExecuteTime": {
     "end_time": "2025-02-25T14:40:07.613149Z",
     "start_time": "2025-02-25T14:40:07.574896Z"
    }
   },
   "cell_type": "code",
   "source": [
    "main_columns = [\n",
    "    \"book_id\", \"title\", \"full_title\", \"isbn_13\", \"isbn_10\", \"key\", \"works\",\n",
    "    \"publishers\", \"publish_date\", \"publish_country\", \"edition_name\",\n",
    "    \"number_of_pages\", \"physical_format\", \"physical_dimensions\", \"weight\",\n",
    "    \"authors\", \"by_statement\",\n",
    "    \"subjects\", \"genres\", \"identifiers.goodreads\",\n",
    "    \"identifiers.google\", \"identifiers.amazon\", \"identifiers.doi\",\n",
    "    \"identifiers.wikidata\", \"identifiers.librarything\", \"identifiers.better_world_books\",\n",
    "    \"url\", \"first_sentence\", \"description\"\n",
    "]\n",
    "\n",
    "filtered_df = final_df[main_columns]"
   ],
   "id": "ef5b71617ecc9ed4",
   "outputs": [],
   "execution_count": 98
  },
  {
   "metadata": {
    "ExecuteTime": {
     "end_time": "2025-02-25T14:40:09.420096Z",
     "start_time": "2025-02-25T14:40:09.146168Z"
    }
   },
   "cell_type": "code",
   "source": "filtered_df",
   "id": "7f911969eb8b4749",
   "outputs": [
    {
     "data": {
      "text/plain": [
       "                  book_id                               title  \\\n",
       "0      /books/OL10000299M            Human Rights Bill [H.L.]   \n",
       "1      /books/OL10000402M   Northern Ireland (Sentences) Bill   \n",
       "2      /books/OL10000661M                Bank of England Bill   \n",
       "3      /books/OL10000852M  Regional Development Agencies Bill   \n",
       "4      /books/OL10001003M               Northern Ireland Bill   \n",
       "...                   ...                                 ...   \n",
       "99995  /books/OL35738257M                          Kuang shen   \n",
       "99996    /books/OL357382M          World orders in the making   \n",
       "99997  /books/OL35738372M                      Top 10 Orlando   \n",
       "99998  /books/OL35738535M            Yong you jiu shi xing fu   \n",
       "99999  /books/OL35738578M   Fu bian han shu, Ji fen bian huan   \n",
       "\n",
       "                       full_title        isbn_13     isbn_10  \\\n",
       "0                             NaN  9780108360688  0108360687   \n",
       "1                             NaN  9780108361821  0108361829   \n",
       "2                             NaN  9780108365706  0108365700   \n",
       "3                             NaN  9780108367625  0108367622   \n",
       "4                             NaN  9780108369155  0108369153   \n",
       "...                           ...            ...         ...   \n",
       "99995  Kuang shen Shen fen yi yun  9787556006380  7556006387   \n",
       "99996                         NaN                 0312215487   \n",
       "99997              Top 10 Orlando  9781465402776  1465402772   \n",
       "99998                         NaN  9787538588248  7538588248   \n",
       "99999                         NaN  9787801698964  7801698967   \n",
       "\n",
       "                      key               works  \\\n",
       "0      /books/OL10000299M  /works/OL14903285W   \n",
       "1      /books/OL10000402M  /works/OL14902858W   \n",
       "2      /books/OL10000661M  /works/OL14903105W   \n",
       "3      /books/OL10000852M  /works/OL14903245W   \n",
       "4      /books/OL10001003M  /works/OL14903191W   \n",
       "...                   ...                 ...   \n",
       "99995  /books/OL35738257M  /works/OL19649579W   \n",
       "99996    /books/OL357382M  /works/OL18948578W   \n",
       "99997  /books/OL35738372M  /works/OL21709257W   \n",
       "99998  /books/OL35738535M  /works/OL26451835W   \n",
       "99999  /books/OL35738578M  /works/OL26451879W   \n",
       "\n",
       "                                      publishers      publish_date  \\\n",
       "0                        Stationery Office Books  December 3, 1997   \n",
       "1                        Stationery Office Books     July 17, 1998   \n",
       "2                        Stationery Office Books     March 6, 1998   \n",
       "3                        Stationery Office Books     June 17, 1998   \n",
       "4                        Stationery Office Books  October 21, 1998   \n",
       "...                                          ...               ...   \n",
       "99995  Chang jiang shao nian er tong chu ban she              2014   \n",
       "99996                         St. Martin's Press              1998   \n",
       "99997        DK Publishing, DK Eyewitness Travel              2014   \n",
       "99998         Bei fang fu nü er tong chu ban she              2015   \n",
       "99999       Zhongguo shi dai jing ji chu ban she              2006   \n",
       "\n",
       "      publish_country  ... identifiers.goodreads  identifiers.google  \\\n",
       "0                 NaN  ...                   NaN                 NaN   \n",
       "1                 NaN  ...                   NaN                 NaN   \n",
       "2                 NaN  ...                   NaN                 NaN   \n",
       "3                 NaN  ...                   NaN                 NaN   \n",
       "4                 NaN  ...                   NaN                 NaN   \n",
       "...               ...  ...                   ...                 ...   \n",
       "99995              cc  ...                   NaN                 NaN   \n",
       "99996             nyu  ...             [1357099]                 NaN   \n",
       "99997             nyu  ...                   NaN                 NaN   \n",
       "99998              cc  ...                   NaN                 NaN   \n",
       "99999              cc  ...                   NaN                 NaN   \n",
       "\n",
       "      identifiers.amazon identifiers.doi identifiers.wikidata  \\\n",
       "0                    NaN             NaN                  NaN   \n",
       "1                    NaN             NaN                  NaN   \n",
       "2                    NaN             NaN                  NaN   \n",
       "3                    NaN             NaN                  NaN   \n",
       "4                    NaN             NaN                  NaN   \n",
       "...                  ...             ...                  ...   \n",
       "99995                NaN             NaN                  NaN   \n",
       "99996                NaN             NaN                  NaN   \n",
       "99997                 []             NaN                  NaN   \n",
       "99998                NaN             NaN                  NaN   \n",
       "99999                NaN             NaN                  NaN   \n",
       "\n",
       "      identifiers.librarything identifiers.better_world_books  url  \\\n",
       "0                          NaN                            NaN  NaN   \n",
       "1                          NaN                            NaN  NaN   \n",
       "2                          NaN                            NaN  NaN   \n",
       "3                          NaN                            NaN  NaN   \n",
       "4                          NaN                            NaN  NaN   \n",
       "...                        ...                            ...  ...   \n",
       "99995                      NaN                            NaN  NaN   \n",
       "99996                      NaN                            NaN  NaN   \n",
       "99997                      NaN                            NaN  NaN   \n",
       "99998                      NaN                            NaN  NaN   \n",
       "99999                      NaN                            NaN  NaN   \n",
       "\n",
       "      first_sentence description  \n",
       "0                NaN         NaN  \n",
       "1                NaN         NaN  \n",
       "2                NaN         NaN  \n",
       "3                NaN         NaN  \n",
       "4                NaN         NaN  \n",
       "...              ...         ...  \n",
       "99995            NaN         NaN  \n",
       "99996            NaN         NaN  \n",
       "99997            NaN         NaN  \n",
       "99998            NaN         NaN  \n",
       "99999            NaN         NaN  \n",
       "\n",
       "[100000 rows x 29 columns]"
      ],
      "text/html": [
       "<div>\n",
       "<style scoped>\n",
       "    .dataframe tbody tr th:only-of-type {\n",
       "        vertical-align: middle;\n",
       "    }\n",
       "\n",
       "    .dataframe tbody tr th {\n",
       "        vertical-align: top;\n",
       "    }\n",
       "\n",
       "    .dataframe thead th {\n",
       "        text-align: right;\n",
       "    }\n",
       "</style>\n",
       "<table border=\"1\" class=\"dataframe\">\n",
       "  <thead>\n",
       "    <tr style=\"text-align: right;\">\n",
       "      <th></th>\n",
       "      <th>book_id</th>\n",
       "      <th>title</th>\n",
       "      <th>full_title</th>\n",
       "      <th>isbn_13</th>\n",
       "      <th>isbn_10</th>\n",
       "      <th>key</th>\n",
       "      <th>works</th>\n",
       "      <th>publishers</th>\n",
       "      <th>publish_date</th>\n",
       "      <th>publish_country</th>\n",
       "      <th>...</th>\n",
       "      <th>identifiers.goodreads</th>\n",
       "      <th>identifiers.google</th>\n",
       "      <th>identifiers.amazon</th>\n",
       "      <th>identifiers.doi</th>\n",
       "      <th>identifiers.wikidata</th>\n",
       "      <th>identifiers.librarything</th>\n",
       "      <th>identifiers.better_world_books</th>\n",
       "      <th>url</th>\n",
       "      <th>first_sentence</th>\n",
       "      <th>description</th>\n",
       "    </tr>\n",
       "  </thead>\n",
       "  <tbody>\n",
       "    <tr>\n",
       "      <th>0</th>\n",
       "      <td>/books/OL10000299M</td>\n",
       "      <td>Human Rights Bill [H.L.]</td>\n",
       "      <td>NaN</td>\n",
       "      <td>9780108360688</td>\n",
       "      <td>0108360687</td>\n",
       "      <td>/books/OL10000299M</td>\n",
       "      <td>/works/OL14903285W</td>\n",
       "      <td>Stationery Office Books</td>\n",
       "      <td>December 3, 1997</td>\n",
       "      <td>NaN</td>\n",
       "      <td>...</td>\n",
       "      <td>NaN</td>\n",
       "      <td>NaN</td>\n",
       "      <td>NaN</td>\n",
       "      <td>NaN</td>\n",
       "      <td>NaN</td>\n",
       "      <td>NaN</td>\n",
       "      <td>NaN</td>\n",
       "      <td>NaN</td>\n",
       "      <td>NaN</td>\n",
       "      <td>NaN</td>\n",
       "    </tr>\n",
       "    <tr>\n",
       "      <th>1</th>\n",
       "      <td>/books/OL10000402M</td>\n",
       "      <td>Northern Ireland (Sentences) Bill</td>\n",
       "      <td>NaN</td>\n",
       "      <td>9780108361821</td>\n",
       "      <td>0108361829</td>\n",
       "      <td>/books/OL10000402M</td>\n",
       "      <td>/works/OL14902858W</td>\n",
       "      <td>Stationery Office Books</td>\n",
       "      <td>July 17, 1998</td>\n",
       "      <td>NaN</td>\n",
       "      <td>...</td>\n",
       "      <td>NaN</td>\n",
       "      <td>NaN</td>\n",
       "      <td>NaN</td>\n",
       "      <td>NaN</td>\n",
       "      <td>NaN</td>\n",
       "      <td>NaN</td>\n",
       "      <td>NaN</td>\n",
       "      <td>NaN</td>\n",
       "      <td>NaN</td>\n",
       "      <td>NaN</td>\n",
       "    </tr>\n",
       "    <tr>\n",
       "      <th>2</th>\n",
       "      <td>/books/OL10000661M</td>\n",
       "      <td>Bank of England Bill</td>\n",
       "      <td>NaN</td>\n",
       "      <td>9780108365706</td>\n",
       "      <td>0108365700</td>\n",
       "      <td>/books/OL10000661M</td>\n",
       "      <td>/works/OL14903105W</td>\n",
       "      <td>Stationery Office Books</td>\n",
       "      <td>March 6, 1998</td>\n",
       "      <td>NaN</td>\n",
       "      <td>...</td>\n",
       "      <td>NaN</td>\n",
       "      <td>NaN</td>\n",
       "      <td>NaN</td>\n",
       "      <td>NaN</td>\n",
       "      <td>NaN</td>\n",
       "      <td>NaN</td>\n",
       "      <td>NaN</td>\n",
       "      <td>NaN</td>\n",
       "      <td>NaN</td>\n",
       "      <td>NaN</td>\n",
       "    </tr>\n",
       "    <tr>\n",
       "      <th>3</th>\n",
       "      <td>/books/OL10000852M</td>\n",
       "      <td>Regional Development Agencies Bill</td>\n",
       "      <td>NaN</td>\n",
       "      <td>9780108367625</td>\n",
       "      <td>0108367622</td>\n",
       "      <td>/books/OL10000852M</td>\n",
       "      <td>/works/OL14903245W</td>\n",
       "      <td>Stationery Office Books</td>\n",
       "      <td>June 17, 1998</td>\n",
       "      <td>NaN</td>\n",
       "      <td>...</td>\n",
       "      <td>NaN</td>\n",
       "      <td>NaN</td>\n",
       "      <td>NaN</td>\n",
       "      <td>NaN</td>\n",
       "      <td>NaN</td>\n",
       "      <td>NaN</td>\n",
       "      <td>NaN</td>\n",
       "      <td>NaN</td>\n",
       "      <td>NaN</td>\n",
       "      <td>NaN</td>\n",
       "    </tr>\n",
       "    <tr>\n",
       "      <th>4</th>\n",
       "      <td>/books/OL10001003M</td>\n",
       "      <td>Northern Ireland Bill</td>\n",
       "      <td>NaN</td>\n",
       "      <td>9780108369155</td>\n",
       "      <td>0108369153</td>\n",
       "      <td>/books/OL10001003M</td>\n",
       "      <td>/works/OL14903191W</td>\n",
       "      <td>Stationery Office Books</td>\n",
       "      <td>October 21, 1998</td>\n",
       "      <td>NaN</td>\n",
       "      <td>...</td>\n",
       "      <td>NaN</td>\n",
       "      <td>NaN</td>\n",
       "      <td>NaN</td>\n",
       "      <td>NaN</td>\n",
       "      <td>NaN</td>\n",
       "      <td>NaN</td>\n",
       "      <td>NaN</td>\n",
       "      <td>NaN</td>\n",
       "      <td>NaN</td>\n",
       "      <td>NaN</td>\n",
       "    </tr>\n",
       "    <tr>\n",
       "      <th>...</th>\n",
       "      <td>...</td>\n",
       "      <td>...</td>\n",
       "      <td>...</td>\n",
       "      <td>...</td>\n",
       "      <td>...</td>\n",
       "      <td>...</td>\n",
       "      <td>...</td>\n",
       "      <td>...</td>\n",
       "      <td>...</td>\n",
       "      <td>...</td>\n",
       "      <td>...</td>\n",
       "      <td>...</td>\n",
       "      <td>...</td>\n",
       "      <td>...</td>\n",
       "      <td>...</td>\n",
       "      <td>...</td>\n",
       "      <td>...</td>\n",
       "      <td>...</td>\n",
       "      <td>...</td>\n",
       "      <td>...</td>\n",
       "      <td>...</td>\n",
       "    </tr>\n",
       "    <tr>\n",
       "      <th>99995</th>\n",
       "      <td>/books/OL35738257M</td>\n",
       "      <td>Kuang shen</td>\n",
       "      <td>Kuang shen Shen fen yi yun</td>\n",
       "      <td>9787556006380</td>\n",
       "      <td>7556006387</td>\n",
       "      <td>/books/OL35738257M</td>\n",
       "      <td>/works/OL19649579W</td>\n",
       "      <td>Chang jiang shao nian er tong chu ban she</td>\n",
       "      <td>2014</td>\n",
       "      <td>cc</td>\n",
       "      <td>...</td>\n",
       "      <td>NaN</td>\n",
       "      <td>NaN</td>\n",
       "      <td>NaN</td>\n",
       "      <td>NaN</td>\n",
       "      <td>NaN</td>\n",
       "      <td>NaN</td>\n",
       "      <td>NaN</td>\n",
       "      <td>NaN</td>\n",
       "      <td>NaN</td>\n",
       "      <td>NaN</td>\n",
       "    </tr>\n",
       "    <tr>\n",
       "      <th>99996</th>\n",
       "      <td>/books/OL357382M</td>\n",
       "      <td>World orders in the making</td>\n",
       "      <td>NaN</td>\n",
       "      <td></td>\n",
       "      <td>0312215487</td>\n",
       "      <td>/books/OL357382M</td>\n",
       "      <td>/works/OL18948578W</td>\n",
       "      <td>St. Martin's Press</td>\n",
       "      <td>1998</td>\n",
       "      <td>nyu</td>\n",
       "      <td>...</td>\n",
       "      <td>[1357099]</td>\n",
       "      <td>NaN</td>\n",
       "      <td>NaN</td>\n",
       "      <td>NaN</td>\n",
       "      <td>NaN</td>\n",
       "      <td>NaN</td>\n",
       "      <td>NaN</td>\n",
       "      <td>NaN</td>\n",
       "      <td>NaN</td>\n",
       "      <td>NaN</td>\n",
       "    </tr>\n",
       "    <tr>\n",
       "      <th>99997</th>\n",
       "      <td>/books/OL35738372M</td>\n",
       "      <td>Top 10 Orlando</td>\n",
       "      <td>Top 10 Orlando</td>\n",
       "      <td>9781465402776</td>\n",
       "      <td>1465402772</td>\n",
       "      <td>/books/OL35738372M</td>\n",
       "      <td>/works/OL21709257W</td>\n",
       "      <td>DK Publishing, DK Eyewitness Travel</td>\n",
       "      <td>2014</td>\n",
       "      <td>nyu</td>\n",
       "      <td>...</td>\n",
       "      <td>NaN</td>\n",
       "      <td>NaN</td>\n",
       "      <td>[]</td>\n",
       "      <td>NaN</td>\n",
       "      <td>NaN</td>\n",
       "      <td>NaN</td>\n",
       "      <td>NaN</td>\n",
       "      <td>NaN</td>\n",
       "      <td>NaN</td>\n",
       "      <td>NaN</td>\n",
       "    </tr>\n",
       "    <tr>\n",
       "      <th>99998</th>\n",
       "      <td>/books/OL35738535M</td>\n",
       "      <td>Yong you jiu shi xing fu</td>\n",
       "      <td>NaN</td>\n",
       "      <td>9787538588248</td>\n",
       "      <td>7538588248</td>\n",
       "      <td>/books/OL35738535M</td>\n",
       "      <td>/works/OL26451835W</td>\n",
       "      <td>Bei fang fu nü er tong chu ban she</td>\n",
       "      <td>2015</td>\n",
       "      <td>cc</td>\n",
       "      <td>...</td>\n",
       "      <td>NaN</td>\n",
       "      <td>NaN</td>\n",
       "      <td>NaN</td>\n",
       "      <td>NaN</td>\n",
       "      <td>NaN</td>\n",
       "      <td>NaN</td>\n",
       "      <td>NaN</td>\n",
       "      <td>NaN</td>\n",
       "      <td>NaN</td>\n",
       "      <td>NaN</td>\n",
       "    </tr>\n",
       "    <tr>\n",
       "      <th>99999</th>\n",
       "      <td>/books/OL35738578M</td>\n",
       "      <td>Fu bian han shu, Ji fen bian huan</td>\n",
       "      <td>NaN</td>\n",
       "      <td>9787801698964</td>\n",
       "      <td>7801698967</td>\n",
       "      <td>/books/OL35738578M</td>\n",
       "      <td>/works/OL26451879W</td>\n",
       "      <td>Zhongguo shi dai jing ji chu ban she</td>\n",
       "      <td>2006</td>\n",
       "      <td>cc</td>\n",
       "      <td>...</td>\n",
       "      <td>NaN</td>\n",
       "      <td>NaN</td>\n",
       "      <td>NaN</td>\n",
       "      <td>NaN</td>\n",
       "      <td>NaN</td>\n",
       "      <td>NaN</td>\n",
       "      <td>NaN</td>\n",
       "      <td>NaN</td>\n",
       "      <td>NaN</td>\n",
       "      <td>NaN</td>\n",
       "    </tr>\n",
       "  </tbody>\n",
       "</table>\n",
       "<p>100000 rows × 29 columns</p>\n",
       "</div>"
      ]
     },
     "execution_count": 99,
     "metadata": {},
     "output_type": "execute_result"
    }
   ],
   "execution_count": 99
  },
  {
   "metadata": {},
   "cell_type": "markdown",
   "source": "Check the missing values in the data",
   "id": "a7e34f4f2a5a6109"
  },
  {
   "metadata": {
    "ExecuteTime": {
     "end_time": "2025-02-25T15:41:32.567710Z",
     "start_time": "2025-02-25T15:41:32.513082Z"
    }
   },
   "cell_type": "code",
   "source": [
    "print(filtered_df[\"book_id\"].count())\n",
    "print(filtered_df[\"identifiers.goodreads\"].isna().sum())\n",
    "print(filtered_df[\"isbn_13\"].isna().sum())\n",
    "print(filtered_df[\"isbn_10\"].isna().sum())\n",
    "print(filtered_df[\"works\"].isna().sum())\n",
    "print(filtered_df[\"publish_country\"].isna().sum())\n",
    "print(filtered_df[\"url\"].isna().sum())"
   ],
   "id": "c7a4294fad03239d",
   "outputs": [
    {
     "name": "stdout",
     "output_type": "stream",
     "text": [
      "100000\n",
      "86378\n",
      "0\n",
      "0\n",
      "0\n",
      "39930\n",
      "98292\n"
     ]
    }
   ],
   "execution_count": 114
  },
  {
   "metadata": {
    "ExecuteTime": {
     "end_time": "2025-02-25T15:41:34.312150Z",
     "start_time": "2025-02-25T15:41:34.253688Z"
    }
   },
   "cell_type": "code",
   "source": [
    "key_column=[\"book_id\", \"title\", \"full_title\", \"isbn_13\", \"isbn_10\", \"key\", \"works\",\"publishers\",\"publish_country\",\"subjects\", \"genres\", \"identifiers.goodreads\",\"identifiers.google\", \"identifiers.amazon\", \"first_sentence\", \"description\"]\n",
    "key_df=filtered_df[key_column].sample(100)\n",
    "key_df"
   ],
   "id": "25f65913d13b0629",
   "outputs": [
    {
     "data": {
      "text/plain": [
       "                  book_id                                              title  \\\n",
       "27551  /books/OL16783561M                          gramophone record library   \n",
       "67161    /books/OL261935M  Maternity care at public expense in six counti...   \n",
       "1983   /books/OL10458120M                    Bonnard, Peintre du Merveilleux   \n",
       "89545  /books/OL32799906M                                  Passage to Avalon   \n",
       "33069   /books/OL1807333M                                  Raum und Volkstum   \n",
       "...                   ...                                                ...   \n",
       "65706  /books/OL25655137M                            la mudez de las piedras   \n",
       "60565  /books/OL24429509M                 Zakon o svojinsko-pravnim odnosima   \n",
       "50999  /books/OL22264749M                                   Rally once again   \n",
       "60163   /books/OL2433699M                            The sin and the sinners   \n",
       "96491  /books/OL34741805M  Cambridge Handbook of Antitrust, Intellectual ...   \n",
       "\n",
       "                                              full_title        isbn_13  \\\n",
       "27551                                                NaN                  \n",
       "67161                                                NaN                  \n",
       "1983                                                 NaN  9780320058165   \n",
       "89545                                                NaN  9780999511022   \n",
       "33069                                                NaN                  \n",
       "...                                                  ...            ...   \n",
       "65706                                                NaN  9788416234431   \n",
       "60565                                                NaN  9788674420607   \n",
       "50999                                                NaN                  \n",
       "60163                                                NaN                  \n",
       "96491  Cambridge Handbook of Antitrust, Intellectual ...  9781316671313   \n",
       "\n",
       "          isbn_10                 key               works  \\\n",
       "27551              /books/OL16783561M  /works/OL11924670W   \n",
       "67161                /books/OL261935M   /works/OL1588687W   \n",
       "1983   0320058166  /books/OL10458120M   /works/OL1136797W   \n",
       "89545  0999511025  /books/OL32799906M  /works/OL24710064W   \n",
       "33069  340206930X   /books/OL1807333M   /works/OL4393102W   \n",
       "...           ...                 ...                 ...   \n",
       "65706              /books/OL25655137M  /works/OL17084686W   \n",
       "60565              /books/OL24429509M  /works/OL15463336W   \n",
       "50999  1852232226  /books/OL22264749M   /works/OL1809143W   \n",
       "60163               /books/OL2433699M   /works/OL3149476W   \n",
       "96491              /books/OL34741805M  /works/OL21147771W   \n",
       "\n",
       "                                              publishers publish_country  \\\n",
       "27551                                            Grafton             xxk   \n",
       "67161                              U.S Govt. Print. Off.             dcu   \n",
       "1983                             French & European Pubns             NaN   \n",
       "89545                                     Michael Thayer             NaN   \n",
       "33069                                        Aschendorff             gw    \n",
       "...                                                  ...             ...   \n",
       "65706                                      Uno Editorial             NaN   \n",
       "60565                         JU Službeni list Crne Gore             mo    \n",
       "50999  Crowood in association with Anthony Bird, The ...             xxk   \n",
       "60163                                           Jarrolds             enk   \n",
       "96491                         Cambridge University Press             NaN   \n",
       "\n",
       "                                                subjects genres  \\\n",
       "27551                                                NaN    NaN   \n",
       "67161  [Obstetrics, Mothers, Public health -- New Yor...    NaN   \n",
       "1983                            [Individual Artist, Art]    NaN   \n",
       "89545                                                NaN    NaN   \n",
       "33069         [Westphalia (Germany) -- Cultural policy.]    NaN   \n",
       "...                                                  ...    ...   \n",
       "65706                                                NaN    NaN   \n",
       "60565                                                NaN    NaN   \n",
       "50999  [United States -- History -- Civil War, 1861-1...    NaN   \n",
       "60163                                                NaN    NaN   \n",
       "96491                                                NaN    NaN   \n",
       "\n",
       "      identifiers.goodreads identifiers.google identifiers.amazon  \\\n",
       "27551                   NaN                NaN                NaN   \n",
       "67161                   NaN                NaN                NaN   \n",
       "1983                    NaN                NaN                NaN   \n",
       "89545                   NaN                NaN                NaN   \n",
       "33069             [4629743]                NaN                NaN   \n",
       "...                     ...                ...                ...   \n",
       "65706                   NaN                NaN                NaN   \n",
       "60565                   NaN                NaN                NaN   \n",
       "50999                   NaN                NaN                NaN   \n",
       "60163                   NaN                NaN                NaN   \n",
       "96491                   NaN                NaN                NaN   \n",
       "\n",
       "      first_sentence description  \n",
       "27551            NaN         NaN  \n",
       "67161            NaN         NaN  \n",
       "1983             NaN         NaN  \n",
       "89545            NaN         NaN  \n",
       "33069            NaN         NaN  \n",
       "...              ...         ...  \n",
       "65706            NaN         NaN  \n",
       "60565            NaN         NaN  \n",
       "50999            NaN         NaN  \n",
       "60163            NaN         NaN  \n",
       "96491            NaN         NaN  \n",
       "\n",
       "[100 rows x 16 columns]"
      ],
      "text/html": [
       "<div>\n",
       "<style scoped>\n",
       "    .dataframe tbody tr th:only-of-type {\n",
       "        vertical-align: middle;\n",
       "    }\n",
       "\n",
       "    .dataframe tbody tr th {\n",
       "        vertical-align: top;\n",
       "    }\n",
       "\n",
       "    .dataframe thead th {\n",
       "        text-align: right;\n",
       "    }\n",
       "</style>\n",
       "<table border=\"1\" class=\"dataframe\">\n",
       "  <thead>\n",
       "    <tr style=\"text-align: right;\">\n",
       "      <th></th>\n",
       "      <th>book_id</th>\n",
       "      <th>title</th>\n",
       "      <th>full_title</th>\n",
       "      <th>isbn_13</th>\n",
       "      <th>isbn_10</th>\n",
       "      <th>key</th>\n",
       "      <th>works</th>\n",
       "      <th>publishers</th>\n",
       "      <th>publish_country</th>\n",
       "      <th>subjects</th>\n",
       "      <th>genres</th>\n",
       "      <th>identifiers.goodreads</th>\n",
       "      <th>identifiers.google</th>\n",
       "      <th>identifiers.amazon</th>\n",
       "      <th>first_sentence</th>\n",
       "      <th>description</th>\n",
       "    </tr>\n",
       "  </thead>\n",
       "  <tbody>\n",
       "    <tr>\n",
       "      <th>27551</th>\n",
       "      <td>/books/OL16783561M</td>\n",
       "      <td>gramophone record library</td>\n",
       "      <td>NaN</td>\n",
       "      <td></td>\n",
       "      <td></td>\n",
       "      <td>/books/OL16783561M</td>\n",
       "      <td>/works/OL11924670W</td>\n",
       "      <td>Grafton</td>\n",
       "      <td>xxk</td>\n",
       "      <td>NaN</td>\n",
       "      <td>NaN</td>\n",
       "      <td>NaN</td>\n",
       "      <td>NaN</td>\n",
       "      <td>NaN</td>\n",
       "      <td>NaN</td>\n",
       "      <td>NaN</td>\n",
       "    </tr>\n",
       "    <tr>\n",
       "      <th>67161</th>\n",
       "      <td>/books/OL261935M</td>\n",
       "      <td>Maternity care at public expense in six counti...</td>\n",
       "      <td>NaN</td>\n",
       "      <td></td>\n",
       "      <td></td>\n",
       "      <td>/books/OL261935M</td>\n",
       "      <td>/works/OL1588687W</td>\n",
       "      <td>U.S Govt. Print. Off.</td>\n",
       "      <td>dcu</td>\n",
       "      <td>[Obstetrics, Mothers, Public health -- New Yor...</td>\n",
       "      <td>NaN</td>\n",
       "      <td>NaN</td>\n",
       "      <td>NaN</td>\n",
       "      <td>NaN</td>\n",
       "      <td>NaN</td>\n",
       "      <td>NaN</td>\n",
       "    </tr>\n",
       "    <tr>\n",
       "      <th>1983</th>\n",
       "      <td>/books/OL10458120M</td>\n",
       "      <td>Bonnard, Peintre du Merveilleux</td>\n",
       "      <td>NaN</td>\n",
       "      <td>9780320058165</td>\n",
       "      <td>0320058166</td>\n",
       "      <td>/books/OL10458120M</td>\n",
       "      <td>/works/OL1136797W</td>\n",
       "      <td>French &amp; European Pubns</td>\n",
       "      <td>NaN</td>\n",
       "      <td>[Individual Artist, Art]</td>\n",
       "      <td>NaN</td>\n",
       "      <td>NaN</td>\n",
       "      <td>NaN</td>\n",
       "      <td>NaN</td>\n",
       "      <td>NaN</td>\n",
       "      <td>NaN</td>\n",
       "    </tr>\n",
       "    <tr>\n",
       "      <th>89545</th>\n",
       "      <td>/books/OL32799906M</td>\n",
       "      <td>Passage to Avalon</td>\n",
       "      <td>NaN</td>\n",
       "      <td>9780999511022</td>\n",
       "      <td>0999511025</td>\n",
       "      <td>/books/OL32799906M</td>\n",
       "      <td>/works/OL24710064W</td>\n",
       "      <td>Michael Thayer</td>\n",
       "      <td>NaN</td>\n",
       "      <td>NaN</td>\n",
       "      <td>NaN</td>\n",
       "      <td>NaN</td>\n",
       "      <td>NaN</td>\n",
       "      <td>NaN</td>\n",
       "      <td>NaN</td>\n",
       "      <td>NaN</td>\n",
       "    </tr>\n",
       "    <tr>\n",
       "      <th>33069</th>\n",
       "      <td>/books/OL1807333M</td>\n",
       "      <td>Raum und Volkstum</td>\n",
       "      <td>NaN</td>\n",
       "      <td></td>\n",
       "      <td>340206930X</td>\n",
       "      <td>/books/OL1807333M</td>\n",
       "      <td>/works/OL4393102W</td>\n",
       "      <td>Aschendorff</td>\n",
       "      <td>gw</td>\n",
       "      <td>[Westphalia (Germany) -- Cultural policy.]</td>\n",
       "      <td>NaN</td>\n",
       "      <td>[4629743]</td>\n",
       "      <td>NaN</td>\n",
       "      <td>NaN</td>\n",
       "      <td>NaN</td>\n",
       "      <td>NaN</td>\n",
       "    </tr>\n",
       "    <tr>\n",
       "      <th>...</th>\n",
       "      <td>...</td>\n",
       "      <td>...</td>\n",
       "      <td>...</td>\n",
       "      <td>...</td>\n",
       "      <td>...</td>\n",
       "      <td>...</td>\n",
       "      <td>...</td>\n",
       "      <td>...</td>\n",
       "      <td>...</td>\n",
       "      <td>...</td>\n",
       "      <td>...</td>\n",
       "      <td>...</td>\n",
       "      <td>...</td>\n",
       "      <td>...</td>\n",
       "      <td>...</td>\n",
       "      <td>...</td>\n",
       "    </tr>\n",
       "    <tr>\n",
       "      <th>65706</th>\n",
       "      <td>/books/OL25655137M</td>\n",
       "      <td>la mudez de las piedras</td>\n",
       "      <td>NaN</td>\n",
       "      <td>9788416234431</td>\n",
       "      <td></td>\n",
       "      <td>/books/OL25655137M</td>\n",
       "      <td>/works/OL17084686W</td>\n",
       "      <td>Uno Editorial</td>\n",
       "      <td>NaN</td>\n",
       "      <td>NaN</td>\n",
       "      <td>NaN</td>\n",
       "      <td>NaN</td>\n",
       "      <td>NaN</td>\n",
       "      <td>NaN</td>\n",
       "      <td>NaN</td>\n",
       "      <td>NaN</td>\n",
       "    </tr>\n",
       "    <tr>\n",
       "      <th>60565</th>\n",
       "      <td>/books/OL24429509M</td>\n",
       "      <td>Zakon o svojinsko-pravnim odnosima</td>\n",
       "      <td>NaN</td>\n",
       "      <td>9788674420607</td>\n",
       "      <td></td>\n",
       "      <td>/books/OL24429509M</td>\n",
       "      <td>/works/OL15463336W</td>\n",
       "      <td>JU Službeni list Crne Gore</td>\n",
       "      <td>mo</td>\n",
       "      <td>NaN</td>\n",
       "      <td>NaN</td>\n",
       "      <td>NaN</td>\n",
       "      <td>NaN</td>\n",
       "      <td>NaN</td>\n",
       "      <td>NaN</td>\n",
       "      <td>NaN</td>\n",
       "    </tr>\n",
       "    <tr>\n",
       "      <th>50999</th>\n",
       "      <td>/books/OL22264749M</td>\n",
       "      <td>Rally once again</td>\n",
       "      <td>NaN</td>\n",
       "      <td></td>\n",
       "      <td>1852232226</td>\n",
       "      <td>/books/OL22264749M</td>\n",
       "      <td>/works/OL1809143W</td>\n",
       "      <td>Crowood in association with Anthony Bird, The ...</td>\n",
       "      <td>xxk</td>\n",
       "      <td>[United States -- History -- Civil War, 1861-1...</td>\n",
       "      <td>NaN</td>\n",
       "      <td>NaN</td>\n",
       "      <td>NaN</td>\n",
       "      <td>NaN</td>\n",
       "      <td>NaN</td>\n",
       "      <td>NaN</td>\n",
       "    </tr>\n",
       "    <tr>\n",
       "      <th>60163</th>\n",
       "      <td>/books/OL2433699M</td>\n",
       "      <td>The sin and the sinners</td>\n",
       "      <td>NaN</td>\n",
       "      <td></td>\n",
       "      <td></td>\n",
       "      <td>/books/OL2433699M</td>\n",
       "      <td>/works/OL3149476W</td>\n",
       "      <td>Jarrolds</td>\n",
       "      <td>enk</td>\n",
       "      <td>NaN</td>\n",
       "      <td>NaN</td>\n",
       "      <td>NaN</td>\n",
       "      <td>NaN</td>\n",
       "      <td>NaN</td>\n",
       "      <td>NaN</td>\n",
       "      <td>NaN</td>\n",
       "    </tr>\n",
       "    <tr>\n",
       "      <th>96491</th>\n",
       "      <td>/books/OL34741805M</td>\n",
       "      <td>Cambridge Handbook of Antitrust, Intellectual ...</td>\n",
       "      <td>Cambridge Handbook of Antitrust, Intellectual ...</td>\n",
       "      <td>9781316671313</td>\n",
       "      <td></td>\n",
       "      <td>/books/OL34741805M</td>\n",
       "      <td>/works/OL21147771W</td>\n",
       "      <td>Cambridge University Press</td>\n",
       "      <td>NaN</td>\n",
       "      <td>NaN</td>\n",
       "      <td>NaN</td>\n",
       "      <td>NaN</td>\n",
       "      <td>NaN</td>\n",
       "      <td>NaN</td>\n",
       "      <td>NaN</td>\n",
       "      <td>NaN</td>\n",
       "    </tr>\n",
       "  </tbody>\n",
       "</table>\n",
       "<p>100 rows × 16 columns</p>\n",
       "</div>"
      ]
     },
     "execution_count": 115,
     "metadata": {},
     "output_type": "execute_result"
    }
   ],
   "execution_count": 115
  },
  {
   "metadata": {},
   "cell_type": "markdown",
   "source": "Skimpy does not return anything",
   "id": "d2af8d8315071032"
  },
  {
   "metadata": {
    "ExecuteTime": {
     "end_time": "2025-02-25T15:41:37.167719Z",
     "start_time": "2025-02-25T15:41:37.060147Z"
    }
   },
   "cell_type": "code",
   "source": [
    "from skimpy import skim\n",
    "key_df = pd.DataFrame(key_df).reset_index(drop=True)\n",
    "skim(key_df)"
   ],
   "id": "4e5cf52fe00f3f32",
   "outputs": [
    {
     "data": {
      "text/plain": [
       "╭──────────────────────────────────────────────── skimpy summary ─────────────────────────────────────────────────╮\n",
       "│ \u001B[3m         Data Summary         \u001B[0m \u001B[3m      Data Types       \u001B[0m                                                          │\n",
       "│ ┏━━━━━━━━━━━━━━━━━━━┳━━━━━━━━┓ ┏━━━━━━━━━━━━━┳━━━━━━━┓                                                          │\n",
       "│ ┃\u001B[1;36m \u001B[0m\u001B[1;36mDataframe        \u001B[0m\u001B[1;36m \u001B[0m┃\u001B[1;36m \u001B[0m\u001B[1;36mValues\u001B[0m\u001B[1;36m \u001B[0m┃ ┃\u001B[1;36m \u001B[0m\u001B[1;36mColumn Type\u001B[0m\u001B[1;36m \u001B[0m┃\u001B[1;36m \u001B[0m\u001B[1;36mCount\u001B[0m\u001B[1;36m \u001B[0m┃                                                          │\n",
       "│ ┡━━━━━━━━━━━━━━━━━━━╇━━━━━━━━┩ ┡━━━━━━━━━━━━━╇━━━━━━━┩                                                          │\n",
       "│ │ Number of rows    │ 100    │ │ string      │ 9     │                                                          │\n",
       "│ │ Number of columns │ 13     │ │ object      │ 4     │                                                          │\n",
       "│ └───────────────────┴────────┘ └─────────────┴───────┘                                                          │\n",
       "│ \u001B[3m                                                   All null                                                   \u001B[0m  │\n",
       "│ ┏━━━━━━━━━━━━━━━━━━━━━━━━━━━━━━━━━━━━━━━━━━━━━━━━━━━━━━━━━━━━━━━━━━━━━┳━━━━━━━━━━━━━━━━━┳━━━━━━━━━━━━━━━━━━━━┓  │\n",
       "│ ┃\u001B[1m \u001B[0m\u001B[1mcolumn                                                             \u001B[0m\u001B[1m \u001B[0m┃\u001B[1m \u001B[0m\u001B[1mNA             \u001B[0m\u001B[1m \u001B[0m┃\u001B[1m \u001B[0m\u001B[1mNA %              \u001B[0m\u001B[1m \u001B[0m┃  │\n",
       "│ ┡━━━━━━━━━━━━━━━━━━━━━━━━━━━━━━━━━━━━━━━━━━━━━━━━━━━━━━━━━━━━━━━━━━━━━╇━━━━━━━━━━━━━━━━━╇━━━━━━━━━━━━━━━━━━━━┩  │\n",
       "│ │ \u001B[38;5;141midentifiers.google                                                 \u001B[0m │ \u001B[36m            100\u001B[0m │ \u001B[36m               100\u001B[0m │  │\n",
       "│ │ \u001B[38;5;141midentifiers.amazon                                                 \u001B[0m │ \u001B[36m            100\u001B[0m │ \u001B[36m               100\u001B[0m │  │\n",
       "│ │ \u001B[38;5;141mfirst_sentence                                                     \u001B[0m │ \u001B[36m            100\u001B[0m │ \u001B[36m               100\u001B[0m │  │\n",
       "│ │ \u001B[38;5;141mdescription                                                        \u001B[0m │ \u001B[36m            100\u001B[0m │ \u001B[36m               100\u001B[0m │  │\n",
       "│ └─────────────────────────────────────────────────────────────────────┴─────────────────┴────────────────────┘  │\n",
       "│ \u001B[3m                                                    string                                                    \u001B[0m  │\n",
       "│ ┏━━━━━━━━━━━┳━━━━┳━━━━━━┳━━━━━━━━━━━┳━━━━━━━━━━━┳━━━━━━━━━━━┳━━━━━━━━━━━┳━━━━━━━━━━━┳━━━━━━━━━━━┳━━━━━━━━━━━━┓  │\n",
       "│ ┃\u001B[1m           \u001B[0m┃\u001B[1m    \u001B[0m┃\u001B[1m      \u001B[0m┃\u001B[1m           \u001B[0m┃\u001B[1m           \u001B[0m┃\u001B[1m           \u001B[0m┃\u001B[1m           \u001B[0m┃\u001B[1m \u001B[0m\u001B[1mchars per\u001B[0m\u001B[1m \u001B[0m┃\u001B[1m \u001B[0m\u001B[1mwords per\u001B[0m\u001B[1m \u001B[0m┃\u001B[1m \u001B[0m\u001B[1mtotal     \u001B[0m\u001B[1m \u001B[0m┃  │\n",
       "│ ┃\u001B[1m \u001B[0m\u001B[1mcolumn   \u001B[0m\u001B[1m \u001B[0m┃\u001B[1m \u001B[0m\u001B[1mNA\u001B[0m\u001B[1m \u001B[0m┃\u001B[1m \u001B[0m\u001B[1mNA %\u001B[0m\u001B[1m \u001B[0m┃\u001B[1m \u001B[0m\u001B[1mshortest \u001B[0m\u001B[1m \u001B[0m┃\u001B[1m \u001B[0m\u001B[1mlongest  \u001B[0m\u001B[1m \u001B[0m┃\u001B[1m \u001B[0m\u001B[1mmin      \u001B[0m\u001B[1m \u001B[0m┃\u001B[1m \u001B[0m\u001B[1mmax      \u001B[0m\u001B[1m \u001B[0m┃\u001B[1m \u001B[0m\u001B[1mrow      \u001B[0m\u001B[1m \u001B[0m┃\u001B[1m \u001B[0m\u001B[1mrow      \u001B[0m\u001B[1m \u001B[0m┃\u001B[1m \u001B[0m\u001B[1mwords     \u001B[0m\u001B[1m \u001B[0m┃  │\n",
       "│ ┡━━━━━━━━━━━╇━━━━╇━━━━━━╇━━━━━━━━━━━╇━━━━━━━━━━━╇━━━━━━━━━━━╇━━━━━━━━━━━╇━━━━━━━━━━━╇━━━━━━━━━━━╇━━━━━━━━━━━━┩  │\n",
       "│ │ \u001B[38;5;141mbook_id  \u001B[0m │ \u001B[36m 0\u001B[0m │ \u001B[36m   0\u001B[0m │ \u001B[38;5;141m/books/OL\u001B[0m │ \u001B[38;5;141m/books/OL\u001B[0m │ \u001B[38;5;141m/books/OL\u001B[0m │ \u001B[38;5;141m/books/OL\u001B[0m │ \u001B[36m     17.8\u001B[0m │ \u001B[36m        1\u001B[0m │ \u001B[36m       100\u001B[0m │  │\n",
       "│ │           │    │      │ \u001B[38;5;141m261935M  \u001B[0m │ \u001B[38;5;141m16783561M\u001B[0m │ \u001B[38;5;141m10330306M\u001B[0m │ \u001B[38;5;141m35639242M\u001B[0m │           │           │            │  │\n",
       "│ │ \u001B[38;5;141mtitle    \u001B[0m │ \u001B[36m 0\u001B[0m │ \u001B[36m   0\u001B[0m │ \u001B[38;5;141mWoman    \u001B[0m │ \u001B[38;5;141mWar the  \u001B[0m │ \u001B[38;5;141m3ds Max  \u001B[0m │ \u001B[38;5;141mla mudez \u001B[0m │ \u001B[36m     40.3\u001B[0m │ \u001B[36m        6\u001B[0m │ \u001B[36m       602\u001B[0m │  │\n",
       "│ │           │    │      │           │ \u001B[38;5;141mstumbling\u001B[0m │ \u001B[38;5;141mbang ding\u001B[0m │ \u001B[38;5;141mde las   \u001B[0m │           │           │            │  │\n",
       "│ │           │    │      │           │ \u001B[38;5;141m-block of\u001B[0m │ \u001B[38;5;141mde yi shu\u001B[0m │ \u001B[38;5;141mpiedras  \u001B[0m │           │           │            │  │\n",
       "│ │           │    │      │           │ \u001B[38;5;141ma        \u001B[0m │           │           │           │           │            │  │\n",
       "│ │           │    │      │           │ \u001B[38;5;141mChristian\u001B[0m │           │           │           │           │            │  │\n",
       "│ │           │    │      │           │ \u001B[38;5;141m; or, the\u001B[0m │           │           │           │           │            │  │\n",
       "│ │           │    │      │           │ \u001B[38;5;141mabsurdity\u001B[0m │           │           │           │           │            │  │\n",
       "│ │           │    │      │           │ \u001B[38;5;141mof       \u001B[0m │           │           │           │           │            │  │\n",
       "│ │           │    │      │           │ \u001B[38;5;141mdefending\u001B[0m │           │           │           │           │            │  │\n",
       "│ │           │    │      │           │ \u001B[38;5;141mreligion \u001B[0m │           │           │           │           │            │  │\n",
       "│ │           │    │      │           │ \u001B[38;5;141mby the   \u001B[0m │           │           │           │           │            │  │\n",
       "│ │           │    │      │           │ \u001B[38;5;141msword: a \u001B[0m │           │           │           │           │            │  │\n",
       "│ │           │    │      │           │ \u001B[38;5;141msermon on\u001B[0m │           │           │           │           │            │  │\n",
       "│ │           │    │      │           │ \u001B[38;5;141mthe      \u001B[0m │           │           │           │           │            │  │\n",
       "│ │           │    │      │           │ \u001B[38;5;141mpublic   \u001B[0m │           │           │           │           │            │  │\n",
       "│ │           │    │      │           │ \u001B[38;5;141mfast,    \u001B[0m │           │           │           │           │            │  │\n",
       "│ │           │    │      │           │ \u001B[38;5;141mFebruary \u001B[0m │           │           │           │           │            │  │\n",
       "│ │           │    │      │           │ \u001B[38;5;141m25, 1795.\u001B[0m │           │           │           │           │            │  │\n",
       "│ │           │    │      │           │ \u001B[38;5;141mBy the   \u001B[0m │           │           │           │           │            │  │\n",
       "│ │           │    │      │           │ \u001B[38;5;141mRev. J.  \u001B[0m │           │           │           │           │            │  │\n",
       "│ │           │    │      │           │ \u001B[38;5;141mH.       \u001B[0m │           │           │           │           │            │  │\n",
       "│ │           │    │      │           │ \u001B[38;5;141mWilliams,\u001B[0m │           │           │           │           │            │  │\n",
       "│ │           │    │      │           │ \u001B[38;5;141m...      \u001B[0m │           │           │           │           │            │  │\n",
       "│ │ \u001B[38;5;141mfull_titl\u001B[0m │ \u001B[36m85\u001B[0m │ \u001B[36m  85\u001B[0m │ \u001B[38;5;141mNovelas  \u001B[0m │ \u001B[38;5;141mWorld War\u001B[0m │ \u001B[38;5;141mArchaeolo\u001B[0m │ \u001B[38;5;141mWorld War\u001B[0m │ \u001B[36m     46.7\u001B[0m │ \u001B[36m        1\u001B[0m │ \u001B[36m       102\u001B[0m │  │\n",
       "│ │ \u001B[38;5;141me        \u001B[0m │    │      │           │ \u001B[38;5;141mI        \u001B[0m │ \u001B[38;5;141mgy of    \u001B[0m │ \u001B[38;5;141mI        \u001B[0m │           │           │            │  │\n",
       "│ │           │    │      │           │ \u001B[38;5;141mInspirati\u001B[0m │ \u001B[38;5;141mNihoa and\u001B[0m │ \u001B[38;5;141mInspirati\u001B[0m │           │           │            │  │\n",
       "│ │           │    │      │           │ \u001B[38;5;141mons :    \u001B[0m │ \u001B[38;5;141mNecker   \u001B[0m │ \u001B[38;5;141mons :    \u001B[0m │           │           │            │  │\n",
       "│ │           │    │      │           │ \u001B[38;5;141mMilitary \u001B[0m │ \u001B[38;5;141mIslands  \u001B[0m │ \u001B[38;5;141mMilitary \u001B[0m │           │           │            │  │\n",
       "│ │           │    │      │           │ \u001B[38;5;141mWriters  \u001B[0m │           │ \u001B[38;5;141mWriters  \u001B[0m │           │           │            │  │\n",
       "│ │           │    │      │           │ \u001B[38;5;141mSociety  \u001B[0m │           │ \u001B[38;5;141mSociety  \u001B[0m │           │           │            │  │\n",
       "│ │           │    │      │           │ \u001B[38;5;141mof       \u001B[0m │           │ \u001B[38;5;141mof       \u001B[0m │           │           │            │  │\n",
       "│ │           │    │      │           │ \u001B[38;5;141mAmerica  \u001B[0m │           │ \u001B[38;5;141mAmerica  \u001B[0m │           │           │            │  │\n",
       "│ │           │    │      │           │ \u001B[38;5;141m2018     \u001B[0m │           │ \u001B[38;5;141m2018     \u001B[0m │           │           │            │  │\n",
       "│ │           │    │      │           │ \u001B[38;5;141mAnthology\u001B[0m │           │ \u001B[38;5;141mAnthology\u001B[0m │           │           │            │  │\n",
       "│ │ \u001B[38;5;141misbn_13  \u001B[0m │ \u001B[36m 0\u001B[0m │ \u001B[36m   0\u001B[0m │ \u001B[38;5;141m         \u001B[0m │ \u001B[38;5;141m978841525\u001B[0m │ \u001B[38;5;141m         \u001B[0m │ \u001B[38;5;141m978981109\u001B[0m │ \u001B[36m     5.37\u001B[0m │ \u001B[36m        1\u001B[0m │ \u001B[36m       102\u001B[0m │  │\n",
       "│ │           │    │      │           │ \u001B[38;5;141m5192,    \u001B[0m │           │ \u001B[38;5;141m0639     \u001B[0m │           │           │            │  │\n",
       "│ │           │    │      │           │ \u001B[38;5;141m978841525\u001B[0m │           │           │           │           │            │  │\n",
       "│ │           │    │      │           │ \u001B[38;5;141m5208     \u001B[0m │           │           │           │           │            │  │\n",
       "│ │ \u001B[38;5;141misbn_10  \u001B[0m │ \u001B[36m 0\u001B[0m │ \u001B[36m   0\u001B[0m │ \u001B[38;5;141m         \u001B[0m │ \u001B[38;5;141m981230204\u001B[0m │ \u001B[38;5;141m         \u001B[0m │ \u001B[38;5;141m981230204\u001B[0m │ \u001B[36m     4.94\u001B[0m │ \u001B[36m        1\u001B[0m │ \u001B[36m       102\u001B[0m │  │\n",
       "│ │           │    │      │           │ \u001B[38;5;141m2,       \u001B[0m │           │ \u001B[38;5;141m2,       \u001B[0m │           │           │            │  │\n",
       "│ │           │    │      │           │ \u001B[38;5;141m981230201\u001B[0m │           │ \u001B[38;5;141m981230201\u001B[0m │           │           │            │  │\n",
       "│ │           │    │      │           │ \u001B[38;5;141m8        \u001B[0m │           │ \u001B[38;5;141m8        \u001B[0m │           │           │            │  │\n",
       "│ │ \u001B[38;5;141mkey      \u001B[0m │ \u001B[36m 0\u001B[0m │ \u001B[36m   0\u001B[0m │ \u001B[38;5;141m/books/OL\u001B[0m │ \u001B[38;5;141m/books/OL\u001B[0m │ \u001B[38;5;141m/books/OL\u001B[0m │ \u001B[38;5;141m/books/OL\u001B[0m │ \u001B[36m     17.8\u001B[0m │ \u001B[36m        1\u001B[0m │ \u001B[36m       100\u001B[0m │  │\n",
       "│ │           │    │      │ \u001B[38;5;141m261935M  \u001B[0m │ \u001B[38;5;141m16783561M\u001B[0m │ \u001B[38;5;141m10330306M\u001B[0m │ \u001B[38;5;141m35639242M\u001B[0m │           │           │            │  │\n",
       "│ │ \u001B[38;5;141mworks    \u001B[0m │ \u001B[36m 0\u001B[0m │ \u001B[36m   0\u001B[0m │ \u001B[38;5;141m         \u001B[0m │ \u001B[38;5;141m/works/OL\u001B[0m │ \u001B[38;5;141m         \u001B[0m │ \u001B[38;5;141m/works/OL\u001B[0m │ \u001B[36m     16.5\u001B[0m │ \u001B[36m        1\u001B[0m │ \u001B[36m       100\u001B[0m │  │\n",
       "│ │           │    │      │           │ \u001B[38;5;141m11924670W\u001B[0m │           │ \u001B[38;5;141m9979022W \u001B[0m │           │           │            │  │\n",
       "│ │ \u001B[38;5;141mpublisher\u001B[0m │ \u001B[36m 0\u001B[0m │ \u001B[36m   0\u001B[0m │ \u001B[38;5;141m         \u001B[0m │ \u001B[38;5;141mNational \u001B[0m │ \u001B[38;5;141m         \u001B[0m │ \u001B[38;5;141mprinted  \u001B[0m │ \u001B[36m     24.2\u001B[0m │ \u001B[36m      3.5\u001B[0m │ \u001B[36m       353\u001B[0m │  │\n",
       "│ │ \u001B[38;5;141ms        \u001B[0m │    │      │           │ \u001B[38;5;141mAeronauti\u001B[0m │           │ \u001B[38;5;141mfor G.G. \u001B[0m │           │           │            │  │\n",
       "│ │           │    │      │           │ \u001B[38;5;141mcs and   \u001B[0m │           │ \u001B[38;5;141mand J.   \u001B[0m │           │           │            │  │\n",
       "│ │           │    │      │           │ \u001B[38;5;141mSpace    \u001B[0m │           │ \u001B[38;5;141mRobinson \u001B[0m │           │           │            │  │\n",
       "│ │           │    │      │           │ \u001B[38;5;141mAdministr\u001B[0m │           │           │           │           │            │  │\n",
       "│ │           │    │      │           │ \u001B[38;5;141mation,   \u001B[0m │           │           │           │           │            │  │\n",
       "│ │           │    │      │           │ \u001B[38;5;141mOffice of\u001B[0m │           │           │           │           │            │  │\n",
       "│ │           │    │      │           │ \u001B[38;5;141mManagemen\u001B[0m │           │           │           │           │            │  │\n",
       "│ │           │    │      │           │ \u001B[38;5;141mt,       \u001B[0m │           │           │           │           │            │  │\n",
       "│ │           │    │      │           │ \u001B[38;5;141mScientifi\u001B[0m │           │           │           │           │            │  │\n",
       "│ │           │    │      │           │ \u001B[38;5;141mc and    \u001B[0m │           │           │           │           │            │  │\n",
       "│ │           │    │      │           │ \u001B[38;5;141mTechnical\u001B[0m │           │           │           │           │            │  │\n",
       "│ │           │    │      │           │ \u001B[38;5;141mInformati\u001B[0m │           │           │           │           │            │  │\n",
       "│ │           │    │      │           │ \u001B[38;5;141mon       \u001B[0m │           │           │           │           │            │  │\n",
       "│ │           │    │      │           │ \u001B[38;5;141mProgram, \u001B[0m │           │           │           │           │            │  │\n",
       "│ │           │    │      │           │ \u001B[38;5;141mNational \u001B[0m │           │           │           │           │            │  │\n",
       "│ │           │    │      │           │ \u001B[38;5;141mTechnical\u001B[0m │           │           │           │           │            │  │\n",
       "│ │           │    │      │           │ \u001B[38;5;141mInformati\u001B[0m │           │           │           │           │            │  │\n",
       "│ │           │    │      │           │ \u001B[38;5;141mon       \u001B[0m │           │           │           │           │            │  │\n",
       "│ │           │    │      │           │ \u001B[38;5;141mService, \u001B[0m │           │           │           │           │            │  │\n",
       "│ │           │    │      │           │ \u001B[38;5;141mdistribut\u001B[0m │           │           │           │           │            │  │\n",
       "│ │           │    │      │           │ \u001B[38;5;141mor]      \u001B[0m │           │           │           │           │            │  │\n",
       "│ │ \u001B[38;5;141mpublish_c\u001B[0m │ \u001B[36m33\u001B[0m │ \u001B[36m  33\u001B[0m │ \u001B[38;5;141mkn       \u001B[0m │ \u001B[38;5;141mxxk      \u001B[0m │ \u001B[38;5;141mbl       \u001B[0m │ \u001B[38;5;141mxxu      \u001B[0m │ \u001B[36m     2.91\u001B[0m │ \u001B[36m     0.89\u001B[0m │ \u001B[36m        89\u001B[0m │  │\n",
       "│ │ \u001B[38;5;141mountry   \u001B[0m │    │      │           │           │           │           │           │           │            │  │\n",
       "│ └───────────┴────┴──────┴───────────┴───────────┴───────────┴───────────┴───────────┴───────────┴────────────┘  │\n",
       "╰────────────────────────────────────────────────────── End ──────────────────────────────────────────────────────╯\n"
      ],
      "text/html": [
       "<pre style=\"white-space:pre;overflow-x:auto;line-height:normal;font-family:Menlo,'DejaVu Sans Mono',consolas,'Courier New',monospace\">╭──────────────────────────────────────────────── skimpy summary ─────────────────────────────────────────────────╮\n",
       "│ <span style=\"font-style: italic\">         Data Summary         </span> <span style=\"font-style: italic\">      Data Types       </span>                                                          │\n",
       "│ ┏━━━━━━━━━━━━━━━━━━━┳━━━━━━━━┓ ┏━━━━━━━━━━━━━┳━━━━━━━┓                                                          │\n",
       "│ ┃<span style=\"color: #008080; text-decoration-color: #008080; font-weight: bold\"> Dataframe         </span>┃<span style=\"color: #008080; text-decoration-color: #008080; font-weight: bold\"> Values </span>┃ ┃<span style=\"color: #008080; text-decoration-color: #008080; font-weight: bold\"> Column Type </span>┃<span style=\"color: #008080; text-decoration-color: #008080; font-weight: bold\"> Count </span>┃                                                          │\n",
       "│ ┡━━━━━━━━━━━━━━━━━━━╇━━━━━━━━┩ ┡━━━━━━━━━━━━━╇━━━━━━━┩                                                          │\n",
       "│ │ Number of rows    │ 100    │ │ string      │ 9     │                                                          │\n",
       "│ │ Number of columns │ 13     │ │ object      │ 4     │                                                          │\n",
       "│ └───────────────────┴────────┘ └─────────────┴───────┘                                                          │\n",
       "│ <span style=\"font-style: italic\">                                                   All null                                                   </span>  │\n",
       "│ ┏━━━━━━━━━━━━━━━━━━━━━━━━━━━━━━━━━━━━━━━━━━━━━━━━━━━━━━━━━━━━━━━━━━━━━┳━━━━━━━━━━━━━━━━━┳━━━━━━━━━━━━━━━━━━━━┓  │\n",
       "│ ┃<span style=\"font-weight: bold\"> column                                                              </span>┃<span style=\"font-weight: bold\"> NA              </span>┃<span style=\"font-weight: bold\"> NA %               </span>┃  │\n",
       "│ ┡━━━━━━━━━━━━━━━━━━━━━━━━━━━━━━━━━━━━━━━━━━━━━━━━━━━━━━━━━━━━━━━━━━━━━╇━━━━━━━━━━━━━━━━━╇━━━━━━━━━━━━━━━━━━━━┩  │\n",
       "│ │ <span style=\"color: #af87ff; text-decoration-color: #af87ff\">identifiers.google                                                 </span> │ <span style=\"color: #008080; text-decoration-color: #008080\">            100</span> │ <span style=\"color: #008080; text-decoration-color: #008080\">               100</span> │  │\n",
       "│ │ <span style=\"color: #af87ff; text-decoration-color: #af87ff\">identifiers.amazon                                                 </span> │ <span style=\"color: #008080; text-decoration-color: #008080\">            100</span> │ <span style=\"color: #008080; text-decoration-color: #008080\">               100</span> │  │\n",
       "│ │ <span style=\"color: #af87ff; text-decoration-color: #af87ff\">first_sentence                                                     </span> │ <span style=\"color: #008080; text-decoration-color: #008080\">            100</span> │ <span style=\"color: #008080; text-decoration-color: #008080\">               100</span> │  │\n",
       "│ │ <span style=\"color: #af87ff; text-decoration-color: #af87ff\">description                                                        </span> │ <span style=\"color: #008080; text-decoration-color: #008080\">            100</span> │ <span style=\"color: #008080; text-decoration-color: #008080\">               100</span> │  │\n",
       "│ └─────────────────────────────────────────────────────────────────────┴─────────────────┴────────────────────┘  │\n",
       "│ <span style=\"font-style: italic\">                                                    string                                                    </span>  │\n",
       "│ ┏━━━━━━━━━━━┳━━━━┳━━━━━━┳━━━━━━━━━━━┳━━━━━━━━━━━┳━━━━━━━━━━━┳━━━━━━━━━━━┳━━━━━━━━━━━┳━━━━━━━━━━━┳━━━━━━━━━━━━┓  │\n",
       "│ ┃<span style=\"font-weight: bold\">           </span>┃<span style=\"font-weight: bold\">    </span>┃<span style=\"font-weight: bold\">      </span>┃<span style=\"font-weight: bold\">           </span>┃<span style=\"font-weight: bold\">           </span>┃<span style=\"font-weight: bold\">           </span>┃<span style=\"font-weight: bold\">           </span>┃<span style=\"font-weight: bold\"> chars per </span>┃<span style=\"font-weight: bold\"> words per </span>┃<span style=\"font-weight: bold\"> total      </span>┃  │\n",
       "│ ┃<span style=\"font-weight: bold\"> column    </span>┃<span style=\"font-weight: bold\"> NA </span>┃<span style=\"font-weight: bold\"> NA % </span>┃<span style=\"font-weight: bold\"> shortest  </span>┃<span style=\"font-weight: bold\"> longest   </span>┃<span style=\"font-weight: bold\"> min       </span>┃<span style=\"font-weight: bold\"> max       </span>┃<span style=\"font-weight: bold\"> row       </span>┃<span style=\"font-weight: bold\"> row       </span>┃<span style=\"font-weight: bold\"> words      </span>┃  │\n",
       "│ ┡━━━━━━━━━━━╇━━━━╇━━━━━━╇━━━━━━━━━━━╇━━━━━━━━━━━╇━━━━━━━━━━━╇━━━━━━━━━━━╇━━━━━━━━━━━╇━━━━━━━━━━━╇━━━━━━━━━━━━┩  │\n",
       "│ │ <span style=\"color: #af87ff; text-decoration-color: #af87ff\">book_id  </span> │ <span style=\"color: #008080; text-decoration-color: #008080\"> 0</span> │ <span style=\"color: #008080; text-decoration-color: #008080\">   0</span> │ <span style=\"color: #af87ff; text-decoration-color: #af87ff\">/books/OL</span> │ <span style=\"color: #af87ff; text-decoration-color: #af87ff\">/books/OL</span> │ <span style=\"color: #af87ff; text-decoration-color: #af87ff\">/books/OL</span> │ <span style=\"color: #af87ff; text-decoration-color: #af87ff\">/books/OL</span> │ <span style=\"color: #008080; text-decoration-color: #008080\">     17.8</span> │ <span style=\"color: #008080; text-decoration-color: #008080\">        1</span> │ <span style=\"color: #008080; text-decoration-color: #008080\">       100</span> │  │\n",
       "│ │           │    │      │ <span style=\"color: #af87ff; text-decoration-color: #af87ff\">261935M  </span> │ <span style=\"color: #af87ff; text-decoration-color: #af87ff\">16783561M</span> │ <span style=\"color: #af87ff; text-decoration-color: #af87ff\">10330306M</span> │ <span style=\"color: #af87ff; text-decoration-color: #af87ff\">35639242M</span> │           │           │            │  │\n",
       "│ │ <span style=\"color: #af87ff; text-decoration-color: #af87ff\">title    </span> │ <span style=\"color: #008080; text-decoration-color: #008080\"> 0</span> │ <span style=\"color: #008080; text-decoration-color: #008080\">   0</span> │ <span style=\"color: #af87ff; text-decoration-color: #af87ff\">Woman    </span> │ <span style=\"color: #af87ff; text-decoration-color: #af87ff\">War the  </span> │ <span style=\"color: #af87ff; text-decoration-color: #af87ff\">3ds Max  </span> │ <span style=\"color: #af87ff; text-decoration-color: #af87ff\">la mudez </span> │ <span style=\"color: #008080; text-decoration-color: #008080\">     40.3</span> │ <span style=\"color: #008080; text-decoration-color: #008080\">        6</span> │ <span style=\"color: #008080; text-decoration-color: #008080\">       602</span> │  │\n",
       "│ │           │    │      │           │ <span style=\"color: #af87ff; text-decoration-color: #af87ff\">stumbling</span> │ <span style=\"color: #af87ff; text-decoration-color: #af87ff\">bang ding</span> │ <span style=\"color: #af87ff; text-decoration-color: #af87ff\">de las   </span> │           │           │            │  │\n",
       "│ │           │    │      │           │ <span style=\"color: #af87ff; text-decoration-color: #af87ff\">-block of</span> │ <span style=\"color: #af87ff; text-decoration-color: #af87ff\">de yi shu</span> │ <span style=\"color: #af87ff; text-decoration-color: #af87ff\">piedras  </span> │           │           │            │  │\n",
       "│ │           │    │      │           │ <span style=\"color: #af87ff; text-decoration-color: #af87ff\">a        </span> │           │           │           │           │            │  │\n",
       "│ │           │    │      │           │ <span style=\"color: #af87ff; text-decoration-color: #af87ff\">Christian</span> │           │           │           │           │            │  │\n",
       "│ │           │    │      │           │ <span style=\"color: #af87ff; text-decoration-color: #af87ff\">; or, the</span> │           │           │           │           │            │  │\n",
       "│ │           │    │      │           │ <span style=\"color: #af87ff; text-decoration-color: #af87ff\">absurdity</span> │           │           │           │           │            │  │\n",
       "│ │           │    │      │           │ <span style=\"color: #af87ff; text-decoration-color: #af87ff\">of       </span> │           │           │           │           │            │  │\n",
       "│ │           │    │      │           │ <span style=\"color: #af87ff; text-decoration-color: #af87ff\">defending</span> │           │           │           │           │            │  │\n",
       "│ │           │    │      │           │ <span style=\"color: #af87ff; text-decoration-color: #af87ff\">religion </span> │           │           │           │           │            │  │\n",
       "│ │           │    │      │           │ <span style=\"color: #af87ff; text-decoration-color: #af87ff\">by the   </span> │           │           │           │           │            │  │\n",
       "│ │           │    │      │           │ <span style=\"color: #af87ff; text-decoration-color: #af87ff\">sword: a </span> │           │           │           │           │            │  │\n",
       "│ │           │    │      │           │ <span style=\"color: #af87ff; text-decoration-color: #af87ff\">sermon on</span> │           │           │           │           │            │  │\n",
       "│ │           │    │      │           │ <span style=\"color: #af87ff; text-decoration-color: #af87ff\">the      </span> │           │           │           │           │            │  │\n",
       "│ │           │    │      │           │ <span style=\"color: #af87ff; text-decoration-color: #af87ff\">public   </span> │           │           │           │           │            │  │\n",
       "│ │           │    │      │           │ <span style=\"color: #af87ff; text-decoration-color: #af87ff\">fast,    </span> │           │           │           │           │            │  │\n",
       "│ │           │    │      │           │ <span style=\"color: #af87ff; text-decoration-color: #af87ff\">February </span> │           │           │           │           │            │  │\n",
       "│ │           │    │      │           │ <span style=\"color: #af87ff; text-decoration-color: #af87ff\">25, 1795.</span> │           │           │           │           │            │  │\n",
       "│ │           │    │      │           │ <span style=\"color: #af87ff; text-decoration-color: #af87ff\">By the   </span> │           │           │           │           │            │  │\n",
       "│ │           │    │      │           │ <span style=\"color: #af87ff; text-decoration-color: #af87ff\">Rev. J.  </span> │           │           │           │           │            │  │\n",
       "│ │           │    │      │           │ <span style=\"color: #af87ff; text-decoration-color: #af87ff\">H.       </span> │           │           │           │           │            │  │\n",
       "│ │           │    │      │           │ <span style=\"color: #af87ff; text-decoration-color: #af87ff\">Williams,</span> │           │           │           │           │            │  │\n",
       "│ │           │    │      │           │ <span style=\"color: #af87ff; text-decoration-color: #af87ff\">...      </span> │           │           │           │           │            │  │\n",
       "│ │ <span style=\"color: #af87ff; text-decoration-color: #af87ff\">full_titl</span> │ <span style=\"color: #008080; text-decoration-color: #008080\">85</span> │ <span style=\"color: #008080; text-decoration-color: #008080\">  85</span> │ <span style=\"color: #af87ff; text-decoration-color: #af87ff\">Novelas  </span> │ <span style=\"color: #af87ff; text-decoration-color: #af87ff\">World War</span> │ <span style=\"color: #af87ff; text-decoration-color: #af87ff\">Archaeolo</span> │ <span style=\"color: #af87ff; text-decoration-color: #af87ff\">World War</span> │ <span style=\"color: #008080; text-decoration-color: #008080\">     46.7</span> │ <span style=\"color: #008080; text-decoration-color: #008080\">        1</span> │ <span style=\"color: #008080; text-decoration-color: #008080\">       102</span> │  │\n",
       "│ │ <span style=\"color: #af87ff; text-decoration-color: #af87ff\">e        </span> │    │      │           │ <span style=\"color: #af87ff; text-decoration-color: #af87ff\">I        </span> │ <span style=\"color: #af87ff; text-decoration-color: #af87ff\">gy of    </span> │ <span style=\"color: #af87ff; text-decoration-color: #af87ff\">I        </span> │           │           │            │  │\n",
       "│ │           │    │      │           │ <span style=\"color: #af87ff; text-decoration-color: #af87ff\">Inspirati</span> │ <span style=\"color: #af87ff; text-decoration-color: #af87ff\">Nihoa and</span> │ <span style=\"color: #af87ff; text-decoration-color: #af87ff\">Inspirati</span> │           │           │            │  │\n",
       "│ │           │    │      │           │ <span style=\"color: #af87ff; text-decoration-color: #af87ff\">ons :    </span> │ <span style=\"color: #af87ff; text-decoration-color: #af87ff\">Necker   </span> │ <span style=\"color: #af87ff; text-decoration-color: #af87ff\">ons :    </span> │           │           │            │  │\n",
       "│ │           │    │      │           │ <span style=\"color: #af87ff; text-decoration-color: #af87ff\">Military </span> │ <span style=\"color: #af87ff; text-decoration-color: #af87ff\">Islands  </span> │ <span style=\"color: #af87ff; text-decoration-color: #af87ff\">Military </span> │           │           │            │  │\n",
       "│ │           │    │      │           │ <span style=\"color: #af87ff; text-decoration-color: #af87ff\">Writers  </span> │           │ <span style=\"color: #af87ff; text-decoration-color: #af87ff\">Writers  </span> │           │           │            │  │\n",
       "│ │           │    │      │           │ <span style=\"color: #af87ff; text-decoration-color: #af87ff\">Society  </span> │           │ <span style=\"color: #af87ff; text-decoration-color: #af87ff\">Society  </span> │           │           │            │  │\n",
       "│ │           │    │      │           │ <span style=\"color: #af87ff; text-decoration-color: #af87ff\">of       </span> │           │ <span style=\"color: #af87ff; text-decoration-color: #af87ff\">of       </span> │           │           │            │  │\n",
       "│ │           │    │      │           │ <span style=\"color: #af87ff; text-decoration-color: #af87ff\">America  </span> │           │ <span style=\"color: #af87ff; text-decoration-color: #af87ff\">America  </span> │           │           │            │  │\n",
       "│ │           │    │      │           │ <span style=\"color: #af87ff; text-decoration-color: #af87ff\">2018     </span> │           │ <span style=\"color: #af87ff; text-decoration-color: #af87ff\">2018     </span> │           │           │            │  │\n",
       "│ │           │    │      │           │ <span style=\"color: #af87ff; text-decoration-color: #af87ff\">Anthology</span> │           │ <span style=\"color: #af87ff; text-decoration-color: #af87ff\">Anthology</span> │           │           │            │  │\n",
       "│ │ <span style=\"color: #af87ff; text-decoration-color: #af87ff\">isbn_13  </span> │ <span style=\"color: #008080; text-decoration-color: #008080\"> 0</span> │ <span style=\"color: #008080; text-decoration-color: #008080\">   0</span> │ <span style=\"color: #af87ff; text-decoration-color: #af87ff\">         </span> │ <span style=\"color: #af87ff; text-decoration-color: #af87ff\">978841525</span> │ <span style=\"color: #af87ff; text-decoration-color: #af87ff\">         </span> │ <span style=\"color: #af87ff; text-decoration-color: #af87ff\">978981109</span> │ <span style=\"color: #008080; text-decoration-color: #008080\">     5.37</span> │ <span style=\"color: #008080; text-decoration-color: #008080\">        1</span> │ <span style=\"color: #008080; text-decoration-color: #008080\">       102</span> │  │\n",
       "│ │           │    │      │           │ <span style=\"color: #af87ff; text-decoration-color: #af87ff\">5192,    </span> │           │ <span style=\"color: #af87ff; text-decoration-color: #af87ff\">0639     </span> │           │           │            │  │\n",
       "│ │           │    │      │           │ <span style=\"color: #af87ff; text-decoration-color: #af87ff\">978841525</span> │           │           │           │           │            │  │\n",
       "│ │           │    │      │           │ <span style=\"color: #af87ff; text-decoration-color: #af87ff\">5208     </span> │           │           │           │           │            │  │\n",
       "│ │ <span style=\"color: #af87ff; text-decoration-color: #af87ff\">isbn_10  </span> │ <span style=\"color: #008080; text-decoration-color: #008080\"> 0</span> │ <span style=\"color: #008080; text-decoration-color: #008080\">   0</span> │ <span style=\"color: #af87ff; text-decoration-color: #af87ff\">         </span> │ <span style=\"color: #af87ff; text-decoration-color: #af87ff\">981230204</span> │ <span style=\"color: #af87ff; text-decoration-color: #af87ff\">         </span> │ <span style=\"color: #af87ff; text-decoration-color: #af87ff\">981230204</span> │ <span style=\"color: #008080; text-decoration-color: #008080\">     4.94</span> │ <span style=\"color: #008080; text-decoration-color: #008080\">        1</span> │ <span style=\"color: #008080; text-decoration-color: #008080\">       102</span> │  │\n",
       "│ │           │    │      │           │ <span style=\"color: #af87ff; text-decoration-color: #af87ff\">2,       </span> │           │ <span style=\"color: #af87ff; text-decoration-color: #af87ff\">2,       </span> │           │           │            │  │\n",
       "│ │           │    │      │           │ <span style=\"color: #af87ff; text-decoration-color: #af87ff\">981230201</span> │           │ <span style=\"color: #af87ff; text-decoration-color: #af87ff\">981230201</span> │           │           │            │  │\n",
       "│ │           │    │      │           │ <span style=\"color: #af87ff; text-decoration-color: #af87ff\">8        </span> │           │ <span style=\"color: #af87ff; text-decoration-color: #af87ff\">8        </span> │           │           │            │  │\n",
       "│ │ <span style=\"color: #af87ff; text-decoration-color: #af87ff\">key      </span> │ <span style=\"color: #008080; text-decoration-color: #008080\"> 0</span> │ <span style=\"color: #008080; text-decoration-color: #008080\">   0</span> │ <span style=\"color: #af87ff; text-decoration-color: #af87ff\">/books/OL</span> │ <span style=\"color: #af87ff; text-decoration-color: #af87ff\">/books/OL</span> │ <span style=\"color: #af87ff; text-decoration-color: #af87ff\">/books/OL</span> │ <span style=\"color: #af87ff; text-decoration-color: #af87ff\">/books/OL</span> │ <span style=\"color: #008080; text-decoration-color: #008080\">     17.8</span> │ <span style=\"color: #008080; text-decoration-color: #008080\">        1</span> │ <span style=\"color: #008080; text-decoration-color: #008080\">       100</span> │  │\n",
       "│ │           │    │      │ <span style=\"color: #af87ff; text-decoration-color: #af87ff\">261935M  </span> │ <span style=\"color: #af87ff; text-decoration-color: #af87ff\">16783561M</span> │ <span style=\"color: #af87ff; text-decoration-color: #af87ff\">10330306M</span> │ <span style=\"color: #af87ff; text-decoration-color: #af87ff\">35639242M</span> │           │           │            │  │\n",
       "│ │ <span style=\"color: #af87ff; text-decoration-color: #af87ff\">works    </span> │ <span style=\"color: #008080; text-decoration-color: #008080\"> 0</span> │ <span style=\"color: #008080; text-decoration-color: #008080\">   0</span> │ <span style=\"color: #af87ff; text-decoration-color: #af87ff\">         </span> │ <span style=\"color: #af87ff; text-decoration-color: #af87ff\">/works/OL</span> │ <span style=\"color: #af87ff; text-decoration-color: #af87ff\">         </span> │ <span style=\"color: #af87ff; text-decoration-color: #af87ff\">/works/OL</span> │ <span style=\"color: #008080; text-decoration-color: #008080\">     16.5</span> │ <span style=\"color: #008080; text-decoration-color: #008080\">        1</span> │ <span style=\"color: #008080; text-decoration-color: #008080\">       100</span> │  │\n",
       "│ │           │    │      │           │ <span style=\"color: #af87ff; text-decoration-color: #af87ff\">11924670W</span> │           │ <span style=\"color: #af87ff; text-decoration-color: #af87ff\">9979022W </span> │           │           │            │  │\n",
       "│ │ <span style=\"color: #af87ff; text-decoration-color: #af87ff\">publisher</span> │ <span style=\"color: #008080; text-decoration-color: #008080\"> 0</span> │ <span style=\"color: #008080; text-decoration-color: #008080\">   0</span> │ <span style=\"color: #af87ff; text-decoration-color: #af87ff\">         </span> │ <span style=\"color: #af87ff; text-decoration-color: #af87ff\">National </span> │ <span style=\"color: #af87ff; text-decoration-color: #af87ff\">         </span> │ <span style=\"color: #af87ff; text-decoration-color: #af87ff\">printed  </span> │ <span style=\"color: #008080; text-decoration-color: #008080\">     24.2</span> │ <span style=\"color: #008080; text-decoration-color: #008080\">      3.5</span> │ <span style=\"color: #008080; text-decoration-color: #008080\">       353</span> │  │\n",
       "│ │ <span style=\"color: #af87ff; text-decoration-color: #af87ff\">s        </span> │    │      │           │ <span style=\"color: #af87ff; text-decoration-color: #af87ff\">Aeronauti</span> │           │ <span style=\"color: #af87ff; text-decoration-color: #af87ff\">for G.G. </span> │           │           │            │  │\n",
       "│ │           │    │      │           │ <span style=\"color: #af87ff; text-decoration-color: #af87ff\">cs and   </span> │           │ <span style=\"color: #af87ff; text-decoration-color: #af87ff\">and J.   </span> │           │           │            │  │\n",
       "│ │           │    │      │           │ <span style=\"color: #af87ff; text-decoration-color: #af87ff\">Space    </span> │           │ <span style=\"color: #af87ff; text-decoration-color: #af87ff\">Robinson </span> │           │           │            │  │\n",
       "│ │           │    │      │           │ <span style=\"color: #af87ff; text-decoration-color: #af87ff\">Administr</span> │           │           │           │           │            │  │\n",
       "│ │           │    │      │           │ <span style=\"color: #af87ff; text-decoration-color: #af87ff\">ation,   </span> │           │           │           │           │            │  │\n",
       "│ │           │    │      │           │ <span style=\"color: #af87ff; text-decoration-color: #af87ff\">Office of</span> │           │           │           │           │            │  │\n",
       "│ │           │    │      │           │ <span style=\"color: #af87ff; text-decoration-color: #af87ff\">Managemen</span> │           │           │           │           │            │  │\n",
       "│ │           │    │      │           │ <span style=\"color: #af87ff; text-decoration-color: #af87ff\">t,       </span> │           │           │           │           │            │  │\n",
       "│ │           │    │      │           │ <span style=\"color: #af87ff; text-decoration-color: #af87ff\">Scientifi</span> │           │           │           │           │            │  │\n",
       "│ │           │    │      │           │ <span style=\"color: #af87ff; text-decoration-color: #af87ff\">c and    </span> │           │           │           │           │            │  │\n",
       "│ │           │    │      │           │ <span style=\"color: #af87ff; text-decoration-color: #af87ff\">Technical</span> │           │           │           │           │            │  │\n",
       "│ │           │    │      │           │ <span style=\"color: #af87ff; text-decoration-color: #af87ff\">Informati</span> │           │           │           │           │            │  │\n",
       "│ │           │    │      │           │ <span style=\"color: #af87ff; text-decoration-color: #af87ff\">on       </span> │           │           │           │           │            │  │\n",
       "│ │           │    │      │           │ <span style=\"color: #af87ff; text-decoration-color: #af87ff\">Program, </span> │           │           │           │           │            │  │\n",
       "│ │           │    │      │           │ <span style=\"color: #af87ff; text-decoration-color: #af87ff\">National </span> │           │           │           │           │            │  │\n",
       "│ │           │    │      │           │ <span style=\"color: #af87ff; text-decoration-color: #af87ff\">Technical</span> │           │           │           │           │            │  │\n",
       "│ │           │    │      │           │ <span style=\"color: #af87ff; text-decoration-color: #af87ff\">Informati</span> │           │           │           │           │            │  │\n",
       "│ │           │    │      │           │ <span style=\"color: #af87ff; text-decoration-color: #af87ff\">on       </span> │           │           │           │           │            │  │\n",
       "│ │           │    │      │           │ <span style=\"color: #af87ff; text-decoration-color: #af87ff\">Service, </span> │           │           │           │           │            │  │\n",
       "│ │           │    │      │           │ <span style=\"color: #af87ff; text-decoration-color: #af87ff\">distribut</span> │           │           │           │           │            │  │\n",
       "│ │           │    │      │           │ <span style=\"color: #af87ff; text-decoration-color: #af87ff\">or]      </span> │           │           │           │           │            │  │\n",
       "│ │ <span style=\"color: #af87ff; text-decoration-color: #af87ff\">publish_c</span> │ <span style=\"color: #008080; text-decoration-color: #008080\">33</span> │ <span style=\"color: #008080; text-decoration-color: #008080\">  33</span> │ <span style=\"color: #af87ff; text-decoration-color: #af87ff\">kn       </span> │ <span style=\"color: #af87ff; text-decoration-color: #af87ff\">xxk      </span> │ <span style=\"color: #af87ff; text-decoration-color: #af87ff\">bl       </span> │ <span style=\"color: #af87ff; text-decoration-color: #af87ff\">xxu      </span> │ <span style=\"color: #008080; text-decoration-color: #008080\">     2.91</span> │ <span style=\"color: #008080; text-decoration-color: #008080\">     0.89</span> │ <span style=\"color: #008080; text-decoration-color: #008080\">        89</span> │  │\n",
       "│ │ <span style=\"color: #af87ff; text-decoration-color: #af87ff\">ountry   </span> │    │      │           │           │           │           │           │           │            │  │\n",
       "│ └───────────┴────┴──────┴───────────┴───────────┴───────────┴───────────┴───────────┴───────────┴────────────┘  │\n",
       "╰────────────────────────────────────────────────────── End ──────────────────────────────────────────────────────╯\n",
       "</pre>\n"
      ]
     },
     "metadata": {},
     "output_type": "display_data"
    }
   ],
   "execution_count": 116
  },
  {
   "metadata": {},
   "cell_type": "markdown",
   "source": "",
   "id": "70b6ca55829d90ae"
  },
  {
   "metadata": {
    "ExecuteTime": {
     "end_time": "2025-02-25T15:41:38.071408Z",
     "start_time": "2025-02-25T15:41:38.043745Z"
    }
   },
   "cell_type": "code",
   "source": [
    "total_book_ids = filtered_df[\"book_id\"].count()\n",
    "\n",
    "unique_book_ids = filtered_df[\"book_id\"].nunique()\n",
    "\n",
    "# Print the results\n",
    "print(f\"Total book_id values: {total_book_ids}\")\n",
    "print(f\"Unique book_id values: {unique_book_ids}\")\n"
   ],
   "id": "7e2bef2871ccaec0",
   "outputs": [
    {
     "name": "stdout",
     "output_type": "stream",
     "text": [
      "Total book_id values: 100000\n",
      "Unique book_id values: 100000\n"
     ]
    }
   ],
   "execution_count": 117
  },
  {
   "metadata": {
    "ExecuteTime": {
     "end_time": "2025-02-25T15:41:39.542938Z",
     "start_time": "2025-02-25T15:41:39.488322Z"
    }
   },
   "cell_type": "code",
   "source": [
    "total_works = filtered_df[\"works\"].count()\n",
    "\n",
    "unique_works = filtered_df[\"works\"].nunique()\n",
    "\n",
    "print(f\"Total works values: {total_works}\")\n",
    "print(f\"Unique works values: {unique_works}\")\n"
   ],
   "id": "c23d0a419f376af5",
   "outputs": [
    {
     "name": "stdout",
     "output_type": "stream",
     "text": [
      "Total works values: 100000\n",
      "Unique works values: 92309\n"
     ]
    }
   ],
   "execution_count": 118
  },
  {
   "metadata": {
    "ExecuteTime": {
     "end_time": "2025-02-25T14:16:00.524870Z",
     "start_time": "2025-02-25T14:16:00.497894Z"
    }
   },
   "cell_type": "code",
   "source": [
    "# skim the data\n",
    "from skimpy import skim\n",
    "filtered_df = pd.DataFrame(filtered_df)\n",
    "\n",
    "\n",
    "# Sample 100 rows and reset index correctly\n",
    "test_df = filtered_df.sample(100, random_state=42).reset_index(drop=True)\n",
    "test_df"
   ],
   "id": "727d402d7efcac9c",
   "outputs": [
    {
     "data": {
      "text/plain": [
       "               book_id                                              title  \\\n",
       "0   /books/OL11458883M  Hotel & Restaurant Dictionary  Fachworterbuch ...   \n",
       "1   /books/OL11088269M      Mary Higgins Clark Presents Malice Domestic 2   \n",
       "2   /books/OL10401622M   The 2007-2012 Outlook for Indian Breads in Japan   \n",
       "3   /books/OL11102775M                        Pregnancy-Care & Physiology   \n",
       "4   /books/OL11050043M                                    Harvard Planner   \n",
       "..                 ...                                                ...   \n",
       "95  /books/OL10887803M  2000 Import and Export Market for Nickel in Vi...   \n",
       "96  /books/OL12136146M                  Win HMO/PPO Combo Pack with CDROM   \n",
       "97  /books/OL11824378M                           The Rover Boys at School   \n",
       "98  /books/OL11754548M                              The Inside Of The Cup   \n",
       "99  /books/OL11683662M                      Waste A Tragedy, In Four Acts   \n",
       "\n",
       "   full_title        isbn_13     isbn_10                 key  \\\n",
       "0         NaN  9780828814782  0828814783  /books/OL11458883M   \n",
       "1         NaN  9780787105693  0787105694  /books/OL11088269M   \n",
       "2         NaN  9780497467661  0497467666  /books/OL10401622M   \n",
       "3         NaN  9780788301896  0788301896  /books/OL11102775M   \n",
       "4         NaN  9780865020580  0865020582  /books/OL11050043M   \n",
       "..        ...            ...         ...                 ...   \n",
       "95        NaN  9780597709159  0597709157  /books/OL10887803M   \n",
       "96        NaN  9781563633201  1563633205  /books/OL12136146M   \n",
       "97        NaN  9781421841328  1421841320  /books/OL11824378M   \n",
       "98        NaN  9781414284859  1414284853  /books/OL11754548M   \n",
       "99        NaN  9781406915808  1406915807  /books/OL11683662M   \n",
       "\n",
       "                 works                            publishers  \\\n",
       "0    /works/OL9250608W               French & European Pubns   \n",
       "1   /works/OL31189742W                      Audio Literature   \n",
       "2    /works/OL3309893W        ICON Group International, Inc.   \n",
       "3    /works/OL9542721W        Abbe Pub Assn of Washington Dc   \n",
       "4    /works/OL9155050W                         Executive.org   \n",
       "..                 ...                                   ...   \n",
       "95   /works/OL9461531W              Icon Group International   \n",
       "96   /works/OL8539593W                    Thomson Healthcare   \n",
       "97    /works/OL234952W  1st World Library - Literary Society   \n",
       "98  /works/OL18521604W                       IndyPublish.com   \n",
       "99   /works/OL9330709W                            Hard Press   \n",
       "\n",
       "          publish_date publish_country  ... identifiers.google  \\\n",
       "0      October 1, 1981             NaN  ...                NaN   \n",
       "1            July 1996             NaN  ...                NaN   \n",
       "2   September 28, 2006             NaN  ...                NaN   \n",
       "3            June 1994             NaN  ...                NaN   \n",
       "4    December 21, 1994             NaN  ...                NaN   \n",
       "..                 ...             ...  ...                ...   \n",
       "95        January 2001             NaN  ...                NaN   \n",
       "96        October 1998             NaN  ...                NaN   \n",
       "97       June 15, 2007             NaN  ...                NaN   \n",
       "98        May 31, 2004             NaN  ...                NaN   \n",
       "99    November 3, 2006             NaN  ...                NaN   \n",
       "\n",
       "    identifiers.amazon identifiers.doi identifiers.wikidata  \\\n",
       "0                  NaN             NaN                  NaN   \n",
       "1                  NaN             NaN                  NaN   \n",
       "2                  NaN             NaN                  NaN   \n",
       "3                  NaN             NaN                  NaN   \n",
       "4                  NaN             NaN                  NaN   \n",
       "..                 ...             ...                  ...   \n",
       "95                 NaN             NaN                  NaN   \n",
       "96                 NaN             NaN                  NaN   \n",
       "97                 NaN             NaN                  NaN   \n",
       "98                 NaN             NaN                  NaN   \n",
       "99                 NaN             NaN                  NaN   \n",
       "\n",
       "   identifiers.librarything identifiers.better_world_books  url  \\\n",
       "0                       NaN                            NaN  NaN   \n",
       "1                  [359866]                            NaN  NaN   \n",
       "2                       NaN                            NaN  NaN   \n",
       "3                       NaN                            NaN  NaN   \n",
       "4                       NaN                            NaN  NaN   \n",
       "..                      ...                            ...  ...   \n",
       "95                      NaN                            NaN  NaN   \n",
       "96                      NaN                            NaN  NaN   \n",
       "97                      NaN                            NaN  NaN   \n",
       "98                      NaN                            NaN  NaN   \n",
       "99                      NaN                            NaN  NaN   \n",
       "\n",
       "   first_sentence description table_of_contents  \n",
       "0             NaN         NaN               NaN  \n",
       "1             NaN         NaN               NaN  \n",
       "2             NaN         NaN               NaN  \n",
       "3             NaN         NaN               NaN  \n",
       "4             NaN         NaN               NaN  \n",
       "..            ...         ...               ...  \n",
       "95            NaN         NaN               NaN  \n",
       "96            NaN         NaN               NaN  \n",
       "97            NaN         NaN               NaN  \n",
       "98            NaN         NaN               NaN  \n",
       "99            NaN         NaN               NaN  \n",
       "\n",
       "[100 rows x 32 columns]"
      ],
      "text/html": [
       "<div>\n",
       "<style scoped>\n",
       "    .dataframe tbody tr th:only-of-type {\n",
       "        vertical-align: middle;\n",
       "    }\n",
       "\n",
       "    .dataframe tbody tr th {\n",
       "        vertical-align: top;\n",
       "    }\n",
       "\n",
       "    .dataframe thead th {\n",
       "        text-align: right;\n",
       "    }\n",
       "</style>\n",
       "<table border=\"1\" class=\"dataframe\">\n",
       "  <thead>\n",
       "    <tr style=\"text-align: right;\">\n",
       "      <th></th>\n",
       "      <th>book_id</th>\n",
       "      <th>title</th>\n",
       "      <th>full_title</th>\n",
       "      <th>isbn_13</th>\n",
       "      <th>isbn_10</th>\n",
       "      <th>key</th>\n",
       "      <th>works</th>\n",
       "      <th>publishers</th>\n",
       "      <th>publish_date</th>\n",
       "      <th>publish_country</th>\n",
       "      <th>...</th>\n",
       "      <th>identifiers.google</th>\n",
       "      <th>identifiers.amazon</th>\n",
       "      <th>identifiers.doi</th>\n",
       "      <th>identifiers.wikidata</th>\n",
       "      <th>identifiers.librarything</th>\n",
       "      <th>identifiers.better_world_books</th>\n",
       "      <th>url</th>\n",
       "      <th>first_sentence</th>\n",
       "      <th>description</th>\n",
       "      <th>table_of_contents</th>\n",
       "    </tr>\n",
       "  </thead>\n",
       "  <tbody>\n",
       "    <tr>\n",
       "      <th>0</th>\n",
       "      <td>/books/OL11458883M</td>\n",
       "      <td>Hotel &amp; Restaurant Dictionary  Fachworterbuch ...</td>\n",
       "      <td>NaN</td>\n",
       "      <td>9780828814782</td>\n",
       "      <td>0828814783</td>\n",
       "      <td>/books/OL11458883M</td>\n",
       "      <td>/works/OL9250608W</td>\n",
       "      <td>French &amp; European Pubns</td>\n",
       "      <td>October 1, 1981</td>\n",
       "      <td>NaN</td>\n",
       "      <td>...</td>\n",
       "      <td>NaN</td>\n",
       "      <td>NaN</td>\n",
       "      <td>NaN</td>\n",
       "      <td>NaN</td>\n",
       "      <td>NaN</td>\n",
       "      <td>NaN</td>\n",
       "      <td>NaN</td>\n",
       "      <td>NaN</td>\n",
       "      <td>NaN</td>\n",
       "      <td>NaN</td>\n",
       "    </tr>\n",
       "    <tr>\n",
       "      <th>1</th>\n",
       "      <td>/books/OL11088269M</td>\n",
       "      <td>Mary Higgins Clark Presents Malice Domestic 2</td>\n",
       "      <td>NaN</td>\n",
       "      <td>9780787105693</td>\n",
       "      <td>0787105694</td>\n",
       "      <td>/books/OL11088269M</td>\n",
       "      <td>/works/OL31189742W</td>\n",
       "      <td>Audio Literature</td>\n",
       "      <td>July 1996</td>\n",
       "      <td>NaN</td>\n",
       "      <td>...</td>\n",
       "      <td>NaN</td>\n",
       "      <td>NaN</td>\n",
       "      <td>NaN</td>\n",
       "      <td>NaN</td>\n",
       "      <td>[359866]</td>\n",
       "      <td>NaN</td>\n",
       "      <td>NaN</td>\n",
       "      <td>NaN</td>\n",
       "      <td>NaN</td>\n",
       "      <td>NaN</td>\n",
       "    </tr>\n",
       "    <tr>\n",
       "      <th>2</th>\n",
       "      <td>/books/OL10401622M</td>\n",
       "      <td>The 2007-2012 Outlook for Indian Breads in Japan</td>\n",
       "      <td>NaN</td>\n",
       "      <td>9780497467661</td>\n",
       "      <td>0497467666</td>\n",
       "      <td>/books/OL10401622M</td>\n",
       "      <td>/works/OL3309893W</td>\n",
       "      <td>ICON Group International, Inc.</td>\n",
       "      <td>September 28, 2006</td>\n",
       "      <td>NaN</td>\n",
       "      <td>...</td>\n",
       "      <td>NaN</td>\n",
       "      <td>NaN</td>\n",
       "      <td>NaN</td>\n",
       "      <td>NaN</td>\n",
       "      <td>NaN</td>\n",
       "      <td>NaN</td>\n",
       "      <td>NaN</td>\n",
       "      <td>NaN</td>\n",
       "      <td>NaN</td>\n",
       "      <td>NaN</td>\n",
       "    </tr>\n",
       "    <tr>\n",
       "      <th>3</th>\n",
       "      <td>/books/OL11102775M</td>\n",
       "      <td>Pregnancy-Care &amp; Physiology</td>\n",
       "      <td>NaN</td>\n",
       "      <td>9780788301896</td>\n",
       "      <td>0788301896</td>\n",
       "      <td>/books/OL11102775M</td>\n",
       "      <td>/works/OL9542721W</td>\n",
       "      <td>Abbe Pub Assn of Washington Dc</td>\n",
       "      <td>June 1994</td>\n",
       "      <td>NaN</td>\n",
       "      <td>...</td>\n",
       "      <td>NaN</td>\n",
       "      <td>NaN</td>\n",
       "      <td>NaN</td>\n",
       "      <td>NaN</td>\n",
       "      <td>NaN</td>\n",
       "      <td>NaN</td>\n",
       "      <td>NaN</td>\n",
       "      <td>NaN</td>\n",
       "      <td>NaN</td>\n",
       "      <td>NaN</td>\n",
       "    </tr>\n",
       "    <tr>\n",
       "      <th>4</th>\n",
       "      <td>/books/OL11050043M</td>\n",
       "      <td>Harvard Planner</td>\n",
       "      <td>NaN</td>\n",
       "      <td>9780865020580</td>\n",
       "      <td>0865020582</td>\n",
       "      <td>/books/OL11050043M</td>\n",
       "      <td>/works/OL9155050W</td>\n",
       "      <td>Executive.org</td>\n",
       "      <td>December 21, 1994</td>\n",
       "      <td>NaN</td>\n",
       "      <td>...</td>\n",
       "      <td>NaN</td>\n",
       "      <td>NaN</td>\n",
       "      <td>NaN</td>\n",
       "      <td>NaN</td>\n",
       "      <td>NaN</td>\n",
       "      <td>NaN</td>\n",
       "      <td>NaN</td>\n",
       "      <td>NaN</td>\n",
       "      <td>NaN</td>\n",
       "      <td>NaN</td>\n",
       "    </tr>\n",
       "    <tr>\n",
       "      <th>...</th>\n",
       "      <td>...</td>\n",
       "      <td>...</td>\n",
       "      <td>...</td>\n",
       "      <td>...</td>\n",
       "      <td>...</td>\n",
       "      <td>...</td>\n",
       "      <td>...</td>\n",
       "      <td>...</td>\n",
       "      <td>...</td>\n",
       "      <td>...</td>\n",
       "      <td>...</td>\n",
       "      <td>...</td>\n",
       "      <td>...</td>\n",
       "      <td>...</td>\n",
       "      <td>...</td>\n",
       "      <td>...</td>\n",
       "      <td>...</td>\n",
       "      <td>...</td>\n",
       "      <td>...</td>\n",
       "      <td>...</td>\n",
       "      <td>...</td>\n",
       "    </tr>\n",
       "    <tr>\n",
       "      <th>95</th>\n",
       "      <td>/books/OL10887803M</td>\n",
       "      <td>2000 Import and Export Market for Nickel in Vi...</td>\n",
       "      <td>NaN</td>\n",
       "      <td>9780597709159</td>\n",
       "      <td>0597709157</td>\n",
       "      <td>/books/OL10887803M</td>\n",
       "      <td>/works/OL9461531W</td>\n",
       "      <td>Icon Group International</td>\n",
       "      <td>January 2001</td>\n",
       "      <td>NaN</td>\n",
       "      <td>...</td>\n",
       "      <td>NaN</td>\n",
       "      <td>NaN</td>\n",
       "      <td>NaN</td>\n",
       "      <td>NaN</td>\n",
       "      <td>NaN</td>\n",
       "      <td>NaN</td>\n",
       "      <td>NaN</td>\n",
       "      <td>NaN</td>\n",
       "      <td>NaN</td>\n",
       "      <td>NaN</td>\n",
       "    </tr>\n",
       "    <tr>\n",
       "      <th>96</th>\n",
       "      <td>/books/OL12136146M</td>\n",
       "      <td>Win HMO/PPO Combo Pack with CDROM</td>\n",
       "      <td>NaN</td>\n",
       "      <td>9781563633201</td>\n",
       "      <td>1563633205</td>\n",
       "      <td>/books/OL12136146M</td>\n",
       "      <td>/works/OL8539593W</td>\n",
       "      <td>Thomson Healthcare</td>\n",
       "      <td>October 1998</td>\n",
       "      <td>NaN</td>\n",
       "      <td>...</td>\n",
       "      <td>NaN</td>\n",
       "      <td>NaN</td>\n",
       "      <td>NaN</td>\n",
       "      <td>NaN</td>\n",
       "      <td>NaN</td>\n",
       "      <td>NaN</td>\n",
       "      <td>NaN</td>\n",
       "      <td>NaN</td>\n",
       "      <td>NaN</td>\n",
       "      <td>NaN</td>\n",
       "    </tr>\n",
       "    <tr>\n",
       "      <th>97</th>\n",
       "      <td>/books/OL11824378M</td>\n",
       "      <td>The Rover Boys at School</td>\n",
       "      <td>NaN</td>\n",
       "      <td>9781421841328</td>\n",
       "      <td>1421841320</td>\n",
       "      <td>/books/OL11824378M</td>\n",
       "      <td>/works/OL234952W</td>\n",
       "      <td>1st World Library - Literary Society</td>\n",
       "      <td>June 15, 2007</td>\n",
       "      <td>NaN</td>\n",
       "      <td>...</td>\n",
       "      <td>NaN</td>\n",
       "      <td>NaN</td>\n",
       "      <td>NaN</td>\n",
       "      <td>NaN</td>\n",
       "      <td>NaN</td>\n",
       "      <td>NaN</td>\n",
       "      <td>NaN</td>\n",
       "      <td>NaN</td>\n",
       "      <td>NaN</td>\n",
       "      <td>NaN</td>\n",
       "    </tr>\n",
       "    <tr>\n",
       "      <th>98</th>\n",
       "      <td>/books/OL11754548M</td>\n",
       "      <td>The Inside Of The Cup</td>\n",
       "      <td>NaN</td>\n",
       "      <td>9781414284859</td>\n",
       "      <td>1414284853</td>\n",
       "      <td>/books/OL11754548M</td>\n",
       "      <td>/works/OL18521604W</td>\n",
       "      <td>IndyPublish.com</td>\n",
       "      <td>May 31, 2004</td>\n",
       "      <td>NaN</td>\n",
       "      <td>...</td>\n",
       "      <td>NaN</td>\n",
       "      <td>NaN</td>\n",
       "      <td>NaN</td>\n",
       "      <td>NaN</td>\n",
       "      <td>NaN</td>\n",
       "      <td>NaN</td>\n",
       "      <td>NaN</td>\n",
       "      <td>NaN</td>\n",
       "      <td>NaN</td>\n",
       "      <td>NaN</td>\n",
       "    </tr>\n",
       "    <tr>\n",
       "      <th>99</th>\n",
       "      <td>/books/OL11683662M</td>\n",
       "      <td>Waste A Tragedy, In Four Acts</td>\n",
       "      <td>NaN</td>\n",
       "      <td>9781406915808</td>\n",
       "      <td>1406915807</td>\n",
       "      <td>/books/OL11683662M</td>\n",
       "      <td>/works/OL9330709W</td>\n",
       "      <td>Hard Press</td>\n",
       "      <td>November 3, 2006</td>\n",
       "      <td>NaN</td>\n",
       "      <td>...</td>\n",
       "      <td>NaN</td>\n",
       "      <td>NaN</td>\n",
       "      <td>NaN</td>\n",
       "      <td>NaN</td>\n",
       "      <td>NaN</td>\n",
       "      <td>NaN</td>\n",
       "      <td>NaN</td>\n",
       "      <td>NaN</td>\n",
       "      <td>NaN</td>\n",
       "      <td>NaN</td>\n",
       "    </tr>\n",
       "  </tbody>\n",
       "</table>\n",
       "<p>100 rows × 32 columns</p>\n",
       "</div>"
      ]
     },
     "execution_count": 69,
     "metadata": {},
     "output_type": "execute_result"
    }
   ],
   "execution_count": 69
  },
  {
   "metadata": {
    "ExecuteTime": {
     "end_time": "2025-02-25T14:17:06.266875Z",
     "start_time": "2025-02-25T14:17:06.106226Z"
    }
   },
   "cell_type": "code",
   "source": "skim(filtered_df.sample(100).reset_index(drop=True))",
   "id": "3c8544b3dff96263",
   "outputs": [
    {
     "data": {
      "text/plain": [
       "╭──────────────────────────────────────────────── skimpy summary ─────────────────────────────────────────────────╮\n",
       "│ \u001B[3m         Data Summary         \u001B[0m \u001B[3m      Data Types       \u001B[0m                                                          │\n",
       "│ ┏━━━━━━━━━━━━━━━━━━━┳━━━━━━━━┓ ┏━━━━━━━━━━━━━┳━━━━━━━┓                                                          │\n",
       "│ ┃\u001B[1;36m \u001B[0m\u001B[1;36mDataframe        \u001B[0m\u001B[1;36m \u001B[0m┃\u001B[1;36m \u001B[0m\u001B[1;36mValues\u001B[0m\u001B[1;36m \u001B[0m┃ ┃\u001B[1;36m \u001B[0m\u001B[1;36mColumn Type\u001B[0m\u001B[1;36m \u001B[0m┃\u001B[1;36m \u001B[0m\u001B[1;36mCount\u001B[0m\u001B[1;36m \u001B[0m┃                                                          │\n",
       "│ ┡━━━━━━━━━━━━━━━━━━━╇━━━━━━━━┩ ┡━━━━━━━━━━━━━╇━━━━━━━┩                                                          │\n",
       "│ │ Number of rows    │ 100    │ │ string      │ 15    │                                                          │\n",
       "│ │ Number of columns │ 26     │ │ object      │ 10    │                                                          │\n",
       "│ └───────────────────┴────────┘ │ float64     │ 1     │                                                          │\n",
       "│                                └─────────────┴───────┘                                                          │\n",
       "│ \u001B[3m                                                   All null                                                   \u001B[0m  │\n",
       "│ ┏━━━━━━━━━━━━━━━━━━━━━━━━━━━━━━━━━━━━━━━━━━━━━━━━━━━━━━━━━━━━━━━━━━━━━━━┳━━━━━━━━━━━━━━━━┳━━━━━━━━━━━━━━━━━━━┓  │\n",
       "│ ┃\u001B[1m \u001B[0m\u001B[1mcolumn                                                               \u001B[0m\u001B[1m \u001B[0m┃\u001B[1m \u001B[0m\u001B[1mNA            \u001B[0m\u001B[1m \u001B[0m┃\u001B[1m \u001B[0m\u001B[1mNA %             \u001B[0m\u001B[1m \u001B[0m┃  │\n",
       "│ ┡━━━━━━━━━━━━━━━━━━━━━━━━━━━━━━━━━━━━━━━━━━━━━━━━━━━━━━━━━━━━━━━━━━━━━━━╇━━━━━━━━━━━━━━━━╇━━━━━━━━━━━━━━━━━━━┩  │\n",
       "│ │ \u001B[38;5;141mfull_title                                                           \u001B[0m │ \u001B[36m           100\u001B[0m │ \u001B[36m              100\u001B[0m │  │\n",
       "│ │ \u001B[38;5;141mgenres                                                               \u001B[0m │ \u001B[36m           100\u001B[0m │ \u001B[36m              100\u001B[0m │  │\n",
       "│ │ \u001B[38;5;141midentifiers.google                                                   \u001B[0m │ \u001B[36m           100\u001B[0m │ \u001B[36m              100\u001B[0m │  │\n",
       "│ │ \u001B[38;5;141midentifiers.amazon                                                   \u001B[0m │ \u001B[36m           100\u001B[0m │ \u001B[36m              100\u001B[0m │  │\n",
       "│ │ \u001B[38;5;141midentifiers.wikidata                                                 \u001B[0m │ \u001B[36m           100\u001B[0m │ \u001B[36m              100\u001B[0m │  │\n",
       "│ │ \u001B[38;5;141midentifiers.better_world_books                                       \u001B[0m │ \u001B[36m           100\u001B[0m │ \u001B[36m              100\u001B[0m │  │\n",
       "│ │ \u001B[38;5;141murl                                                                  \u001B[0m │ \u001B[36m           100\u001B[0m │ \u001B[36m              100\u001B[0m │  │\n",
       "│ │ \u001B[38;5;141mfirst_sentence                                                       \u001B[0m │ \u001B[36m           100\u001B[0m │ \u001B[36m              100\u001B[0m │  │\n",
       "│ │ \u001B[38;5;141mdescription                                                          \u001B[0m │ \u001B[36m           100\u001B[0m │ \u001B[36m              100\u001B[0m │  │\n",
       "│ │ \u001B[38;5;141mtable_of_contents                                                    \u001B[0m │ \u001B[36m           100\u001B[0m │ \u001B[36m              100\u001B[0m │  │\n",
       "│ └───────────────────────────────────────────────────────────────────────┴────────────────┴───────────────────┘  │\n",
       "│ \u001B[3m                                                    number                                                    \u001B[0m  │\n",
       "│ ┏━━━━━━━━━━━━━━━━━━━━━━━┳━━━━━━┳━━━━━━━━┳━━━━━━━━━━┳━━━━━━━━━┳━━━━━━┳━━━━━━━┳━━━━━━━┳━━━━━━┳━━━━━━━┳━━━━━━━━━┓  │\n",
       "│ ┃\u001B[1m \u001B[0m\u001B[1mcolumn               \u001B[0m\u001B[1m \u001B[0m┃\u001B[1m \u001B[0m\u001B[1mNA  \u001B[0m\u001B[1m \u001B[0m┃\u001B[1m \u001B[0m\u001B[1mNA %  \u001B[0m\u001B[1m \u001B[0m┃\u001B[1m \u001B[0m\u001B[1mmean    \u001B[0m\u001B[1m \u001B[0m┃\u001B[1m \u001B[0m\u001B[1msd     \u001B[0m\u001B[1m \u001B[0m┃\u001B[1m \u001B[0m\u001B[1mp0  \u001B[0m\u001B[1m \u001B[0m┃\u001B[1m \u001B[0m\u001B[1mp25  \u001B[0m\u001B[1m \u001B[0m┃\u001B[1m \u001B[0m\u001B[1mp50  \u001B[0m\u001B[1m \u001B[0m┃\u001B[1m \u001B[0m\u001B[1mp75 \u001B[0m\u001B[1m \u001B[0m┃\u001B[1m \u001B[0m\u001B[1mp100 \u001B[0m\u001B[1m \u001B[0m┃\u001B[1m \u001B[0m\u001B[1mhist   \u001B[0m\u001B[1m \u001B[0m┃  │\n",
       "│ ┡━━━━━━━━━━━━━━━━━━━━━━━╇━━━━━━╇━━━━━━━━╇━━━━━━━━━━╇━━━━━━━━━╇━━━━━━╇━━━━━━━╇━━━━━━━╇━━━━━━╇━━━━━━━╇━━━━━━━━━┩  │\n",
       "│ │ \u001B[38;5;141mnumber_of_pages      \u001B[0m │ \u001B[36m  36\u001B[0m │ \u001B[36m    36\u001B[0m │ \u001B[36m   169.8\u001B[0m │ \u001B[36m  141.3\u001B[0m │ \u001B[36m   4\u001B[0m │ \u001B[36m   60\u001B[0m │ \u001B[36m  149\u001B[0m │ \u001B[36m 208\u001B[0m │ \u001B[36m  672\u001B[0m │ \u001B[32m▇█▂▁ ▁ \u001B[0m │  │\n",
       "│ └───────────────────────┴──────┴────────┴──────────┴─────────┴──────┴───────┴───────┴──────┴───────┴─────────┘  │\n",
       "│ \u001B[3m                                                    string                                                    \u001B[0m  │\n",
       "│ ┏━━━━━━━━━━━┳━━━━┳━━━━━━┳━━━━━━━━━━━┳━━━━━━━━━━━┳━━━━━━━━━━━┳━━━━━━━━━━━┳━━━━━━━━━━━┳━━━━━━━━━━━┳━━━━━━━━━━━━┓  │\n",
       "│ ┃\u001B[1m           \u001B[0m┃\u001B[1m    \u001B[0m┃\u001B[1m      \u001B[0m┃\u001B[1m           \u001B[0m┃\u001B[1m           \u001B[0m┃\u001B[1m           \u001B[0m┃\u001B[1m           \u001B[0m┃\u001B[1m \u001B[0m\u001B[1mchars per\u001B[0m\u001B[1m \u001B[0m┃\u001B[1m \u001B[0m\u001B[1mwords per\u001B[0m\u001B[1m \u001B[0m┃\u001B[1m \u001B[0m\u001B[1mtotal     \u001B[0m\u001B[1m \u001B[0m┃  │\n",
       "│ ┃\u001B[1m \u001B[0m\u001B[1mcolumn   \u001B[0m\u001B[1m \u001B[0m┃\u001B[1m \u001B[0m\u001B[1mNA\u001B[0m\u001B[1m \u001B[0m┃\u001B[1m \u001B[0m\u001B[1mNA %\u001B[0m\u001B[1m \u001B[0m┃\u001B[1m \u001B[0m\u001B[1mshortest \u001B[0m\u001B[1m \u001B[0m┃\u001B[1m \u001B[0m\u001B[1mlongest  \u001B[0m\u001B[1m \u001B[0m┃\u001B[1m \u001B[0m\u001B[1mmin      \u001B[0m\u001B[1m \u001B[0m┃\u001B[1m \u001B[0m\u001B[1mmax      \u001B[0m\u001B[1m \u001B[0m┃\u001B[1m \u001B[0m\u001B[1mrow      \u001B[0m\u001B[1m \u001B[0m┃\u001B[1m \u001B[0m\u001B[1mrow      \u001B[0m\u001B[1m \u001B[0m┃\u001B[1m \u001B[0m\u001B[1mwords     \u001B[0m\u001B[1m \u001B[0m┃  │\n",
       "│ ┡━━━━━━━━━━━╇━━━━╇━━━━━━╇━━━━━━━━━━━╇━━━━━━━━━━━╇━━━━━━━━━━━╇━━━━━━━━━━━╇━━━━━━━━━━━╇━━━━━━━━━━━╇━━━━━━━━━━━━┩  │\n",
       "│ │ \u001B[38;5;141mbook_id  \u001B[0m │ \u001B[36m 0\u001B[0m │ \u001B[36m   0\u001B[0m │ \u001B[38;5;141m/books/OL\u001B[0m │ \u001B[38;5;141m/books/OL\u001B[0m │ \u001B[38;5;141m/books/OL\u001B[0m │ \u001B[38;5;141m/books/OL\u001B[0m │ \u001B[36m     17.9\u001B[0m │ \u001B[36m        1\u001B[0m │ \u001B[36m       100\u001B[0m │  │\n",
       "│ │           │    │      │ \u001B[38;5;141m1148129M \u001B[0m │ \u001B[38;5;141m11714709M\u001B[0m │ \u001B[38;5;141m10001125M\u001B[0m │ \u001B[38;5;141m12292938M\u001B[0m │           │           │            │  │\n",
       "│ │ \u001B[38;5;141mtitle    \u001B[0m │ \u001B[36m 0\u001B[0m │ \u001B[36m   0\u001B[0m │ \u001B[38;5;141mProf Rap \u001B[0m │ \u001B[38;5;141mTaxonomy,\u001B[0m │ \u001B[38;5;141mA Course \u001B[0m │ \u001B[38;5;141mYou can  \u001B[0m │ \u001B[36m     34.9\u001B[0m │ \u001B[36m      5.2\u001B[0m │ \u001B[36m       525\u001B[0m │  │\n",
       "│ │           │    │      │           │ \u001B[38;5;141mDistribut\u001B[0m │ \u001B[38;5;141mfor      \u001B[0m │ \u001B[38;5;141mfind     \u001B[0m │           │           │            │  │\n",
       "│ │           │    │      │           │ \u001B[38;5;141mion, and \u001B[0m │ \u001B[38;5;141mElders   \u001B[0m │ \u001B[38;5;141mcomfort  \u001B[0m │           │           │            │  │\n",
       "│ │           │    │      │           │ \u001B[38;5;141mEcology  \u001B[0m │           │ \u001B[38;5;141m(Christia\u001B[0m │           │           │            │  │\n",
       "│ │           │    │      │           │ \u001B[38;5;141mof the   \u001B[0m │           │ \u001B[38;5;141mn        \u001B[0m │           │           │            │  │\n",
       "│ │           │    │      │           │ \u001B[38;5;141mgenus    \u001B[0m │           │ \u001B[38;5;141mcounselin\u001B[0m │           │           │            │  │\n",
       "│ │           │    │      │           │ \u001B[38;5;141mPhaseolus\u001B[0m │           │ \u001B[38;5;141mg aids)  \u001B[0m │           │           │            │  │\n",
       "│ │           │    │      │           │ \u001B[38;5;141m(Legumino\u001B[0m │           │           │           │           │            │  │\n",
       "│ │           │    │      │           │ \u001B[38;5;141msae--Papi\u001B[0m │           │           │           │           │            │  │\n",
       "│ │           │    │      │           │ \u001B[38;5;141mlionoidea\u001B[0m │           │           │           │           │            │  │\n",
       "│ │           │    │      │           │ \u001B[38;5;141me) in    \u001B[0m │           │           │           │           │            │  │\n",
       "│ │           │    │      │           │ \u001B[38;5;141mNorth    \u001B[0m │           │           │           │           │            │  │\n",
       "│ │           │    │      │           │ \u001B[38;5;141mAmerica, \u001B[0m │           │           │           │           │            │  │\n",
       "│ │           │    │      │           │ \u001B[38;5;141mMexico   \u001B[0m │           │           │           │           │            │  │\n",
       "│ │           │    │      │           │ \u001B[38;5;141mand      \u001B[0m │           │           │           │           │            │  │\n",
       "│ │           │    │      │           │ \u001B[38;5;141mCentral  \u001B[0m │           │           │           │           │            │  │\n",
       "│ │           │    │      │           │ \u001B[38;5;141mAmerica  \u001B[0m │           │           │           │           │            │  │\n",
       "│ │ \u001B[38;5;141misbn_13  \u001B[0m │ \u001B[36m 0\u001B[0m │ \u001B[36m   0\u001B[0m │ \u001B[38;5;141m         \u001B[0m │ \u001B[38;5;141m978141207\u001B[0m │ \u001B[38;5;141m         \u001B[0m │ \u001B[38;5;141m978190504\u001B[0m │ \u001B[36m     11.4\u001B[0m │ \u001B[36m        1\u001B[0m │ \u001B[36m       100\u001B[0m │  │\n",
       "│ │           │    │      │           │ \u001B[38;5;141m8726     \u001B[0m │           │ \u001B[38;5;141m2302     \u001B[0m │           │           │            │  │\n",
       "│ │ \u001B[38;5;141misbn_10  \u001B[0m │ \u001B[36m 0\u001B[0m │ \u001B[36m   0\u001B[0m │ \u001B[38;5;141m         \u001B[0m │ \u001B[38;5;141m027101450\u001B[0m │ \u001B[38;5;141m         \u001B[0m │ \u001B[38;5;141m951443277\u001B[0m │ \u001B[36m     9.94\u001B[0m │ \u001B[36m        1\u001B[0m │ \u001B[36m       102\u001B[0m │  │\n",
       "│ │           │    │      │           │ \u001B[38;5;141m4,       \u001B[0m │           │ \u001B[38;5;141m0        \u001B[0m │           │           │            │  │\n",
       "│ │           │    │      │           │ \u001B[38;5;141m027101449\u001B[0m │           │           │           │           │            │  │\n",
       "│ │           │    │      │           │ \u001B[38;5;141m0        \u001B[0m │           │           │           │           │            │  │\n",
       "│ │ \u001B[38;5;141mkey      \u001B[0m │ \u001B[36m 0\u001B[0m │ \u001B[36m   0\u001B[0m │ \u001B[38;5;141m/books/OL\u001B[0m │ \u001B[38;5;141m/books/OL\u001B[0m │ \u001B[38;5;141m/books/OL\u001B[0m │ \u001B[38;5;141m/books/OL\u001B[0m │ \u001B[36m     17.9\u001B[0m │ \u001B[36m        1\u001B[0m │ \u001B[36m       100\u001B[0m │  │\n",
       "│ │           │    │      │ \u001B[38;5;141m1148129M \u001B[0m │ \u001B[38;5;141m11714709M\u001B[0m │ \u001B[38;5;141m10001125M\u001B[0m │ \u001B[38;5;141m12292938M\u001B[0m │           │           │            │  │\n",
       "│ │ \u001B[38;5;141mworks    \u001B[0m │ \u001B[36m 0\u001B[0m │ \u001B[36m   0\u001B[0m │ \u001B[38;5;141m         \u001B[0m │ \u001B[38;5;141m/works/OL\u001B[0m │ \u001B[38;5;141m         \u001B[0m │ \u001B[38;5;141m/works/OL\u001B[0m │ \u001B[36m     15.2\u001B[0m │ \u001B[36m        1\u001B[0m │ \u001B[36m       100\u001B[0m │  │\n",
       "│ │           │    │      │           │ \u001B[38;5;141m14909739W\u001B[0m │           │ \u001B[38;5;141m9856275W \u001B[0m │           │           │            │  │\n",
       "│ │ \u001B[38;5;141mpublisher\u001B[0m │ \u001B[36m 0\u001B[0m │ \u001B[36m   0\u001B[0m │ \u001B[38;5;141mLDA      \u001B[0m │ \u001B[38;5;141mEuropean \u001B[0m │ \u001B[38;5;141mAIPI     \u001B[0m │ \u001B[38;5;141msilhouett\u001B[0m │ \u001B[36m     20.5\u001B[0m │ \u001B[36m      2.9\u001B[0m │ \u001B[36m       285\u001B[0m │  │\n",
       "│ │ \u001B[38;5;141ms        \u001B[0m │    │      │           │ \u001B[38;5;141mCommuniti\u001B[0m │           │ \u001B[38;5;141me        \u001B[0m │           │           │            │  │\n",
       "│ │           │    │      │           │ \u001B[38;5;141mes /     \u001B[0m │           │           │           │           │            │  │\n",
       "│ │           │    │      │           │ \u001B[38;5;141mUnion    \u001B[0m │           │           │           │           │            │  │\n",
       "│ │           │    │      │           │ \u001B[38;5;141m(EUR-OP/O\u001B[0m │           │           │           │           │            │  │\n",
       "│ │           │    │      │           │ \u001B[38;5;141mOPEC/OPOC\u001B[0m │           │           │           │           │            │  │\n",
       "│ │           │    │      │           │ \u001B[38;5;141mE)       \u001B[0m │           │           │           │           │            │  │\n",
       "│ │ \u001B[38;5;141mpublish_d\u001B[0m │ \u001B[36m 0\u001B[0m │ \u001B[36m   0\u001B[0m │ \u001B[38;5;141m1992     \u001B[0m │ \u001B[38;5;141mSeptember\u001B[0m │ \u001B[38;5;141m1977     \u001B[0m │ \u001B[38;5;141mSeptember\u001B[0m │ \u001B[36m     11.9\u001B[0m │ \u001B[36m      2.3\u001B[0m │ \u001B[36m       234\u001B[0m │  │\n",
       "│ │ \u001B[38;5;141mate      \u001B[0m │    │      │           │ \u001B[38;5;141m28, 2007 \u001B[0m │           │ \u001B[38;5;141m4, 1996  \u001B[0m │           │           │            │  │\n",
       "│ │ \u001B[38;5;141mpublish_c\u001B[0m │ \u001B[36m88\u001B[0m │ \u001B[36m  88\u001B[0m │ \u001B[38;5;141mxx       \u001B[0m │ \u001B[38;5;141mxx       \u001B[0m │ \u001B[38;5;141mdk       \u001B[0m │ \u001B[38;5;141mxx       \u001B[0m │ \u001B[36m        3\u001B[0m │ \u001B[36m     0.17\u001B[0m │ \u001B[36m        17\u001B[0m │  │\n",
       "│ │ \u001B[38;5;141mountry   \u001B[0m │    │      │           │           │           │           │           │           │            │  │\n",
       "│ │ \u001B[38;5;141medition_n\u001B[0m │ \u001B[36m84\u001B[0m │ \u001B[36m  84\u001B[0m │ \u001B[38;5;141m1 edition\u001B[0m │ \u001B[38;5;141m25th     \u001B[0m │ \u001B[38;5;141m1 edition\u001B[0m │ \u001B[38;5;141mal-Ṭabʻah\u001B[0m │ \u001B[36m     14.9\u001B[0m │ \u001B[36m     0.41\u001B[0m │ \u001B[36m        41\u001B[0m │  │\n",
       "│ │ \u001B[38;5;141mame      \u001B[0m │    │      │           │ \u001B[38;5;141mAnniversa\u001B[0m │           │ \u001B[38;5;141m1.       \u001B[0m │           │           │            │  │\n",
       "│ │           │    │      │           │ \u001B[38;5;141mry       \u001B[0m │           │           │           │           │            │  │\n",
       "│ │           │    │      │           │ \u001B[38;5;141mEdition  \u001B[0m │           │           │           │           │            │  │\n",
       "│ │           │    │      │           │ \u001B[38;5;141medition  \u001B[0m │           │           │           │           │            │  │\n",
       "│ │ \u001B[38;5;141mphysical_\u001B[0m │ \u001B[36m12\u001B[0m │ \u001B[36m  12\u001B[0m │ \u001B[38;5;141mCD-ROM   \u001B[0m │ \u001B[38;5;141mMass     \u001B[0m │ \u001B[38;5;141mBoard    \u001B[0m │ \u001B[38;5;141mUnknown  \u001B[0m │ \u001B[36m     9.81\u001B[0m │ \u001B[36m        1\u001B[0m │ \u001B[36m       100\u001B[0m │  │\n",
       "│ │ \u001B[38;5;141mformat   \u001B[0m │    │      │           │ \u001B[38;5;141mMarket   \u001B[0m │ \u001B[38;5;141mbook     \u001B[0m │ \u001B[38;5;141mBinding  \u001B[0m │           │           │            │  │\n",
       "│ │           │    │      │           │ \u001B[38;5;141mPaperback\u001B[0m │           │           │           │           │            │  │\n",
       "│ │ \u001B[38;5;141mphysical_\u001B[0m │ \u001B[36m67\u001B[0m │ \u001B[36m  67\u001B[0m │ \u001B[38;5;141m9 x 6 x  \u001B[0m │ \u001B[38;5;141m11.8 x   \u001B[0m │ \u001B[38;5;141m10 x 7 x \u001B[0m │ \u001B[38;5;141m9.8 x 8 x\u001B[0m │ \u001B[36m     21.2\u001B[0m │ \u001B[36m        2\u001B[0m │ \u001B[36m       198\u001B[0m │  │\n",
       "│ │ \u001B[38;5;141mdimension\u001B[0m │    │      │ \u001B[38;5;141m1.1      \u001B[0m │ \u001B[38;5;141m10.8 x   \u001B[0m │ \u001B[38;5;141m0.8      \u001B[0m │ \u001B[38;5;141m1 inches \u001B[0m │           │           │            │  │\n",
       "│ │ \u001B[38;5;141ms        \u001B[0m │    │      │ \u001B[38;5;141minches   \u001B[0m │ \u001B[38;5;141m0.2      \u001B[0m │ \u001B[38;5;141minches   \u001B[0m │           │           │           │            │  │\n",
       "│ │           │    │      │           │ \u001B[38;5;141minches   \u001B[0m │           │           │           │           │            │  │\n",
       "│ │ \u001B[38;5;141mweight   \u001B[0m │ \u001B[36m68\u001B[0m │ \u001B[36m  68\u001B[0m │ \u001B[38;5;141m1.6      \u001B[0m │ \u001B[38;5;141m10.6     \u001B[0m │ \u001B[38;5;141m0.8      \u001B[0m │ \u001B[38;5;141m9.8      \u001B[0m │ \u001B[36m     10.2\u001B[0m │ \u001B[36m     0.64\u001B[0m │ \u001B[36m        64\u001B[0m │  │\n",
       "│ │           │    │      │ \u001B[38;5;141mounces   \u001B[0m │ \u001B[38;5;141mounces   \u001B[0m │ \u001B[38;5;141mounces   \u001B[0m │ \u001B[38;5;141mounces   \u001B[0m │           │           │            │  │\n",
       "│ │ \u001B[38;5;141mauthors  \u001B[0m │ \u001B[36m 0\u001B[0m │ \u001B[36m   0\u001B[0m │ \u001B[38;5;141m         \u001B[0m │ \u001B[38;5;141m/authors/\u001B[0m │ \u001B[38;5;141m         \u001B[0m │ \u001B[38;5;141m/authors/\u001B[0m │ \u001B[36m     18.8\u001B[0m │ \u001B[36m      1.1\u001B[0m │ \u001B[36m       112\u001B[0m │  │\n",
       "│ │           │    │      │           │ \u001B[38;5;141mOL3679319\u001B[0m │           │ \u001B[38;5;141mOL9754A  \u001B[0m │           │           │            │  │\n",
       "│ │           │    │      │           │ \u001B[38;5;141mA,       \u001B[0m │           │           │           │           │            │  │\n",
       "│ │           │    │      │           │ \u001B[38;5;141m/authors/\u001B[0m │           │           │           │           │            │  │\n",
       "│ │           │    │      │           │ \u001B[38;5;141mOL3382982\u001B[0m │           │           │           │           │            │  │\n",
       "│ │           │    │      │           │ \u001B[38;5;141mA,       \u001B[0m │           │           │           │           │            │  │\n",
       "│ │           │    │      │           │ \u001B[38;5;141m/authors/\u001B[0m │           │           │           │           │            │  │\n",
       "│ │           │    │      │           │ \u001B[38;5;141mOL3679320\u001B[0m │           │           │           │           │            │  │\n",
       "│ │           │    │      │           │ \u001B[38;5;141mA        \u001B[0m │           │           │           │           │            │  │\n",
       "│ │ \u001B[38;5;141mby_statem\u001B[0m │ \u001B[36m89\u001B[0m │ \u001B[36m  89\u001B[0m │ \u001B[38;5;141mSteve    \u001B[0m │ \u001B[38;5;141mNevada   \u001B[0m │ \u001B[38;5;141mBarbara  \u001B[0m │ \u001B[38;5;141mVolker   \u001B[0m │ \u001B[36m     18.1\u001B[0m │ \u001B[36m      0.3\u001B[0m │ \u001B[36m        30\u001B[0m │  │\n",
       "│ │ \u001B[38;5;141ment      \u001B[0m │    │      │ \u001B[38;5;141mParker.  \u001B[0m │ \u001B[38;5;141mState    \u001B[0m │ \u001B[38;5;141mGentikow.\u001B[0m │ \u001B[38;5;141mGuckel.  \u001B[0m │           │           │            │  │\n",
       "│ │           │    │      │           │ \u001B[38;5;141mLibrary  \u001B[0m │           │           │           │           │            │  │\n",
       "│ │           │    │      │           │ \u001B[38;5;141mand      \u001B[0m │           │           │           │           │            │  │\n",
       "│ │           │    │      │           │ \u001B[38;5;141mArchives.\u001B[0m │           │           │           │           │            │  │\n",
       "│ └───────────┴────┴──────┴───────────┴───────────┴───────────┴───────────┴───────────┴───────────┴────────────┘  │\n",
       "╰────────────────────────────────────────────────────── End ──────────────────────────────────────────────────────╯\n"
      ],
      "text/html": [
       "<pre style=\"white-space:pre;overflow-x:auto;line-height:normal;font-family:Menlo,'DejaVu Sans Mono',consolas,'Courier New',monospace\">╭──────────────────────────────────────────────── skimpy summary ─────────────────────────────────────────────────╮\n",
       "│ <span style=\"font-style: italic\">         Data Summary         </span> <span style=\"font-style: italic\">      Data Types       </span>                                                          │\n",
       "│ ┏━━━━━━━━━━━━━━━━━━━┳━━━━━━━━┓ ┏━━━━━━━━━━━━━┳━━━━━━━┓                                                          │\n",
       "│ ┃<span style=\"color: #008080; text-decoration-color: #008080; font-weight: bold\"> Dataframe         </span>┃<span style=\"color: #008080; text-decoration-color: #008080; font-weight: bold\"> Values </span>┃ ┃<span style=\"color: #008080; text-decoration-color: #008080; font-weight: bold\"> Column Type </span>┃<span style=\"color: #008080; text-decoration-color: #008080; font-weight: bold\"> Count </span>┃                                                          │\n",
       "│ ┡━━━━━━━━━━━━━━━━━━━╇━━━━━━━━┩ ┡━━━━━━━━━━━━━╇━━━━━━━┩                                                          │\n",
       "│ │ Number of rows    │ 100    │ │ string      │ 15    │                                                          │\n",
       "│ │ Number of columns │ 26     │ │ object      │ 10    │                                                          │\n",
       "│ └───────────────────┴────────┘ │ float64     │ 1     │                                                          │\n",
       "│                                └─────────────┴───────┘                                                          │\n",
       "│ <span style=\"font-style: italic\">                                                   All null                                                   </span>  │\n",
       "│ ┏━━━━━━━━━━━━━━━━━━━━━━━━━━━━━━━━━━━━━━━━━━━━━━━━━━━━━━━━━━━━━━━━━━━━━━━┳━━━━━━━━━━━━━━━━┳━━━━━━━━━━━━━━━━━━━┓  │\n",
       "│ ┃<span style=\"font-weight: bold\"> column                                                                </span>┃<span style=\"font-weight: bold\"> NA             </span>┃<span style=\"font-weight: bold\"> NA %              </span>┃  │\n",
       "│ ┡━━━━━━━━━━━━━━━━━━━━━━━━━━━━━━━━━━━━━━━━━━━━━━━━━━━━━━━━━━━━━━━━━━━━━━━╇━━━━━━━━━━━━━━━━╇━━━━━━━━━━━━━━━━━━━┩  │\n",
       "│ │ <span style=\"color: #af87ff; text-decoration-color: #af87ff\">full_title                                                           </span> │ <span style=\"color: #008080; text-decoration-color: #008080\">           100</span> │ <span style=\"color: #008080; text-decoration-color: #008080\">              100</span> │  │\n",
       "│ │ <span style=\"color: #af87ff; text-decoration-color: #af87ff\">genres                                                               </span> │ <span style=\"color: #008080; text-decoration-color: #008080\">           100</span> │ <span style=\"color: #008080; text-decoration-color: #008080\">              100</span> │  │\n",
       "│ │ <span style=\"color: #af87ff; text-decoration-color: #af87ff\">identifiers.google                                                   </span> │ <span style=\"color: #008080; text-decoration-color: #008080\">           100</span> │ <span style=\"color: #008080; text-decoration-color: #008080\">              100</span> │  │\n",
       "│ │ <span style=\"color: #af87ff; text-decoration-color: #af87ff\">identifiers.amazon                                                   </span> │ <span style=\"color: #008080; text-decoration-color: #008080\">           100</span> │ <span style=\"color: #008080; text-decoration-color: #008080\">              100</span> │  │\n",
       "│ │ <span style=\"color: #af87ff; text-decoration-color: #af87ff\">identifiers.wikidata                                                 </span> │ <span style=\"color: #008080; text-decoration-color: #008080\">           100</span> │ <span style=\"color: #008080; text-decoration-color: #008080\">              100</span> │  │\n",
       "│ │ <span style=\"color: #af87ff; text-decoration-color: #af87ff\">identifiers.better_world_books                                       </span> │ <span style=\"color: #008080; text-decoration-color: #008080\">           100</span> │ <span style=\"color: #008080; text-decoration-color: #008080\">              100</span> │  │\n",
       "│ │ <span style=\"color: #af87ff; text-decoration-color: #af87ff\">url                                                                  </span> │ <span style=\"color: #008080; text-decoration-color: #008080\">           100</span> │ <span style=\"color: #008080; text-decoration-color: #008080\">              100</span> │  │\n",
       "│ │ <span style=\"color: #af87ff; text-decoration-color: #af87ff\">first_sentence                                                       </span> │ <span style=\"color: #008080; text-decoration-color: #008080\">           100</span> │ <span style=\"color: #008080; text-decoration-color: #008080\">              100</span> │  │\n",
       "│ │ <span style=\"color: #af87ff; text-decoration-color: #af87ff\">description                                                          </span> │ <span style=\"color: #008080; text-decoration-color: #008080\">           100</span> │ <span style=\"color: #008080; text-decoration-color: #008080\">              100</span> │  │\n",
       "│ │ <span style=\"color: #af87ff; text-decoration-color: #af87ff\">table_of_contents                                                    </span> │ <span style=\"color: #008080; text-decoration-color: #008080\">           100</span> │ <span style=\"color: #008080; text-decoration-color: #008080\">              100</span> │  │\n",
       "│ └───────────────────────────────────────────────────────────────────────┴────────────────┴───────────────────┘  │\n",
       "│ <span style=\"font-style: italic\">                                                    number                                                    </span>  │\n",
       "│ ┏━━━━━━━━━━━━━━━━━━━━━━━┳━━━━━━┳━━━━━━━━┳━━━━━━━━━━┳━━━━━━━━━┳━━━━━━┳━━━━━━━┳━━━━━━━┳━━━━━━┳━━━━━━━┳━━━━━━━━━┓  │\n",
       "│ ┃<span style=\"font-weight: bold\"> column                </span>┃<span style=\"font-weight: bold\"> NA   </span>┃<span style=\"font-weight: bold\"> NA %   </span>┃<span style=\"font-weight: bold\"> mean     </span>┃<span style=\"font-weight: bold\"> sd      </span>┃<span style=\"font-weight: bold\"> p0   </span>┃<span style=\"font-weight: bold\"> p25   </span>┃<span style=\"font-weight: bold\"> p50   </span>┃<span style=\"font-weight: bold\"> p75  </span>┃<span style=\"font-weight: bold\"> p100  </span>┃<span style=\"font-weight: bold\"> hist    </span>┃  │\n",
       "│ ┡━━━━━━━━━━━━━━━━━━━━━━━╇━━━━━━╇━━━━━━━━╇━━━━━━━━━━╇━━━━━━━━━╇━━━━━━╇━━━━━━━╇━━━━━━━╇━━━━━━╇━━━━━━━╇━━━━━━━━━┩  │\n",
       "│ │ <span style=\"color: #af87ff; text-decoration-color: #af87ff\">number_of_pages      </span> │ <span style=\"color: #008080; text-decoration-color: #008080\">  36</span> │ <span style=\"color: #008080; text-decoration-color: #008080\">    36</span> │ <span style=\"color: #008080; text-decoration-color: #008080\">   169.8</span> │ <span style=\"color: #008080; text-decoration-color: #008080\">  141.3</span> │ <span style=\"color: #008080; text-decoration-color: #008080\">   4</span> │ <span style=\"color: #008080; text-decoration-color: #008080\">   60</span> │ <span style=\"color: #008080; text-decoration-color: #008080\">  149</span> │ <span style=\"color: #008080; text-decoration-color: #008080\"> 208</span> │ <span style=\"color: #008080; text-decoration-color: #008080\">  672</span> │ <span style=\"color: #008000; text-decoration-color: #008000\">▇█▂▁ ▁ </span> │  │\n",
       "│ └───────────────────────┴──────┴────────┴──────────┴─────────┴──────┴───────┴───────┴──────┴───────┴─────────┘  │\n",
       "│ <span style=\"font-style: italic\">                                                    string                                                    </span>  │\n",
       "│ ┏━━━━━━━━━━━┳━━━━┳━━━━━━┳━━━━━━━━━━━┳━━━━━━━━━━━┳━━━━━━━━━━━┳━━━━━━━━━━━┳━━━━━━━━━━━┳━━━━━━━━━━━┳━━━━━━━━━━━━┓  │\n",
       "│ ┃<span style=\"font-weight: bold\">           </span>┃<span style=\"font-weight: bold\">    </span>┃<span style=\"font-weight: bold\">      </span>┃<span style=\"font-weight: bold\">           </span>┃<span style=\"font-weight: bold\">           </span>┃<span style=\"font-weight: bold\">           </span>┃<span style=\"font-weight: bold\">           </span>┃<span style=\"font-weight: bold\"> chars per </span>┃<span style=\"font-weight: bold\"> words per </span>┃<span style=\"font-weight: bold\"> total      </span>┃  │\n",
       "│ ┃<span style=\"font-weight: bold\"> column    </span>┃<span style=\"font-weight: bold\"> NA </span>┃<span style=\"font-weight: bold\"> NA % </span>┃<span style=\"font-weight: bold\"> shortest  </span>┃<span style=\"font-weight: bold\"> longest   </span>┃<span style=\"font-weight: bold\"> min       </span>┃<span style=\"font-weight: bold\"> max       </span>┃<span style=\"font-weight: bold\"> row       </span>┃<span style=\"font-weight: bold\"> row       </span>┃<span style=\"font-weight: bold\"> words      </span>┃  │\n",
       "│ ┡━━━━━━━━━━━╇━━━━╇━━━━━━╇━━━━━━━━━━━╇━━━━━━━━━━━╇━━━━━━━━━━━╇━━━━━━━━━━━╇━━━━━━━━━━━╇━━━━━━━━━━━╇━━━━━━━━━━━━┩  │\n",
       "│ │ <span style=\"color: #af87ff; text-decoration-color: #af87ff\">book_id  </span> │ <span style=\"color: #008080; text-decoration-color: #008080\"> 0</span> │ <span style=\"color: #008080; text-decoration-color: #008080\">   0</span> │ <span style=\"color: #af87ff; text-decoration-color: #af87ff\">/books/OL</span> │ <span style=\"color: #af87ff; text-decoration-color: #af87ff\">/books/OL</span> │ <span style=\"color: #af87ff; text-decoration-color: #af87ff\">/books/OL</span> │ <span style=\"color: #af87ff; text-decoration-color: #af87ff\">/books/OL</span> │ <span style=\"color: #008080; text-decoration-color: #008080\">     17.9</span> │ <span style=\"color: #008080; text-decoration-color: #008080\">        1</span> │ <span style=\"color: #008080; text-decoration-color: #008080\">       100</span> │  │\n",
       "│ │           │    │      │ <span style=\"color: #af87ff; text-decoration-color: #af87ff\">1148129M </span> │ <span style=\"color: #af87ff; text-decoration-color: #af87ff\">11714709M</span> │ <span style=\"color: #af87ff; text-decoration-color: #af87ff\">10001125M</span> │ <span style=\"color: #af87ff; text-decoration-color: #af87ff\">12292938M</span> │           │           │            │  │\n",
       "│ │ <span style=\"color: #af87ff; text-decoration-color: #af87ff\">title    </span> │ <span style=\"color: #008080; text-decoration-color: #008080\"> 0</span> │ <span style=\"color: #008080; text-decoration-color: #008080\">   0</span> │ <span style=\"color: #af87ff; text-decoration-color: #af87ff\">Prof Rap </span> │ <span style=\"color: #af87ff; text-decoration-color: #af87ff\">Taxonomy,</span> │ <span style=\"color: #af87ff; text-decoration-color: #af87ff\">A Course </span> │ <span style=\"color: #af87ff; text-decoration-color: #af87ff\">You can  </span> │ <span style=\"color: #008080; text-decoration-color: #008080\">     34.9</span> │ <span style=\"color: #008080; text-decoration-color: #008080\">      5.2</span> │ <span style=\"color: #008080; text-decoration-color: #008080\">       525</span> │  │\n",
       "│ │           │    │      │           │ <span style=\"color: #af87ff; text-decoration-color: #af87ff\">Distribut</span> │ <span style=\"color: #af87ff; text-decoration-color: #af87ff\">for      </span> │ <span style=\"color: #af87ff; text-decoration-color: #af87ff\">find     </span> │           │           │            │  │\n",
       "│ │           │    │      │           │ <span style=\"color: #af87ff; text-decoration-color: #af87ff\">ion, and </span> │ <span style=\"color: #af87ff; text-decoration-color: #af87ff\">Elders   </span> │ <span style=\"color: #af87ff; text-decoration-color: #af87ff\">comfort  </span> │           │           │            │  │\n",
       "│ │           │    │      │           │ <span style=\"color: #af87ff; text-decoration-color: #af87ff\">Ecology  </span> │           │ <span style=\"color: #af87ff; text-decoration-color: #af87ff\">(Christia</span> │           │           │            │  │\n",
       "│ │           │    │      │           │ <span style=\"color: #af87ff; text-decoration-color: #af87ff\">of the   </span> │           │ <span style=\"color: #af87ff; text-decoration-color: #af87ff\">n        </span> │           │           │            │  │\n",
       "│ │           │    │      │           │ <span style=\"color: #af87ff; text-decoration-color: #af87ff\">genus    </span> │           │ <span style=\"color: #af87ff; text-decoration-color: #af87ff\">counselin</span> │           │           │            │  │\n",
       "│ │           │    │      │           │ <span style=\"color: #af87ff; text-decoration-color: #af87ff\">Phaseolus</span> │           │ <span style=\"color: #af87ff; text-decoration-color: #af87ff\">g aids)  </span> │           │           │            │  │\n",
       "│ │           │    │      │           │ <span style=\"color: #af87ff; text-decoration-color: #af87ff\">(Legumino</span> │           │           │           │           │            │  │\n",
       "│ │           │    │      │           │ <span style=\"color: #af87ff; text-decoration-color: #af87ff\">sae--Papi</span> │           │           │           │           │            │  │\n",
       "│ │           │    │      │           │ <span style=\"color: #af87ff; text-decoration-color: #af87ff\">lionoidea</span> │           │           │           │           │            │  │\n",
       "│ │           │    │      │           │ <span style=\"color: #af87ff; text-decoration-color: #af87ff\">e) in    </span> │           │           │           │           │            │  │\n",
       "│ │           │    │      │           │ <span style=\"color: #af87ff; text-decoration-color: #af87ff\">North    </span> │           │           │           │           │            │  │\n",
       "│ │           │    │      │           │ <span style=\"color: #af87ff; text-decoration-color: #af87ff\">America, </span> │           │           │           │           │            │  │\n",
       "│ │           │    │      │           │ <span style=\"color: #af87ff; text-decoration-color: #af87ff\">Mexico   </span> │           │           │           │           │            │  │\n",
       "│ │           │    │      │           │ <span style=\"color: #af87ff; text-decoration-color: #af87ff\">and      </span> │           │           │           │           │            │  │\n",
       "│ │           │    │      │           │ <span style=\"color: #af87ff; text-decoration-color: #af87ff\">Central  </span> │           │           │           │           │            │  │\n",
       "│ │           │    │      │           │ <span style=\"color: #af87ff; text-decoration-color: #af87ff\">America  </span> │           │           │           │           │            │  │\n",
       "│ │ <span style=\"color: #af87ff; text-decoration-color: #af87ff\">isbn_13  </span> │ <span style=\"color: #008080; text-decoration-color: #008080\"> 0</span> │ <span style=\"color: #008080; text-decoration-color: #008080\">   0</span> │ <span style=\"color: #af87ff; text-decoration-color: #af87ff\">         </span> │ <span style=\"color: #af87ff; text-decoration-color: #af87ff\">978141207</span> │ <span style=\"color: #af87ff; text-decoration-color: #af87ff\">         </span> │ <span style=\"color: #af87ff; text-decoration-color: #af87ff\">978190504</span> │ <span style=\"color: #008080; text-decoration-color: #008080\">     11.4</span> │ <span style=\"color: #008080; text-decoration-color: #008080\">        1</span> │ <span style=\"color: #008080; text-decoration-color: #008080\">       100</span> │  │\n",
       "│ │           │    │      │           │ <span style=\"color: #af87ff; text-decoration-color: #af87ff\">8726     </span> │           │ <span style=\"color: #af87ff; text-decoration-color: #af87ff\">2302     </span> │           │           │            │  │\n",
       "│ │ <span style=\"color: #af87ff; text-decoration-color: #af87ff\">isbn_10  </span> │ <span style=\"color: #008080; text-decoration-color: #008080\"> 0</span> │ <span style=\"color: #008080; text-decoration-color: #008080\">   0</span> │ <span style=\"color: #af87ff; text-decoration-color: #af87ff\">         </span> │ <span style=\"color: #af87ff; text-decoration-color: #af87ff\">027101450</span> │ <span style=\"color: #af87ff; text-decoration-color: #af87ff\">         </span> │ <span style=\"color: #af87ff; text-decoration-color: #af87ff\">951443277</span> │ <span style=\"color: #008080; text-decoration-color: #008080\">     9.94</span> │ <span style=\"color: #008080; text-decoration-color: #008080\">        1</span> │ <span style=\"color: #008080; text-decoration-color: #008080\">       102</span> │  │\n",
       "│ │           │    │      │           │ <span style=\"color: #af87ff; text-decoration-color: #af87ff\">4,       </span> │           │ <span style=\"color: #af87ff; text-decoration-color: #af87ff\">0        </span> │           │           │            │  │\n",
       "│ │           │    │      │           │ <span style=\"color: #af87ff; text-decoration-color: #af87ff\">027101449</span> │           │           │           │           │            │  │\n",
       "│ │           │    │      │           │ <span style=\"color: #af87ff; text-decoration-color: #af87ff\">0        </span> │           │           │           │           │            │  │\n",
       "│ │ <span style=\"color: #af87ff; text-decoration-color: #af87ff\">key      </span> │ <span style=\"color: #008080; text-decoration-color: #008080\"> 0</span> │ <span style=\"color: #008080; text-decoration-color: #008080\">   0</span> │ <span style=\"color: #af87ff; text-decoration-color: #af87ff\">/books/OL</span> │ <span style=\"color: #af87ff; text-decoration-color: #af87ff\">/books/OL</span> │ <span style=\"color: #af87ff; text-decoration-color: #af87ff\">/books/OL</span> │ <span style=\"color: #af87ff; text-decoration-color: #af87ff\">/books/OL</span> │ <span style=\"color: #008080; text-decoration-color: #008080\">     17.9</span> │ <span style=\"color: #008080; text-decoration-color: #008080\">        1</span> │ <span style=\"color: #008080; text-decoration-color: #008080\">       100</span> │  │\n",
       "│ │           │    │      │ <span style=\"color: #af87ff; text-decoration-color: #af87ff\">1148129M </span> │ <span style=\"color: #af87ff; text-decoration-color: #af87ff\">11714709M</span> │ <span style=\"color: #af87ff; text-decoration-color: #af87ff\">10001125M</span> │ <span style=\"color: #af87ff; text-decoration-color: #af87ff\">12292938M</span> │           │           │            │  │\n",
       "│ │ <span style=\"color: #af87ff; text-decoration-color: #af87ff\">works    </span> │ <span style=\"color: #008080; text-decoration-color: #008080\"> 0</span> │ <span style=\"color: #008080; text-decoration-color: #008080\">   0</span> │ <span style=\"color: #af87ff; text-decoration-color: #af87ff\">         </span> │ <span style=\"color: #af87ff; text-decoration-color: #af87ff\">/works/OL</span> │ <span style=\"color: #af87ff; text-decoration-color: #af87ff\">         </span> │ <span style=\"color: #af87ff; text-decoration-color: #af87ff\">/works/OL</span> │ <span style=\"color: #008080; text-decoration-color: #008080\">     15.2</span> │ <span style=\"color: #008080; text-decoration-color: #008080\">        1</span> │ <span style=\"color: #008080; text-decoration-color: #008080\">       100</span> │  │\n",
       "│ │           │    │      │           │ <span style=\"color: #af87ff; text-decoration-color: #af87ff\">14909739W</span> │           │ <span style=\"color: #af87ff; text-decoration-color: #af87ff\">9856275W </span> │           │           │            │  │\n",
       "│ │ <span style=\"color: #af87ff; text-decoration-color: #af87ff\">publisher</span> │ <span style=\"color: #008080; text-decoration-color: #008080\"> 0</span> │ <span style=\"color: #008080; text-decoration-color: #008080\">   0</span> │ <span style=\"color: #af87ff; text-decoration-color: #af87ff\">LDA      </span> │ <span style=\"color: #af87ff; text-decoration-color: #af87ff\">European </span> │ <span style=\"color: #af87ff; text-decoration-color: #af87ff\">AIPI     </span> │ <span style=\"color: #af87ff; text-decoration-color: #af87ff\">silhouett</span> │ <span style=\"color: #008080; text-decoration-color: #008080\">     20.5</span> │ <span style=\"color: #008080; text-decoration-color: #008080\">      2.9</span> │ <span style=\"color: #008080; text-decoration-color: #008080\">       285</span> │  │\n",
       "│ │ <span style=\"color: #af87ff; text-decoration-color: #af87ff\">s        </span> │    │      │           │ <span style=\"color: #af87ff; text-decoration-color: #af87ff\">Communiti</span> │           │ <span style=\"color: #af87ff; text-decoration-color: #af87ff\">e        </span> │           │           │            │  │\n",
       "│ │           │    │      │           │ <span style=\"color: #af87ff; text-decoration-color: #af87ff\">es /     </span> │           │           │           │           │            │  │\n",
       "│ │           │    │      │           │ <span style=\"color: #af87ff; text-decoration-color: #af87ff\">Union    </span> │           │           │           │           │            │  │\n",
       "│ │           │    │      │           │ <span style=\"color: #af87ff; text-decoration-color: #af87ff\">(EUR-OP/O</span> │           │           │           │           │            │  │\n",
       "│ │           │    │      │           │ <span style=\"color: #af87ff; text-decoration-color: #af87ff\">OPEC/OPOC</span> │           │           │           │           │            │  │\n",
       "│ │           │    │      │           │ <span style=\"color: #af87ff; text-decoration-color: #af87ff\">E)       </span> │           │           │           │           │            │  │\n",
       "│ │ <span style=\"color: #af87ff; text-decoration-color: #af87ff\">publish_d</span> │ <span style=\"color: #008080; text-decoration-color: #008080\"> 0</span> │ <span style=\"color: #008080; text-decoration-color: #008080\">   0</span> │ <span style=\"color: #af87ff; text-decoration-color: #af87ff\">1992     </span> │ <span style=\"color: #af87ff; text-decoration-color: #af87ff\">September</span> │ <span style=\"color: #af87ff; text-decoration-color: #af87ff\">1977     </span> │ <span style=\"color: #af87ff; text-decoration-color: #af87ff\">September</span> │ <span style=\"color: #008080; text-decoration-color: #008080\">     11.9</span> │ <span style=\"color: #008080; text-decoration-color: #008080\">      2.3</span> │ <span style=\"color: #008080; text-decoration-color: #008080\">       234</span> │  │\n",
       "│ │ <span style=\"color: #af87ff; text-decoration-color: #af87ff\">ate      </span> │    │      │           │ <span style=\"color: #af87ff; text-decoration-color: #af87ff\">28, 2007 </span> │           │ <span style=\"color: #af87ff; text-decoration-color: #af87ff\">4, 1996  </span> │           │           │            │  │\n",
       "│ │ <span style=\"color: #af87ff; text-decoration-color: #af87ff\">publish_c</span> │ <span style=\"color: #008080; text-decoration-color: #008080\">88</span> │ <span style=\"color: #008080; text-decoration-color: #008080\">  88</span> │ <span style=\"color: #af87ff; text-decoration-color: #af87ff\">xx       </span> │ <span style=\"color: #af87ff; text-decoration-color: #af87ff\">xx       </span> │ <span style=\"color: #af87ff; text-decoration-color: #af87ff\">dk       </span> │ <span style=\"color: #af87ff; text-decoration-color: #af87ff\">xx       </span> │ <span style=\"color: #008080; text-decoration-color: #008080\">        3</span> │ <span style=\"color: #008080; text-decoration-color: #008080\">     0.17</span> │ <span style=\"color: #008080; text-decoration-color: #008080\">        17</span> │  │\n",
       "│ │ <span style=\"color: #af87ff; text-decoration-color: #af87ff\">ountry   </span> │    │      │           │           │           │           │           │           │            │  │\n",
       "│ │ <span style=\"color: #af87ff; text-decoration-color: #af87ff\">edition_n</span> │ <span style=\"color: #008080; text-decoration-color: #008080\">84</span> │ <span style=\"color: #008080; text-decoration-color: #008080\">  84</span> │ <span style=\"color: #af87ff; text-decoration-color: #af87ff\">1 edition</span> │ <span style=\"color: #af87ff; text-decoration-color: #af87ff\">25th     </span> │ <span style=\"color: #af87ff; text-decoration-color: #af87ff\">1 edition</span> │ <span style=\"color: #af87ff; text-decoration-color: #af87ff\">al-Ṭabʻah</span> │ <span style=\"color: #008080; text-decoration-color: #008080\">     14.9</span> │ <span style=\"color: #008080; text-decoration-color: #008080\">     0.41</span> │ <span style=\"color: #008080; text-decoration-color: #008080\">        41</span> │  │\n",
       "│ │ <span style=\"color: #af87ff; text-decoration-color: #af87ff\">ame      </span> │    │      │           │ <span style=\"color: #af87ff; text-decoration-color: #af87ff\">Anniversa</span> │           │ <span style=\"color: #af87ff; text-decoration-color: #af87ff\">1.       </span> │           │           │            │  │\n",
       "│ │           │    │      │           │ <span style=\"color: #af87ff; text-decoration-color: #af87ff\">ry       </span> │           │           │           │           │            │  │\n",
       "│ │           │    │      │           │ <span style=\"color: #af87ff; text-decoration-color: #af87ff\">Edition  </span> │           │           │           │           │            │  │\n",
       "│ │           │    │      │           │ <span style=\"color: #af87ff; text-decoration-color: #af87ff\">edition  </span> │           │           │           │           │            │  │\n",
       "│ │ <span style=\"color: #af87ff; text-decoration-color: #af87ff\">physical_</span> │ <span style=\"color: #008080; text-decoration-color: #008080\">12</span> │ <span style=\"color: #008080; text-decoration-color: #008080\">  12</span> │ <span style=\"color: #af87ff; text-decoration-color: #af87ff\">CD-ROM   </span> │ <span style=\"color: #af87ff; text-decoration-color: #af87ff\">Mass     </span> │ <span style=\"color: #af87ff; text-decoration-color: #af87ff\">Board    </span> │ <span style=\"color: #af87ff; text-decoration-color: #af87ff\">Unknown  </span> │ <span style=\"color: #008080; text-decoration-color: #008080\">     9.81</span> │ <span style=\"color: #008080; text-decoration-color: #008080\">        1</span> │ <span style=\"color: #008080; text-decoration-color: #008080\">       100</span> │  │\n",
       "│ │ <span style=\"color: #af87ff; text-decoration-color: #af87ff\">format   </span> │    │      │           │ <span style=\"color: #af87ff; text-decoration-color: #af87ff\">Market   </span> │ <span style=\"color: #af87ff; text-decoration-color: #af87ff\">book     </span> │ <span style=\"color: #af87ff; text-decoration-color: #af87ff\">Binding  </span> │           │           │            │  │\n",
       "│ │           │    │      │           │ <span style=\"color: #af87ff; text-decoration-color: #af87ff\">Paperback</span> │           │           │           │           │            │  │\n",
       "│ │ <span style=\"color: #af87ff; text-decoration-color: #af87ff\">physical_</span> │ <span style=\"color: #008080; text-decoration-color: #008080\">67</span> │ <span style=\"color: #008080; text-decoration-color: #008080\">  67</span> │ <span style=\"color: #af87ff; text-decoration-color: #af87ff\">9 x 6 x  </span> │ <span style=\"color: #af87ff; text-decoration-color: #af87ff\">11.8 x   </span> │ <span style=\"color: #af87ff; text-decoration-color: #af87ff\">10 x 7 x </span> │ <span style=\"color: #af87ff; text-decoration-color: #af87ff\">9.8 x 8 x</span> │ <span style=\"color: #008080; text-decoration-color: #008080\">     21.2</span> │ <span style=\"color: #008080; text-decoration-color: #008080\">        2</span> │ <span style=\"color: #008080; text-decoration-color: #008080\">       198</span> │  │\n",
       "│ │ <span style=\"color: #af87ff; text-decoration-color: #af87ff\">dimension</span> │    │      │ <span style=\"color: #af87ff; text-decoration-color: #af87ff\">1.1      </span> │ <span style=\"color: #af87ff; text-decoration-color: #af87ff\">10.8 x   </span> │ <span style=\"color: #af87ff; text-decoration-color: #af87ff\">0.8      </span> │ <span style=\"color: #af87ff; text-decoration-color: #af87ff\">1 inches </span> │           │           │            │  │\n",
       "│ │ <span style=\"color: #af87ff; text-decoration-color: #af87ff\">s        </span> │    │      │ <span style=\"color: #af87ff; text-decoration-color: #af87ff\">inches   </span> │ <span style=\"color: #af87ff; text-decoration-color: #af87ff\">0.2      </span> │ <span style=\"color: #af87ff; text-decoration-color: #af87ff\">inches   </span> │           │           │           │            │  │\n",
       "│ │           │    │      │           │ <span style=\"color: #af87ff; text-decoration-color: #af87ff\">inches   </span> │           │           │           │           │            │  │\n",
       "│ │ <span style=\"color: #af87ff; text-decoration-color: #af87ff\">weight   </span> │ <span style=\"color: #008080; text-decoration-color: #008080\">68</span> │ <span style=\"color: #008080; text-decoration-color: #008080\">  68</span> │ <span style=\"color: #af87ff; text-decoration-color: #af87ff\">1.6      </span> │ <span style=\"color: #af87ff; text-decoration-color: #af87ff\">10.6     </span> │ <span style=\"color: #af87ff; text-decoration-color: #af87ff\">0.8      </span> │ <span style=\"color: #af87ff; text-decoration-color: #af87ff\">9.8      </span> │ <span style=\"color: #008080; text-decoration-color: #008080\">     10.2</span> │ <span style=\"color: #008080; text-decoration-color: #008080\">     0.64</span> │ <span style=\"color: #008080; text-decoration-color: #008080\">        64</span> │  │\n",
       "│ │           │    │      │ <span style=\"color: #af87ff; text-decoration-color: #af87ff\">ounces   </span> │ <span style=\"color: #af87ff; text-decoration-color: #af87ff\">ounces   </span> │ <span style=\"color: #af87ff; text-decoration-color: #af87ff\">ounces   </span> │ <span style=\"color: #af87ff; text-decoration-color: #af87ff\">ounces   </span> │           │           │            │  │\n",
       "│ │ <span style=\"color: #af87ff; text-decoration-color: #af87ff\">authors  </span> │ <span style=\"color: #008080; text-decoration-color: #008080\"> 0</span> │ <span style=\"color: #008080; text-decoration-color: #008080\">   0</span> │ <span style=\"color: #af87ff; text-decoration-color: #af87ff\">         </span> │ <span style=\"color: #af87ff; text-decoration-color: #af87ff\">/authors/</span> │ <span style=\"color: #af87ff; text-decoration-color: #af87ff\">         </span> │ <span style=\"color: #af87ff; text-decoration-color: #af87ff\">/authors/</span> │ <span style=\"color: #008080; text-decoration-color: #008080\">     18.8</span> │ <span style=\"color: #008080; text-decoration-color: #008080\">      1.1</span> │ <span style=\"color: #008080; text-decoration-color: #008080\">       112</span> │  │\n",
       "│ │           │    │      │           │ <span style=\"color: #af87ff; text-decoration-color: #af87ff\">OL3679319</span> │           │ <span style=\"color: #af87ff; text-decoration-color: #af87ff\">OL9754A  </span> │           │           │            │  │\n",
       "│ │           │    │      │           │ <span style=\"color: #af87ff; text-decoration-color: #af87ff\">A,       </span> │           │           │           │           │            │  │\n",
       "│ │           │    │      │           │ <span style=\"color: #af87ff; text-decoration-color: #af87ff\">/authors/</span> │           │           │           │           │            │  │\n",
       "│ │           │    │      │           │ <span style=\"color: #af87ff; text-decoration-color: #af87ff\">OL3382982</span> │           │           │           │           │            │  │\n",
       "│ │           │    │      │           │ <span style=\"color: #af87ff; text-decoration-color: #af87ff\">A,       </span> │           │           │           │           │            │  │\n",
       "│ │           │    │      │           │ <span style=\"color: #af87ff; text-decoration-color: #af87ff\">/authors/</span> │           │           │           │           │            │  │\n",
       "│ │           │    │      │           │ <span style=\"color: #af87ff; text-decoration-color: #af87ff\">OL3679320</span> │           │           │           │           │            │  │\n",
       "│ │           │    │      │           │ <span style=\"color: #af87ff; text-decoration-color: #af87ff\">A        </span> │           │           │           │           │            │  │\n",
       "│ │ <span style=\"color: #af87ff; text-decoration-color: #af87ff\">by_statem</span> │ <span style=\"color: #008080; text-decoration-color: #008080\">89</span> │ <span style=\"color: #008080; text-decoration-color: #008080\">  89</span> │ <span style=\"color: #af87ff; text-decoration-color: #af87ff\">Steve    </span> │ <span style=\"color: #af87ff; text-decoration-color: #af87ff\">Nevada   </span> │ <span style=\"color: #af87ff; text-decoration-color: #af87ff\">Barbara  </span> │ <span style=\"color: #af87ff; text-decoration-color: #af87ff\">Volker   </span> │ <span style=\"color: #008080; text-decoration-color: #008080\">     18.1</span> │ <span style=\"color: #008080; text-decoration-color: #008080\">      0.3</span> │ <span style=\"color: #008080; text-decoration-color: #008080\">        30</span> │  │\n",
       "│ │ <span style=\"color: #af87ff; text-decoration-color: #af87ff\">ent      </span> │    │      │ <span style=\"color: #af87ff; text-decoration-color: #af87ff\">Parker.  </span> │ <span style=\"color: #af87ff; text-decoration-color: #af87ff\">State    </span> │ <span style=\"color: #af87ff; text-decoration-color: #af87ff\">Gentikow.</span> │ <span style=\"color: #af87ff; text-decoration-color: #af87ff\">Guckel.  </span> │           │           │            │  │\n",
       "│ │           │    │      │           │ <span style=\"color: #af87ff; text-decoration-color: #af87ff\">Library  </span> │           │           │           │           │            │  │\n",
       "│ │           │    │      │           │ <span style=\"color: #af87ff; text-decoration-color: #af87ff\">and      </span> │           │           │           │           │            │  │\n",
       "│ │           │    │      │           │ <span style=\"color: #af87ff; text-decoration-color: #af87ff\">Archives.</span> │           │           │           │           │            │  │\n",
       "│ └───────────┴────┴──────┴───────────┴───────────┴───────────┴───────────┴───────────┴───────────┴────────────┘  │\n",
       "╰────────────────────────────────────────────────────── End ──────────────────────────────────────────────────────╯\n",
       "</pre>\n"
      ]
     },
     "metadata": {},
     "output_type": "display_data"
    }
   ],
   "execution_count": 72
  },
  {
   "metadata": {
    "ExecuteTime": {
     "end_time": "2025-02-25T14:16:53.487575Z",
     "start_time": "2025-02-25T14:16:53.484308Z"
    }
   },
   "cell_type": "code",
   "source": "print(filtered_df.columns.duplicated().any())  # Check for duplicate column names\n",
   "id": "7ff1dd563eb2735e",
   "outputs": [
    {
     "name": "stdout",
     "output_type": "stream",
     "text": [
      "False\n"
     ]
    }
   ],
   "execution_count": 71
  },
  {
   "metadata": {
    "ExecuteTime": {
     "end_time": "2025-02-25T14:09:51.615827Z",
     "start_time": "2025-02-25T14:09:51.603974Z"
    }
   },
   "cell_type": "code",
   "source": "sampled_df = filtered_df.sample(100, random_state=42)",
   "id": "3efc64261e70abe8",
   "outputs": [],
   "execution_count": 62
  },
  {
   "metadata": {
    "ExecuteTime": {
     "end_time": "2025-02-25T14:07:39.798397Z",
     "start_time": "2025-02-25T14:07:39.656624Z"
    }
   },
   "cell_type": "code",
   "source": [
    "filtered_df = filtered_df.reset_index(drop=True)\n",
    "skimpy.skim(filtered_df.sample(10))  # Use only 100 rows"
   ],
   "id": "b5b374cf4afa9750",
   "outputs": [
    {
     "ename": "KeyError",
     "evalue": "np.int64(0)",
     "output_type": "error",
     "traceback": [
      "\u001B[0;31m---------------------------------------------------------------------------\u001B[0m",
      "\u001B[0;31mKeyError\u001B[0m                                  Traceback (most recent call last)",
      "File \u001B[0;32m~/Documents/ASCoR Intership/Invisible book/.venv/lib/python3.10/site-packages/pandas/core/indexes/base.py:3805\u001B[0m, in \u001B[0;36mIndex.get_loc\u001B[0;34m(self, key)\u001B[0m\n\u001B[1;32m   3804\u001B[0m \u001B[38;5;28;01mtry\u001B[39;00m:\n\u001B[0;32m-> 3805\u001B[0m     \u001B[38;5;28;01mreturn\u001B[39;00m \u001B[38;5;28;43mself\u001B[39;49m\u001B[38;5;241;43m.\u001B[39;49m\u001B[43m_engine\u001B[49m\u001B[38;5;241;43m.\u001B[39;49m\u001B[43mget_loc\u001B[49m\u001B[43m(\u001B[49m\u001B[43mcasted_key\u001B[49m\u001B[43m)\u001B[49m\n\u001B[1;32m   3806\u001B[0m \u001B[38;5;28;01mexcept\u001B[39;00m \u001B[38;5;167;01mKeyError\u001B[39;00m \u001B[38;5;28;01mas\u001B[39;00m err:\n",
      "File \u001B[0;32mindex.pyx:167\u001B[0m, in \u001B[0;36mpandas._libs.index.IndexEngine.get_loc\u001B[0;34m()\u001B[0m\n",
      "File \u001B[0;32mindex.pyx:196\u001B[0m, in \u001B[0;36mpandas._libs.index.IndexEngine.get_loc\u001B[0;34m()\u001B[0m\n",
      "File \u001B[0;32mpandas/_libs/hashtable_class_helper.pxi:2606\u001B[0m, in \u001B[0;36mpandas._libs.hashtable.Int64HashTable.get_item\u001B[0;34m()\u001B[0m\n",
      "File \u001B[0;32mpandas/_libs/hashtable_class_helper.pxi:2630\u001B[0m, in \u001B[0;36mpandas._libs.hashtable.Int64HashTable.get_item\u001B[0;34m()\u001B[0m\n",
      "\u001B[0;31mKeyError\u001B[0m: 0",
      "\nThe above exception was the direct cause of the following exception:\n",
      "\u001B[0;31mKeyError\u001B[0m                                  Traceback (most recent call last)",
      "Cell \u001B[0;32mIn[60], line 2\u001B[0m\n\u001B[1;32m      1\u001B[0m filtered_df \u001B[38;5;241m=\u001B[39m filtered_df\u001B[38;5;241m.\u001B[39mreset_index(drop\u001B[38;5;241m=\u001B[39m\u001B[38;5;28;01mTrue\u001B[39;00m)\n\u001B[0;32m----> 2\u001B[0m \u001B[43mskimpy\u001B[49m\u001B[38;5;241;43m.\u001B[39;49m\u001B[43mskim\u001B[49m\u001B[43m(\u001B[49m\u001B[43mfiltered_df\u001B[49m\u001B[38;5;241;43m.\u001B[39;49m\u001B[43msample\u001B[49m\u001B[43m(\u001B[49m\u001B[38;5;241;43m10\u001B[39;49m\u001B[43m)\u001B[49m\u001B[43m)\u001B[49m  \u001B[38;5;66;03m# Use only 100 rows\u001B[39;00m\n",
      "File \u001B[0;32m~/Documents/ASCoR Intership/Invisible book/.venv/lib/python3.10/site-packages/skimpy/__init__.py:789\u001B[0m, in \u001B[0;36mskim\u001B[0;34m(df_in)\u001B[0m\n\u001B[1;32m    784\u001B[0m     \u001B[38;5;28;01mraise\u001B[39;00m \u001B[38;5;167;01mNotImplementedError\u001B[39;00m(\n\u001B[1;32m    785\u001B[0m         \u001B[38;5;124m\"\u001B[39m\u001B[38;5;124mSkimpy does not currently support multi-column indexes. Try using a simple column structure.\u001B[39m\u001B[38;5;124m\"\u001B[39m\n\u001B[1;32m    786\u001B[0m     )\n\u001B[1;32m    788\u001B[0m df_out \u001B[38;5;241m=\u001B[39m _convert_to_pandas(df_in)\n\u001B[0;32m--> 789\u001B[0m grid, _ \u001B[38;5;241m=\u001B[39m _skim_computation(df_out)\n\u001B[1;32m    790\u001B[0m console \u001B[38;5;241m=\u001B[39m Console(record\u001B[38;5;241m=\u001B[39m\u001B[38;5;28;01mTrue\u001B[39;00m)\n\u001B[1;32m    791\u001B[0m console\u001B[38;5;241m.\u001B[39mprint(Panel(grid, title\u001B[38;5;241m=\u001B[39m\u001B[38;5;124m\"\u001B[39m\u001B[38;5;124mskimpy summary\u001B[39m\u001B[38;5;124m\"\u001B[39m, subtitle\u001B[38;5;241m=\u001B[39m\u001B[38;5;124m\"\u001B[39m\u001B[38;5;124mEnd\u001B[39m\u001B[38;5;124m\"\u001B[39m))\n",
      "File \u001B[0;32m~/Documents/ASCoR Intership/Invisible book/.venv/lib/python3.10/site-packages/skimpy/__init__.py:730\u001B[0m, in \u001B[0;36m_skim_computation\u001B[0;34m(df_in)\u001B[0m\n\u001B[1;32m    728\u001B[0m     xf \u001B[38;5;241m=\u001B[39m df\u001B[38;5;241m.\u001B[39mselect_dtypes(col_type)  \u001B[38;5;66;03m# type: ignore\u001B[39;00m\n\u001B[1;32m    729\u001B[0m \u001B[38;5;28;01mif\u001B[39;00m \u001B[38;5;129;01mnot\u001B[39;00m xf\u001B[38;5;241m.\u001B[39mempty:\n\u001B[0;32m--> 730\u001B[0m     sum_df \u001B[38;5;241m=\u001B[39m summary_func(xf)\n\u001B[1;32m    731\u001B[0m     \u001B[38;5;66;03m# for rich tables, we need to stringify\u001B[39;00m\n\u001B[1;32m    732\u001B[0m     \u001B[38;5;66;03m# specialised and unsupported col types, such as datetime.date,\u001B[39;00m\n\u001B[1;32m    733\u001B[0m     \u001B[38;5;66;03m# that are actually registered as object type\u001B[39;00m\n\u001B[1;32m    734\u001B[0m     col_type_to_rich \u001B[38;5;241m=\u001B[39m \u001B[38;5;28mstr\u001B[39m(col_type)\n",
      "File \u001B[0;32m~/Documents/ASCoR Intership/Invisible book/.venv/lib/python3.10/site-packages/skimpy/__init__.py:464\u001B[0m, in \u001B[0;36m_string_variable_summary_table\u001B[0;34m(xf)\u001B[0m\n\u001B[1;32m    447\u001B[0m \u001B[38;5;250m\u001B[39m\u001B[38;5;124;03m\"\"\"Summarise dataframe columns that have string type. (NB not object type).\u001B[39;00m\n\u001B[1;32m    448\u001B[0m \n\u001B[1;32m    449\u001B[0m \u001B[38;5;124;03mArgs:\u001B[39;00m\n\u001B[0;32m   (...)\u001B[0m\n\u001B[1;32m    454\u001B[0m \u001B[38;5;124;03m    determined by number of columns of xf\u001B[39;00m\n\u001B[1;32m    455\u001B[0m \u001B[38;5;124;03m\"\"\"\u001B[39;00m\n\u001B[1;32m    456\u001B[0m count_nans_vec \u001B[38;5;241m=\u001B[39m xf\u001B[38;5;241m.\u001B[39misna()\u001B[38;5;241m.\u001B[39msum()\n\u001B[1;32m    457\u001B[0m data_dict \u001B[38;5;241m=\u001B[39m {\n\u001B[1;32m    458\u001B[0m     MISSING_COL: count_nans_vec,\n\u001B[1;32m    459\u001B[0m     COMPLETE_COL: \u001B[38;5;241m100\u001B[39m \u001B[38;5;241m*\u001B[39m count_nans_vec \u001B[38;5;241m/\u001B[39m xf\u001B[38;5;241m.\u001B[39mshape[\u001B[38;5;241m0\u001B[39m],\n\u001B[1;32m    460\u001B[0m     \u001B[38;5;124m\"\u001B[39m\u001B[38;5;124mshortest\u001B[39m\u001B[38;5;124m\"\u001B[39m: pd\u001B[38;5;241m.\u001B[39mSeries(\n\u001B[1;32m    461\u001B[0m         \u001B[38;5;28mdict\u001B[39m(\n\u001B[1;32m    462\u001B[0m             \u001B[38;5;28mzip\u001B[39m(\n\u001B[1;32m    463\u001B[0m                 xf\u001B[38;5;241m.\u001B[39mcolumns,\n\u001B[0;32m--> 464\u001B[0m                 [xf\u001B[38;5;241m.\u001B[39mloc[xf[col]\u001B[38;5;241m.\u001B[39mstr\u001B[38;5;241m.\u001B[39mlen()\u001B[38;5;241m.\u001B[39margmin(), col] \u001B[38;5;28;01mfor\u001B[39;00m col \u001B[38;5;129;01min\u001B[39;00m xf\u001B[38;5;241m.\u001B[39mcolumns],  \u001B[38;5;66;03m# type: ignore\u001B[39;00m\n\u001B[1;32m    465\u001B[0m             )\n\u001B[1;32m    466\u001B[0m         )\n\u001B[1;32m    467\u001B[0m     ),\n\u001B[1;32m    468\u001B[0m     \u001B[38;5;124m\"\u001B[39m\u001B[38;5;124mlongest\u001B[39m\u001B[38;5;124m\"\u001B[39m: pd\u001B[38;5;241m.\u001B[39mSeries(\n\u001B[1;32m    469\u001B[0m         \u001B[38;5;28mdict\u001B[39m(\n\u001B[1;32m    470\u001B[0m             \u001B[38;5;28mzip\u001B[39m(\n\u001B[1;32m    471\u001B[0m                 xf\u001B[38;5;241m.\u001B[39mcolumns,\n\u001B[1;32m    472\u001B[0m                 [xf\u001B[38;5;241m.\u001B[39mloc[xf[col]\u001B[38;5;241m.\u001B[39mstr\u001B[38;5;241m.\u001B[39mlen()\u001B[38;5;241m.\u001B[39margmax(), col] \u001B[38;5;28;01mfor\u001B[39;00m col \u001B[38;5;129;01min\u001B[39;00m xf\u001B[38;5;241m.\u001B[39mcolumns],  \u001B[38;5;66;03m# type: ignore\u001B[39;00m\n\u001B[1;32m    473\u001B[0m             )\n\u001B[1;32m    474\u001B[0m         )\n\u001B[1;32m    475\u001B[0m     ),\n\u001B[1;32m    476\u001B[0m     \u001B[38;5;66;03m# Below are alphabetical min and max\u001B[39;00m\n\u001B[1;32m    477\u001B[0m     \u001B[38;5;124m\"\u001B[39m\u001B[38;5;124mmin\u001B[39m\u001B[38;5;124m\"\u001B[39m: pd\u001B[38;5;241m.\u001B[39mSeries(\n\u001B[1;32m    478\u001B[0m         \u001B[38;5;28mdict\u001B[39m(\u001B[38;5;28mzip\u001B[39m(xf\u001B[38;5;241m.\u001B[39mcolumns, [xf[col]\u001B[38;5;241m.\u001B[39msort_values()\u001B[38;5;241m.\u001B[39miloc[\u001B[38;5;241m0\u001B[39m] \u001B[38;5;28;01mfor\u001B[39;00m col \u001B[38;5;129;01min\u001B[39;00m xf\u001B[38;5;241m.\u001B[39mcolumns]))\n\u001B[1;32m    479\u001B[0m     ),\n\u001B[1;32m    480\u001B[0m     \u001B[38;5;124m\"\u001B[39m\u001B[38;5;124mmax\u001B[39m\u001B[38;5;124m\"\u001B[39m: pd\u001B[38;5;241m.\u001B[39mSeries(\n\u001B[1;32m    481\u001B[0m         \u001B[38;5;28mdict\u001B[39m(\n\u001B[1;32m    482\u001B[0m             \u001B[38;5;28mzip\u001B[39m(\n\u001B[1;32m    483\u001B[0m                 xf\u001B[38;5;241m.\u001B[39mcolumns,\n\u001B[1;32m    484\u001B[0m                 [\n\u001B[1;32m    485\u001B[0m                     xf[col]\u001B[38;5;241m.\u001B[39msort_values(ascending\u001B[38;5;241m=\u001B[39m\u001B[38;5;28;01mFalse\u001B[39;00m)\u001B[38;5;241m.\u001B[39miloc[\u001B[38;5;241m0\u001B[39m]\n\u001B[1;32m    486\u001B[0m                     \u001B[38;5;28;01mfor\u001B[39;00m col \u001B[38;5;129;01min\u001B[39;00m xf\u001B[38;5;241m.\u001B[39mcolumns\n\u001B[1;32m    487\u001B[0m                 ],\n\u001B[1;32m    488\u001B[0m             )\n\u001B[1;32m    489\u001B[0m         )\n\u001B[1;32m    490\u001B[0m     ),\n\u001B[1;32m    491\u001B[0m     \u001B[38;5;124m\"\u001B[39m\u001B[38;5;124mchars per row\u001B[39m\u001B[38;5;124m\"\u001B[39m: _round_series(\n\u001B[1;32m    492\u001B[0m         pd\u001B[38;5;241m.\u001B[39mSeries(\n\u001B[1;32m    493\u001B[0m             \u001B[38;5;28mdict\u001B[39m(\u001B[38;5;28mzip\u001B[39m(xf\u001B[38;5;241m.\u001B[39mcolumns, [xf[col]\u001B[38;5;241m.\u001B[39mstr\u001B[38;5;241m.\u001B[39mlen()\u001B[38;5;241m.\u001B[39mmean() \u001B[38;5;28;01mfor\u001B[39;00m col \u001B[38;5;129;01min\u001B[39;00m xf\u001B[38;5;241m.\u001B[39mcolumns]))\n\u001B[1;32m    494\u001B[0m         ),\n\u001B[1;32m    495\u001B[0m         \u001B[38;5;241m3\u001B[39m,\n\u001B[1;32m    496\u001B[0m     ),\n\u001B[1;32m    497\u001B[0m     \u001B[38;5;124m\"\u001B[39m\u001B[38;5;124mwords per row\u001B[39m\u001B[38;5;124m\"\u001B[39m: _round_series(\n\u001B[1;32m    498\u001B[0m         pd\u001B[38;5;241m.\u001B[39mSeries(\n\u001B[1;32m    499\u001B[0m             \u001B[38;5;28mdict\u001B[39m(\n\u001B[1;32m    500\u001B[0m                 \u001B[38;5;28mzip\u001B[39m(\n\u001B[1;32m    501\u001B[0m                     xf\u001B[38;5;241m.\u001B[39mcolumns,\n\u001B[1;32m    502\u001B[0m                     [\n\u001B[1;32m    503\u001B[0m                         xf[col]\u001B[38;5;241m.\u001B[39mstr\u001B[38;5;241m.\u001B[39mcount(\u001B[38;5;124m\"\u001B[39m\u001B[38;5;124m \u001B[39m\u001B[38;5;124m\"\u001B[39m)\u001B[38;5;241m.\u001B[39madd(\u001B[38;5;241m1\u001B[39m)\u001B[38;5;241m.\u001B[39msum() \u001B[38;5;241m/\u001B[39m \u001B[38;5;28mlen\u001B[39m(xf)\n\u001B[1;32m    504\u001B[0m                         \u001B[38;5;28;01mfor\u001B[39;00m col \u001B[38;5;129;01min\u001B[39;00m xf\u001B[38;5;241m.\u001B[39mcolumns\n\u001B[1;32m    505\u001B[0m                     ],\n\u001B[1;32m    506\u001B[0m                 )\n\u001B[1;32m    507\u001B[0m             )\n\u001B[1;32m    508\u001B[0m         )\n\u001B[1;32m    509\u001B[0m     ),\n\u001B[1;32m    510\u001B[0m     \u001B[38;5;124m\"\u001B[39m\u001B[38;5;124mtotal words\u001B[39m\u001B[38;5;124m\"\u001B[39m: pd\u001B[38;5;241m.\u001B[39mSeries(\n\u001B[1;32m    511\u001B[0m         \u001B[38;5;28mdict\u001B[39m(\n\u001B[1;32m    512\u001B[0m             \u001B[38;5;28mzip\u001B[39m(\n\u001B[1;32m    513\u001B[0m                 xf\u001B[38;5;241m.\u001B[39mcolumns,\n\u001B[1;32m    514\u001B[0m                 [xf[col]\u001B[38;5;241m.\u001B[39mstr\u001B[38;5;241m.\u001B[39mcount(\u001B[38;5;124m\"\u001B[39m\u001B[38;5;124m \u001B[39m\u001B[38;5;124m\"\u001B[39m)\u001B[38;5;241m.\u001B[39madd(\u001B[38;5;241m1\u001B[39m)\u001B[38;5;241m.\u001B[39msum() \u001B[38;5;28;01mfor\u001B[39;00m col \u001B[38;5;129;01min\u001B[39;00m xf\u001B[38;5;241m.\u001B[39mcolumns],\n\u001B[1;32m    515\u001B[0m             )\n\u001B[1;32m    516\u001B[0m         ),\n\u001B[1;32m    517\u001B[0m         dtype\u001B[38;5;241m=\u001B[39m\u001B[38;5;124m\"\u001B[39m\u001B[38;5;124mint\u001B[39m\u001B[38;5;124m\"\u001B[39m,\n\u001B[1;32m    518\u001B[0m     ),\n\u001B[1;32m    519\u001B[0m }\n\u001B[1;32m    520\u001B[0m summary_df \u001B[38;5;241m=\u001B[39m pd\u001B[38;5;241m.\u001B[39mDataFrame(data_dict)\n\u001B[1;32m    521\u001B[0m \u001B[38;5;28;01mreturn\u001B[39;00m summary_df\n",
      "File \u001B[0;32m~/Documents/ASCoR Intership/Invisible book/.venv/lib/python3.10/site-packages/skimpy/__init__.py:464\u001B[0m, in \u001B[0;36m<listcomp>\u001B[0;34m(.0)\u001B[0m\n\u001B[1;32m    447\u001B[0m \u001B[38;5;250m\u001B[39m\u001B[38;5;124;03m\"\"\"Summarise dataframe columns that have string type. (NB not object type).\u001B[39;00m\n\u001B[1;32m    448\u001B[0m \n\u001B[1;32m    449\u001B[0m \u001B[38;5;124;03mArgs:\u001B[39;00m\n\u001B[0;32m   (...)\u001B[0m\n\u001B[1;32m    454\u001B[0m \u001B[38;5;124;03m    determined by number of columns of xf\u001B[39;00m\n\u001B[1;32m    455\u001B[0m \u001B[38;5;124;03m\"\"\"\u001B[39;00m\n\u001B[1;32m    456\u001B[0m count_nans_vec \u001B[38;5;241m=\u001B[39m xf\u001B[38;5;241m.\u001B[39misna()\u001B[38;5;241m.\u001B[39msum()\n\u001B[1;32m    457\u001B[0m data_dict \u001B[38;5;241m=\u001B[39m {\n\u001B[1;32m    458\u001B[0m     MISSING_COL: count_nans_vec,\n\u001B[1;32m    459\u001B[0m     COMPLETE_COL: \u001B[38;5;241m100\u001B[39m \u001B[38;5;241m*\u001B[39m count_nans_vec \u001B[38;5;241m/\u001B[39m xf\u001B[38;5;241m.\u001B[39mshape[\u001B[38;5;241m0\u001B[39m],\n\u001B[1;32m    460\u001B[0m     \u001B[38;5;124m\"\u001B[39m\u001B[38;5;124mshortest\u001B[39m\u001B[38;5;124m\"\u001B[39m: pd\u001B[38;5;241m.\u001B[39mSeries(\n\u001B[1;32m    461\u001B[0m         \u001B[38;5;28mdict\u001B[39m(\n\u001B[1;32m    462\u001B[0m             \u001B[38;5;28mzip\u001B[39m(\n\u001B[1;32m    463\u001B[0m                 xf\u001B[38;5;241m.\u001B[39mcolumns,\n\u001B[0;32m--> 464\u001B[0m                 [\u001B[43mxf\u001B[49m\u001B[38;5;241;43m.\u001B[39;49m\u001B[43mloc\u001B[49m\u001B[43m[\u001B[49m\u001B[43mxf\u001B[49m\u001B[43m[\u001B[49m\u001B[43mcol\u001B[49m\u001B[43m]\u001B[49m\u001B[38;5;241;43m.\u001B[39;49m\u001B[43mstr\u001B[49m\u001B[38;5;241;43m.\u001B[39;49m\u001B[43mlen\u001B[49m\u001B[43m(\u001B[49m\u001B[43m)\u001B[49m\u001B[38;5;241;43m.\u001B[39;49m\u001B[43margmin\u001B[49m\u001B[43m(\u001B[49m\u001B[43m)\u001B[49m\u001B[43m,\u001B[49m\u001B[43m \u001B[49m\u001B[43mcol\u001B[49m\u001B[43m]\u001B[49m \u001B[38;5;28;01mfor\u001B[39;00m col \u001B[38;5;129;01min\u001B[39;00m xf\u001B[38;5;241m.\u001B[39mcolumns],  \u001B[38;5;66;03m# type: ignore\u001B[39;00m\n\u001B[1;32m    465\u001B[0m             )\n\u001B[1;32m    466\u001B[0m         )\n\u001B[1;32m    467\u001B[0m     ),\n\u001B[1;32m    468\u001B[0m     \u001B[38;5;124m\"\u001B[39m\u001B[38;5;124mlongest\u001B[39m\u001B[38;5;124m\"\u001B[39m: pd\u001B[38;5;241m.\u001B[39mSeries(\n\u001B[1;32m    469\u001B[0m         \u001B[38;5;28mdict\u001B[39m(\n\u001B[1;32m    470\u001B[0m             \u001B[38;5;28mzip\u001B[39m(\n\u001B[1;32m    471\u001B[0m                 xf\u001B[38;5;241m.\u001B[39mcolumns,\n\u001B[1;32m    472\u001B[0m                 [xf\u001B[38;5;241m.\u001B[39mloc[xf[col]\u001B[38;5;241m.\u001B[39mstr\u001B[38;5;241m.\u001B[39mlen()\u001B[38;5;241m.\u001B[39margmax(), col] \u001B[38;5;28;01mfor\u001B[39;00m col \u001B[38;5;129;01min\u001B[39;00m xf\u001B[38;5;241m.\u001B[39mcolumns],  \u001B[38;5;66;03m# type: ignore\u001B[39;00m\n\u001B[1;32m    473\u001B[0m             )\n\u001B[1;32m    474\u001B[0m         )\n\u001B[1;32m    475\u001B[0m     ),\n\u001B[1;32m    476\u001B[0m     \u001B[38;5;66;03m# Below are alphabetical min and max\u001B[39;00m\n\u001B[1;32m    477\u001B[0m     \u001B[38;5;124m\"\u001B[39m\u001B[38;5;124mmin\u001B[39m\u001B[38;5;124m\"\u001B[39m: pd\u001B[38;5;241m.\u001B[39mSeries(\n\u001B[1;32m    478\u001B[0m         \u001B[38;5;28mdict\u001B[39m(\u001B[38;5;28mzip\u001B[39m(xf\u001B[38;5;241m.\u001B[39mcolumns, [xf[col]\u001B[38;5;241m.\u001B[39msort_values()\u001B[38;5;241m.\u001B[39miloc[\u001B[38;5;241m0\u001B[39m] \u001B[38;5;28;01mfor\u001B[39;00m col \u001B[38;5;129;01min\u001B[39;00m xf\u001B[38;5;241m.\u001B[39mcolumns]))\n\u001B[1;32m    479\u001B[0m     ),\n\u001B[1;32m    480\u001B[0m     \u001B[38;5;124m\"\u001B[39m\u001B[38;5;124mmax\u001B[39m\u001B[38;5;124m\"\u001B[39m: pd\u001B[38;5;241m.\u001B[39mSeries(\n\u001B[1;32m    481\u001B[0m         \u001B[38;5;28mdict\u001B[39m(\n\u001B[1;32m    482\u001B[0m             \u001B[38;5;28mzip\u001B[39m(\n\u001B[1;32m    483\u001B[0m                 xf\u001B[38;5;241m.\u001B[39mcolumns,\n\u001B[1;32m    484\u001B[0m                 [\n\u001B[1;32m    485\u001B[0m                     xf[col]\u001B[38;5;241m.\u001B[39msort_values(ascending\u001B[38;5;241m=\u001B[39m\u001B[38;5;28;01mFalse\u001B[39;00m)\u001B[38;5;241m.\u001B[39miloc[\u001B[38;5;241m0\u001B[39m]\n\u001B[1;32m    486\u001B[0m                     \u001B[38;5;28;01mfor\u001B[39;00m col \u001B[38;5;129;01min\u001B[39;00m xf\u001B[38;5;241m.\u001B[39mcolumns\n\u001B[1;32m    487\u001B[0m                 ],\n\u001B[1;32m    488\u001B[0m             )\n\u001B[1;32m    489\u001B[0m         )\n\u001B[1;32m    490\u001B[0m     ),\n\u001B[1;32m    491\u001B[0m     \u001B[38;5;124m\"\u001B[39m\u001B[38;5;124mchars per row\u001B[39m\u001B[38;5;124m\"\u001B[39m: _round_series(\n\u001B[1;32m    492\u001B[0m         pd\u001B[38;5;241m.\u001B[39mSeries(\n\u001B[1;32m    493\u001B[0m             \u001B[38;5;28mdict\u001B[39m(\u001B[38;5;28mzip\u001B[39m(xf\u001B[38;5;241m.\u001B[39mcolumns, [xf[col]\u001B[38;5;241m.\u001B[39mstr\u001B[38;5;241m.\u001B[39mlen()\u001B[38;5;241m.\u001B[39mmean() \u001B[38;5;28;01mfor\u001B[39;00m col \u001B[38;5;129;01min\u001B[39;00m xf\u001B[38;5;241m.\u001B[39mcolumns]))\n\u001B[1;32m    494\u001B[0m         ),\n\u001B[1;32m    495\u001B[0m         \u001B[38;5;241m3\u001B[39m,\n\u001B[1;32m    496\u001B[0m     ),\n\u001B[1;32m    497\u001B[0m     \u001B[38;5;124m\"\u001B[39m\u001B[38;5;124mwords per row\u001B[39m\u001B[38;5;124m\"\u001B[39m: _round_series(\n\u001B[1;32m    498\u001B[0m         pd\u001B[38;5;241m.\u001B[39mSeries(\n\u001B[1;32m    499\u001B[0m             \u001B[38;5;28mdict\u001B[39m(\n\u001B[1;32m    500\u001B[0m                 \u001B[38;5;28mzip\u001B[39m(\n\u001B[1;32m    501\u001B[0m                     xf\u001B[38;5;241m.\u001B[39mcolumns,\n\u001B[1;32m    502\u001B[0m                     [\n\u001B[1;32m    503\u001B[0m                         xf[col]\u001B[38;5;241m.\u001B[39mstr\u001B[38;5;241m.\u001B[39mcount(\u001B[38;5;124m\"\u001B[39m\u001B[38;5;124m \u001B[39m\u001B[38;5;124m\"\u001B[39m)\u001B[38;5;241m.\u001B[39madd(\u001B[38;5;241m1\u001B[39m)\u001B[38;5;241m.\u001B[39msum() \u001B[38;5;241m/\u001B[39m \u001B[38;5;28mlen\u001B[39m(xf)\n\u001B[1;32m    504\u001B[0m                         \u001B[38;5;28;01mfor\u001B[39;00m col \u001B[38;5;129;01min\u001B[39;00m xf\u001B[38;5;241m.\u001B[39mcolumns\n\u001B[1;32m    505\u001B[0m                     ],\n\u001B[1;32m    506\u001B[0m                 )\n\u001B[1;32m    507\u001B[0m             )\n\u001B[1;32m    508\u001B[0m         )\n\u001B[1;32m    509\u001B[0m     ),\n\u001B[1;32m    510\u001B[0m     \u001B[38;5;124m\"\u001B[39m\u001B[38;5;124mtotal words\u001B[39m\u001B[38;5;124m\"\u001B[39m: pd\u001B[38;5;241m.\u001B[39mSeries(\n\u001B[1;32m    511\u001B[0m         \u001B[38;5;28mdict\u001B[39m(\n\u001B[1;32m    512\u001B[0m             \u001B[38;5;28mzip\u001B[39m(\n\u001B[1;32m    513\u001B[0m                 xf\u001B[38;5;241m.\u001B[39mcolumns,\n\u001B[1;32m    514\u001B[0m                 [xf[col]\u001B[38;5;241m.\u001B[39mstr\u001B[38;5;241m.\u001B[39mcount(\u001B[38;5;124m\"\u001B[39m\u001B[38;5;124m \u001B[39m\u001B[38;5;124m\"\u001B[39m)\u001B[38;5;241m.\u001B[39madd(\u001B[38;5;241m1\u001B[39m)\u001B[38;5;241m.\u001B[39msum() \u001B[38;5;28;01mfor\u001B[39;00m col \u001B[38;5;129;01min\u001B[39;00m xf\u001B[38;5;241m.\u001B[39mcolumns],\n\u001B[1;32m    515\u001B[0m             )\n\u001B[1;32m    516\u001B[0m         ),\n\u001B[1;32m    517\u001B[0m         dtype\u001B[38;5;241m=\u001B[39m\u001B[38;5;124m\"\u001B[39m\u001B[38;5;124mint\u001B[39m\u001B[38;5;124m\"\u001B[39m,\n\u001B[1;32m    518\u001B[0m     ),\n\u001B[1;32m    519\u001B[0m }\n\u001B[1;32m    520\u001B[0m summary_df \u001B[38;5;241m=\u001B[39m pd\u001B[38;5;241m.\u001B[39mDataFrame(data_dict)\n\u001B[1;32m    521\u001B[0m \u001B[38;5;28;01mreturn\u001B[39;00m summary_df\n",
      "File \u001B[0;32m~/Documents/ASCoR Intership/Invisible book/.venv/lib/python3.10/site-packages/pandas/core/indexing.py:1183\u001B[0m, in \u001B[0;36m_LocationIndexer.__getitem__\u001B[0;34m(self, key)\u001B[0m\n\u001B[1;32m   1181\u001B[0m     key \u001B[38;5;241m=\u001B[39m \u001B[38;5;28mtuple\u001B[39m(com\u001B[38;5;241m.\u001B[39mapply_if_callable(x, \u001B[38;5;28mself\u001B[39m\u001B[38;5;241m.\u001B[39mobj) \u001B[38;5;28;01mfor\u001B[39;00m x \u001B[38;5;129;01min\u001B[39;00m key)\n\u001B[1;32m   1182\u001B[0m     \u001B[38;5;28;01mif\u001B[39;00m \u001B[38;5;28mself\u001B[39m\u001B[38;5;241m.\u001B[39m_is_scalar_access(key):\n\u001B[0;32m-> 1183\u001B[0m         \u001B[38;5;28;01mreturn\u001B[39;00m \u001B[38;5;28;43mself\u001B[39;49m\u001B[38;5;241;43m.\u001B[39;49m\u001B[43mobj\u001B[49m\u001B[38;5;241;43m.\u001B[39;49m\u001B[43m_get_value\u001B[49m\u001B[43m(\u001B[49m\u001B[38;5;241;43m*\u001B[39;49m\u001B[43mkey\u001B[49m\u001B[43m,\u001B[49m\u001B[43m \u001B[49m\u001B[43mtakeable\u001B[49m\u001B[38;5;241;43m=\u001B[39;49m\u001B[38;5;28;43mself\u001B[39;49m\u001B[38;5;241;43m.\u001B[39;49m\u001B[43m_takeable\u001B[49m\u001B[43m)\u001B[49m\n\u001B[1;32m   1184\u001B[0m     \u001B[38;5;28;01mreturn\u001B[39;00m \u001B[38;5;28mself\u001B[39m\u001B[38;5;241m.\u001B[39m_getitem_tuple(key)\n\u001B[1;32m   1185\u001B[0m \u001B[38;5;28;01melse\u001B[39;00m:\n\u001B[1;32m   1186\u001B[0m     \u001B[38;5;66;03m# we by definition only have the 0th axis\u001B[39;00m\n",
      "File \u001B[0;32m~/Documents/ASCoR Intership/Invisible book/.venv/lib/python3.10/site-packages/pandas/core/frame.py:4221\u001B[0m, in \u001B[0;36mDataFrame._get_value\u001B[0;34m(self, index, col, takeable)\u001B[0m\n\u001B[1;32m   4215\u001B[0m engine \u001B[38;5;241m=\u001B[39m \u001B[38;5;28mself\u001B[39m\u001B[38;5;241m.\u001B[39mindex\u001B[38;5;241m.\u001B[39m_engine\n\u001B[1;32m   4217\u001B[0m \u001B[38;5;28;01mif\u001B[39;00m \u001B[38;5;129;01mnot\u001B[39;00m \u001B[38;5;28misinstance\u001B[39m(\u001B[38;5;28mself\u001B[39m\u001B[38;5;241m.\u001B[39mindex, MultiIndex):\n\u001B[1;32m   4218\u001B[0m     \u001B[38;5;66;03m# CategoricalIndex: Trying to use the engine fastpath may give incorrect\u001B[39;00m\n\u001B[1;32m   4219\u001B[0m     \u001B[38;5;66;03m#  results if our categories are integers that dont match our codes\u001B[39;00m\n\u001B[1;32m   4220\u001B[0m     \u001B[38;5;66;03m# IntervalIndex: IntervalTree has no get_loc\u001B[39;00m\n\u001B[0;32m-> 4221\u001B[0m     row \u001B[38;5;241m=\u001B[39m \u001B[38;5;28;43mself\u001B[39;49m\u001B[38;5;241;43m.\u001B[39;49m\u001B[43mindex\u001B[49m\u001B[38;5;241;43m.\u001B[39;49m\u001B[43mget_loc\u001B[49m\u001B[43m(\u001B[49m\u001B[43mindex\u001B[49m\u001B[43m)\u001B[49m\n\u001B[1;32m   4222\u001B[0m     \u001B[38;5;28;01mreturn\u001B[39;00m series\u001B[38;5;241m.\u001B[39m_values[row]\n\u001B[1;32m   4224\u001B[0m \u001B[38;5;66;03m# For MultiIndex going through engine effectively restricts us to\u001B[39;00m\n\u001B[1;32m   4225\u001B[0m \u001B[38;5;66;03m#  same-length tuples; see test_get_set_value_no_partial_indexing\u001B[39;00m\n",
      "File \u001B[0;32m~/Documents/ASCoR Intership/Invisible book/.venv/lib/python3.10/site-packages/pandas/core/indexes/base.py:3812\u001B[0m, in \u001B[0;36mIndex.get_loc\u001B[0;34m(self, key)\u001B[0m\n\u001B[1;32m   3807\u001B[0m     \u001B[38;5;28;01mif\u001B[39;00m \u001B[38;5;28misinstance\u001B[39m(casted_key, \u001B[38;5;28mslice\u001B[39m) \u001B[38;5;129;01mor\u001B[39;00m (\n\u001B[1;32m   3808\u001B[0m         \u001B[38;5;28misinstance\u001B[39m(casted_key, abc\u001B[38;5;241m.\u001B[39mIterable)\n\u001B[1;32m   3809\u001B[0m         \u001B[38;5;129;01mand\u001B[39;00m \u001B[38;5;28many\u001B[39m(\u001B[38;5;28misinstance\u001B[39m(x, \u001B[38;5;28mslice\u001B[39m) \u001B[38;5;28;01mfor\u001B[39;00m x \u001B[38;5;129;01min\u001B[39;00m casted_key)\n\u001B[1;32m   3810\u001B[0m     ):\n\u001B[1;32m   3811\u001B[0m         \u001B[38;5;28;01mraise\u001B[39;00m InvalidIndexError(key)\n\u001B[0;32m-> 3812\u001B[0m     \u001B[38;5;28;01mraise\u001B[39;00m \u001B[38;5;167;01mKeyError\u001B[39;00m(key) \u001B[38;5;28;01mfrom\u001B[39;00m\u001B[38;5;250m \u001B[39m\u001B[38;5;21;01merr\u001B[39;00m\n\u001B[1;32m   3813\u001B[0m \u001B[38;5;28;01mexcept\u001B[39;00m \u001B[38;5;167;01mTypeError\u001B[39;00m:\n\u001B[1;32m   3814\u001B[0m     \u001B[38;5;66;03m# If we have a listlike key, _check_indexing_error will raise\u001B[39;00m\n\u001B[1;32m   3815\u001B[0m     \u001B[38;5;66;03m#  InvalidIndexError. Otherwise we fall through and re-raise\u001B[39;00m\n\u001B[1;32m   3816\u001B[0m     \u001B[38;5;66;03m#  the TypeError.\u001B[39;00m\n\u001B[1;32m   3817\u001B[0m     \u001B[38;5;28mself\u001B[39m\u001B[38;5;241m.\u001B[39m_check_indexing_error(key)\n",
      "\u001B[0;31mKeyError\u001B[0m: np.int64(0)"
     ]
    }
   ],
   "execution_count": 60
  },
  {
   "metadata": {},
   "cell_type": "code",
   "outputs": [],
   "execution_count": null,
   "source": [
    "\n",
    "# Run skimpy.skim() safely\n",
    "skimpy.skim(final_df)"
   ],
   "id": "98a9bc5978e9a841"
  },
  {
   "metadata": {
    "ExecuteTime": {
     "end_time": "2025-02-25T13:22:56.486594Z",
     "start_time": "2025-02-25T13:22:40.619607Z"
    }
   },
   "cell_type": "code",
   "source": [
    "import skimpy\n",
    "skimpy.skim(final_df)"
   ],
   "id": "7be83bbf36a1d347",
   "outputs": [
    {
     "ename": "AttributeError",
     "evalue": "'DataFrame' object has no attribute 'dtype'",
     "output_type": "error",
     "traceback": [
      "\u001B[0;31m---------------------------------------------------------------------------\u001B[0m",
      "\u001B[0;31mAttributeError\u001B[0m                            Traceback (most recent call last)",
      "\u001B[0;32m/var/folders/x4/gm45xf454c35hp6cqvycld8w0000gn/T/ipykernel_56671/3904157389.py\u001B[0m in \u001B[0;36m?\u001B[0;34m()\u001B[0m\n\u001B[1;32m      1\u001B[0m \u001B[0;32mimport\u001B[0m \u001B[0mskimpy\u001B[0m\u001B[0;34m\u001B[0m\u001B[0;34m\u001B[0m\u001B[0m\n\u001B[0;32m----> 2\u001B[0;31m \u001B[0mskimpy\u001B[0m\u001B[0;34m.\u001B[0m\u001B[0mskim\u001B[0m\u001B[0;34m(\u001B[0m\u001B[0mfinal_df\u001B[0m\u001B[0;34m)\u001B[0m\u001B[0;34m\u001B[0m\u001B[0;34m\u001B[0m\u001B[0m\n\u001B[0m",
      "\u001B[0;32m~/Documents/ASCoR Intership/Invisible book/.venv/lib/python3.10/site-packages/skimpy/__init__.py\u001B[0m in \u001B[0;36m?\u001B[0;34m(df_in)\u001B[0m\n\u001B[1;32m    785\u001B[0m             \u001B[0;34m\"Skimpy does not currently support multi-column indexes. Try using a simple column structure.\"\u001B[0m\u001B[0;34m\u001B[0m\u001B[0;34m\u001B[0m\u001B[0m\n\u001B[1;32m    786\u001B[0m         )\n\u001B[1;32m    787\u001B[0m \u001B[0;34m\u001B[0m\u001B[0m\n\u001B[1;32m    788\u001B[0m     \u001B[0mdf_out\u001B[0m \u001B[0;34m=\u001B[0m \u001B[0m_convert_to_pandas\u001B[0m\u001B[0;34m(\u001B[0m\u001B[0mdf_in\u001B[0m\u001B[0;34m)\u001B[0m\u001B[0;34m\u001B[0m\u001B[0;34m\u001B[0m\u001B[0m\n\u001B[0;32m--> 789\u001B[0;31m     \u001B[0mgrid\u001B[0m\u001B[0;34m,\u001B[0m \u001B[0m_\u001B[0m \u001B[0;34m=\u001B[0m \u001B[0m_skim_computation\u001B[0m\u001B[0;34m(\u001B[0m\u001B[0mdf_out\u001B[0m\u001B[0;34m)\u001B[0m\u001B[0;34m\u001B[0m\u001B[0;34m\u001B[0m\u001B[0m\n\u001B[0m\u001B[1;32m    790\u001B[0m     \u001B[0mconsole\u001B[0m \u001B[0;34m=\u001B[0m \u001B[0mConsole\u001B[0m\u001B[0;34m(\u001B[0m\u001B[0mrecord\u001B[0m\u001B[0;34m=\u001B[0m\u001B[0;32mTrue\u001B[0m\u001B[0;34m)\u001B[0m\u001B[0;34m\u001B[0m\u001B[0;34m\u001B[0m\u001B[0m\n\u001B[1;32m    791\u001B[0m     \u001B[0mconsole\u001B[0m\u001B[0;34m.\u001B[0m\u001B[0mprint\u001B[0m\u001B[0;34m(\u001B[0m\u001B[0mPanel\u001B[0m\u001B[0;34m(\u001B[0m\u001B[0mgrid\u001B[0m\u001B[0;34m,\u001B[0m \u001B[0mtitle\u001B[0m\u001B[0;34m=\u001B[0m\u001B[0;34m\"skimpy summary\"\u001B[0m\u001B[0;34m,\u001B[0m \u001B[0msubtitle\u001B[0m\u001B[0;34m=\u001B[0m\u001B[0;34m\"End\"\u001B[0m\u001B[0;34m)\u001B[0m\u001B[0;34m)\u001B[0m\u001B[0;34m\u001B[0m\u001B[0;34m\u001B[0m\u001B[0m\n",
      "\u001B[0;32m~/Documents/ASCoR Intership/Invisible book/.venv/lib/python3.10/site-packages/skimpy/__init__.py\u001B[0m in \u001B[0;36m?\u001B[0;34m(df_in)\u001B[0m\n\u001B[1;32m    726\u001B[0m             \u001B[0mxf\u001B[0m \u001B[0;34m=\u001B[0m \u001B[0mdf\u001B[0m\u001B[0;34m.\u001B[0m\u001B[0mselect_dtypes\u001B[0m\u001B[0;34m(\u001B[0m\u001B[0mcol_type\u001B[0m\u001B[0;34m,\u001B[0m \u001B[0mexclude\u001B[0m\u001B[0;34m=\u001B[0m\u001B[0;34m[\u001B[0m\u001B[0;34m\"datetime\"\u001B[0m\u001B[0;34m,\u001B[0m \u001B[0;34m\"timedelta\"\u001B[0m\u001B[0;34m,\u001B[0m \u001B[0;34m\"object\"\u001B[0m\u001B[0;34m]\u001B[0m\u001B[0;34m)\u001B[0m  \u001B[0;31m# type: ignore\u001B[0m\u001B[0;34m\u001B[0m\u001B[0;34m\u001B[0m\u001B[0m\n\u001B[1;32m    727\u001B[0m         \u001B[0;32melse\u001B[0m\u001B[0;34m:\u001B[0m\u001B[0;34m\u001B[0m\u001B[0;34m\u001B[0m\u001B[0m\n\u001B[1;32m    728\u001B[0m             \u001B[0mxf\u001B[0m \u001B[0;34m=\u001B[0m \u001B[0mdf\u001B[0m\u001B[0;34m.\u001B[0m\u001B[0mselect_dtypes\u001B[0m\u001B[0;34m(\u001B[0m\u001B[0mcol_type\u001B[0m\u001B[0;34m)\u001B[0m  \u001B[0;31m# type: ignore\u001B[0m\u001B[0;34m\u001B[0m\u001B[0;34m\u001B[0m\u001B[0m\n\u001B[1;32m    729\u001B[0m         \u001B[0;32mif\u001B[0m \u001B[0;32mnot\u001B[0m \u001B[0mxf\u001B[0m\u001B[0;34m.\u001B[0m\u001B[0mempty\u001B[0m\u001B[0;34m:\u001B[0m\u001B[0;34m\u001B[0m\u001B[0;34m\u001B[0m\u001B[0m\n\u001B[0;32m--> 730\u001B[0;31m             \u001B[0msum_df\u001B[0m \u001B[0;34m=\u001B[0m \u001B[0msummary_func\u001B[0m\u001B[0;34m(\u001B[0m\u001B[0mxf\u001B[0m\u001B[0;34m)\u001B[0m\u001B[0;34m\u001B[0m\u001B[0;34m\u001B[0m\u001B[0m\n\u001B[0m\u001B[1;32m    731\u001B[0m             \u001B[0;31m# for rich tables, we need to stringify\u001B[0m\u001B[0;34m\u001B[0m\u001B[0;34m\u001B[0m\u001B[0m\n\u001B[1;32m    732\u001B[0m             \u001B[0;31m# specialised and unsupported col types, such as datetime.date,\u001B[0m\u001B[0;34m\u001B[0m\u001B[0;34m\u001B[0m\u001B[0m\n\u001B[1;32m    733\u001B[0m             \u001B[0;31m# that are actually registered as object type\u001B[0m\u001B[0;34m\u001B[0m\u001B[0;34m\u001B[0m\u001B[0m\n",
      "\u001B[0;32m~/Documents/ASCoR Intership/Invisible book/.venv/lib/python3.10/site-packages/skimpy/__init__.py\u001B[0m in \u001B[0;36m?\u001B[0;34m(xf)\u001B[0m\n\u001B[1;32m    385\u001B[0m     \u001B[0mdata_dict\u001B[0m\u001B[0;34m.\u001B[0m\u001B[0mupdate\u001B[0m\u001B[0;34m(\u001B[0m\u001B[0mquantiles_dict\u001B[0m\u001B[0;34m)\u001B[0m\u001B[0;34m\u001B[0m\u001B[0;34m\u001B[0m\u001B[0m\n\u001B[1;32m    386\u001B[0m     \u001B[0;31m# Create histogram using unicode block elements\u001B[0m\u001B[0;34m\u001B[0m\u001B[0;34m\u001B[0m\u001B[0m\n\u001B[1;32m    387\u001B[0m     \u001B[0;31m# https://en.wikipedia.org/wiki/Block_Elements\u001B[0m\u001B[0;34m\u001B[0m\u001B[0;34m\u001B[0m\u001B[0m\n\u001B[1;32m    388\u001B[0m     hist_series = pd.concat(\n\u001B[0;32m--> 389\u001B[0;31m         \u001B[0;34m[\u001B[0m\u001B[0m_create_unicode_hist\u001B[0m\u001B[0;34m(\u001B[0m\u001B[0mxf\u001B[0m\u001B[0;34m[\u001B[0m\u001B[0mcol\u001B[0m\u001B[0;34m]\u001B[0m\u001B[0;34m.\u001B[0m\u001B[0mdropna\u001B[0m\u001B[0;34m(\u001B[0m\u001B[0;34m)\u001B[0m\u001B[0;34m)\u001B[0m \u001B[0;32mfor\u001B[0m \u001B[0mcol\u001B[0m \u001B[0;32min\u001B[0m \u001B[0mxf\u001B[0m\u001B[0;34m.\u001B[0m\u001B[0mcolumns\u001B[0m\u001B[0;34m]\u001B[0m\u001B[0;34m,\u001B[0m \u001B[0maxis\u001B[0m\u001B[0;34m=\u001B[0m\u001B[0;36m0\u001B[0m\u001B[0;34m\u001B[0m\u001B[0;34m\u001B[0m\u001B[0m\n\u001B[0m\u001B[1;32m    390\u001B[0m     )\n\u001B[1;32m    391\u001B[0m     \u001B[0mdata_dict\u001B[0m\u001B[0;34m.\u001B[0m\u001B[0mupdate\u001B[0m\u001B[0;34m(\u001B[0m\u001B[0;34m{\u001B[0m\u001B[0;34m\"hist\"\u001B[0m\u001B[0;34m:\u001B[0m \u001B[0mhist_series\u001B[0m\u001B[0;34m}\u001B[0m\u001B[0;34m)\u001B[0m\u001B[0;34m\u001B[0m\u001B[0;34m\u001B[0m\u001B[0m\n\u001B[1;32m    392\u001B[0m     \u001B[0msummary_df\u001B[0m \u001B[0;34m=\u001B[0m \u001B[0mpd\u001B[0m\u001B[0;34m.\u001B[0m\u001B[0mDataFrame\u001B[0m\u001B[0;34m(\u001B[0m\u001B[0mdata_dict\u001B[0m\u001B[0;34m)\u001B[0m\u001B[0;34m\u001B[0m\u001B[0;34m\u001B[0m\u001B[0m\n",
      "\u001B[0;32m~/Documents/ASCoR Intership/Invisible book/.venv/lib/python3.10/site-packages/skimpy/__init__.py\u001B[0m in \u001B[0;36m?\u001B[0;34m(.0)\u001B[0m\n\u001B[0;32m--> 389\u001B[0;31m \u001B[0;32mdef\u001B[0m \u001B[0m_numeric_variable_summary_table\u001B[0m\u001B[0;34m(\u001B[0m\u001B[0mxf\u001B[0m\u001B[0;34m:\u001B[0m \u001B[0mpd\u001B[0m\u001B[0;34m.\u001B[0m\u001B[0mDataFrame\u001B[0m\u001B[0;34m)\u001B[0m \u001B[0;34m->\u001B[0m \u001B[0mpd\u001B[0m\u001B[0;34m.\u001B[0m\u001B[0mDataFrame\u001B[0m\u001B[0;34m:\u001B[0m\u001B[0;34m\u001B[0m\u001B[0;34m\u001B[0m\u001B[0m\n\u001B[0m\u001B[1;32m    390\u001B[0m     \"\"\"Summarise dataframe columns that have numeric type.\n\u001B[1;32m    391\u001B[0m     \u001B[0mWARNING\u001B[0m\u001B[0;34m:\u001B[0m \u001B[0mthis\u001B[0m \u001B[0musually\u001B[0m \u001B[0mrounds\u001B[0m \u001B[0mto\u001B[0m \u001B[0;36m4\u001B[0m \u001B[0msignificant\u001B[0m \u001B[0mfigures\u001B[0m\u001B[0;34m.\u001B[0m\u001B[0;34m\u001B[0m\u001B[0;34m\u001B[0m\u001B[0m\n\u001B[1;32m    392\u001B[0m \u001B[0;34m\u001B[0m\u001B[0m\n",
      "\u001B[0;32m~/Documents/ASCoR Intership/Invisible book/.venv/lib/python3.10/site-packages/skimpy/__init__.py\u001B[0m in \u001B[0;36m?\u001B[0;34m(series)\u001B[0m\n\u001B[1;32m    319\u001B[0m     \u001B[0mReturns\u001B[0m\u001B[0;34m:\u001B[0m\u001B[0;34m\u001B[0m\u001B[0;34m\u001B[0m\u001B[0m\n\u001B[1;32m    320\u001B[0m         \u001B[0mpd\u001B[0m\u001B[0;34m.\u001B[0m\u001B[0mSeries\u001B[0m\u001B[0;34m:\u001B[0m \u001B[0mIndex\u001B[0m \u001B[0mof\u001B[0m \u001B[0mseries\u001B[0m \u001B[0mname\u001B[0m \u001B[0;32mand\u001B[0m \u001B[0mentry\u001B[0m \u001B[0;32mwith\u001B[0m \u001B[0municode\u001B[0m \u001B[0mhistogram\u001B[0m \u001B[0;32mas\u001B[0m\u001B[0;34m\u001B[0m\u001B[0;34m\u001B[0m\u001B[0m\n\u001B[1;32m    321\u001B[0m         \u001B[0ma\u001B[0m \u001B[0mstring\u001B[0m\u001B[0;34m,\u001B[0m \u001B[0meg\u001B[0m \u001B[0;34m'▃▅█'\u001B[0m\u001B[0;34m\u001B[0m\u001B[0;34m\u001B[0m\u001B[0m\n\u001B[1;32m    322\u001B[0m     \"\"\"\n\u001B[0;32m--> 323\u001B[0;31m     \u001B[0;32mif\u001B[0m \u001B[0mseries\u001B[0m\u001B[0;34m.\u001B[0m\u001B[0mdtype\u001B[0m \u001B[0;34m==\u001B[0m \u001B[0;34m\"bool\"\u001B[0m\u001B[0;34m:\u001B[0m\u001B[0;34m\u001B[0m\u001B[0;34m\u001B[0m\u001B[0m\n\u001B[0m\u001B[1;32m    324\u001B[0m         \u001B[0mseries\u001B[0m \u001B[0;34m=\u001B[0m \u001B[0mseries\u001B[0m\u001B[0;34m.\u001B[0m\u001B[0mastype\u001B[0m\u001B[0;34m(\u001B[0m\u001B[0;34m\"int\"\u001B[0m\u001B[0;34m)\u001B[0m\u001B[0;34m\u001B[0m\u001B[0;34m\u001B[0m\u001B[0m\n\u001B[1;32m    325\u001B[0m     \u001B[0mhist\u001B[0m\u001B[0;34m,\u001B[0m \u001B[0m_\u001B[0m \u001B[0;34m=\u001B[0m \u001B[0mnp\u001B[0m\u001B[0;34m.\u001B[0m\u001B[0mhistogram\u001B[0m\u001B[0;34m(\u001B[0m\u001B[0mseries\u001B[0m\u001B[0;34m,\u001B[0m \u001B[0mdensity\u001B[0m\u001B[0;34m=\u001B[0m\u001B[0;32mTrue\u001B[0m\u001B[0;34m,\u001B[0m \u001B[0mbins\u001B[0m\u001B[0;34m=\u001B[0m\u001B[0mHIST_BINS\u001B[0m\u001B[0;34m)\u001B[0m\u001B[0;34m\u001B[0m\u001B[0;34m\u001B[0m\u001B[0m\n\u001B[1;32m    326\u001B[0m     \u001B[0mhist\u001B[0m \u001B[0;34m=\u001B[0m \u001B[0mhist\u001B[0m \u001B[0;34m/\u001B[0m \u001B[0mhist\u001B[0m\u001B[0;34m.\u001B[0m\u001B[0mmax\u001B[0m\u001B[0;34m(\u001B[0m\u001B[0;34m)\u001B[0m\u001B[0;34m\u001B[0m\u001B[0;34m\u001B[0m\u001B[0m\n",
      "\u001B[0;32m~/Documents/ASCoR Intership/Invisible book/.venv/lib/python3.10/site-packages/pandas/core/generic.py\u001B[0m in \u001B[0;36m?\u001B[0;34m(self, name)\u001B[0m\n\u001B[1;32m   6295\u001B[0m             \u001B[0;32mand\u001B[0m \u001B[0mname\u001B[0m \u001B[0;32mnot\u001B[0m \u001B[0;32min\u001B[0m \u001B[0mself\u001B[0m\u001B[0;34m.\u001B[0m\u001B[0m_accessors\u001B[0m\u001B[0;34m\u001B[0m\u001B[0;34m\u001B[0m\u001B[0m\n\u001B[1;32m   6296\u001B[0m             \u001B[0;32mand\u001B[0m \u001B[0mself\u001B[0m\u001B[0;34m.\u001B[0m\u001B[0m_info_axis\u001B[0m\u001B[0;34m.\u001B[0m\u001B[0m_can_hold_identifiers_and_holds_name\u001B[0m\u001B[0;34m(\u001B[0m\u001B[0mname\u001B[0m\u001B[0;34m)\u001B[0m\u001B[0;34m\u001B[0m\u001B[0;34m\u001B[0m\u001B[0m\n\u001B[1;32m   6297\u001B[0m         ):\n\u001B[1;32m   6298\u001B[0m             \u001B[0;32mreturn\u001B[0m \u001B[0mself\u001B[0m\u001B[0;34m[\u001B[0m\u001B[0mname\u001B[0m\u001B[0;34m]\u001B[0m\u001B[0;34m\u001B[0m\u001B[0;34m\u001B[0m\u001B[0m\n\u001B[0;32m-> 6299\u001B[0;31m         \u001B[0;32mreturn\u001B[0m \u001B[0mobject\u001B[0m\u001B[0;34m.\u001B[0m\u001B[0m__getattribute__\u001B[0m\u001B[0;34m(\u001B[0m\u001B[0mself\u001B[0m\u001B[0;34m,\u001B[0m \u001B[0mname\u001B[0m\u001B[0;34m)\u001B[0m\u001B[0;34m\u001B[0m\u001B[0;34m\u001B[0m\u001B[0m\n\u001B[0m",
      "\u001B[0;31mAttributeError\u001B[0m: 'DataFrame' object has no attribute 'dtype'"
     ]
    }
   ],
   "execution_count": 12
  }
 ],
 "metadata": {
  "kernelspec": {
   "display_name": "Python 3",
   "language": "python",
   "name": "python3"
  },
  "language_info": {
   "codemirror_mode": {
    "name": "ipython",
    "version": 2
   },
   "file_extension": ".py",
   "mimetype": "text/x-python",
   "name": "python",
   "nbconvert_exporter": "python",
   "pygments_lexer": "ipython2",
   "version": "2.7.6"
  }
 },
 "nbformat": 4,
 "nbformat_minor": 5
}
