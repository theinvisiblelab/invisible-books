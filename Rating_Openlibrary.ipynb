{
 "cells": [
  {
   "cell_type": "code",
   "id": "initial_id",
   "metadata": {
    "collapsed": true,
    "ExecuteTime": {
     "end_time": "2025-02-23T20:55:42.489941Z",
     "start_time": "2025-02-23T20:55:41.101455Z"
    }
   },
   "source": [
    "import pandas as pd\n",
    "from tqdm import tqdm"
   ],
   "outputs": [],
   "execution_count": 2
  },
  {
   "metadata": {
    "ExecuteTime": {
     "end_time": "2025-02-25T16:06:02.915817Z",
     "start_time": "2025-02-25T16:06:00.732823Z"
    }
   },
   "cell_type": "code",
   "source": [
    "import pandas as pd\n",
    "from tqdm import tqdm\n",
    "\n",
    "file_path = \"ol_dump_ratings_2025-02-11.txt\"\n",
    "output_file = \"openlibrary_ratings.csv\"\n",
    "\n",
    "data_list = []\n",
    "\n",
    "import pandas as pd\n",
    "\n",
    "file_path = \"ol_dump_ratings_2025-02-11.txt\"\n",
    "output_file = \"openlibrary_ratings.csv\"\n",
    "\n",
    "column_names = [\"Work_ID\", \"Book_ID\", \"Rating\", \"Date\"]\n",
    "\n",
    "df = pd.read_csv(file_path, sep=\"\\t\", header=None, names=column_names, dtype=str)\n",
    "\n",
    "df[\"Rating\"] = pd.to_numeric(df[\"Rating\"], errors=\"coerce\")\n",
    "\n",
    "df[\"Date\"] = pd.to_datetime(df[\"Date\"], errors=\"coerce\")\n",
    "\n",
    "df.to_csv(output_file, index=False)\n",
    "\n",
    "print(f\"File saved as {output_file}\")"
   ],
   "id": "3edff4de8bbbae83",
   "outputs": [
    {
     "name": "stdout",
     "output_type": "stream",
     "text": [
      "File saved as openlibrary_ratings.csv\n"
     ]
    }
   ],
   "execution_count": 20
  },
  {
   "metadata": {
    "ExecuteTime": {
     "end_time": "2025-02-25T16:06:10.225852Z",
     "start_time": "2025-02-25T16:06:10.212532Z"
    }
   },
   "cell_type": "code",
   "source": "df\n",
   "id": "d075bc4d6eae73ac",
   "outputs": [
    {
     "data": {
      "text/plain": [
       "                   Work_ID             Book_ID  Rating       Date\n",
       "0       /works/OL17882343W                 NaN       3 2018-06-20\n",
       "1        /works/OL1629179W  /books/OL22981670M       5 2018-06-20\n",
       "2        /works/OL4226036W  /books/OL10690412M       5 2018-06-20\n",
       "3        /works/OL5264255W   /books/OL2719185M       5 2018-06-20\n",
       "4        /works/OL1681415W   /books/OL2582724M       5 2018-06-20\n",
       "...                    ...                 ...     ...        ...\n",
       "518673    /works/OL461939W   /books/OL8494161M       3 2022-07-30\n",
       "518674   /works/OL1708091W  /books/OL10691251M       3 2022-07-30\n",
       "518675   /works/OL8299102W   /books/OL7695147M       4 2022-07-30\n",
       "518676  /works/OL15191772W  /books/OL24324060M       4 2022-07-30\n",
       "518677  /works/OL16238006W  /books/OL35694599M       5 2022-07-30\n",
       "\n",
       "[518678 rows x 4 columns]"
      ],
      "text/html": [
       "<div>\n",
       "<style scoped>\n",
       "    .dataframe tbody tr th:only-of-type {\n",
       "        vertical-align: middle;\n",
       "    }\n",
       "\n",
       "    .dataframe tbody tr th {\n",
       "        vertical-align: top;\n",
       "    }\n",
       "\n",
       "    .dataframe thead th {\n",
       "        text-align: right;\n",
       "    }\n",
       "</style>\n",
       "<table border=\"1\" class=\"dataframe\">\n",
       "  <thead>\n",
       "    <tr style=\"text-align: right;\">\n",
       "      <th></th>\n",
       "      <th>Work_ID</th>\n",
       "      <th>Book_ID</th>\n",
       "      <th>Rating</th>\n",
       "      <th>Date</th>\n",
       "    </tr>\n",
       "  </thead>\n",
       "  <tbody>\n",
       "    <tr>\n",
       "      <th>0</th>\n",
       "      <td>/works/OL17882343W</td>\n",
       "      <td>NaN</td>\n",
       "      <td>3</td>\n",
       "      <td>2018-06-20</td>\n",
       "    </tr>\n",
       "    <tr>\n",
       "      <th>1</th>\n",
       "      <td>/works/OL1629179W</td>\n",
       "      <td>/books/OL22981670M</td>\n",
       "      <td>5</td>\n",
       "      <td>2018-06-20</td>\n",
       "    </tr>\n",
       "    <tr>\n",
       "      <th>2</th>\n",
       "      <td>/works/OL4226036W</td>\n",
       "      <td>/books/OL10690412M</td>\n",
       "      <td>5</td>\n",
       "      <td>2018-06-20</td>\n",
       "    </tr>\n",
       "    <tr>\n",
       "      <th>3</th>\n",
       "      <td>/works/OL5264255W</td>\n",
       "      <td>/books/OL2719185M</td>\n",
       "      <td>5</td>\n",
       "      <td>2018-06-20</td>\n",
       "    </tr>\n",
       "    <tr>\n",
       "      <th>4</th>\n",
       "      <td>/works/OL1681415W</td>\n",
       "      <td>/books/OL2582724M</td>\n",
       "      <td>5</td>\n",
       "      <td>2018-06-20</td>\n",
       "    </tr>\n",
       "    <tr>\n",
       "      <th>...</th>\n",
       "      <td>...</td>\n",
       "      <td>...</td>\n",
       "      <td>...</td>\n",
       "      <td>...</td>\n",
       "    </tr>\n",
       "    <tr>\n",
       "      <th>518673</th>\n",
       "      <td>/works/OL461939W</td>\n",
       "      <td>/books/OL8494161M</td>\n",
       "      <td>3</td>\n",
       "      <td>2022-07-30</td>\n",
       "    </tr>\n",
       "    <tr>\n",
       "      <th>518674</th>\n",
       "      <td>/works/OL1708091W</td>\n",
       "      <td>/books/OL10691251M</td>\n",
       "      <td>3</td>\n",
       "      <td>2022-07-30</td>\n",
       "    </tr>\n",
       "    <tr>\n",
       "      <th>518675</th>\n",
       "      <td>/works/OL8299102W</td>\n",
       "      <td>/books/OL7695147M</td>\n",
       "      <td>4</td>\n",
       "      <td>2022-07-30</td>\n",
       "    </tr>\n",
       "    <tr>\n",
       "      <th>518676</th>\n",
       "      <td>/works/OL15191772W</td>\n",
       "      <td>/books/OL24324060M</td>\n",
       "      <td>4</td>\n",
       "      <td>2022-07-30</td>\n",
       "    </tr>\n",
       "    <tr>\n",
       "      <th>518677</th>\n",
       "      <td>/works/OL16238006W</td>\n",
       "      <td>/books/OL35694599M</td>\n",
       "      <td>5</td>\n",
       "      <td>2022-07-30</td>\n",
       "    </tr>\n",
       "  </tbody>\n",
       "</table>\n",
       "<p>518678 rows × 4 columns</p>\n",
       "</div>"
      ]
     },
     "execution_count": 21,
     "metadata": {},
     "output_type": "execute_result"
    }
   ],
   "execution_count": 21
  },
  {
   "metadata": {
    "ExecuteTime": {
     "end_time": "2025-02-25T15:59:26.924807Z",
     "start_time": "2025-02-25T15:59:26.915045Z"
    }
   },
   "cell_type": "code",
   "source": "df",
   "id": "b81534373d97eee1",
   "outputs": [
    {
     "data": {
      "text/plain": [
       "            Work_ID      Book_ID  Rating   Timestamp\n",
       "0       OL17882343W          NaN     NaN           3\n",
       "1        OL1629179W  OL22981670M     5.0  2018-06-20\n",
       "2        OL4226036W  OL10690412M     5.0  2018-06-20\n",
       "3        OL5264255W   OL2719185M     5.0  2018-06-20\n",
       "4        OL1681415W   OL2582724M     5.0  2018-06-20\n",
       "...             ...          ...     ...         ...\n",
       "518673    OL461939W   OL8494161M     3.0  2022-07-30\n",
       "518674   OL1708091W  OL10691251M     3.0  2022-07-30\n",
       "518675   OL8299102W   OL7695147M     4.0  2022-07-30\n",
       "518676  OL15191772W  OL24324060M     4.0  2022-07-30\n",
       "518677  OL16238006W  OL35694599M     5.0  2022-07-30\n",
       "\n",
       "[518678 rows x 4 columns]"
      ],
      "text/html": [
       "<div>\n",
       "<style scoped>\n",
       "    .dataframe tbody tr th:only-of-type {\n",
       "        vertical-align: middle;\n",
       "    }\n",
       "\n",
       "    .dataframe tbody tr th {\n",
       "        vertical-align: top;\n",
       "    }\n",
       "\n",
       "    .dataframe thead th {\n",
       "        text-align: right;\n",
       "    }\n",
       "</style>\n",
       "<table border=\"1\" class=\"dataframe\">\n",
       "  <thead>\n",
       "    <tr style=\"text-align: right;\">\n",
       "      <th></th>\n",
       "      <th>Work_ID</th>\n",
       "      <th>Book_ID</th>\n",
       "      <th>Rating</th>\n",
       "      <th>Timestamp</th>\n",
       "    </tr>\n",
       "  </thead>\n",
       "  <tbody>\n",
       "    <tr>\n",
       "      <th>0</th>\n",
       "      <td>OL17882343W</td>\n",
       "      <td>NaN</td>\n",
       "      <td>NaN</td>\n",
       "      <td>3</td>\n",
       "    </tr>\n",
       "    <tr>\n",
       "      <th>1</th>\n",
       "      <td>OL1629179W</td>\n",
       "      <td>OL22981670M</td>\n",
       "      <td>5.0</td>\n",
       "      <td>2018-06-20</td>\n",
       "    </tr>\n",
       "    <tr>\n",
       "      <th>2</th>\n",
       "      <td>OL4226036W</td>\n",
       "      <td>OL10690412M</td>\n",
       "      <td>5.0</td>\n",
       "      <td>2018-06-20</td>\n",
       "    </tr>\n",
       "    <tr>\n",
       "      <th>3</th>\n",
       "      <td>OL5264255W</td>\n",
       "      <td>OL2719185M</td>\n",
       "      <td>5.0</td>\n",
       "      <td>2018-06-20</td>\n",
       "    </tr>\n",
       "    <tr>\n",
       "      <th>4</th>\n",
       "      <td>OL1681415W</td>\n",
       "      <td>OL2582724M</td>\n",
       "      <td>5.0</td>\n",
       "      <td>2018-06-20</td>\n",
       "    </tr>\n",
       "    <tr>\n",
       "      <th>...</th>\n",
       "      <td>...</td>\n",
       "      <td>...</td>\n",
       "      <td>...</td>\n",
       "      <td>...</td>\n",
       "    </tr>\n",
       "    <tr>\n",
       "      <th>518673</th>\n",
       "      <td>OL461939W</td>\n",
       "      <td>OL8494161M</td>\n",
       "      <td>3.0</td>\n",
       "      <td>2022-07-30</td>\n",
       "    </tr>\n",
       "    <tr>\n",
       "      <th>518674</th>\n",
       "      <td>OL1708091W</td>\n",
       "      <td>OL10691251M</td>\n",
       "      <td>3.0</td>\n",
       "      <td>2022-07-30</td>\n",
       "    </tr>\n",
       "    <tr>\n",
       "      <th>518675</th>\n",
       "      <td>OL8299102W</td>\n",
       "      <td>OL7695147M</td>\n",
       "      <td>4.0</td>\n",
       "      <td>2022-07-30</td>\n",
       "    </tr>\n",
       "    <tr>\n",
       "      <th>518676</th>\n",
       "      <td>OL15191772W</td>\n",
       "      <td>OL24324060M</td>\n",
       "      <td>4.0</td>\n",
       "      <td>2022-07-30</td>\n",
       "    </tr>\n",
       "    <tr>\n",
       "      <th>518677</th>\n",
       "      <td>OL16238006W</td>\n",
       "      <td>OL35694599M</td>\n",
       "      <td>5.0</td>\n",
       "      <td>2022-07-30</td>\n",
       "    </tr>\n",
       "  </tbody>\n",
       "</table>\n",
       "<p>518678 rows × 4 columns</p>\n",
       "</div>"
      ]
     },
     "execution_count": 17,
     "metadata": {},
     "output_type": "execute_result"
    }
   ],
   "execution_count": 17
  },
  {
   "metadata": {},
   "cell_type": "code",
   "outputs": [],
   "execution_count": null,
   "source": "",
   "id": "7fda655d193fb531"
  },
  {
   "metadata": {},
   "cell_type": "markdown",
   "source": "Count the number of unique works and books in the rating dataset.",
   "id": "218bf06c950825d6"
  },
  {
   "metadata": {
    "ExecuteTime": {
     "end_time": "2025-02-25T16:06:23.028084Z",
     "start_time": "2025-02-25T16:06:22.238757Z"
    }
   },
   "cell_type": "code",
   "source": [
    "# summarize the rating data for each work\n",
    "work_ratings = df.groupby(\"Work_ID\")[\"Rating\"].agg([\"count\", \"mean\", \"std\"]).reset_index()"
   ],
   "id": "50aa8cfc8f3691a0",
   "outputs": [],
   "execution_count": 22
  },
  {
   "metadata": {
    "ExecuteTime": {
     "end_time": "2025-02-25T16:06:24.848514Z",
     "start_time": "2025-02-25T16:06:24.740303Z"
    }
   },
   "cell_type": "code",
   "source": [
    "work_isbn_counts = df['Work_ID'].nunique()\n",
    "work_isbn_counts"
   ],
   "id": "f2da068ce3a455d6",
   "outputs": [
    {
     "data": {
      "text/plain": [
       "246044"
      ]
     },
     "execution_count": 23,
     "metadata": {},
     "output_type": "execute_result"
    }
   ],
   "execution_count": 23
  },
  {
   "metadata": {
    "ExecuteTime": {
     "end_time": "2025-02-25T16:11:11.813057Z",
     "start_time": "2025-02-25T16:11:11.708883Z"
    }
   },
   "cell_type": "code",
   "source": "df.count()",
   "id": "234b8404dc6e0eb3",
   "outputs": [
    {
     "data": {
      "text/plain": [
       "Work_ID    518678\n",
       "Book_ID    466164\n",
       "Rating     518678\n",
       "Date       518678\n",
       "dtype: int64"
      ]
     },
     "execution_count": 27,
     "metadata": {},
     "output_type": "execute_result"
    }
   ],
   "execution_count": 27
  },
  {
   "metadata": {
    "ExecuteTime": {
     "end_time": "2025-02-25T16:06:28.287382Z",
     "start_time": "2025-02-25T16:06:27.737704Z"
    }
   },
   "cell_type": "code",
   "source": "work_ratings.to_csv(\"work_ratings_summary.csv\", index=False)",
   "id": "60f4d1f502fd3e55",
   "outputs": [],
   "execution_count": 24
  },
  {
   "metadata": {
    "ExecuteTime": {
     "end_time": "2025-02-25T16:08:39.819442Z",
     "start_time": "2025-02-25T16:08:39.809201Z"
    }
   },
   "cell_type": "code",
   "source": "work_ratings",
   "id": "29f867da0cb7f230",
   "outputs": [
    {
     "data": {
      "text/plain": [
       "                   Work_ID  count  mean      std\n",
       "0       /works/OL10000000W      1   3.0      NaN\n",
       "1         /works/OL100001W      1   1.0      NaN\n",
       "2        /works/OL1000035W      1   4.0      NaN\n",
       "3        /works/OL1000043W      1   3.0      NaN\n",
       "4         /works/OL100004W      1   3.0      NaN\n",
       "...                    ...    ...   ...      ...\n",
       "246039     /works/OL99997W      1   4.0      NaN\n",
       "246040    /works/OL999981W      5   3.4  1.67332\n",
       "246041    /works/OL999982W      2   5.0  0.00000\n",
       "246042    /works/OL999983W      1   5.0      NaN\n",
       "246043   /works/OL9999841W      1   4.0      NaN\n",
       "\n",
       "[246044 rows x 4 columns]"
      ],
      "text/html": [
       "<div>\n",
       "<style scoped>\n",
       "    .dataframe tbody tr th:only-of-type {\n",
       "        vertical-align: middle;\n",
       "    }\n",
       "\n",
       "    .dataframe tbody tr th {\n",
       "        vertical-align: top;\n",
       "    }\n",
       "\n",
       "    .dataframe thead th {\n",
       "        text-align: right;\n",
       "    }\n",
       "</style>\n",
       "<table border=\"1\" class=\"dataframe\">\n",
       "  <thead>\n",
       "    <tr style=\"text-align: right;\">\n",
       "      <th></th>\n",
       "      <th>Work_ID</th>\n",
       "      <th>count</th>\n",
       "      <th>mean</th>\n",
       "      <th>std</th>\n",
       "    </tr>\n",
       "  </thead>\n",
       "  <tbody>\n",
       "    <tr>\n",
       "      <th>0</th>\n",
       "      <td>/works/OL10000000W</td>\n",
       "      <td>1</td>\n",
       "      <td>3.0</td>\n",
       "      <td>NaN</td>\n",
       "    </tr>\n",
       "    <tr>\n",
       "      <th>1</th>\n",
       "      <td>/works/OL100001W</td>\n",
       "      <td>1</td>\n",
       "      <td>1.0</td>\n",
       "      <td>NaN</td>\n",
       "    </tr>\n",
       "    <tr>\n",
       "      <th>2</th>\n",
       "      <td>/works/OL1000035W</td>\n",
       "      <td>1</td>\n",
       "      <td>4.0</td>\n",
       "      <td>NaN</td>\n",
       "    </tr>\n",
       "    <tr>\n",
       "      <th>3</th>\n",
       "      <td>/works/OL1000043W</td>\n",
       "      <td>1</td>\n",
       "      <td>3.0</td>\n",
       "      <td>NaN</td>\n",
       "    </tr>\n",
       "    <tr>\n",
       "      <th>4</th>\n",
       "      <td>/works/OL100004W</td>\n",
       "      <td>1</td>\n",
       "      <td>3.0</td>\n",
       "      <td>NaN</td>\n",
       "    </tr>\n",
       "    <tr>\n",
       "      <th>...</th>\n",
       "      <td>...</td>\n",
       "      <td>...</td>\n",
       "      <td>...</td>\n",
       "      <td>...</td>\n",
       "    </tr>\n",
       "    <tr>\n",
       "      <th>246039</th>\n",
       "      <td>/works/OL99997W</td>\n",
       "      <td>1</td>\n",
       "      <td>4.0</td>\n",
       "      <td>NaN</td>\n",
       "    </tr>\n",
       "    <tr>\n",
       "      <th>246040</th>\n",
       "      <td>/works/OL999981W</td>\n",
       "      <td>5</td>\n",
       "      <td>3.4</td>\n",
       "      <td>1.67332</td>\n",
       "    </tr>\n",
       "    <tr>\n",
       "      <th>246041</th>\n",
       "      <td>/works/OL999982W</td>\n",
       "      <td>2</td>\n",
       "      <td>5.0</td>\n",
       "      <td>0.00000</td>\n",
       "    </tr>\n",
       "    <tr>\n",
       "      <th>246042</th>\n",
       "      <td>/works/OL999983W</td>\n",
       "      <td>1</td>\n",
       "      <td>5.0</td>\n",
       "      <td>NaN</td>\n",
       "    </tr>\n",
       "    <tr>\n",
       "      <th>246043</th>\n",
       "      <td>/works/OL9999841W</td>\n",
       "      <td>1</td>\n",
       "      <td>4.0</td>\n",
       "      <td>NaN</td>\n",
       "    </tr>\n",
       "  </tbody>\n",
       "</table>\n",
       "<p>246044 rows × 4 columns</p>\n",
       "</div>"
      ]
     },
     "execution_count": 26,
     "metadata": {},
     "output_type": "execute_result"
    }
   ],
   "execution_count": 26
  },
  {
   "metadata": {},
   "cell_type": "code",
   "outputs": [],
   "execution_count": null,
   "source": "",
   "id": "b7390192a58de49a"
  }
 ],
 "metadata": {
  "kernelspec": {
   "display_name": "Python 3",
   "language": "python",
   "name": "python3"
  },
  "language_info": {
   "codemirror_mode": {
    "name": "ipython",
    "version": 2
   },
   "file_extension": ".py",
   "mimetype": "text/x-python",
   "name": "python",
   "nbconvert_exporter": "python",
   "pygments_lexer": "ipython2",
   "version": "2.7.6"
  }
 },
 "nbformat": 4,
 "nbformat_minor": 5
}
