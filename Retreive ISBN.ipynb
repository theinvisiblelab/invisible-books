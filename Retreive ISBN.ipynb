{
 "cells": [
  {
   "cell_type": "code",
   "outputs": [],
   "source": [
    "import json\n",
    "import pandas as pd\n",
    "import numpy as np\n",
    "import re\n"
   ],
   "metadata": {
    "collapsed": false,
    "ExecuteTime": {
     "end_time": "2025-01-08T20:35:49.307912Z",
     "start_time": "2025-01-08T20:35:49.295986Z"
    }
   },
   "id": "a11bd4bd29494136",
   "execution_count": 16
  },
  {
   "cell_type": "code",
   "outputs": [],
   "source": [
    "file_path = 'ol_dump_editions_2024-12-19.txt'\n",
    "data_list = []"
   ],
   "metadata": {
    "collapsed": false,
    "ExecuteTime": {
     "end_time": "2025-01-08T20:35:49.323995Z",
     "start_time": "2025-01-08T20:35:49.319412Z"
    }
   },
   "id": "b70a365ed0c13404",
   "execution_count": 17
  },
  {
   "cell_type": "code",
   "outputs": [],
   "source": [
    "file_path = 'ol_dump_editions_2024-12-19.txt'\n",
    "output_csv = 'Openlibrary_isbn.csv'"
   ],
   "metadata": {
    "collapsed": false,
    "ExecuteTime": {
     "end_time": "2025-01-08T20:35:49.336377Z",
     "start_time": "2025-01-08T20:35:49.332629Z"
    }
   },
   "id": "7ddb40c5c3c97d4b",
   "execution_count": 18
  },
  {
   "cell_type": "code",
   "outputs": [
    {
     "name": "stdout",
     "output_type": "stream",
     "text": [
      "Final count: 35,784,083 ISBNs extracted from 53,073,982 lines.\n"
     ]
    }
   ],
   "source": [
    "isbn10_pattern = re.compile(r'\"isbn_10\":\\s*\\[\"(.*?)\"\\]')\n",
    "isbn13_pattern = re.compile(r'\"isbn_13\":\\s*\\[\"(.*?)\"\\]')\n",
    "\n",
    "isbn_list = []\n",
    "line_count = 0  \n",
    "isbn_count = 0  \n",
    "\n",
    "with open(file_path, 'r', encoding='utf-8') as file:\n",
    "    for line in file:\n",
    "        line_count += 1\n",
    "\n",
    "        isbn_10_match = isbn10_pattern.search(line)\n",
    "        isbn_13_match = isbn13_pattern.search(line)\n",
    "\n",
    "        isbn_10 = isbn_10_match.group(1) if isbn_10_match else \"N/A\"\n",
    "        isbn_13 = isbn_13_match.group(1) if isbn_13_match else \"N/A\"\n",
    "\n",
    "        if isbn_10 != \"N/A\" or isbn_13 != \"N/A\":\n",
    "            isbn_list.append({'ISBN-10': isbn_10, 'ISBN-13': isbn_13})\n",
    "            isbn_count += 1\n",
    "\n",
    "\n",
    "print(f\"Final count: {isbn_count:,} ISBNs extracted from {line_count:,} lines.\")"
   ],
   "metadata": {
    "collapsed": false,
    "ExecuteTime": {
     "end_time": "2025-01-08T20:40:14.960367Z",
     "start_time": "2025-01-08T20:35:49.343559Z"
    }
   },
   "id": "caaff96b1f62add9",
   "execution_count": 19
  },
  {
   "cell_type": "code",
   "outputs": [
    {
     "data": {
      "text/plain": "      ISBN-10        ISBN-13\n0  010836724X  9780108367243\n1  0108368041  9780108368042\n2  0108368661  9780108368660\n3  0108623939  9780108623936\n4  0761404147            N/A",
      "text/html": "<div>\n<style scoped>\n    .dataframe tbody tr th:only-of-type {\n        vertical-align: middle;\n    }\n\n    .dataframe tbody tr th {\n        vertical-align: top;\n    }\n\n    .dataframe thead th {\n        text-align: right;\n    }\n</style>\n<table border=\"1\" class=\"dataframe\">\n  <thead>\n    <tr style=\"text-align: right;\">\n      <th></th>\n      <th>ISBN-10</th>\n      <th>ISBN-13</th>\n    </tr>\n  </thead>\n  <tbody>\n    <tr>\n      <th>0</th>\n      <td>010836724X</td>\n      <td>9780108367243</td>\n    </tr>\n    <tr>\n      <th>1</th>\n      <td>0108368041</td>\n      <td>9780108368042</td>\n    </tr>\n    <tr>\n      <th>2</th>\n      <td>0108368661</td>\n      <td>9780108368660</td>\n    </tr>\n    <tr>\n      <th>3</th>\n      <td>0108623939</td>\n      <td>9780108623936</td>\n    </tr>\n    <tr>\n      <th>4</th>\n      <td>0761404147</td>\n      <td>N/A</td>\n    </tr>\n  </tbody>\n</table>\n</div>"
     },
     "execution_count": 20,
     "metadata": {},
     "output_type": "execute_result"
    }
   ],
   "source": [
    "df = pd.DataFrame(isbn_list)\n",
    "df.head()"
   ],
   "metadata": {
    "collapsed": false,
    "ExecuteTime": {
     "end_time": "2025-01-08T20:41:28.493540Z",
     "start_time": "2025-01-08T20:40:14.973589Z"
    }
   },
   "id": "66407fdecdf219a6",
   "execution_count": 20
  },
  {
   "cell_type": "code",
   "outputs": [],
   "source": [
    "df.to_csv(output_csv, index=False)"
   ],
   "metadata": {
    "collapsed": false,
    "ExecuteTime": {
     "end_time": "2025-01-08T20:41:59.900179Z",
     "start_time": "2025-01-08T20:41:28.509263Z"
    }
   },
   "id": "e3f4e7f03abc2530",
   "execution_count": 21
  }
 ],
 "metadata": {
  "kernelspec": {
   "display_name": "Python 3",
   "language": "python",
   "name": "python3"
  },
  "language_info": {
   "codemirror_mode": {
    "name": "ipython",
    "version": 2
   },
   "file_extension": ".py",
   "mimetype": "text/x-python",
   "name": "python",
   "nbconvert_exporter": "python",
   "pygments_lexer": "ipython2",
   "version": "2.7.6"
  }
 },
 "nbformat": 4,
 "nbformat_minor": 5
}
