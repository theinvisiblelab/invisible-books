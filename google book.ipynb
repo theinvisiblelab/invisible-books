{
 "cells": [
  {
   "cell_type": "code",
   "id": "initial_id",
   "metadata": {
    "collapsed": true,
    "ExecuteTime": {
     "end_time": "2025-01-15T18:20:40.564356Z",
     "start_time": "2025-01-15T18:20:40.561032Z"
    }
   },
   "source": [
    "import requests\n",
    "import pandas as pd\n"
   ],
   "outputs": [],
   "execution_count": 3
  },
  {
   "metadata": {
    "ExecuteTime": {
     "end_time": "2025-01-15T18:20:40.584381Z",
     "start_time": "2025-01-15T18:20:40.579159Z"
    }
   },
   "cell_type": "code",
   "source": [
    "def get_book_data(isbn):\n",
    "    url = f\"https://www.googleapis.com/books/v1/volumes?q=isbn:{isbn}\"\n",
    "    response = requests.get(url)\n",
    "    data = response.json()\n",
    "\n",
    "    if \"items\" in data:\n",
    "        book = data[\"items\"][0][\"volumeInfo\"]\n",
    "        return {\n",
    "            \"ISBN\": isbn,\n",
    "            \"Title\": book.get(\"title\", \"N/A\"),\n",
    "            \"Authors\": \", \".join(book.get(\"authors\", [\"Unknown\"])),\n",
    "            \"Published Date\": book.get(\"publishedDate\", \"N/A\"),\n",
    "            \"Description\": book.get(\"description\", \"No description available\"),\n",
    "            \"Page Count\": book.get(\"pageCount\", \"N/A\"),\n",
    "            \"Categories\": \", \".join(book.get(\"categories\", [\"Unknown\"])),\n",
    "            \"Thumbnail\": book.get(\"imageLinks\", {}).get(\"thumbnail\", \"\")\n",
    "        }\n",
    "    else:\n",
    "        return {\"ISBN\": isbn, \"Title\": \"Not Found\"}"
   ],
   "id": "514516779430c1fe",
   "outputs": [],
   "execution_count": 4
  },
  {
   "metadata": {
    "ExecuteTime": {
     "end_time": "2025-01-15T18:20:42.683401Z",
     "start_time": "2025-01-15T18:20:40.597198Z"
    }
   },
   "cell_type": "code",
   "source": [
    "isbn_list = [\n",
    "    \"9780140449136\",\n",
    "    \"9780262033848\",\n",
    "    \"9780131103627\",\n",
    "    \"9781492046905\",\n",
    "    \"9780596007126\"\n",
    "]\n",
    "\n",
    "books_data = [get_book_data(isbn) for isbn in isbn_list]\n",
    "\n",
    "books_df = pd.DataFrame(books_data)"
   ],
   "id": "753a73c04277cec",
   "outputs": [],
   "execution_count": 5
  },
  {
   "metadata": {
    "ExecuteTime": {
     "end_time": "2025-01-15T18:20:42.704409Z",
     "start_time": "2025-01-15T18:20:42.695041Z"
    }
   },
   "cell_type": "code",
   "source": "books_df",
   "id": "344db68c2cc8909f",
   "outputs": [
    {
     "data": {
      "text/plain": [
       "            ISBN                                      Title  \\\n",
       "0  9780140449136                       Crime and Punishment   \n",
       "1  9780262033848  Introduction to Algorithms, third edition   \n",
       "2  9780131103627                                  Not Found   \n",
       "3  9781492046905                  Terraform: Up and Running   \n",
       "4  9780596007126                 Head First Design Patterns   \n",
       "\n",
       "                                             Authors Published Date  \\\n",
       "0                                 Fyodor Dostoyevsky           2003   \n",
       "1  Thomas H. Cormen, Charles E. Leiserson, Ronald...     2009-07-31   \n",
       "2                                                NaN            NaN   \n",
       "3                                   Yevgeniy Brikman     2019-09-04   \n",
       "4  Eric Freeman, Elisabeth Robson, Elisabeth Free...     2004-10-25   \n",
       "\n",
       "                                         Description  Page Count Categories  \\\n",
       "0  This classic, begun as a novel concerned with ...       754.0    Fiction   \n",
       "1  The latest edition of the essential text and p...      1314.0  Computers   \n",
       "2                                                NaN         NaN        NaN   \n",
       "3  Terraform has become a key player in the DevOp...       340.0  Computers   \n",
       "4  You're not alone. At any given moment, somewhe...       679.0  Computers   \n",
       "\n",
       "                                           Thumbnail  \n",
       "0  http://books.google.com/books/content?id=SYu-4...  \n",
       "1  http://books.google.com/books/content?id=i-bUB...  \n",
       "2                                                NaN  \n",
       "3  http://books.google.com/books/content?id=yL2uv...  \n",
       "4  http://books.google.com/books/content?id=GGpXN...  "
      ],
      "text/html": [
       "<div>\n",
       "<style scoped>\n",
       "    .dataframe tbody tr th:only-of-type {\n",
       "        vertical-align: middle;\n",
       "    }\n",
       "\n",
       "    .dataframe tbody tr th {\n",
       "        vertical-align: top;\n",
       "    }\n",
       "\n",
       "    .dataframe thead th {\n",
       "        text-align: right;\n",
       "    }\n",
       "</style>\n",
       "<table border=\"1\" class=\"dataframe\">\n",
       "  <thead>\n",
       "    <tr style=\"text-align: right;\">\n",
       "      <th></th>\n",
       "      <th>ISBN</th>\n",
       "      <th>Title</th>\n",
       "      <th>Authors</th>\n",
       "      <th>Published Date</th>\n",
       "      <th>Description</th>\n",
       "      <th>Page Count</th>\n",
       "      <th>Categories</th>\n",
       "      <th>Thumbnail</th>\n",
       "    </tr>\n",
       "  </thead>\n",
       "  <tbody>\n",
       "    <tr>\n",
       "      <th>0</th>\n",
       "      <td>9780140449136</td>\n",
       "      <td>Crime and Punishment</td>\n",
       "      <td>Fyodor Dostoyevsky</td>\n",
       "      <td>2003</td>\n",
       "      <td>This classic, begun as a novel concerned with ...</td>\n",
       "      <td>754.0</td>\n",
       "      <td>Fiction</td>\n",
       "      <td>http://books.google.com/books/content?id=SYu-4...</td>\n",
       "    </tr>\n",
       "    <tr>\n",
       "      <th>1</th>\n",
       "      <td>9780262033848</td>\n",
       "      <td>Introduction to Algorithms, third edition</td>\n",
       "      <td>Thomas H. Cormen, Charles E. Leiserson, Ronald...</td>\n",
       "      <td>2009-07-31</td>\n",
       "      <td>The latest edition of the essential text and p...</td>\n",
       "      <td>1314.0</td>\n",
       "      <td>Computers</td>\n",
       "      <td>http://books.google.com/books/content?id=i-bUB...</td>\n",
       "    </tr>\n",
       "    <tr>\n",
       "      <th>2</th>\n",
       "      <td>9780131103627</td>\n",
       "      <td>Not Found</td>\n",
       "      <td>NaN</td>\n",
       "      <td>NaN</td>\n",
       "      <td>NaN</td>\n",
       "      <td>NaN</td>\n",
       "      <td>NaN</td>\n",
       "      <td>NaN</td>\n",
       "    </tr>\n",
       "    <tr>\n",
       "      <th>3</th>\n",
       "      <td>9781492046905</td>\n",
       "      <td>Terraform: Up and Running</td>\n",
       "      <td>Yevgeniy Brikman</td>\n",
       "      <td>2019-09-04</td>\n",
       "      <td>Terraform has become a key player in the DevOp...</td>\n",
       "      <td>340.0</td>\n",
       "      <td>Computers</td>\n",
       "      <td>http://books.google.com/books/content?id=yL2uv...</td>\n",
       "    </tr>\n",
       "    <tr>\n",
       "      <th>4</th>\n",
       "      <td>9780596007126</td>\n",
       "      <td>Head First Design Patterns</td>\n",
       "      <td>Eric Freeman, Elisabeth Robson, Elisabeth Free...</td>\n",
       "      <td>2004-10-25</td>\n",
       "      <td>You're not alone. At any given moment, somewhe...</td>\n",
       "      <td>679.0</td>\n",
       "      <td>Computers</td>\n",
       "      <td>http://books.google.com/books/content?id=GGpXN...</td>\n",
       "    </tr>\n",
       "  </tbody>\n",
       "</table>\n",
       "</div>"
      ]
     },
     "execution_count": 6,
     "metadata": {},
     "output_type": "execute_result"
    }
   ],
   "execution_count": 6
  },
  {
   "metadata": {
    "ExecuteTime": {
     "end_time": "2025-01-15T18:20:42.723427Z",
     "start_time": "2025-01-15T18:20:42.721222Z"
    }
   },
   "cell_type": "code",
   "source": "",
   "id": "bbefc7fb4377a305",
   "outputs": [],
   "execution_count": null
  }
 ],
 "metadata": {
  "kernelspec": {
   "display_name": "Python 3",
   "language": "python",
   "name": "python3"
  },
  "language_info": {
   "codemirror_mode": {
    "name": "ipython",
    "version": 2
   },
   "file_extension": ".py",
   "mimetype": "text/x-python",
   "name": "python",
   "nbconvert_exporter": "python",
   "pygments_lexer": "ipython2",
   "version": "2.7.6"
  }
 },
 "nbformat": 4,
 "nbformat_minor": 5
}
