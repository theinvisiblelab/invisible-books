{
 "cells": [
  {
   "cell_type": "code",
   "execution_count": 41,
   "id": "initial_id",
   "metadata": {
    "collapsed": true,
    "ExecuteTime": {
     "end_time": "2025-01-15T16:46:14.200619Z",
     "start_time": "2025-01-15T16:46:14.182696Z"
    }
   },
   "outputs": [],
   "source": [
    "import os\n",
    "from dotenv import load_dotenv\n",
    "import requests\n",
    "import pandas as pd\n",
    "from pandas import json_normalize\n"
   ]
  },
  {
   "cell_type": "code",
   "outputs": [],
   "source": [
    "load_dotenv()\n",
    "API_KEY = os.getenv('API_KEY')\n",
    "BASE_URL = \"https://api2.isbndb.com/book/\""
   ],
   "metadata": {
    "collapsed": false,
    "ExecuteTime": {
     "end_time": "2025-01-15T15:07:42.793945Z",
     "start_time": "2025-01-15T15:07:42.788317Z"
    }
   },
   "id": "be0a867acfe49531",
   "execution_count": 9
  },
  {
   "cell_type": "markdown",
   "source": [
    "Read ISBNDB Data"
   ],
   "metadata": {
    "collapsed": false
   },
   "id": "a1b24f44d325740d"
  },
  {
   "cell_type": "code",
   "outputs": [
    {
     "data": {
      "text/plain": "      ISBN-10        ISBN-13\n0  010836724X  9780108367243\n1  0108368041  9780108368042\n2  0108368661  9780108368660\n3  0108623939  9780108623936\n4  0761404147            NaN",
      "text/html": "<div>\n<style scoped>\n    .dataframe tbody tr th:only-of-type {\n        vertical-align: middle;\n    }\n\n    .dataframe tbody tr th {\n        vertical-align: top;\n    }\n\n    .dataframe thead th {\n        text-align: right;\n    }\n</style>\n<table border=\"1\" class=\"dataframe\">\n  <thead>\n    <tr style=\"text-align: right;\">\n      <th></th>\n      <th>ISBN-10</th>\n      <th>ISBN-13</th>\n    </tr>\n  </thead>\n  <tbody>\n    <tr>\n      <th>0</th>\n      <td>010836724X</td>\n      <td>9780108367243</td>\n    </tr>\n    <tr>\n      <th>1</th>\n      <td>0108368041</td>\n      <td>9780108368042</td>\n    </tr>\n    <tr>\n      <th>2</th>\n      <td>0108368661</td>\n      <td>9780108368660</td>\n    </tr>\n    <tr>\n      <th>3</th>\n      <td>0108623939</td>\n      <td>9780108623936</td>\n    </tr>\n    <tr>\n      <th>4</th>\n      <td>0761404147</td>\n      <td>NaN</td>\n    </tr>\n  </tbody>\n</table>\n</div>"
     },
     "execution_count": 10,
     "metadata": {},
     "output_type": "execute_result"
    }
   ],
   "source": [
    "isbn_df = pd.read_csv('isbn_numbers_fixed.csv')\n",
    "isbn_df.head()"
   ],
   "metadata": {
    "collapsed": false,
    "ExecuteTime": {
     "end_time": "2025-01-15T15:08:11.085473Z",
     "start_time": "2025-01-15T15:07:45.379576Z"
    }
   },
   "id": "b7a77174f988a228",
   "execution_count": 10
  },
  {
   "cell_type": "code",
   "outputs": [],
   "source": [
    "isbn_list = isbn_df['ISBN-10'].tolist()"
   ],
   "metadata": {
    "collapsed": false,
    "ExecuteTime": {
     "end_time": "2025-01-15T16:25:27.823828Z",
     "start_time": "2025-01-15T16:25:27.284866Z"
    }
   },
   "id": "687ed0af313c79eb",
   "execution_count": 32
  },
  {
   "cell_type": "markdown",
   "source": [
    "For basic plan."
   ],
   "metadata": {
    "collapsed": false
   },
   "id": "74b0464c9c3dc1c9"
  },
  {
   "cell_type": "code",
   "outputs": [
    {
     "data": {
      "text/plain": "'011082234X'"
     },
     "execution_count": 46,
     "metadata": {},
     "output_type": "execute_result"
    }
   ],
   "source": [
    "isbn_list[100]"
   ],
   "metadata": {
    "collapsed": false,
    "ExecuteTime": {
     "end_time": "2025-01-15T16:51:20.216037Z",
     "start_time": "2025-01-15T16:51:20.194074Z"
    }
   },
   "id": "5b6ea9292e94d21c",
   "execution_count": 46
  },
  {
   "cell_type": "code",
   "outputs": [],
   "source": [
    "import requests as req"
   ],
   "metadata": {
    "collapsed": false,
    "ExecuteTime": {
     "end_time": "2025-01-15T16:26:08.534502Z",
     "start_time": "2025-01-15T16:26:08.531865Z"
    }
   },
   "id": "7d8edf8d9085d33a",
   "execution_count": 36
  },
  {
   "cell_type": "code",
   "outputs": [],
   "source": [
    "h = {\n",
    "    'Authorization': API_KEY\n",
    "}\n",
    "\n",
    "books_data = []\n",
    "\n",
    "first_100_isbns = isbn_list[:10]"
   ],
   "metadata": {
    "collapsed": false,
    "ExecuteTime": {
     "end_time": "2025-01-15T16:26:23.962122Z",
     "start_time": "2025-01-15T16:26:23.959233Z"
    }
   },
   "id": "46e51a601a38910a",
   "execution_count": 38
  },
  {
   "cell_type": "code",
   "outputs": [],
   "source": [
    "for isbn in first_100_isbns:\n",
    "    resp = req.get(\"https://api2.isbndb.com/book/\" + isbn, headers=h)\n",
    "    if resp.status_code == 200:\n",
    "        books_data.append(resp.json()) \n",
    "    else:\n",
    "        print(f\"Error {resp.status_code}: {resp.text}\")"
   ],
   "metadata": {
    "collapsed": false,
    "ExecuteTime": {
     "end_time": "2025-01-15T16:26:29.370277Z",
     "start_time": "2025-01-15T16:26:24.746283Z"
    }
   },
   "id": "7d3fe219b25d27ce",
   "execution_count": 39
  },
  {
   "cell_type": "code",
   "outputs": [
    {
     "name": "stdout",
     "output_type": "stream",
     "text": [
      "[{'book': {'publisher': 'The Stationery Office Books', 'language': 'en', 'image': 'https://images.isbndb.com/covers/15503893482226.jpg', 'title_long': 'European Communities (Amendment) Bill: Amendments to Be Moved on 3rd Reading: [HL]: [1997-98]: House of Lords Bills: [1997-98]', 'pages': 2, 'date_published': '1998', 'authors': ['Great Britain'], 'title': 'European Communities (Amendment) Bill: Amendments to Be Moved on 3rd Reading: [HL]: [1997-98]: House of Lords Bills: [1997-98]', 'isbn13': '9780108367243', 'msrp': '0.00', 'binding': 'paperback', 'isbn': '010836724X', 'isbn10': '010836724X'}}, {'book': {'publisher': 'The Stationery Office Books', 'language': 'en', 'image': 'https://images.isbndb.com/covers/15511883482226.jpg', 'title_long': 'European Parliamentary Elections Bill: 2nd Marshalled List of Amendments to Be Moved in Committee: [HL]: [1997-98]: House of Lords Bills: [1997-98]', 'pages': 12, 'date_published': '1998', 'authors': ['Great Britain'], 'title': 'European Parliamentary Elections Bill: 2nd Marshalled List of Amendments to Be Moved in Committee: [HL]: [1997-98]: House of Lords Bills: [1997-98]', 'isbn13': '9780108368042', 'msrp': '0.00', 'binding': 'paperback', 'isbn': '0108368041', 'isbn10': '0108368041'}}, {'book': {'publisher': 'The Stationery Office Books', 'language': 'en', 'image': 'https://images.isbndb.com/covers/15518063482226.jpg', 'title_long': 'Northern Ireland (Sentences) Bill: Amendments to Be Moved on 3rd Reading: [HL]: [1997-98]: House of Lords Bills: [1997-98]', 'pages': 4, 'date_published': '1998', 'authors': ['Great Britain'], 'title': 'Northern Ireland (Sentences) Bill: Amendments to Be Moved on 3rd Reading: [HL]: [1997-98]: House of Lords Bills: [1997-98]', 'isbn13': '9780108368660', 'msrp': '0.00', 'binding': 'paperback', 'isbn': '0108368661', 'isbn10': '0108368661'}}, {'book': {'publisher': 'The Stationery Office Books', 'language': 'en', 'image': 'https://images.isbndb.com/covers/18070823482226.jpg', 'title_long': 'House of Commons Weekly Information Bulletin (House of Commons Weekly Information Bulletin)', 'pages': 31, 'date_published': '1993', 'subjects': ['Politics & Social Sciences', 'Politics & Government', 'Political Science'], 'authors': ['Great Britain'], 'title': 'House of Commons Weekly Information Bulletin (House of Commons Weekly Information Bulletin)', 'isbn13': '9780108623936', 'msrp': '0.00', 'binding': 'Paperback', 'isbn': '0108623939', 'isbn10': '0108623939'}}, {'book': {'publisher': 'Benchmark Books', 'synopsis': 'Examines the physical characteristics and behavior of frogs and presents many different kinds.', 'language': 'en', 'image': 'https://images.isbndb.com/covers/1883883482459.jpg', 'title_long': 'Frog (Living Things)', 'dimensions': 'Height: 9.5 Inches, Length: 9.5 Inches, Weight: 0.8 Pounds, Width: 0.5 Inches', 'dimensions_structured': {'length': {'value': 9.5, 'unit': 'inches'}, 'width': {'value': 0.5, 'unit': 'inches'}, 'weight': {'value': 0.8, 'unit': 'pounds'}, 'height': {'value': 9.5, 'unit': 'inches'}}, 'pages': 32, 'date_published': '1997', 'subjects': [\"Children's Books\", 'Animals', 'Frogs & Toads'], 'authors': ['Rebecca Stefoff'], 'title': 'Frog (Living Things)', 'isbn13': '9780761404149', 'msrp': 22.79, 'binding': 'Library Binding', 'isbn': '0761404147', 'isbn10': '0761404147'}}, {'book': {'publisher': 'The Stationery Office Books', 'language': 'en', 'image': 'https://images.isbndb.com/covers/18959983482226.jpg', 'title_long': 'Child Support Bill: [as Amended on Report]: [HL]: [1994-95]: House of Lords Bills: [1994-95]', 'pages': 34, 'date_published': '1995', 'authors': ['Great Britain'], 'title': 'Child Support Bill: [as Amended on Report]: [HL]: [1994-95]: House of Lords Bills: [1994-95]', 'isbn13': '9780108712852', 'msrp': '0.00', 'binding': 'Paperback', 'isbn': '0108712850', 'isbn10': '0108712850'}}, {'book': {'publisher': 'The Stationery Office Books', 'language': 'en', 'image': 'https://images.isbndb.com/covers/18975963482226.jpg', 'title_long': 'Northern Ireland (Remission of Sentences) Bill: [HL]: [1994-95]: House of Lords Bills: [1994-95]', 'pages': 6, 'date_published': '1995', 'authors': ['Great Britain'], 'title': 'Northern Ireland (Remission of Sentences) Bill: [HL]: [1994-95]: House of Lords Bills: [1994-95]', 'isbn13': '9780108714450', 'msrp': '0.00', 'binding': 'Paperback', 'isbn': '0108714454', 'isbn10': '0108714454'}}, {'book': {'publisher': 'The Stationery Office Books', 'language': 'en', 'image': 'https://images.isbndb.com/covers/19127063482226.jpg', 'title_long': 'Family Law Bill [H.L.]: Amendments to Be Moved in Committee: [HL]: [1995-96]: House of Lords Bills: [1995-96]', 'pages': 8, 'date_published': '1996', 'authors': ['Great Britain'], 'title': 'Family Law Bill [H.L.]: Amendments to Be Moved in Committee: [HL]: [1995-96]: House of Lords Bills: [1995-96]', 'isbn13': '9780108729560', 'msrp': '0.00', 'binding': 'Paperback', 'isbn': '0108729567', 'isbn10': '0108729567'}}, {'book': {'publisher': 'The Stationery Office Books', 'language': 'en', 'image': 'https://images.isbndb.com/covers/19169043482226.jpg', 'title_long': 'Pensions Bill [H.L.]: Amendments to Be Moved on Report: [HL]: [1994-95]: House of Lords Bills: [1994-95]', 'pages': 16, 'date_published': '1995', 'authors': ['Great Britain'], 'title': 'Pensions Bill [H.L.]: Amendments to Be Moved on Report: [HL]: [1994-95]: House of Lords Bills: [1994-95]', 'isbn13': '9780108733758', 'msrp': '0.00', 'binding': 'paperback', 'isbn': '0108733750', 'isbn10': '0108733750'}}, {'book': {'publisher': 'The Stationery Office Books', 'language': 'en', 'image': 'https://images.isbndb.com/covers/19187993482226.jpg', 'title_long': 'Health Authorities Bill: Amendments to Be Moved in Committee: [HL]: [1994-95]: House of Lords Bills: [1994-95]', 'pages': 4, 'date_published': '1995', 'authors': ['unknown author'], 'title': 'Health Authorities Bill: Amendments to Be Moved in Committee: [HL]: [1994-95]: House of Lords Bills: [1994-95]', 'isbn13': '9780108735653', 'msrp': '0.00', 'binding': 'paperback', 'isbn': '0108735656', 'isbn10': '0108735656'}}]\n"
     ]
    }
   ],
   "source": [
    "print(books_data)"
   ],
   "metadata": {
    "collapsed": false,
    "ExecuteTime": {
     "end_time": "2025-01-15T16:26:38.612687Z",
     "start_time": "2025-01-15T16:26:38.609050Z"
    }
   },
   "id": "756d369a99cd1851",
   "execution_count": 40
  },
  {
   "cell_type": "markdown",
   "source": [
    "Convert JSON to DataFrame"
   ],
   "metadata": {
    "collapsed": false
   },
   "id": "c22b65d167f8d06c"
  },
  {
   "cell_type": "code",
   "outputs": [],
   "source": [
    "normalized_data = json_normalize(books_data, sep='_')\n",
    "\n",
    "# Convert to DataFrame\n",
    "books_df = pd.DataFrame(normalized_data)\n"
   ],
   "metadata": {
    "collapsed": false,
    "ExecuteTime": {
     "end_time": "2025-01-15T16:48:06.527628Z",
     "start_time": "2025-01-15T16:48:06.485124Z"
    }
   },
   "id": "55677dc05fbac9be",
   "execution_count": 43
  },
  {
   "cell_type": "code",
   "outputs": [
    {
     "data": {
      "text/plain": "                book_publisher book_language  \\\n0  The Stationery Office Books            en   \n1  The Stationery Office Books            en   \n2  The Stationery Office Books            en   \n3  The Stationery Office Books            en   \n4              Benchmark Books            en   \n\n                                          book_image  \\\n0  https://images.isbndb.com/covers/1550389348222...   \n1  https://images.isbndb.com/covers/1551188348222...   \n2  https://images.isbndb.com/covers/1551806348222...   \n3  https://images.isbndb.com/covers/1807082348222...   \n4  https://images.isbndb.com/covers/1883883482459...   \n\n                                     book_title_long  book_pages  \\\n0  European Communities (Amendment) Bill: Amendme...           2   \n1  European Parliamentary Elections Bill: 2nd Mar...          12   \n2  Northern Ireland (Sentences) Bill: Amendments ...           4   \n3  House of Commons Weekly Information Bulletin (...          31   \n4                               Frog (Living Things)          32   \n\n  book_date_published       book_authors  \\\n0                1998    [Great Britain]   \n1                1998    [Great Britain]   \n2                1998    [Great Britain]   \n3                1993    [Great Britain]   \n4                1997  [Rebecca Stefoff]   \n\n                                          book_title    book_isbn13 book_msrp  \\\n0  European Communities (Amendment) Bill: Amendme...  9780108367243      0.00   \n1  European Parliamentary Elections Bill: 2nd Mar...  9780108368042      0.00   \n2  Northern Ireland (Sentences) Bill: Amendments ...  9780108368660      0.00   \n3  House of Commons Weekly Information Bulletin (...  9780108623936      0.00   \n4                               Frog (Living Things)  9780761404149     22.79   \n\n   ...                                      book_synopsis  \\\n0  ...                                                NaN   \n1  ...                                                NaN   \n2  ...                                                NaN   \n3  ...                                                NaN   \n4  ...  Examines the physical characteristics and beha...   \n\n                                     book_dimensions  \\\n0                                                NaN   \n1                                                NaN   \n2                                                NaN   \n3                                                NaN   \n4  Height: 9.5 Inches, Length: 9.5 Inches, Weight...   \n\n  book_dimensions_structured_length_value  \\\n0                                     NaN   \n1                                     NaN   \n2                                     NaN   \n3                                     NaN   \n4                                     9.5   \n\n  book_dimensions_structured_length_unit  \\\n0                                    NaN   \n1                                    NaN   \n2                                    NaN   \n3                                    NaN   \n4                                 inches   \n\n  book_dimensions_structured_width_value  \\\n0                                    NaN   \n1                                    NaN   \n2                                    NaN   \n3                                    NaN   \n4                                    0.5   \n\n  book_dimensions_structured_width_unit  \\\n0                                   NaN   \n1                                   NaN   \n2                                   NaN   \n3                                   NaN   \n4                                inches   \n\n   book_dimensions_structured_weight_value  \\\n0                                      NaN   \n1                                      NaN   \n2                                      NaN   \n3                                      NaN   \n4                                      0.8   \n\n  book_dimensions_structured_weight_unit  \\\n0                                    NaN   \n1                                    NaN   \n2                                    NaN   \n3                                    NaN   \n4                                 pounds   \n\n   book_dimensions_structured_height_value  \\\n0                                      NaN   \n1                                      NaN   \n2                                      NaN   \n3                                      NaN   \n4                                      9.5   \n\n  book_dimensions_structured_height_unit  \n0                                    NaN  \n1                                    NaN  \n2                                    NaN  \n3                                    NaN  \n4                                 inches  \n\n[5 rows x 24 columns]",
      "text/html": "<div>\n<style scoped>\n    .dataframe tbody tr th:only-of-type {\n        vertical-align: middle;\n    }\n\n    .dataframe tbody tr th {\n        vertical-align: top;\n    }\n\n    .dataframe thead th {\n        text-align: right;\n    }\n</style>\n<table border=\"1\" class=\"dataframe\">\n  <thead>\n    <tr style=\"text-align: right;\">\n      <th></th>\n      <th>book_publisher</th>\n      <th>book_language</th>\n      <th>book_image</th>\n      <th>book_title_long</th>\n      <th>book_pages</th>\n      <th>book_date_published</th>\n      <th>book_authors</th>\n      <th>book_title</th>\n      <th>book_isbn13</th>\n      <th>book_msrp</th>\n      <th>...</th>\n      <th>book_synopsis</th>\n      <th>book_dimensions</th>\n      <th>book_dimensions_structured_length_value</th>\n      <th>book_dimensions_structured_length_unit</th>\n      <th>book_dimensions_structured_width_value</th>\n      <th>book_dimensions_structured_width_unit</th>\n      <th>book_dimensions_structured_weight_value</th>\n      <th>book_dimensions_structured_weight_unit</th>\n      <th>book_dimensions_structured_height_value</th>\n      <th>book_dimensions_structured_height_unit</th>\n    </tr>\n  </thead>\n  <tbody>\n    <tr>\n      <th>0</th>\n      <td>The Stationery Office Books</td>\n      <td>en</td>\n      <td>https://images.isbndb.com/covers/1550389348222...</td>\n      <td>European Communities (Amendment) Bill: Amendme...</td>\n      <td>2</td>\n      <td>1998</td>\n      <td>[Great Britain]</td>\n      <td>European Communities (Amendment) Bill: Amendme...</td>\n      <td>9780108367243</td>\n      <td>0.00</td>\n      <td>...</td>\n      <td>NaN</td>\n      <td>NaN</td>\n      <td>NaN</td>\n      <td>NaN</td>\n      <td>NaN</td>\n      <td>NaN</td>\n      <td>NaN</td>\n      <td>NaN</td>\n      <td>NaN</td>\n      <td>NaN</td>\n    </tr>\n    <tr>\n      <th>1</th>\n      <td>The Stationery Office Books</td>\n      <td>en</td>\n      <td>https://images.isbndb.com/covers/1551188348222...</td>\n      <td>European Parliamentary Elections Bill: 2nd Mar...</td>\n      <td>12</td>\n      <td>1998</td>\n      <td>[Great Britain]</td>\n      <td>European Parliamentary Elections Bill: 2nd Mar...</td>\n      <td>9780108368042</td>\n      <td>0.00</td>\n      <td>...</td>\n      <td>NaN</td>\n      <td>NaN</td>\n      <td>NaN</td>\n      <td>NaN</td>\n      <td>NaN</td>\n      <td>NaN</td>\n      <td>NaN</td>\n      <td>NaN</td>\n      <td>NaN</td>\n      <td>NaN</td>\n    </tr>\n    <tr>\n      <th>2</th>\n      <td>The Stationery Office Books</td>\n      <td>en</td>\n      <td>https://images.isbndb.com/covers/1551806348222...</td>\n      <td>Northern Ireland (Sentences) Bill: Amendments ...</td>\n      <td>4</td>\n      <td>1998</td>\n      <td>[Great Britain]</td>\n      <td>Northern Ireland (Sentences) Bill: Amendments ...</td>\n      <td>9780108368660</td>\n      <td>0.00</td>\n      <td>...</td>\n      <td>NaN</td>\n      <td>NaN</td>\n      <td>NaN</td>\n      <td>NaN</td>\n      <td>NaN</td>\n      <td>NaN</td>\n      <td>NaN</td>\n      <td>NaN</td>\n      <td>NaN</td>\n      <td>NaN</td>\n    </tr>\n    <tr>\n      <th>3</th>\n      <td>The Stationery Office Books</td>\n      <td>en</td>\n      <td>https://images.isbndb.com/covers/1807082348222...</td>\n      <td>House of Commons Weekly Information Bulletin (...</td>\n      <td>31</td>\n      <td>1993</td>\n      <td>[Great Britain]</td>\n      <td>House of Commons Weekly Information Bulletin (...</td>\n      <td>9780108623936</td>\n      <td>0.00</td>\n      <td>...</td>\n      <td>NaN</td>\n      <td>NaN</td>\n      <td>NaN</td>\n      <td>NaN</td>\n      <td>NaN</td>\n      <td>NaN</td>\n      <td>NaN</td>\n      <td>NaN</td>\n      <td>NaN</td>\n      <td>NaN</td>\n    </tr>\n    <tr>\n      <th>4</th>\n      <td>Benchmark Books</td>\n      <td>en</td>\n      <td>https://images.isbndb.com/covers/1883883482459...</td>\n      <td>Frog (Living Things)</td>\n      <td>32</td>\n      <td>1997</td>\n      <td>[Rebecca Stefoff]</td>\n      <td>Frog (Living Things)</td>\n      <td>9780761404149</td>\n      <td>22.79</td>\n      <td>...</td>\n      <td>Examines the physical characteristics and beha...</td>\n      <td>Height: 9.5 Inches, Length: 9.5 Inches, Weight...</td>\n      <td>9.5</td>\n      <td>inches</td>\n      <td>0.5</td>\n      <td>inches</td>\n      <td>0.8</td>\n      <td>pounds</td>\n      <td>9.5</td>\n      <td>inches</td>\n    </tr>\n  </tbody>\n</table>\n<p>5 rows × 24 columns</p>\n</div>"
     },
     "execution_count": 45,
     "metadata": {},
     "output_type": "execute_result"
    }
   ],
   "source": [
    "books_df.head()"
   ],
   "metadata": {
    "collapsed": false,
    "ExecuteTime": {
     "end_time": "2025-01-15T16:48:30.599701Z",
     "start_time": "2025-01-15T16:48:30.579815Z"
    }
   },
   "id": "cfa0fdac7f91f2ad",
   "execution_count": 45
  },
  {
   "cell_type": "markdown",
   "source": [
    "For premium plan."
   ],
   "metadata": {
    "collapsed": false
   },
   "id": "238f2a7a45953fc5"
  },
  {
   "cell_type": "code",
   "outputs": [
    {
     "name": "stdout",
     "output_type": "stream",
     "text": [
      "{'errorType': 'string', 'errorMessage': 'Only available for Premium and Pro plans.', 'trace': []}\n"
     ]
    }
   ],
   "source": [
    "URL = \"https://api2.isbndb.com/books\"\n",
    "\n",
    "headers = {\n",
    "    'accept': 'application/json',\n",
    "    \"Authorization\": API_KEY,\n",
    "    \"Content-Type\": \"application/json\"\n",
    "}\n",
    "\n",
    "data = 'isbns=' + ','.join(isbn_list)\n",
    "\n",
    "# Sending POST request\n",
    "response = requests.post('https://api2.isbndb.com/books', headers=headers, data=data)\n",
    "\n",
    "# Display response\n",
    "if response.status_code == 200:\n",
    "    print(response.json())  # Print books details\n",
    "else:\n",
    "    print(f\"Error {response.status_code}: {response.text}\")"
   ],
   "metadata": {
    "collapsed": false,
    "ExecuteTime": {
     "end_time": "2025-01-15T16:07:32.966348Z",
     "start_time": "2025-01-15T16:07:32.310292Z"
    }
   },
   "id": "8ec49e161a449cbf",
   "execution_count": 16
  }
 ],
 "metadata": {
  "kernelspec": {
   "display_name": "Python 3",
   "language": "python",
   "name": "python3"
  },
  "language_info": {
   "codemirror_mode": {
    "name": "ipython",
    "version": 2
   },
   "file_extension": ".py",
   "mimetype": "text/x-python",
   "name": "python",
   "nbconvert_exporter": "python",
   "pygments_lexer": "ipython2",
   "version": "2.7.6"
  }
 },
 "nbformat": 4,
 "nbformat_minor": 5
}
